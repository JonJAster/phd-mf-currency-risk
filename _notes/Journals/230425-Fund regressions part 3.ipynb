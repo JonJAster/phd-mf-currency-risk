{
 "cells": [
  {
   "attachments": {},
   "cell_type": "markdown",
   "metadata": {},
   "source": [
    "Testing for missing values of market index"
   ]
  },
  {
   "cell_type": "code",
   "execution_count": 2,
   "metadata": {},
   "outputs": [
    {
     "data": {
      "text/html": [
       "<div><div style = \"float: left;\"><span>13420×3 DataFrame</span></div><div style = \"float: right;\"><span style = \"font-style: italic;\">13395 rows omitted</span></div><div style = \"clear: both;\"></div></div><div class = \"data-frame\" style = \"overflow-x: scroll;\"><table class = \"data-frame\" style = \"margin-bottom: 6px;\"><thead><tr class = \"header\"><th class = \"rowNumber\" style = \"font-weight: bold; text-align: right;\">Row</th><th style = \"text-align: left;\">cur_code</th><th style = \"text-align: left;\">date</th><th style = \"text-align: left;\">mkt_gross</th></tr><tr class = \"subheader headerLastRow\"><th class = \"rowNumber\" style = \"font-weight: bold; text-align: right;\"></th><th title = \"String3\" style = \"text-align: left;\">String3</th><th title = \"Dates.Date\" style = \"text-align: left;\">Date</th><th title = \"Float64\" style = \"text-align: left;\">Float64</th></tr></thead><tbody><tr><td class = \"rowNumber\" style = \"font-weight: bold; text-align: right;\">1</td><td style = \"text-align: left;\">AED</td><td style = \"text-align: left;\">1995-06-30</td><td style = \"text-align: right;\">0.00572604</td></tr><tr><td class = \"rowNumber\" style = \"font-weight: bold; text-align: right;\">2</td><td style = \"text-align: left;\">AED</td><td style = \"text-align: left;\">1995-07-31</td><td style = \"text-align: right;\">0.176015</td></tr><tr><td class = \"rowNumber\" style = \"font-weight: bold; text-align: right;\">3</td><td style = \"text-align: left;\">AED</td><td style = \"text-align: left;\">1995-08-31</td><td style = \"text-align: right;\">-0.0667478</td></tr><tr><td class = \"rowNumber\" style = \"font-weight: bold; text-align: right;\">4</td><td style = \"text-align: left;\">AED</td><td style = \"text-align: left;\">1995-09-30</td><td style = \"text-align: right;\">0.0846023</td></tr><tr><td class = \"rowNumber\" style = \"font-weight: bold; text-align: right;\">5</td><td style = \"text-align: left;\">AED</td><td style = \"text-align: left;\">1995-10-31</td><td style = \"text-align: right;\">-0.074106</td></tr><tr><td class = \"rowNumber\" style = \"font-weight: bold; text-align: right;\">6</td><td style = \"text-align: left;\">AED</td><td style = \"text-align: left;\">1995-11-30</td><td style = \"text-align: right;\">0.10215</td></tr><tr><td class = \"rowNumber\" style = \"font-weight: bold; text-align: right;\">7</td><td style = \"text-align: left;\">AED</td><td style = \"text-align: left;\">1995-12-31</td><td style = \"text-align: right;\">0.103751</td></tr><tr><td class = \"rowNumber\" style = \"font-weight: bold; text-align: right;\">8</td><td style = \"text-align: left;\">AED</td><td style = \"text-align: left;\">1996-01-31</td><td style = \"text-align: right;\">0.0630619</td></tr><tr><td class = \"rowNumber\" style = \"font-weight: bold; text-align: right;\">9</td><td style = \"text-align: left;\">AED</td><td style = \"text-align: left;\">1996-02-29</td><td style = \"text-align: right;\">0.0308686</td></tr><tr><td class = \"rowNumber\" style = \"font-weight: bold; text-align: right;\">10</td><td style = \"text-align: left;\">AED</td><td style = \"text-align: left;\">1996-03-31</td><td style = \"text-align: right;\">0.0595408</td></tr><tr><td class = \"rowNumber\" style = \"font-weight: bold; text-align: right;\">11</td><td style = \"text-align: left;\">AED</td><td style = \"text-align: left;\">1996-04-30</td><td style = \"text-align: right;\">0.137991</td></tr><tr><td class = \"rowNumber\" style = \"font-weight: bold; text-align: right;\">12</td><td style = \"text-align: left;\">AED</td><td style = \"text-align: left;\">1996-05-31</td><td style = \"text-align: right;\">0.00737228</td></tr><tr><td class = \"rowNumber\" style = \"font-weight: bold; text-align: right;\">13</td><td style = \"text-align: left;\">AED</td><td style = \"text-align: left;\">1996-06-30</td><td style = \"text-align: right;\">-0.00239963</td></tr><tr><td style = \"text-align: right;\">&vellip;</td><td style = \"text-align: right;\">&vellip;</td><td style = \"text-align: right;\">&vellip;</td><td style = \"text-align: right;\">&vellip;</td></tr><tr><td class = \"rowNumber\" style = \"font-weight: bold; text-align: right;\">13409</td><td style = \"text-align: left;\">ZAR</td><td style = \"text-align: left;\">2021-01-31</td><td style = \"text-align: right;\">0.0190102</td></tr><tr><td class = \"rowNumber\" style = \"font-weight: bold; text-align: right;\">13410</td><td style = \"text-align: left;\">ZAR</td><td style = \"text-align: left;\">2021-02-28</td><td style = \"text-align: right;\">0.322529</td></tr><tr><td class = \"rowNumber\" style = \"font-weight: bold; text-align: right;\">13411</td><td style = \"text-align: left;\">ZAR</td><td style = \"text-align: left;\">2021-03-31</td><td style = \"text-align: right;\">0.263828</td></tr><tr><td class = \"rowNumber\" style = \"font-weight: bold; text-align: right;\">13412</td><td style = \"text-align: left;\">ZAR</td><td style = \"text-align: left;\">2021-04-30</td><td style = \"text-align: right;\">0.56598</td></tr><tr><td class = \"rowNumber\" style = \"font-weight: bold; text-align: right;\">13413</td><td style = \"text-align: left;\">ZAR</td><td style = \"text-align: left;\">2021-05-31</td><td style = \"text-align: right;\">0.32126</td></tr><tr><td class = \"rowNumber\" style = \"font-weight: bold; text-align: right;\">13414</td><td style = \"text-align: left;\">ZAR</td><td style = \"text-align: left;\">2021-06-30</td><td style = \"text-align: right;\">0.111262</td></tr><tr><td class = \"rowNumber\" style = \"font-weight: bold; text-align: right;\">13415</td><td style = \"text-align: left;\">ZAR</td><td style = \"text-align: left;\">2021-07-31</td><td style = \"text-align: right;\">-0.0580972</td></tr><tr><td class = \"rowNumber\" style = \"font-weight: bold; text-align: right;\">13416</td><td style = \"text-align: left;\">ZAR</td><td style = \"text-align: left;\">2021-08-31</td><td style = \"text-align: right;\">0.363922</td></tr><tr><td class = \"rowNumber\" style = \"font-weight: bold; text-align: right;\">13417</td><td style = \"text-align: left;\">ZAR</td><td style = \"text-align: left;\">2021-09-30</td><td style = \"text-align: right;\">-0.45315</td></tr><tr><td class = \"rowNumber\" style = \"font-weight: bold; text-align: right;\">13418</td><td style = \"text-align: left;\">ZAR</td><td style = \"text-align: left;\">2021-10-31</td><td style = \"text-align: right;\">0.583884</td></tr><tr><td class = \"rowNumber\" style = \"font-weight: bold; text-align: right;\">13419</td><td style = \"text-align: left;\">ZAR</td><td style = \"text-align: left;\">2021-11-30</td><td style = \"text-align: right;\">-0.370624</td></tr><tr><td class = \"rowNumber\" style = \"font-weight: bold; text-align: right;\">13420</td><td style = \"text-align: left;\">ZAR</td><td style = \"text-align: left;\">2021-12-31</td><td style = \"text-align: right;\">0.513409</td></tr></tbody></table></div>"
      ],
      "text/latex": [
       "\\begin{tabular}{r|ccc}\n",
       "\t& cur\\_code & date & mkt\\_gross\\\\\n",
       "\t\\hline\n",
       "\t& String3 & Date & Float64\\\\\n",
       "\t\\hline\n",
       "\t1 & AED & 1995-06-30 & 0.00572604 \\\\\n",
       "\t2 & AED & 1995-07-31 & 0.176015 \\\\\n",
       "\t3 & AED & 1995-08-31 & -0.0667478 \\\\\n",
       "\t4 & AED & 1995-09-30 & 0.0846023 \\\\\n",
       "\t5 & AED & 1995-10-31 & -0.074106 \\\\\n",
       "\t6 & AED & 1995-11-30 & 0.10215 \\\\\n",
       "\t7 & AED & 1995-12-31 & 0.103751 \\\\\n",
       "\t8 & AED & 1996-01-31 & 0.0630619 \\\\\n",
       "\t9 & AED & 1996-02-29 & 0.0308686 \\\\\n",
       "\t10 & AED & 1996-03-31 & 0.0595408 \\\\\n",
       "\t11 & AED & 1996-04-30 & 0.137991 \\\\\n",
       "\t12 & AED & 1996-05-31 & 0.00737228 \\\\\n",
       "\t13 & AED & 1996-06-30 & -0.00239963 \\\\\n",
       "\t14 & AED & 1996-07-31 & -0.163997 \\\\\n",
       "\t15 & AED & 1996-08-31 & 0.0563934 \\\\\n",
       "\t16 & AED & 1996-09-30 & 0.123814 \\\\\n",
       "\t17 & AED & 1996-10-31 & -0.0062585 \\\\\n",
       "\t18 & AED & 1996-11-30 & 0.165423 \\\\\n",
       "\t19 & AED & 1996-12-31 & -0.0566108 \\\\\n",
       "\t20 & AED & 1997-01-31 & 0.0397185 \\\\\n",
       "\t21 & AED & 1997-02-28 & 0.0366508 \\\\\n",
       "\t22 & AED & 1997-03-31 & -0.0928316 \\\\\n",
       "\t23 & AED & 1997-04-30 & 0.0779499 \\\\\n",
       "\t24 & AED & 1997-05-31 & 0.251143 \\\\\n",
       "\t$\\dots$ & $\\dots$ & $\\dots$ & $\\dots$ \\\\\n",
       "\\end{tabular}\n"
      ],
      "text/plain": [
       "\u001b[1m13420×3 DataFrame\u001b[0m\n",
       "\u001b[1m   Row \u001b[0m│\u001b[1m cur_code \u001b[0m\u001b[1m date       \u001b[0m\u001b[1m mkt_gross   \u001b[0m\n",
       "       │\u001b[90m String3  \u001b[0m\u001b[90m Date       \u001b[0m\u001b[90m Float64     \u001b[0m\n",
       "───────┼───────────────────────────────────\n",
       "     1 │ AED       1995-06-30   0.00572604\n",
       "     2 │ AED       1995-07-31   0.176015\n",
       "     3 │ AED       1995-08-31  -0.0667478\n",
       "     4 │ AED       1995-09-30   0.0846023\n",
       "     5 │ AED       1995-10-31  -0.074106\n",
       "     6 │ AED       1995-11-30   0.10215\n",
       "     7 │ AED       1995-12-31   0.103751\n",
       "     8 │ AED       1996-01-31   0.0630619\n",
       "   ⋮   │    ⋮          ⋮            ⋮\n",
       " 13414 │ ZAR       2021-06-30   0.111262\n",
       " 13415 │ ZAR       2021-07-31  -0.0580972\n",
       " 13416 │ ZAR       2021-08-31   0.363922\n",
       " 13417 │ ZAR       2021-09-30  -0.45315\n",
       " 13418 │ ZAR       2021-10-31   0.583884\n",
       " 13419 │ ZAR       2021-11-30  -0.370624\n",
       " 13420 │ ZAR       2021-12-31   0.513409\n",
       "\u001b[36m                         13405 rows omitted\u001b[0m"
      ]
     },
     "metadata": {},
     "output_type": "display_data"
    }
   ],
   "source": [
    "using DataFrames\n",
    "using CSV\n",
    "\n",
    "data = CSV.read(\"../../data/transformed/equities/global_MKT_gross.csv\", DataFrame);"
   ]
  },
  {
   "cell_type": "code",
   "execution_count": 3,
   "metadata": {},
   "outputs": [
    {
     "data": {
      "text/html": [
       "<div><div style = \"float: left;\"><span>3×7 DataFrame</span></div><div style = \"clear: both;\"></div></div><div class = \"data-frame\" style = \"overflow-x: scroll;\"><table class = \"data-frame\" style = \"margin-bottom: 6px;\"><thead><tr class = \"header\"><th class = \"rowNumber\" style = \"font-weight: bold; text-align: right;\">Row</th><th style = \"text-align: left;\">variable</th><th style = \"text-align: left;\">mean</th><th style = \"text-align: left;\">min</th><th style = \"text-align: left;\">median</th><th style = \"text-align: left;\">max</th><th style = \"text-align: left;\">nmissing</th><th style = \"text-align: left;\">eltype</th></tr><tr class = \"subheader headerLastRow\"><th class = \"rowNumber\" style = \"font-weight: bold; text-align: right;\"></th><th title = \"Symbol\" style = \"text-align: left;\">Symbol</th><th title = \"Union{Nothing, Float64}\" style = \"text-align: left;\">Union…</th><th title = \"Any\" style = \"text-align: left;\">Any</th><th title = \"Any\" style = \"text-align: left;\">Any</th><th title = \"Any\" style = \"text-align: left;\">Any</th><th title = \"Int64\" style = \"text-align: left;\">Int64</th><th title = \"DataType\" style = \"text-align: left;\">DataType</th></tr></thead><tbody><tr><td class = \"rowNumber\" style = \"font-weight: bold; text-align: right;\">1</td><td style = \"text-align: left;\">cur_code</td><td style = \"font-style: italic; text-align: left;\"></td><td style = \"text-align: left;\">AED</td><td style = \"font-style: italic; text-align: left;\"></td><td style = \"text-align: left;\">ZAR</td><td style = \"text-align: right;\">0</td><td style = \"text-align: left;\">String3</td></tr><tr><td class = \"rowNumber\" style = \"font-weight: bold; text-align: right;\">2</td><td style = \"text-align: left;\">date</td><td style = \"font-style: italic; text-align: left;\"></td><td style = \"text-align: left;\">1926-01-31</td><td style = \"text-align: left;\">2003-05-31</td><td style = \"text-align: left;\">2022-12-31</td><td style = \"text-align: right;\">0</td><td style = \"text-align: left;\">Date</td></tr><tr><td class = \"rowNumber\" style = \"font-weight: bold; text-align: right;\">3</td><td style = \"text-align: left;\">mkt_gross</td><td style = \"text-align: left;\">1.76347</td><td style = \"text-align: left;\">-4709.91</td><td style = \"text-align: left;\">0.0272851</td><td style = \"text-align: left;\">4375.77</td><td style = \"text-align: right;\">0</td><td style = \"text-align: left;\">Float64</td></tr></tbody></table></div>"
      ],
      "text/latex": [
       "\\begin{tabular}{r|ccccccc}\n",
       "\t& variable & mean & min & median & max & nmissing & eltype\\\\\n",
       "\t\\hline\n",
       "\t& Symbol & Union… & Any & Any & Any & Int64 & DataType\\\\\n",
       "\t\\hline\n",
       "\t1 & cur\\_code &  & AED &  & ZAR & 0 & String3 \\\\\n",
       "\t2 & date &  & 1926-01-31 & 2003-05-31 & 2022-12-31 & 0 & Date \\\\\n",
       "\t3 & mkt\\_gross & 1.76347 & -4709.91 & 0.0272851 & 4375.77 & 0 & Float64 \\\\\n",
       "\\end{tabular}\n"
      ],
      "text/plain": [
       "\u001b[1m3×7 DataFrame\u001b[0m\n",
       "\u001b[1m Row \u001b[0m│\u001b[1m variable  \u001b[0m\u001b[1m mean    \u001b[0m\u001b[1m min        \u001b[0m\u001b[1m median     \u001b[0m\u001b[1m max        \u001b[0m\u001b[1m nmissing \u001b[0m\u001b[1m eltype   \u001b[0m\n",
       "     │\u001b[90m Symbol    \u001b[0m\u001b[90m Union…  \u001b[0m\u001b[90m Any        \u001b[0m\u001b[90m Any        \u001b[0m\u001b[90m Any        \u001b[0m\u001b[90m Int64    \u001b[0m\u001b[90m DataType \u001b[0m\n",
       "─────┼────────────────────────────────────────────────────────────────────────────\n",
       "   1 │ cur_code  \u001b[90m         \u001b[0m AED        \u001b[90m            \u001b[0m ZAR                0  String3\n",
       "   2 │ date      \u001b[90m         \u001b[0m 1926-01-31  2003-05-31  2022-12-31         0  Date\n",
       "   3 │ mkt_gross  1.76347  -4709.91    0.0272851   4375.77            0  Float64"
      ]
     },
     "metadata": {},
     "output_type": "display_data"
    }
   ],
   "source": [
    "describe(data)"
   ]
  }
 ],
 "metadata": {
  "kernelspec": {
   "display_name": "Julia 1.8.5",
   "language": "julia",
   "name": "julia-1.8"
  },
  "language_info": {
   "file_extension": ".jl",
   "mimetype": "application/julia",
   "name": "julia",
   "version": "1.8.5"
  },
  "orig_nbformat": 4
 },
 "nbformat": 4,
 "nbformat_minor": 2
}
