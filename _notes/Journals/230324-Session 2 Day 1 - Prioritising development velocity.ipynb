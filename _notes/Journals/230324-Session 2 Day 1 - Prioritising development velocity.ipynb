{
 "cells": [
  {
   "attachments": {},
   "cell_type": "markdown",
   "metadata": {},
   "source": [
    "After two weeks I have another chance to return to research coding. In that time I have met with my supervisors and discussed the slow progress of the code that arises from an overemphasis on performance and adaptability at the cost of development velocity. For the next five days I will prioritise overall development velocity above all else."
   ]
  },
  {
   "attachments": {},
   "cell_type": "markdown",
   "metadata": {},
   "source": [
    "First, I need to make sure the code that I had already finished and was partway through updating still works the way that it should. I will begin by checking over the csv cleaning code."
   ]
  },
  {
   "attachments": {},
   "cell_type": "markdown",
   "metadata": {},
   "source": [
    "I've now modified the script to rely on the known formatting of Morningstar CSV files as a shortcut, and added a warning to indentify any changes in the formatting. The terminal output is:\n",
    "\n",
    "        Copying csv files...\n",
    "        Finished copying csv files in 20.68 seconds.\n",
    "        Cleaning csv files...\n",
    "        Finished cleaning info in 0.49 seconds.\n",
    "        Finished cleaning local-monthly-gross-returns in 26.82 seconds.\n",
    "        Finished cleaning local-monthly-net-returns in 24.03 seconds.\n",
    "        Finished cleaning monthly-costs in 12.97 seconds.\n",
    "        Finished cleaning monthly-morningstar-category in 20.7 seconds.\n",
    "        Finished cleaning monthly-net-assets in 16.28 seconds.\n",
    "        Finished cleaning usd-monthly-gross-returns in 16.02 seconds.\n",
    "        Finished cleaning usd-monthly-net-returns in 14.44 seconds.\n",
    "        Finished cleaning all csv files in 152.45 seconds."
   ]
  },
  {
   "attachments": {},
   "cell_type": "markdown",
   "metadata": {},
   "source": [
    "This is somehow faster than the last iteration, but I'm also cleaning away in-value newline characters as well as empty quotes. I'm not sure what the speed up was from here."
   ]
  },
  {
   "cell_type": "markdown",
   "metadata": {},
   "source": []
  }
 ],
 "metadata": {
  "kernelspec": {
   "display_name": "Julia 1.8.5",
   "language": "julia",
   "name": "julia-1.8"
  },
  "language_info": {
   "file_extension": ".jl",
   "mimetype": "application/julia",
   "name": "julia",
   "version": "1.8.5"
  },
  "orig_nbformat": 4
 },
 "nbformat": 4,
 "nbformat_minor": 2
}
