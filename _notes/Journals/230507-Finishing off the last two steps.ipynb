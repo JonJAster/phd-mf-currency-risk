{
 "cells": [
  {
   "attachments": {},
   "cell_type": "markdown",
   "metadata": {},
   "source": [
    "For the sake of the presentation, just pick a decay constant and complete the following steps:\n",
    "\n",
    "    Add new required fields for fund flow regression\n",
    "    Time-weighted average the return components\n",
    "    Run the final regression\n",
    "\n",
    "(Other business: I need to recalculate bottom line profits in as few steps as possible, so only add in missing invoices from April and work out amortisation amount for this specific month, then recalculate the bottom line separately and report only numbers that have changed [20 mins])"
   ]
  }
 ],
 "metadata": {
  "kernelspec": {
   "display_name": "Julia 1.8.5",
   "language": "julia",
   "name": "julia-1.8"
  },
  "language_info": {
   "file_extension": ".jl",
   "mimetype": "application/julia",
   "name": "julia",
   "version": "1.8.5"
  },
  "orig_nbformat": 4
 },
 "nbformat": 4,
 "nbformat_minor": 2
}
