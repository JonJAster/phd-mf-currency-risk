{
 "cells": [
  {
   "cell_type": "markdown",
   "metadata": {},
   "source": [
    "Loading the market index data to test its shape."
   ]
  },
  {
   "cell_type": "code",
   "execution_count": 3,
   "metadata": {},
   "outputs": [
    {
     "data": {
      "text/html": [
       "<div><div style = \"float: left;\"><span>33125×11 DataFrame</span></div><div style = \"float: right;\"><span style = \"font-style: italic;\">33100 rows omitted</span></div><div style = \"clear: both;\"></div></div><div class = \"data-frame\" style = \"overflow-x: scroll;\"><table class = \"data-frame\" style = \"margin-bottom: 6px;\"><thead><tr class = \"header\"><th class = \"rowNumber\" style = \"font-weight: bold; text-align: right;\">Row</th><th style = \"text-align: left;\">excntry</th><th style = \"text-align: left;\">eom</th><th style = \"text-align: left;\">stocks</th><th style = \"text-align: left;\">me_lag1</th><th style = \"text-align: left;\">dolvol_lag1</th><th style = \"text-align: left;\">mkt_vw_lcl</th><th style = \"text-align: left;\">mkt_ew_lcl</th><th style = \"text-align: left;\">mkt_vw</th><th style = \"text-align: left;\">mkt_ew</th><th style = \"text-align: left;\">mkt_vw_exc</th><th style = \"text-align: left;\">mkt_ew_exc</th></tr><tr class = \"subheader headerLastRow\"><th class = \"rowNumber\" style = \"font-weight: bold; text-align: right;\"></th><th title = \"String3\" style = \"text-align: left;\">String3</th><th title = \"Dates.Date\" style = \"text-align: left;\">Date</th><th title = \"Int64\" style = \"text-align: left;\">Int64</th><th title = \"Float64\" style = \"text-align: left;\">Float64</th><th title = \"Union{Missing, Float64}\" style = \"text-align: left;\">Float64?</th><th title = \"Float64\" style = \"text-align: left;\">Float64</th><th title = \"Float64\" style = \"text-align: left;\">Float64</th><th title = \"Float64\" style = \"text-align: left;\">Float64</th><th title = \"Float64\" style = \"text-align: left;\">Float64</th><th title = \"Float64\" style = \"text-align: left;\">Float64</th><th title = \"Float64\" style = \"text-align: left;\">Float64</th></tr></thead><tbody><tr><td class = \"rowNumber\" style = \"font-weight: bold; text-align: right;\">1</td><td style = \"text-align: left;\">ARE</td><td style = \"text-align: left;\">2001-06-30</td><td style = \"text-align: right;\">6</td><td style = \"text-align: right;\">1065.16</td><td style = \"font-style: italic; text-align: right;\">missing</td><td style = \"text-align: right;\">-0.0224545</td><td style = \"text-align: right;\">-0.0168602</td><td style = \"text-align: right;\">-0.0224627</td><td style = \"text-align: right;\">-0.0168564</td><td style = \"text-align: right;\">-0.0252407</td><td style = \"text-align: right;\">-0.0196344</td></tr><tr><td class = \"rowNumber\" style = \"font-weight: bold; text-align: right;\">2</td><td style = \"text-align: left;\">ARE</td><td style = \"text-align: left;\">2001-07-31</td><td style = \"text-align: right;\">5</td><td style = \"text-align: right;\">988.147</td><td style = \"font-style: italic; text-align: right;\">missing</td><td style = \"text-align: right;\">0.024031</td><td style = \"text-align: right;\">0.015455</td><td style = \"text-align: right;\">0.0240704</td><td style = \"text-align: right;\">0.0154871</td><td style = \"text-align: right;\">0.0210714</td><td style = \"text-align: right;\">0.0124881</td></tr><tr><td class = \"rowNumber\" style = \"font-weight: bold; text-align: right;\">3</td><td style = \"text-align: left;\">ARE</td><td style = \"text-align: left;\">2001-08-31</td><td style = \"text-align: right;\">4</td><td style = \"text-align: right;\">788.46</td><td style = \"font-style: italic; text-align: right;\">missing</td><td style = \"text-align: right;\">0.031355</td><td style = \"text-align: right;\">0.0237165</td><td style = \"text-align: right;\">0.0313094</td><td style = \"text-align: right;\">0.0236712</td><td style = \"text-align: right;\">0.0283134</td><td style = \"text-align: right;\">0.0206752</td></tr><tr><td class = \"rowNumber\" style = \"font-weight: bold; text-align: right;\">4</td><td style = \"text-align: left;\">ARE</td><td style = \"text-align: left;\">2001-09-30</td><td style = \"text-align: right;\">4</td><td style = \"text-align: right;\">813.146</td><td style = \"font-style: italic; text-align: right;\">missing</td><td style = \"text-align: right;\">0.0268861</td><td style = \"text-align: right;\">0.0146665</td><td style = \"text-align: right;\">0.0268951</td><td style = \"text-align: right;\">0.0146768</td><td style = \"text-align: right;\">0.0241651</td><td style = \"text-align: right;\">0.0119468</td></tr><tr><td class = \"rowNumber\" style = \"font-weight: bold; text-align: right;\">5</td><td style = \"text-align: left;\">ARE</td><td style = \"text-align: left;\">2001-10-31</td><td style = \"text-align: right;\">5</td><td style = \"text-align: right;\">889.469</td><td style = \"font-style: italic; text-align: right;\">missing</td><td style = \"text-align: right;\">-0.0584161</td><td style = \"text-align: right;\">-0.0377332</td><td style = \"text-align: right;\">-0.0584214</td><td style = \"text-align: right;\">-0.0377389</td><td style = \"text-align: right;\">-0.0605754</td><td style = \"text-align: right;\">-0.0398929</td></tr><tr><td class = \"rowNumber\" style = \"font-weight: bold; text-align: right;\">6</td><td style = \"text-align: left;\">ARE</td><td style = \"text-align: left;\">2001-11-30</td><td style = \"text-align: right;\">5</td><td style = \"text-align: right;\">837.505</td><td style = \"font-style: italic; text-align: right;\">missing</td><td style = \"text-align: right;\">0.0220587</td><td style = \"text-align: right;\">0.0196198</td><td style = \"text-align: right;\">0.0220617</td><td style = \"text-align: right;\">0.0196079</td><td style = \"text-align: right;\">0.0203127</td><td style = \"text-align: right;\">0.0178589</td></tr><tr><td class = \"rowNumber\" style = \"font-weight: bold; text-align: right;\">7</td><td style = \"text-align: left;\">ARE</td><td style = \"text-align: left;\">2001-12-31</td><td style = \"text-align: right;\">5</td><td style = \"text-align: right;\">643.837</td><td style = \"font-style: italic; text-align: right;\">missing</td><td style = \"text-align: right;\">0.0536087</td><td style = \"text-align: right;\">0.108702</td><td style = \"text-align: right;\">0.0536414</td><td style = \"text-align: right;\">0.108732</td><td style = \"text-align: right;\">0.0521574</td><td style = \"text-align: right;\">0.107248</td></tr><tr><td class = \"rowNumber\" style = \"font-weight: bold; text-align: right;\">8</td><td style = \"text-align: left;\">ARE</td><td style = \"text-align: left;\">2002-01-31</td><td style = \"text-align: right;\">6</td><td style = \"text-align: right;\">859.694</td><td style = \"font-style: italic; text-align: right;\">missing</td><td style = \"text-align: right;\">0.0163752</td><td style = \"text-align: right;\">0.0193584</td><td style = \"text-align: right;\">0.01635</td><td style = \"text-align: right;\">0.0193384</td><td style = \"text-align: right;\">0.01496</td><td style = \"text-align: right;\">0.0179484</td></tr><tr><td class = \"rowNumber\" style = \"font-weight: bold; text-align: right;\">9</td><td style = \"text-align: left;\">ARE</td><td style = \"text-align: left;\">2002-02-28</td><td style = \"text-align: right;\">4</td><td style = \"text-align: right;\">622.456</td><td style = \"font-style: italic; text-align: right;\">missing</td><td style = \"text-align: right;\">0.00427324</td><td style = \"text-align: right;\">0.0119452</td><td style = \"text-align: right;\">0.00424284</td><td style = \"text-align: right;\">0.0119076</td><td style = \"text-align: right;\">0.00295784</td><td style = \"text-align: right;\">0.0106226</td></tr><tr><td class = \"rowNumber\" style = \"font-weight: bold; text-align: right;\">10</td><td style = \"text-align: left;\">ARE</td><td style = \"text-align: left;\">2002-03-31</td><td style = \"text-align: right;\">4</td><td style = \"text-align: right;\">625.097</td><td style = \"font-style: italic; text-align: right;\">missing</td><td style = \"text-align: right;\">-0.0585537</td><td style = \"text-align: right;\">-0.0463424</td><td style = \"text-align: right;\">-0.0585065</td><td style = \"text-align: right;\">-0.0462946</td><td style = \"text-align: right;\">-0.0598475</td><td style = \"text-align: right;\">-0.0476356</td></tr><tr><td class = \"rowNumber\" style = \"font-weight: bold; text-align: right;\">11</td><td style = \"text-align: left;\">ARE</td><td style = \"text-align: left;\">2002-04-30</td><td style = \"text-align: right;\">5</td><td style = \"text-align: right;\">657.95</td><td style = \"font-style: italic; text-align: right;\">missing</td><td style = \"text-align: right;\">0.108761</td><td style = \"text-align: right;\">0.0548889</td><td style = \"text-align: right;\">0.108725</td><td style = \"text-align: right;\">0.0548588</td><td style = \"text-align: right;\">0.107179</td><td style = \"text-align: right;\">0.0533128</td></tr><tr><td class = \"rowNumber\" style = \"font-weight: bold; text-align: right;\">12</td><td style = \"text-align: left;\">ARE</td><td style = \"text-align: left;\">2002-05-31</td><td style = \"text-align: right;\">10</td><td style = \"text-align: right;\">9417.74</td><td style = \"font-style: italic; text-align: right;\">missing</td><td style = \"text-align: right;\">-0.0171074</td><td style = \"text-align: right;\">-0.0248879</td><td style = \"text-align: right;\">-0.0170739</td><td style = \"text-align: right;\">-0.0248476</td><td style = \"text-align: right;\">-0.0185159</td><td style = \"text-align: right;\">-0.0262896</td></tr><tr><td class = \"rowNumber\" style = \"font-weight: bold; text-align: right;\">13</td><td style = \"text-align: left;\">ARE</td><td style = \"text-align: left;\">2002-06-30</td><td style = \"text-align: right;\">11</td><td style = \"text-align: right;\">11022.3</td><td style = \"font-style: italic; text-align: right;\">missing</td><td style = \"text-align: right;\">-0.0106838</td><td style = \"text-align: right;\">0.00604887</td><td style = \"text-align: right;\">-0.0106709</td><td style = \"text-align: right;\">0.00606399</td><td style = \"text-align: right;\">-0.0119829</td><td style = \"text-align: right;\">0.00475199</td></tr><tr><td style = \"text-align: right;\">&vellip;</td><td style = \"text-align: right;\">&vellip;</td><td style = \"text-align: right;\">&vellip;</td><td style = \"text-align: right;\">&vellip;</td><td style = \"text-align: right;\">&vellip;</td><td style = \"text-align: right;\">&vellip;</td><td style = \"text-align: right;\">&vellip;</td><td style = \"text-align: right;\">&vellip;</td><td style = \"text-align: right;\">&vellip;</td><td style = \"text-align: right;\">&vellip;</td><td style = \"text-align: right;\">&vellip;</td><td style = \"text-align: right;\">&vellip;</td></tr><tr><td class = \"rowNumber\" style = \"font-weight: bold; text-align: right;\">33114</td><td style = \"text-align: left;\">ZWE</td><td style = \"text-align: left;\">2022-01-31</td><td style = \"text-align: right;\">46</td><td style = \"text-align: right;\">4177.02</td><td style = \"font-style: italic; text-align: right;\">7.96524e7</td><td style = \"text-align: right;\">0.11475</td><td style = \"text-align: right;\">0.041266</td><td style = \"text-align: right;\">0.105471</td><td style = \"text-align: right;\">0.0321167</td><td style = \"text-align: right;\">0.105427</td><td style = \"text-align: right;\">0.0320727</td></tr><tr><td class = \"rowNumber\" style = \"font-weight: bold; text-align: right;\">33115</td><td style = \"text-align: left;\">ZWE</td><td style = \"text-align: left;\">2022-02-28</td><td style = \"text-align: right;\">46</td><td style = \"text-align: right;\">4617.57</td><td style = \"font-style: italic; text-align: right;\">1.28017e7</td><td style = \"text-align: right;\">0.250731</td><td style = \"text-align: right;\">0.125802</td><td style = \"text-align: right;\">0.250078</td><td style = \"text-align: right;\">0.125215</td><td style = \"text-align: right;\">0.25005</td><td style = \"text-align: right;\">0.125187</td></tr><tr><td class = \"rowNumber\" style = \"font-weight: bold; text-align: right;\">33116</td><td style = \"text-align: left;\">ZWE</td><td style = \"text-align: left;\">2022-03-31</td><td style = \"text-align: right;\">46</td><td style = \"text-align: right;\">5772.2</td><td style = \"font-style: italic; text-align: right;\">2.38205e7</td><td style = \"text-align: right;\">0.0509942</td><td style = \"text-align: right;\">0.0592478</td><td style = \"text-align: right;\">0.0299179</td><td style = \"text-align: right;\">0.038006</td><td style = \"text-align: right;\">0.0298579</td><td style = \"text-align: right;\">0.037946</td></tr><tr><td class = \"rowNumber\" style = \"font-weight: bold; text-align: right;\">33117</td><td style = \"text-align: left;\">ZWE</td><td style = \"text-align: left;\">2022-04-30</td><td style = \"text-align: right;\">46</td><td style = \"text-align: right;\">5942.51</td><td style = \"font-style: italic; text-align: right;\">2.46597e7</td><td style = \"text-align: right;\">0.796277</td><td style = \"text-align: right;\">0.609025</td><td style = \"text-align: right;\">0.715686</td><td style = \"text-align: right;\">0.53731</td><td style = \"text-align: right;\">0.715649</td><td style = \"text-align: right;\">0.537273</td></tr><tr><td class = \"rowNumber\" style = \"font-weight: bold; text-align: right;\">33118</td><td style = \"text-align: left;\">ZWE</td><td style = \"text-align: left;\">2022-05-31</td><td style = \"text-align: right;\">46</td><td style = \"text-align: right;\">10212.7</td><td style = \"font-style: italic; text-align: right;\">3.38348e7</td><td style = \"text-align: right;\">-0.187924</td><td style = \"text-align: right;\">-0.160272</td><td style = \"text-align: right;\">-0.184948</td><td style = \"text-align: right;\">-0.157195</td><td style = \"text-align: right;\">-0.185255</td><td style = \"text-align: right;\">-0.157502</td></tr><tr><td class = \"rowNumber\" style = \"font-weight: bold; text-align: right;\">33119</td><td style = \"text-align: left;\">ZWE</td><td style = \"text-align: left;\">2022-06-30</td><td style = \"text-align: right;\">46</td><td style = \"text-align: right;\">8321.84</td><td style = \"font-style: italic; text-align: right;\">2.3622e7</td><td style = \"text-align: right;\">-0.157904</td><td style = \"text-align: right;\">0.0390063</td><td style = \"text-align: right;\">-0.187847</td><td style = \"text-align: right;\">0.00206094</td><td style = \"text-align: right;\">-0.188414</td><td style = \"text-align: right;\">0.00149394</td></tr><tr><td class = \"rowNumber\" style = \"font-weight: bold; text-align: right;\">33120</td><td style = \"text-align: left;\">ZWE</td><td style = \"text-align: left;\">2022-07-31</td><td style = \"text-align: right;\">46</td><td style = \"text-align: right;\">6754.24</td><td style = \"font-style: italic; text-align: right;\">4.07872e7</td><td style = \"text-align: right;\">-0.148361</td><td style = \"text-align: right;\">-0.111174</td><td style = \"text-align: right;\">-0.147239</td><td style = \"text-align: right;\">-0.110003</td><td style = \"text-align: right;\">-0.148051</td><td style = \"text-align: right;\">-0.110815</td></tr><tr><td class = \"rowNumber\" style = \"font-weight: bold; text-align: right;\">33121</td><td style = \"text-align: left;\">ZWE</td><td style = \"text-align: left;\">2022-08-31</td><td style = \"text-align: right;\">46</td><td style = \"text-align: right;\">5756.13</td><td style = \"font-style: italic; text-align: right;\">5.57795e7</td><td style = \"text-align: right;\">-0.183784</td><td style = \"text-align: right;\">-0.111697</td><td style = \"text-align: right;\">-0.219138</td><td style = \"text-align: right;\">-0.150173</td><td style = \"text-align: right;\">-0.221039</td><td style = \"text-align: right;\">-0.152074</td></tr><tr><td class = \"rowNumber\" style = \"font-weight: bold; text-align: right;\">33122</td><td style = \"text-align: left;\">ZWE</td><td style = \"text-align: left;\">2022-09-30</td><td style = \"text-align: right;\">46</td><td style = \"text-align: right;\">4494.74</td><td style = \"font-style: italic; text-align: right;\">2.54014e7</td><td style = \"text-align: right;\">0.0855976</td><td style = \"text-align: right;\">0.0771056</td><td style = \"text-align: right;\">0.0392452</td><td style = \"text-align: right;\">0.0311158</td><td style = \"text-align: right;\">0.0373162</td><td style = \"text-align: right;\">0.0291868</td></tr><tr><td class = \"rowNumber\" style = \"font-weight: bold; text-align: right;\">33123</td><td style = \"text-align: left;\">ZWE</td><td style = \"text-align: left;\">2022-10-31</td><td style = \"text-align: right;\">46</td><td style = \"text-align: right;\">4664.97</td><td style = \"font-style: italic; text-align: right;\">1.29677e7</td><td style = \"text-align: right;\">0.00567234</td><td style = \"text-align: right;\">0.134868</td><td style = \"text-align: right;\">0.0375311</td><td style = \"text-align: right;\">0.17082</td><td style = \"text-align: right;\">0.0352041</td><td style = \"text-align: right;\">0.168493</td></tr><tr><td class = \"rowNumber\" style = \"font-weight: bold; text-align: right;\">33124</td><td style = \"text-align: left;\">ZWE</td><td style = \"text-align: left;\">2022-11-30</td><td style = \"text-align: right;\">46</td><td style = \"text-align: right;\">4830.31</td><td style = \"font-style: italic; text-align: right;\">2.23904e7</td><td style = \"text-align: right;\">-0.0349198</td><td style = \"text-align: right;\">-0.00653303</td><td style = \"text-align: right;\">0.00225429</td><td style = \"text-align: right;\">0.0310154</td><td style = \"text-align: right;\">-0.000601715</td><td style = \"text-align: right;\">0.0281594</td></tr><tr><td class = \"rowNumber\" style = \"font-weight: bold; text-align: right;\">33125</td><td style = \"text-align: left;\">ZWE</td><td style = \"text-align: left;\">2022-12-31</td><td style = \"text-align: right;\">45</td><td style = \"text-align: right;\">4420.3</td><td style = \"font-style: italic; text-align: right;\">1.94456e7</td><td style = \"text-align: right;\">0.325638</td><td style = \"text-align: right;\">0.120472</td><td style = \"text-align: right;\">0.340143</td><td style = \"text-align: right;\">0.132116</td><td style = \"text-align: right;\">0.336764</td><td style = \"text-align: right;\">0.128737</td></tr></tbody></table></div>"
      ],
      "text/latex": [
       "\\begin{tabular}{r|cccccccccc}\n",
       "\t& excntry & eom & stocks & me\\_lag1 & dolvol\\_lag1 & mkt\\_vw\\_lcl & mkt\\_ew\\_lcl & mkt\\_vw & mkt\\_ew & \\\\\n",
       "\t\\hline\n",
       "\t& String3 & Date & Int64 & Float64 & Float64? & Float64 & Float64 & Float64 & Float64 & \\\\\n",
       "\t\\hline\n",
       "\t1 & ARE & 2001-06-30 & 6 & 1065.16 & \\emph{missing} & -0.0224545 & -0.0168602 & -0.0224627 & -0.0168564 & $\\dots$ \\\\\n",
       "\t2 & ARE & 2001-07-31 & 5 & 988.147 & \\emph{missing} & 0.024031 & 0.015455 & 0.0240704 & 0.0154871 & $\\dots$ \\\\\n",
       "\t3 & ARE & 2001-08-31 & 4 & 788.46 & \\emph{missing} & 0.031355 & 0.0237165 & 0.0313094 & 0.0236712 & $\\dots$ \\\\\n",
       "\t4 & ARE & 2001-09-30 & 4 & 813.146 & \\emph{missing} & 0.0268861 & 0.0146665 & 0.0268951 & 0.0146768 & $\\dots$ \\\\\n",
       "\t5 & ARE & 2001-10-31 & 5 & 889.469 & \\emph{missing} & -0.0584161 & -0.0377332 & -0.0584214 & -0.0377389 & $\\dots$ \\\\\n",
       "\t6 & ARE & 2001-11-30 & 5 & 837.505 & \\emph{missing} & 0.0220587 & 0.0196198 & 0.0220617 & 0.0196079 & $\\dots$ \\\\\n",
       "\t7 & ARE & 2001-12-31 & 5 & 643.837 & \\emph{missing} & 0.0536087 & 0.108702 & 0.0536414 & 0.108732 & $\\dots$ \\\\\n",
       "\t8 & ARE & 2002-01-31 & 6 & 859.694 & \\emph{missing} & 0.0163752 & 0.0193584 & 0.01635 & 0.0193384 & $\\dots$ \\\\\n",
       "\t9 & ARE & 2002-02-28 & 4 & 622.456 & \\emph{missing} & 0.00427324 & 0.0119452 & 0.00424284 & 0.0119076 & $\\dots$ \\\\\n",
       "\t10 & ARE & 2002-03-31 & 4 & 625.097 & \\emph{missing} & -0.0585537 & -0.0463424 & -0.0585065 & -0.0462946 & $\\dots$ \\\\\n",
       "\t11 & ARE & 2002-04-30 & 5 & 657.95 & \\emph{missing} & 0.108761 & 0.0548889 & 0.108725 & 0.0548588 & $\\dots$ \\\\\n",
       "\t12 & ARE & 2002-05-31 & 10 & 9417.74 & \\emph{missing} & -0.0171074 & -0.0248879 & -0.0170739 & -0.0248476 & $\\dots$ \\\\\n",
       "\t13 & ARE & 2002-06-30 & 11 & 11022.3 & \\emph{missing} & -0.0106838 & 0.00604887 & -0.0106709 & 0.00606399 & $\\dots$ \\\\\n",
       "\t14 & ARE & 2002-07-31 & 11 & 10904.7 & \\emph{missing} & 0.0396989 & 0.0332326 & 0.0397276 & 0.0332594 & $\\dots$ \\\\\n",
       "\t15 & ARE & 2002-08-31 & 11 & 11337.9 & \\emph{missing} & 0.0825673 & 0.0730824 & 0.0825462 & 0.0730573 & $\\dots$ \\\\\n",
       "\t16 & ARE & 2002-09-30 & 11 & 12273.8 & \\emph{missing} & -0.0394307 & -0.0385897 & -0.0394587 & -0.0386215 & $\\dots$ \\\\\n",
       "\t17 & ARE & 2002-10-31 & 13 & 12161.6 & \\emph{missing} & 0.00341624 & -0.00211919 & 0.00345628 & -0.00208173 & $\\dots$ \\\\\n",
       "\t18 & ARE & 2002-11-30 & 13 & 12300.5 & \\emph{missing} & 0.0217096 & 0.00728182 & 0.0216293 & 0.00721242 & $\\dots$ \\\\\n",
       "\t19 & ARE & 2002-12-31 & 13 & 12390.7 & \\emph{missing} & 0.012322 & 0.00593236 & 0.0126931 & 0.00628614 & $\\dots$ \\\\\n",
       "\t20 & ARE & 2003-01-31 & 14 & 12739.3 & \\emph{missing} & 0.0189576 & 0.0110547 & 0.018661 & 0.0108458 & $\\dots$ \\\\\n",
       "\t21 & ARE & 2003-02-28 & 14 & 25858.3 & \\emph{missing} & -0.00382527 & -0.00318549 & -0.00261418 & -0.0028373 & $\\dots$ \\\\\n",
       "\t22 & ARE & 2003-03-31 & 14 & 25997.8 & \\emph{missing} & 0.00402448 & -0.0214371 & 0.00267334 & -0.0220209 & $\\dots$ \\\\\n",
       "\t23 & ARE & 2003-04-30 & 13 & 25751.4 & \\emph{missing} & 0.0342313 & 0.0399945 & 0.0330642 & 0.0391441 & $\\dots$ \\\\\n",
       "\t24 & ARE & 2003-05-31 & 14 & 27066.5 & \\emph{missing} & -0.00921396 & 0.00148362 & -0.00803467 & 0.00232456 & $\\dots$ \\\\\n",
       "\t$\\dots$ & $\\dots$ & $\\dots$ & $\\dots$ & $\\dots$ & $\\dots$ & $\\dots$ & $\\dots$ & $\\dots$ & $\\dots$ &  \\\\\n",
       "\\end{tabular}\n"
      ],
      "text/plain": [
       "\u001b[1m33125×11 DataFrame\u001b[0m\n",
       "\u001b[1m   Row \u001b[0m│\u001b[1m excntry \u001b[0m\u001b[1m eom        \u001b[0m\u001b[1m stocks \u001b[0m\u001b[1m me_lag1   \u001b[0m\u001b[1m dolvol_lag1     \u001b[0m\u001b[1m mkt_vw_lcl  \u001b[0m\u001b[1m mkt_ew_lcl  \u001b[0m\u001b[1m mkt_v\u001b[0m ⋯\n",
       "       │\u001b[90m String3 \u001b[0m\u001b[90m Date       \u001b[0m\u001b[90m Int64  \u001b[0m\u001b[90m Float64   \u001b[0m\u001b[90m Float64?        \u001b[0m\u001b[90m Float64     \u001b[0m\u001b[90m Float64     \u001b[0m\u001b[90m Float\u001b[0m ⋯\n",
       "───────┼───────────────────────────────────────────────────────────────────────────────────────────\n",
       "     1 │ ARE      2001-06-30       6   1065.16  \u001b[90m missing         \u001b[0m -0.0224545   -0.0168602   -0.02 ⋯\n",
       "     2 │ ARE      2001-07-31       5    988.147 \u001b[90m missing         \u001b[0m  0.024031     0.015455     0.02\n",
       "     3 │ ARE      2001-08-31       4    788.46  \u001b[90m missing         \u001b[0m  0.031355     0.0237165    0.03\n",
       "     4 │ ARE      2001-09-30       4    813.146 \u001b[90m missing         \u001b[0m  0.0268861    0.0146665    0.02\n",
       "     5 │ ARE      2001-10-31       5    889.469 \u001b[90m missing         \u001b[0m -0.0584161   -0.0377332   -0.05 ⋯\n",
       "     6 │ ARE      2001-11-30       5    837.505 \u001b[90m missing         \u001b[0m  0.0220587    0.0196198    0.02\n",
       "     7 │ ARE      2001-12-31       5    643.837 \u001b[90m missing         \u001b[0m  0.0536087    0.108702     0.05\n",
       "     8 │ ARE      2002-01-31       6    859.694 \u001b[90m missing         \u001b[0m  0.0163752    0.0193584    0.01\n",
       "   ⋮   │    ⋮         ⋮         ⋮         ⋮             ⋮              ⋮            ⋮             ⋱\n",
       " 33119 │ ZWE      2022-06-30      46   8321.84         2.3622e7   -0.157904     0.0390063   -0.18 ⋯\n",
       " 33120 │ ZWE      2022-07-31      46   6754.24         4.07872e7  -0.148361    -0.111174    -0.14\n",
       " 33121 │ ZWE      2022-08-31      46   5756.13         5.57795e7  -0.183784    -0.111697    -0.21\n",
       " 33122 │ ZWE      2022-09-30      46   4494.74         2.54014e7   0.0855976    0.0771056    0.03\n",
       " 33123 │ ZWE      2022-10-31      46   4664.97         1.29677e7   0.00567234   0.134868     0.03 ⋯\n",
       " 33124 │ ZWE      2022-11-30      46   4830.31         2.23904e7  -0.0349198   -0.00653303   0.00\n",
       " 33125 │ ZWE      2022-12-31      45   4420.3          1.94456e7   0.325638     0.120472     0.34\n",
       "\u001b[36m                                                                   4 columns and 33110 rows omitted\u001b[0m"
      ]
     },
     "metadata": {},
     "output_type": "display_data"
    }
   ],
   "source": [
    "using DataFrames\n",
    "using CSV\n",
    "\n",
    "data = CSV.read(\"../../data/raw/equities/country_market_data.csv\", DataFrame)"
   ]
  },
  {
   "cell_type": "markdown",
   "metadata": {},
   "source": [
    "I will also need currency rate data."
   ]
  },
  {
   "cell_type": "code",
   "execution_count": 5,
   "metadata": {},
   "outputs": [
    {
     "data": {
      "text/html": [
       "<div><div style = \"float: left;\"><span>12256×8 DataFrame</span></div><div style = \"float: right;\"><span style = \"font-style: italic;\">12231 rows omitted</span></div><div style = \"clear: both;\"></div></div><div class = \"data-frame\" style = \"overflow-x: scroll;\"><table class = \"data-frame\" style = \"margin-bottom: 6px;\"><thead><tr class = \"header\"><th class = \"rowNumber\" style = \"font-weight: bold; text-align: right;\">Row</th><th style = \"text-align: left;\">cur_code</th><th style = \"text-align: left;\">date</th><th style = \"text-align: left;\">spot_bid</th><th style = \"text-align: left;\">forward_bid</th><th style = \"text-align: left;\">spot_mid</th><th style = \"text-align: left;\">forward_mid</th><th style = \"text-align: left;\">spot_ask</th><th style = \"text-align: left;\">forward_ask</th></tr><tr class = \"subheader headerLastRow\"><th class = \"rowNumber\" style = \"font-weight: bold; text-align: right;\"></th><th title = \"String3\" style = \"text-align: left;\">String3</th><th title = \"Dates.Date\" style = \"text-align: left;\">Date</th><th title = \"Union{Missing, Float64}\" style = \"text-align: left;\">Float64?</th><th title = \"Union{Missing, Float64}\" style = \"text-align: left;\">Float64?</th><th title = \"Union{Missing, Float64}\" style = \"text-align: left;\">Float64?</th><th title = \"Union{Missing, Float64}\" style = \"text-align: left;\">Float64?</th><th title = \"Union{Missing, Float64}\" style = \"text-align: left;\">Float64?</th><th title = \"Union{Missing, Float64}\" style = \"text-align: left;\">Float64?</th></tr></thead><tbody><tr><td class = \"rowNumber\" style = \"font-weight: bold; text-align: right;\">1</td><td style = \"text-align: left;\">AED</td><td style = \"text-align: left;\">1995-06-30</td><td style = \"text-align: right;\">3.6725</td><td style = \"text-align: right;\">3.6715</td><td style = \"text-align: right;\">3.6728</td><td style = \"text-align: right;\">3.67235</td><td style = \"text-align: right;\">3.673</td><td style = \"text-align: right;\">3.6732</td></tr><tr><td class = \"rowNumber\" style = \"font-weight: bold; text-align: right;\">2</td><td style = \"text-align: left;\">AED</td><td style = \"text-align: left;\">1995-07-31</td><td style = \"text-align: right;\">3.6726</td><td style = \"text-align: right;\">3.6716</td><td style = \"text-align: right;\">3.673</td><td style = \"text-align: right;\">3.6726</td><td style = \"text-align: right;\">3.6734</td><td style = \"text-align: right;\">3.6736</td></tr><tr><td class = \"rowNumber\" style = \"font-weight: bold; text-align: right;\">3</td><td style = \"text-align: left;\">AED</td><td style = \"text-align: left;\">1995-08-31</td><td style = \"text-align: right;\">3.6723</td><td style = \"text-align: right;\">3.6713</td><td style = \"text-align: right;\">3.6726</td><td style = \"text-align: right;\">3.6722</td><td style = \"text-align: right;\">3.6729</td><td style = \"text-align: right;\">3.6731</td></tr><tr><td class = \"rowNumber\" style = \"font-weight: bold; text-align: right;\">4</td><td style = \"text-align: left;\">AED</td><td style = \"text-align: left;\">1995-09-30</td><td style = \"text-align: right;\">3.6724</td><td style = \"text-align: right;\">3.6719</td><td style = \"text-align: right;\">3.6728</td><td style = \"text-align: right;\">3.6728</td><td style = \"text-align: right;\">3.6732</td><td style = \"text-align: right;\">3.6737</td></tr><tr><td class = \"rowNumber\" style = \"font-weight: bold; text-align: right;\">5</td><td style = \"text-align: left;\">AED</td><td style = \"text-align: left;\">1995-10-31</td><td style = \"text-align: right;\">3.6729</td><td style = \"text-align: right;\">3.6725</td><td style = \"text-align: right;\">3.6731</td><td style = \"text-align: right;\">3.67295</td><td style = \"text-align: right;\">3.6732</td><td style = \"text-align: right;\">3.6734</td></tr><tr><td class = \"rowNumber\" style = \"font-weight: bold; text-align: right;\">6</td><td style = \"text-align: left;\">AED</td><td style = \"text-align: left;\">1995-11-30</td><td style = \"text-align: right;\">3.6729</td><td style = \"text-align: right;\">3.6724</td><td style = \"text-align: right;\">3.673</td><td style = \"text-align: right;\">3.67285</td><td style = \"text-align: right;\">3.6731</td><td style = \"text-align: right;\">3.6733</td></tr><tr><td class = \"rowNumber\" style = \"font-weight: bold; text-align: right;\">7</td><td style = \"text-align: left;\">AED</td><td style = \"text-align: left;\">1995-12-31</td><td style = \"text-align: right;\">3.6727</td><td style = \"text-align: right;\">3.6722</td><td style = \"text-align: right;\">3.6729</td><td style = \"text-align: right;\">3.67275</td><td style = \"text-align: right;\">3.673</td><td style = \"text-align: right;\">3.6733</td></tr><tr><td class = \"rowNumber\" style = \"font-weight: bold; text-align: right;\">8</td><td style = \"text-align: left;\">AED</td><td style = \"text-align: left;\">1996-01-31</td><td style = \"text-align: right;\">3.6727</td><td style = \"text-align: right;\">3.6723</td><td style = \"text-align: right;\">3.6729</td><td style = \"text-align: right;\">3.6729</td><td style = \"text-align: right;\">3.6731</td><td style = \"text-align: right;\">3.6735</td></tr><tr><td class = \"rowNumber\" style = \"font-weight: bold; text-align: right;\">9</td><td style = \"text-align: left;\">AED</td><td style = \"text-align: left;\">1996-02-29</td><td style = \"text-align: right;\">3.6722</td><td style = \"text-align: right;\">3.6717</td><td style = \"text-align: right;\">3.6727</td><td style = \"text-align: right;\">3.67255</td><td style = \"text-align: right;\">3.6732</td><td style = \"text-align: right;\">3.6734</td></tr><tr><td class = \"rowNumber\" style = \"font-weight: bold; text-align: right;\">10</td><td style = \"text-align: left;\">AED</td><td style = \"text-align: left;\">1996-03-31</td><td style = \"text-align: right;\">3.6725</td><td style = \"text-align: right;\">3.6721</td><td style = \"text-align: right;\">3.6727</td><td style = \"text-align: right;\">3.6727</td><td style = \"text-align: right;\">3.6729</td><td style = \"text-align: right;\">3.6733</td></tr><tr><td class = \"rowNumber\" style = \"font-weight: bold; text-align: right;\">11</td><td style = \"text-align: left;\">AED</td><td style = \"text-align: left;\">1996-04-30</td><td style = \"text-align: right;\">3.6726</td><td style = \"text-align: right;\">3.6722</td><td style = \"text-align: right;\">3.6729</td><td style = \"text-align: right;\">3.6728</td><td style = \"text-align: right;\">3.6731</td><td style = \"text-align: right;\">3.6734</td></tr><tr><td class = \"rowNumber\" style = \"font-weight: bold; text-align: right;\">12</td><td style = \"text-align: left;\">AED</td><td style = \"text-align: left;\">1996-05-31</td><td style = \"text-align: right;\">3.6728</td><td style = \"text-align: right;\">3.6725</td><td style = \"text-align: right;\">3.6732</td><td style = \"text-align: right;\">3.6732</td><td style = \"text-align: right;\">3.6736</td><td style = \"text-align: right;\">3.6739</td></tr><tr><td class = \"rowNumber\" style = \"font-weight: bold; text-align: right;\">13</td><td style = \"text-align: left;\">AED</td><td style = \"text-align: left;\">1996-06-30</td><td style = \"text-align: right;\">3.6729</td><td style = \"text-align: right;\">3.6726</td><td style = \"text-align: right;\">3.673</td><td style = \"text-align: right;\">3.673</td><td style = \"text-align: right;\">3.6731</td><td style = \"text-align: right;\">3.6734</td></tr><tr><td style = \"text-align: right;\">&vellip;</td><td style = \"text-align: right;\">&vellip;</td><td style = \"text-align: right;\">&vellip;</td><td style = \"text-align: right;\">&vellip;</td><td style = \"text-align: right;\">&vellip;</td><td style = \"text-align: right;\">&vellip;</td><td style = \"text-align: right;\">&vellip;</td><td style = \"text-align: right;\">&vellip;</td><td style = \"text-align: right;\">&vellip;</td></tr><tr><td class = \"rowNumber\" style = \"font-weight: bold; text-align: right;\">12245</td><td style = \"text-align: left;\">ZAR</td><td style = \"text-align: left;\">2021-01-31</td><td style = \"text-align: right;\">15.049</td><td style = \"text-align: right;\">15.108</td><td style = \"text-align: right;\">15.0525</td><td style = \"text-align: right;\">15.1128</td><td style = \"text-align: right;\">15.056</td><td style = \"text-align: right;\">15.1177</td></tr><tr><td class = \"rowNumber\" style = \"font-weight: bold; text-align: right;\">12246</td><td style = \"text-align: left;\">ZAR</td><td style = \"text-align: left;\">2021-02-28</td><td style = \"text-align: right;\">15.1416</td><td style = \"text-align: right;\">15.2071</td><td style = \"text-align: right;\">15.1463</td><td style = \"text-align: right;\">15.2123</td><td style = \"text-align: right;\">15.1509</td><td style = \"text-align: right;\">15.2175</td></tr><tr><td class = \"rowNumber\" style = \"font-weight: bold; text-align: right;\">12247</td><td style = \"text-align: left;\">ZAR</td><td style = \"text-align: left;\">2021-03-31</td><td style = \"text-align: right;\">14.7625</td><td style = \"text-align: right;\">14.8221</td><td style = \"text-align: right;\">14.7662</td><td style = \"text-align: right;\">14.8268</td><td style = \"text-align: right;\">14.77</td><td style = \"text-align: right;\">14.8314</td></tr><tr><td class = \"rowNumber\" style = \"font-weight: bold; text-align: right;\">12248</td><td style = \"text-align: left;\">ZAR</td><td style = \"text-align: left;\">2021-04-30</td><td style = \"text-align: right;\">14.5031</td><td style = \"text-align: right;\">14.5648</td><td style = \"text-align: right;\">14.5075</td><td style = \"text-align: right;\">14.5701</td><td style = \"text-align: right;\">14.5119</td><td style = \"text-align: right;\">14.5753</td></tr><tr><td class = \"rowNumber\" style = \"font-weight: bold; text-align: right;\">12249</td><td style = \"text-align: left;\">ZAR</td><td style = \"text-align: left;\">2021-05-31</td><td style = \"text-align: right;\">13.7165</td><td style = \"text-align: right;\">13.7707</td><td style = \"text-align: right;\">13.72</td><td style = \"text-align: right;\">13.7751</td><td style = \"text-align: right;\">13.7235</td><td style = \"text-align: right;\">13.7795</td></tr><tr><td class = \"rowNumber\" style = \"font-weight: bold; text-align: right;\">12250</td><td style = \"text-align: left;\">ZAR</td><td style = \"text-align: left;\">2021-06-30</td><td style = \"text-align: right;\">14.2735</td><td style = \"text-align: right;\">14.3276</td><td style = \"text-align: right;\">14.2788</td><td style = \"text-align: right;\">14.3337</td><td style = \"text-align: right;\">14.284</td><td style = \"text-align: right;\">14.3398</td></tr><tr><td class = \"rowNumber\" style = \"font-weight: bold; text-align: right;\">12251</td><td style = \"text-align: left;\">ZAR</td><td style = \"text-align: left;\">2021-07-31</td><td style = \"text-align: right;\">14.6252</td><td style = \"text-align: right;\">14.6814</td><td style = \"text-align: right;\">14.6288</td><td style = \"text-align: right;\">14.6858</td><td style = \"text-align: right;\">14.6323</td><td style = \"text-align: right;\">14.6901</td></tr><tr><td class = \"rowNumber\" style = \"font-weight: bold; text-align: right;\">12252</td><td style = \"text-align: left;\">ZAR</td><td style = \"text-align: left;\">2021-08-31</td><td style = \"text-align: right;\">14.4591</td><td style = \"text-align: right;\">14.521</td><td style = \"text-align: right;\">14.465</td><td style = \"text-align: right;\">14.5271</td><td style = \"text-align: right;\">14.4709</td><td style = \"text-align: right;\">14.5331</td></tr><tr><td class = \"rowNumber\" style = \"font-weight: bold; text-align: right;\">12253</td><td style = \"text-align: left;\">ZAR</td><td style = \"text-align: left;\">2021-09-30</td><td style = \"text-align: right;\">15.0408</td><td style = \"text-align: right;\">15.1032</td><td style = \"text-align: right;\">15.045</td><td style = \"text-align: right;\">15.108</td><td style = \"text-align: right;\">15.0492</td><td style = \"text-align: right;\">15.1127</td></tr><tr><td class = \"rowNumber\" style = \"font-weight: bold; text-align: right;\">12254</td><td style = \"text-align: left;\">ZAR</td><td style = \"text-align: left;\">2021-10-31</td><td style = \"text-align: right;\">15.1946</td><td style = \"text-align: right;\">15.2494</td><td style = \"text-align: right;\">15.2</td><td style = \"text-align: right;\">15.2554</td><td style = \"text-align: right;\">15.2054</td><td style = \"text-align: right;\">15.2614</td></tr><tr><td class = \"rowNumber\" style = \"font-weight: bold; text-align: right;\">12255</td><td style = \"text-align: left;\">ZAR</td><td style = \"text-align: left;\">2021-11-30</td><td style = \"text-align: right;\">16.015</td><td style = \"text-align: right;\">16.086</td><td style = \"text-align: right;\">16.0237</td><td style = \"text-align: right;\">16.0969</td><td style = \"text-align: right;\">16.0325</td><td style = \"text-align: right;\">16.1078</td></tr><tr><td class = \"rowNumber\" style = \"font-weight: bold; text-align: right;\">12256</td><td style = \"text-align: left;\">ZAR</td><td style = \"text-align: left;\">2021-12-31</td><td style = \"text-align: right;\">15.9538</td><td style = \"text-align: right;\">16.0242</td><td style = \"text-align: right;\">15.96</td><td style = \"text-align: right;\">16.0308</td><td style = \"text-align: right;\">15.9662</td><td style = \"text-align: right;\">16.0374</td></tr></tbody></table></div>"
      ],
      "text/latex": [
       "\\begin{tabular}{r|cccccccc}\n",
       "\t& cur\\_code & date & spot\\_bid & forward\\_bid & spot\\_mid & forward\\_mid & spot\\_ask & forward\\_ask\\\\\n",
       "\t\\hline\n",
       "\t& String3 & Date & Float64? & Float64? & Float64? & Float64? & Float64? & Float64?\\\\\n",
       "\t\\hline\n",
       "\t1 & AED & 1995-06-30 & 3.6725 & 3.6715 & 3.6728 & 3.67235 & 3.673 & 3.6732 \\\\\n",
       "\t2 & AED & 1995-07-31 & 3.6726 & 3.6716 & 3.673 & 3.6726 & 3.6734 & 3.6736 \\\\\n",
       "\t3 & AED & 1995-08-31 & 3.6723 & 3.6713 & 3.6726 & 3.6722 & 3.6729 & 3.6731 \\\\\n",
       "\t4 & AED & 1995-09-30 & 3.6724 & 3.6719 & 3.6728 & 3.6728 & 3.6732 & 3.6737 \\\\\n",
       "\t5 & AED & 1995-10-31 & 3.6729 & 3.6725 & 3.6731 & 3.67295 & 3.6732 & 3.6734 \\\\\n",
       "\t6 & AED & 1995-11-30 & 3.6729 & 3.6724 & 3.673 & 3.67285 & 3.6731 & 3.6733 \\\\\n",
       "\t7 & AED & 1995-12-31 & 3.6727 & 3.6722 & 3.6729 & 3.67275 & 3.673 & 3.6733 \\\\\n",
       "\t8 & AED & 1996-01-31 & 3.6727 & 3.6723 & 3.6729 & 3.6729 & 3.6731 & 3.6735 \\\\\n",
       "\t9 & AED & 1996-02-29 & 3.6722 & 3.6717 & 3.6727 & 3.67255 & 3.6732 & 3.6734 \\\\\n",
       "\t10 & AED & 1996-03-31 & 3.6725 & 3.6721 & 3.6727 & 3.6727 & 3.6729 & 3.6733 \\\\\n",
       "\t11 & AED & 1996-04-30 & 3.6726 & 3.6722 & 3.6729 & 3.6728 & 3.6731 & 3.6734 \\\\\n",
       "\t12 & AED & 1996-05-31 & 3.6728 & 3.6725 & 3.6732 & 3.6732 & 3.6736 & 3.6739 \\\\\n",
       "\t13 & AED & 1996-06-30 & 3.6729 & 3.6726 & 3.673 & 3.673 & 3.6731 & 3.6734 \\\\\n",
       "\t14 & AED & 1996-07-31 & 3.672 & 3.6717 & 3.6725 & 3.6725 & 3.673 & 3.6733 \\\\\n",
       "\t15 & AED & 1996-08-31 & 3.6726 & 3.6724 & 3.6729 & 3.6729 & 3.6731 & 3.6734 \\\\\n",
       "\t16 & AED & 1996-09-30 & 3.6727 & 3.6708 & 3.673 & 3.67205 & 3.6732 & 3.6733 \\\\\n",
       "\t17 & AED & 1996-10-31 & 3.671 & 3.671 & 3.6725 & 3.67265 & 3.674 & 3.6743 \\\\\n",
       "\t18 & AED & 1996-11-30 & 3.6728 & 3.6727 & 3.6729 & 3.673 & 3.673 & 3.6733 \\\\\n",
       "\t19 & AED & 1996-12-31 & 3.6705 & 3.6707 & 3.6723 & 3.6728 & 3.674 & 3.6748 \\\\\n",
       "\t20 & AED & 1997-01-31 & 3.6705 & 3.6703 & 3.672 & 3.67215 & 3.6735 & 3.674 \\\\\n",
       "\t21 & AED & 1997-02-28 & 3.67 & 3.6701 & 3.672 & 3.6723 & 3.674 & 3.6745 \\\\\n",
       "\t22 & AED & 1997-03-31 & 3.6725 & 3.6726 & 3.6728 & 3.6731 & 3.673 & 3.6735 \\\\\n",
       "\t23 & AED & 1997-04-30 & 3.671 & 3.6711 & 3.672 & 3.6723 & 3.673 & 3.6735 \\\\\n",
       "\t24 & AED & 1997-05-31 & 3.6726 & 3.6725 & 3.6729 & 3.67305 & 3.6732 & 3.6736 \\\\\n",
       "\t$\\dots$ & $\\dots$ & $\\dots$ & $\\dots$ & $\\dots$ & $\\dots$ & $\\dots$ & $\\dots$ & $\\dots$ \\\\\n",
       "\\end{tabular}\n"
      ],
      "text/plain": [
       "\u001b[1m12256×8 DataFrame\u001b[0m\n",
       "\u001b[1m   Row \u001b[0m│\u001b[1m cur_code \u001b[0m\u001b[1m date       \u001b[0m\u001b[1m spot_bid \u001b[0m\u001b[1m forward_bid \u001b[0m\u001b[1m spot_mid \u001b[0m\u001b[1m forward_mid \u001b[0m\u001b[1m spot_ask \u001b[0m\u001b[1m forward_as\u001b[0m ⋯\n",
       "       │\u001b[90m String3  \u001b[0m\u001b[90m Date       \u001b[0m\u001b[90m Float64? \u001b[0m\u001b[90m Float64?    \u001b[0m\u001b[90m Float64? \u001b[0m\u001b[90m Float64?    \u001b[0m\u001b[90m Float64? \u001b[0m\u001b[90m Float64?  \u001b[0m ⋯\n",
       "───────┼───────────────────────────────────────────────────────────────────────────────────────────\n",
       "     1 │ AED       1995-06-30    3.6725       3.6715    3.6728      3.67235    3.673        3.673 ⋯\n",
       "     2 │ AED       1995-07-31    3.6726       3.6716    3.673       3.6726     3.6734       3.673\n",
       "     3 │ AED       1995-08-31    3.6723       3.6713    3.6726      3.6722     3.6729       3.673\n",
       "     4 │ AED       1995-09-30    3.6724       3.6719    3.6728      3.6728     3.6732       3.673\n",
       "     5 │ AED       1995-10-31    3.6729       3.6725    3.6731      3.67295    3.6732       3.673 ⋯\n",
       "     6 │ AED       1995-11-30    3.6729       3.6724    3.673       3.67285    3.6731       3.673\n",
       "     7 │ AED       1995-12-31    3.6727       3.6722    3.6729      3.67275    3.673        3.673\n",
       "     8 │ AED       1996-01-31    3.6727       3.6723    3.6729      3.6729     3.6731       3.673\n",
       "   ⋮   │    ⋮          ⋮          ⋮           ⋮          ⋮           ⋮          ⋮           ⋮     ⋱\n",
       " 12250 │ ZAR       2021-06-30   14.2735      14.3276   14.2788     14.3337    14.284       14.339 ⋯\n",
       " 12251 │ ZAR       2021-07-31   14.6252      14.6814   14.6288     14.6858    14.6323      14.690\n",
       " 12252 │ ZAR       2021-08-31   14.4591      14.521    14.465      14.5271    14.4709      14.533\n",
       " 12253 │ ZAR       2021-09-30   15.0408      15.1032   15.045      15.108     15.0492      15.112\n",
       " 12254 │ ZAR       2021-10-31   15.1946      15.2494   15.2        15.2554    15.2054      15.261 ⋯\n",
       " 12255 │ ZAR       2021-11-30   16.015       16.086    16.0237     16.0969    16.0325      16.107\n",
       " 12256 │ ZAR       2021-12-31   15.9538      16.0242   15.96       16.0308    15.9662      16.037\n",
       "\u001b[36m                                                                    1 column and 12241 rows omitted\u001b[0m"
      ]
     },
     "metadata": {},
     "output_type": "display_data"
    }
   ],
   "source": [
    "data_curr = CSV.read(\"../../data/prepared/currencies/currency_rates.csv\", DataFrame)"
   ]
  },
  {
   "cell_type": "code",
   "execution_count": 11,
   "metadata": {},
   "outputs": [
    {
     "data": {
      "text/html": [
       "<div><div style = \"float: left;\"><span>5×8 DataFrame</span></div><div style = \"clear: both;\"></div></div><div class = \"data-frame\" style = \"overflow-x: scroll;\"><table class = \"data-frame\" style = \"margin-bottom: 6px;\"><thead><tr class = \"header\"><th class = \"rowNumber\" style = \"font-weight: bold; text-align: right;\">Row</th><th style = \"text-align: left;\">cur_code</th><th style = \"text-align: left;\">date</th><th style = \"text-align: left;\">spot_bid</th><th style = \"text-align: left;\">forward_bid</th><th style = \"text-align: left;\">spot_mid</th><th style = \"text-align: left;\">forward_mid</th><th style = \"text-align: left;\">spot_ask</th><th style = \"text-align: left;\">forward_ask</th></tr><tr class = \"subheader headerLastRow\"><th class = \"rowNumber\" style = \"font-weight: bold; text-align: right;\"></th><th title = \"String3\" style = \"text-align: left;\">String3</th><th title = \"Dates.Date\" style = \"text-align: left;\">Date</th><th title = \"Union{Missing, Float64}\" style = \"text-align: left;\">Float64?</th><th title = \"Union{Missing, Float64}\" style = \"text-align: left;\">Float64?</th><th title = \"Union{Missing, Float64}\" style = \"text-align: left;\">Float64?</th><th title = \"Union{Missing, Float64}\" style = \"text-align: left;\">Float64?</th><th title = \"Union{Missing, Float64}\" style = \"text-align: left;\">Float64?</th><th title = \"Union{Missing, Float64}\" style = \"text-align: left;\">Float64?</th></tr></thead><tbody><tr><td class = \"rowNumber\" style = \"font-weight: bold; text-align: right;\">1</td><td style = \"text-align: left;\">AUD</td><td style = \"text-align: left;\">2021-08-31</td><td style = \"text-align: right;\">1.36799</td><td style = \"text-align: right;\">1.36771</td><td style = \"text-align: right;\">1.36827</td><td style = \"text-align: right;\">1.36801</td><td style = \"text-align: right;\">1.36855</td><td style = \"text-align: right;\">1.36831</td></tr><tr><td class = \"rowNumber\" style = \"font-weight: bold; text-align: right;\">2</td><td style = \"text-align: left;\">AUD</td><td style = \"text-align: left;\">2021-09-30</td><td style = \"text-align: right;\">1.38408</td><td style = \"text-align: right;\">1.38389</td><td style = \"text-align: right;\">1.38437</td><td style = \"text-align: right;\">1.38418</td><td style = \"text-align: right;\">1.38466</td><td style = \"text-align: right;\">1.38449</td></tr><tr><td class = \"rowNumber\" style = \"font-weight: bold; text-align: right;\">3</td><td style = \"text-align: left;\">AUD</td><td style = \"text-align: left;\">2021-10-31</td><td style = \"text-align: right;\">1.33103</td><td style = \"text-align: right;\">1.33085</td><td style = \"text-align: right;\">1.33138</td><td style = \"text-align: right;\">1.33122</td><td style = \"text-align: right;\">1.33174</td><td style = \"text-align: right;\">1.33161</td></tr><tr><td class = \"rowNumber\" style = \"font-weight: bold; text-align: right;\">4</td><td style = \"text-align: left;\">AUD</td><td style = \"text-align: left;\">2021-11-30</td><td style = \"text-align: right;\">1.41004</td><td style = \"text-align: right;\">1.40932</td><td style = \"text-align: right;\">1.41034</td><td style = \"text-align: right;\">1.40964</td><td style = \"text-align: right;\">1.41064</td><td style = \"text-align: right;\">1.40998</td></tr><tr><td class = \"rowNumber\" style = \"font-weight: bold; text-align: right;\">5</td><td style = \"text-align: left;\">AUD</td><td style = \"text-align: left;\">2021-12-31</td><td style = \"text-align: right;\">1.37514</td><td style = \"text-align: right;\">1.37499</td><td style = \"text-align: right;\">1.37542</td><td style = \"text-align: right;\">1.37529</td><td style = \"text-align: right;\">1.37571</td><td style = \"text-align: right;\">1.37557</td></tr></tbody></table></div>"
      ],
      "text/latex": [
       "\\begin{tabular}{r|cccccccc}\n",
       "\t& cur\\_code & date & spot\\_bid & forward\\_bid & spot\\_mid & forward\\_mid & spot\\_ask & forward\\_ask\\\\\n",
       "\t\\hline\n",
       "\t& String3 & Date & Float64? & Float64? & Float64? & Float64? & Float64? & Float64?\\\\\n",
       "\t\\hline\n",
       "\t1 & AUD & 2021-08-31 & 1.36799 & 1.36771 & 1.36827 & 1.36801 & 1.36855 & 1.36831 \\\\\n",
       "\t2 & AUD & 2021-09-30 & 1.38408 & 1.38389 & 1.38437 & 1.38418 & 1.38466 & 1.38449 \\\\\n",
       "\t3 & AUD & 2021-10-31 & 1.33103 & 1.33085 & 1.33138 & 1.33122 & 1.33174 & 1.33161 \\\\\n",
       "\t4 & AUD & 2021-11-30 & 1.41004 & 1.40932 & 1.41034 & 1.40964 & 1.41064 & 1.40998 \\\\\n",
       "\t5 & AUD & 2021-12-31 & 1.37514 & 1.37499 & 1.37542 & 1.37529 & 1.37571 & 1.37557 \\\\\n",
       "\\end{tabular}\n"
      ],
      "text/plain": [
       "\u001b[1m5×8 DataFrame\u001b[0m\n",
       "\u001b[1m Row \u001b[0m│\u001b[1m cur_code \u001b[0m\u001b[1m date       \u001b[0m\u001b[1m spot_bid \u001b[0m\u001b[1m forward_bid \u001b[0m\u001b[1m spot_mid \u001b[0m\u001b[1m forward_mid \u001b[0m\u001b[1m spot_ask \u001b[0m\u001b[1m forward_ask \u001b[0m\n",
       "     │\u001b[90m String3  \u001b[0m\u001b[90m Date       \u001b[0m\u001b[90m Float64? \u001b[0m\u001b[90m Float64?    \u001b[0m\u001b[90m Float64? \u001b[0m\u001b[90m Float64?    \u001b[0m\u001b[90m Float64? \u001b[0m\u001b[90m Float64?    \u001b[0m\n",
       "─────┼───────────────────────────────────────────────────────────────────────────────────────────\n",
       "   1 │ AUD       2021-08-31   1.36799      1.36771   1.36827      1.36801   1.36855      1.36831\n",
       "   2 │ AUD       2021-09-30   1.38408      1.38389   1.38437      1.38418   1.38466      1.38449\n",
       "   3 │ AUD       2021-10-31   1.33103      1.33085   1.33138      1.33122   1.33174      1.33161\n",
       "   4 │ AUD       2021-11-30   1.41004      1.40932   1.41034      1.40964   1.41064      1.40998\n",
       "   5 │ AUD       2021-12-31   1.37514      1.37499   1.37542      1.37529   1.37571      1.37557"
      ]
     },
     "metadata": {},
     "output_type": "display_data"
    }
   ],
   "source": [
    "last(data_curr[data_curr.cur_code .== \"AUD\", :], 5)"
   ]
  },
  {
   "cell_type": "code",
   "execution_count": 9,
   "metadata": {},
   "outputs": [
    {
     "name": "stdout",
     "output_type": "stream",
     "text": [
      "ARE\n",
      "ARG\n",
      "AUS\n",
      "AUT\n",
      "BEL\n",
      "BGD\n",
      "BGR\n",
      "BHR\n",
      "BMU\n",
      "BRA\n",
      "BWA\n",
      "CAN\n",
      "CHE\n",
      "CHL\n",
      "CHN\n",
      "CIV\n",
      "COL\n",
      "CYP\n",
      "CZE\n",
      "DEU\n",
      "DNK\n",
      "ECU\n",
      "EGY\n",
      "ESP\n",
      "EST\n",
      "FIN\n",
      "FRA\n",
      "GBR\n",
      "GGY\n",
      "GHA\n",
      "GRC\n",
      "HKG\n",
      "HRV\n",
      "HUN\n",
      "IDN\n",
      "IND\n",
      "IRL\n",
      "IRN\n",
      "ISL\n",
      "ISR\n",
      "ITA\n",
      "JAM\n",
      "JOR\n",
      "JPN\n",
      "KAZ\n",
      "KEN\n",
      "KOR\n",
      "KWT\n",
      "LBN\n",
      "LKA\n",
      "LTU\n",
      "LUX\n",
      "LVA\n",
      "MAR\n",
      "MEX\n",
      "MLT\n",
      "MUS\n",
      "MWI\n",
      "MYS\n",
      "NAM\n",
      "NGA\n",
      "NLD\n",
      "NOR\n",
      "NZL\n",
      "OMN\n",
      "PAK\n",
      "PER\n",
      "PHL\n",
      "POL\n",
      "PRT\n",
      "PSE\n",
      "QAT\n",
      "ROU\n",
      "RUS\n",
      "SAU\n",
      "SGP\n",
      "SRB\n",
      "SVK\n",
      "SVN\n",
      "SWE\n",
      "THA\n",
      "TTO\n",
      "TUN\n",
      "TUR\n",
      "TWN\n",
      "TZA\n",
      "UGA\n",
      "UKR\n",
      "URY\n",
      "USA\n",
      "VEN\n",
      "VNM\n",
      "ZAF\n",
      "ZMB\n",
      "ZWE\n"
     ]
    }
   ],
   "source": [
    "for i in unique(data.excntry)\n",
    "    println(i)\n",
    "end"
   ]
  },
  {
   "cell_type": "code",
   "execution_count": 10,
   "metadata": {},
   "outputs": [
    {
     "name": "stdout",
     "output_type": "stream",
     "text": [
      "AED\n",
      "ATS\n",
      "AUD\n",
      "BEF\n",
      "CAD\n",
      "CHF\n",
      "CZK\n",
      "DEM\n",
      "DKK\n",
      "ESP\n",
      "EUR\n",
      "FIM\n",
      "FRF\n",
      "GBP\n",
      "GRD\n",
      "HKD\n",
      "HUF\n",
      "IDR\n",
      "IEP\n",
      "INR\n",
      "ITL\n",
      "JPY\n",
      "KRW\n",
      "KWD\n",
      "MXN\n",
      "MYR\n",
      "NLG\n",
      "NOK\n",
      "NZD\n",
      "PHP\n",
      "PLN\n",
      "PTE\n",
      "SAR\n",
      "SEK\n",
      "SGD\n",
      "THB\n",
      "TRY\n",
      "TWD\n",
      "ZAR\n"
     ]
    }
   ],
   "source": [
    "for i in unique(data_curr.cur_code)\n",
    "    println(i)\n",
    "end"
   ]
  }
 ],
 "metadata": {
  "kernelspec": {
   "display_name": "Julia 1.8.5",
   "language": "julia",
   "name": "julia-1.8"
  },
  "language_info": {
   "file_extension": ".jl",
   "mimetype": "application/julia",
   "name": "julia",
   "version": "1.8.5"
  },
  "orig_nbformat": 4
 },
 "nbformat": 4,
 "nbformat_minor": 2
}
