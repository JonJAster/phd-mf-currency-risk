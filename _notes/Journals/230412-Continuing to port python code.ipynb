{
 "cells": [
  {
   "attachments": {},
   "cell_type": "markdown",
   "metadata": {},
   "source": [
    "I need a new way to removed thousands separating commas wherever necessary, as the existing regex method misses the instances where there are decimals after the thousands place."
   ]
  },
  {
   "attachments": {},
   "cell_type": "markdown",
   "metadata": {},
   "source": [
    "There was a long delay caused by the presence of thousands-seperating commas. I had to completely redo the process of finding and fixing thousands-separating commas so that it used julia code instead of a regex search string."
   ]
  },
  {
   "attachments": {},
   "cell_type": "markdown",
   "metadata": {},
   "source": [
    "I finished porting the python code, and after the issue with the thousands-separating commas, it ran successfully with little effort. The output is:\n",
    "\n",
    "        Process 5164 (kor): Finished loading data (0:00:32.402172 passed since process start)\n",
    "        Process 19524 (can-chn-jpn): Finished loading data (0:00:32.885257 passed since process start)\n",
    "        Process 4052 (usa): Finished loading data (0:00:43.772162 passed since process start)\n",
    "        Process 5128 (lux): Finished loading data (0:01:33.873432 passed since process start)\n",
    "        Process 5164 (kor): Finished merging data (0:02:50.956926 passed since process start)\n",
    "        Process 19524 (can-chn-jpn): Finished merging data (0:03:34.332518 passed since process start)\n",
    "        Process 5164 (kor): Finished aggregating funds (0:03:38.998834 passed since process start)\n",
    "        Process 5164 (kor): Data saved and processed ended (0:03:44.193743 passed since process start)\n",
    "        Process 5164 (irl-bra): Finished loading data (0:00:33.334335 passed since process start)\n",
    "        Process 4052 (usa): Finished merging data (0:04:33.391870 passed since process start)\n",
    "        Process 19524 (can-chn-jpn): Finished aggregating funds (0:05:49.849739 passed since process start)\n",
    "        Process 19524 (can-chn-jpn): Data saved and processed ended (0:06:02.315420 passed since process start)\n",
    "        Process 19524 (gbr-fra-ind): Finished loading data (0:00:31.427001 passed since process start)\n",
    "        Process 5164 (irl-bra): Finished merging data (0:02:55.260680 passed since process start)\n",
    "        Process 5164 (irl-bra): Finished aggregating funds (0:03:51.293987 passed since process start)\n",
    "        Process 5164 (irl-bra): Data saved and processed ended (0:03:57.277534 passed since process start)\n",
    "        Process 5164 (esp-tha-aus-zaf-mex-aut-che): Finished loading data (0:00:30.832396 passed since process start)\n",
    "        Process 5128 (lux): Finished merging data (0:08:20.904679 passed since process start)\n",
    "        Process 19524 (gbr-fra-ind): Finished merging data (0:02:41.311736 passed since process start)\n",
    "        Process 4052 (usa): Finished aggregating funds (0:09:25.723525 passed since process start)\n",
    "        Process 4052 (usa): Data saved and processed ended (0:09:56.308379 passed since process start)\n",
    "        Process 5164 (esp-tha-aus-zaf-mex-aut-che): Finished merging data (0:02:32.129128 passed since process start)\n",
    "        Process 4052 (other): Finished loading data (0:00:30.817394 passed since process start)\n",
    "        Process 5128 (lux): Finished aggregating funds (0:11:23.883208 passed since process start)\n",
    "        Process 19524 (gbr-fra-ind): Finished aggregating funds (0:05:29.493176 passed since process start)\n",
    "        Process 5128 (lux): Data saved and processed ended (0:11:43.265100 passed since process start)\n",
    "        Process 19524 (gbr-fra-ind): Data saved and processed ended (0:05:46.413637 passed since process start)\n",
    "        Process 4052 (other): Finished merging data (0:02:19.731459 passed since process start)\n",
    "        Process 5164 (esp-tha-aus-zaf-mex-aut-che): Finished aggregating funds (0:06:44.550813 passed since process start)\n",
    "        Process 5164 (esp-tha-aus-zaf-mex-aut-che): Data saved and processed ended (0:07:15.406213 passed since process start)\n",
    "        Process 4052 (other): Finished aggregating funds (0:05:19.669455 passed since process start)\n",
    "        Process 4052 (other): Data saved and processed ended (0:05:40.677096 passed since process start)"
   ]
  },
  {
   "cell_type": "markdown",
   "metadata": {},
   "source": []
  }
 ],
 "metadata": {
  "language_info": {
   "name": "python"
  },
  "orig_nbformat": 4
 },
 "nbformat": 4,
 "nbformat_minor": 2
}
