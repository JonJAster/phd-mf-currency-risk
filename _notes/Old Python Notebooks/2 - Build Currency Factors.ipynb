{
 "cells": [
  {
   "cell_type": "markdown",
   "id": "7fd2765e",
   "metadata": {},
   "source": [
    "# Imports"
   ]
  },
  {
   "cell_type": "code",
   "execution_count": 1,
   "id": "d728c64a",
   "metadata": {},
   "outputs": [],
   "source": [
    "import numpy as np\n",
    "import pandas as pd\n",
    "from custom_modules.helper_functions import * "
   ]
  },
  {
   "cell_type": "markdown",
   "id": "74b46f93",
   "metadata": {},
   "source": [
    "# Read Data"
   ]
  },
  {
   "cell_type": "code",
   "execution_count": 2,
   "id": "9da4c9c8",
   "metadata": {},
   "outputs": [],
   "source": [
    "df_curr = pd.read_csv(\"..\\\\Data\\\\Refined Data\\\\Currencies\\\\currencies.csv\",\n",
    "                      parse_dates=[1])"
   ]
  },
  {
   "cell_type": "markdown",
   "id": "5965b477",
   "metadata": {},
   "source": [
    "# Define Returns"
   ]
  },
  {
   "cell_type": "code",
   "execution_count": 3,
   "id": "9fff84bc",
   "metadata": {},
   "outputs": [],
   "source": [
    "# Take lags of forward rates and spot mid rates, for use in defining\n",
    "# carry trade excess returns and changes in spot rate\n",
    "df_curr[[\"fb_m1\", \"fm_m1\", \"fa_m1\", \"sm_m1\"]] = (\n",
    "    df_curr.groupby(\"curr\")[[\"for_bid\", \"for_mid\", \"for_ask\", \"spot_mid\"]]\n",
    "           .shift(1)\n",
    ")\n",
    "\n",
    "# Define the change in spot rates in logs\n",
    "df_curr[\"del_spot\"] = np.log(df_curr.spot_mid) - np.log(df_curr.sm_m1)\n",
    "\n",
    "# Define the forward discount\n",
    "df_curr[\"fwd_discount\"] = np.log(df_curr.fm_m1) - np.log(df_curr.sm_m1)\n",
    "\n",
    "# Define log carry trade return\n",
    "df_curr[\"ret\"] = df_curr.fwd_discount - df_curr.del_spot\n",
    "\n",
    "# Define long and short net log excess returns in month t similarly, but\n",
    "# using bid and ask rates\n",
    "df_curr[\"ret_net_lg\"] = np.log(df_curr.fb_m1) - np.log(df_curr.spot_ask)\n",
    "df_curr[\"ret_net_sh\"] = -np.log(df_curr.fa_m1) + np.log(df_curr.spot_bid)"
   ]
  },
  {
   "cell_type": "markdown",
   "id": "11114b9e",
   "metadata": {},
   "source": [
    "# Group by forward discount"
   ]
  },
  {
   "cell_type": "code",
   "execution_count": 4,
   "id": "05038512",
   "metadata": {},
   "outputs": [],
   "source": [
    "# Create cut-offs for 6 quantiles\n",
    "group_cutoffs = (\n",
    "    df_curr.groupby(\"date\").fwd_discount.quantile([1/6, 2/6, 3/6, 4/6, 5/6])\n",
    "           .to_frame().reset_index()\n",
    "           .pivot(index=\"date\", columns=\"level_1\", values=\"fwd_discount\")\n",
    "           .reset_index()\n",
    ")\n",
    "\n",
    "group_cutoffs.columns = [\"date\", \"fd_1\", \"fd_2\", \"fd_3\", \"fd_4\", \"fd_5\"]\n",
    "\n",
    "# Merge cut-offs back in\n",
    "df_curr_grouped = (\n",
    "    df_curr.merge(group_cutoffs, on=\"date\").sort_values(by=[\"date\", \"curr\"])\n",
    ")\n",
    "\n",
    "# Calculate quantile number at time t-1\n",
    "df_curr_grouped[\"group_num\"] = (\n",
    "    np.where(\n",
    "        df_curr_grouped.fwd_discount <= df_curr_grouped.fd_1, 1,\n",
    "        np.where(\n",
    "            df_curr_grouped.fwd_discount <= df_curr_grouped.fd_2, 2,\n",
    "            np.where(\n",
    "                df_curr_grouped.fwd_discount <= df_curr_grouped.fd_3, 3,\n",
    "                np.where(\n",
    "                    df_curr_grouped.fwd_discount <= df_curr_grouped.fd_4, 4, \n",
    "                    np.where(\n",
    "                        df_curr_grouped.fwd_discount <= df_curr_grouped.fd_5,\n",
    "                        5, 6\n",
    "                    )\n",
    "                )\n",
    "            )\n",
    "        )\n",
    "    )\n",
    ")"
   ]
  },
  {
   "cell_type": "markdown",
   "id": "08b47e03",
   "metadata": {},
   "source": [
    "# Create grouped portfolios"
   ]
  },
  {
   "cell_type": "code",
   "execution_count": 5,
   "id": "7a93e825",
   "metadata": {},
   "outputs": [],
   "source": [
    "# Take logs of necessary portfolio average observations\n",
    "df_curr_ports = (\n",
    "    df_curr_grouped.groupby([\"date\", \"group_num\"])\\\n",
    "                   .agg(del_spot=(\"del_spot\", \"mean\"),\n",
    "                        fwd_discount=(\"fwd_discount\", \"mean\"),\n",
    "                        ret=(\"ret\", \"mean\"),\n",
    "                        ret_net_lg=(\"ret_net_lg\", \"mean\"),\n",
    "                        ret_net_sh=(\"ret_net_sh\", \"mean\"))\n",
    "                   .reset_index()\n",
    ")"
   ]
  },
  {
   "cell_type": "code",
   "execution_count": 6,
   "id": "aacefa79",
   "metadata": {},
   "outputs": [],
   "source": [
    "# Fix net returns\n",
    "df_curr_ports[\"ret_net\"] = np.where(df_curr_ports.group_num == 1,\n",
    "                                    df_curr_ports.ret_net_sh,\n",
    "                                    df_curr_ports.ret_net_lg)\n",
    "\n",
    "df_curr_ports.drop([\"ret_net_lg\", \"ret_net_sh\"], axis=1, inplace=True)"
   ]
  },
  {
   "cell_type": "markdown",
   "id": "c29b5c77",
   "metadata": {},
   "source": [
    "# Inspect grouped portfolios"
   ]
  },
  {
   "cell_type": "code",
   "execution_count": 7,
   "id": "21287df3",
   "metadata": {},
   "outputs": [],
   "source": [
    "# Create a summary DataFrame similar to the one in LRV (2011)\n",
    "df_summary = pd.DataFrame(columns=[\"1\", \"2\", \"3\", \"4\", \"5\", \"6\"])\n",
    "\n",
    "# Change in spot rate in logs\n",
    "df_summary.loc[\"Δs (mean)\", :] = (df_curr_ports.groupby(\"group_num\")\n",
    "                                               .del_spot.mean()\n",
    "                                               * 1200).values\n",
    "df_summary.loc[\"Δs (std)\", :] = (df_curr_ports.groupby(\"group_num\")\n",
    "                                              .del_spot.std()\n",
    "                                              * np.sqrt(12)*100).values\n",
    "\n",
    "# Forward discount\n",
    "df_summary.loc[\"f-s (mean)\", :] = (df_curr_ports.groupby(\"group_num\")\n",
    "                                                .fwd_discount.mean()\n",
    "                                                * 1200).values\n",
    "df_summary.loc[\"f-s (std)\", :] = (df_curr_ports.groupby(\"group_num\")\n",
    "                                               .fwd_discount.std()\n",
    "                                               * np.sqrt(12)*100).values\n",
    "\n",
    "# Excess return\n",
    "df_summary.loc[\"rx (mean)\", :] = (df_curr_ports.groupby(\"group_num\")\n",
    "                                               .ret.mean()\n",
    "                                               * 1200).values\n",
    "df_summary.loc[\"rx (std)\", :] = (df_curr_ports.groupby(\"group_num\")\n",
    "                                              .ret.std()\n",
    "                                              * np.sqrt(12)*100).values\n",
    "df_summary.loc[\"rx (SR)\", :] = (\n",
    "    df_summary.loc[\"rx (mean)\", :].div(df_summary.loc[\"rx (std)\", :])\n",
    ")\n",
    "\n",
    "# Excess net return\n",
    "df_summary.loc[\"rx_net (mean)\", :] = (df_curr_ports.groupby(\"group_num\")\n",
    "                                                   .ret_net.mean()\n",
    "                                                   * 1200).values\n",
    "df_summary.loc[\"rx_net (std)\", :] = (df_curr_ports.groupby(\"group_num\")\n",
    "                                                  .ret_net.std()\n",
    "                                                  * np.sqrt(12)*100).values\n",
    "df_summary.loc[\"rx_net (SR)\", :] = (\n",
    "    df_summary.loc[\"rx_net (mean)\", :].div(df_summary.loc[\"rx_net (std)\", :])\n",
    ")"
   ]
  },
  {
   "cell_type": "code",
   "execution_count": 8,
   "id": "9ff8457c",
   "metadata": {},
   "outputs": [
    {
     "data": {
      "text/html": [
       "<div>\n",
       "<style scoped>\n",
       "    .dataframe tbody tr th:only-of-type {\n",
       "        vertical-align: middle;\n",
       "    }\n",
       "\n",
       "    .dataframe tbody tr th {\n",
       "        vertical-align: top;\n",
       "    }\n",
       "\n",
       "    .dataframe thead th {\n",
       "        text-align: right;\n",
       "    }\n",
       "</style>\n",
       "<table border=\"1\" class=\"dataframe\">\n",
       "  <thead>\n",
       "    <tr style=\"text-align: right;\">\n",
       "      <th></th>\n",
       "      <th>1</th>\n",
       "      <th>2</th>\n",
       "      <th>3</th>\n",
       "      <th>4</th>\n",
       "      <th>5</th>\n",
       "      <th>6</th>\n",
       "    </tr>\n",
       "  </thead>\n",
       "  <tbody>\n",
       "    <tr>\n",
       "      <th>Δs (mean)</th>\n",
       "      <td>-0.644963</td>\n",
       "      <td>-0.32804</td>\n",
       "      <td>-0.430232</td>\n",
       "      <td>-1.478847</td>\n",
       "      <td>1.338368</td>\n",
       "      <td>5.264857</td>\n",
       "    </tr>\n",
       "    <tr>\n",
       "      <th>Δs (std)</th>\n",
       "      <td>7.29209</td>\n",
       "      <td>6.448507</td>\n",
       "      <td>6.90521</td>\n",
       "      <td>7.57225</td>\n",
       "      <td>8.481703</td>\n",
       "      <td>10.075641</td>\n",
       "    </tr>\n",
       "    <tr>\n",
       "      <th>f-s (mean)</th>\n",
       "      <td>-2.256781</td>\n",
       "      <td>-0.773654</td>\n",
       "      <td>0.361987</td>\n",
       "      <td>1.570437</td>\n",
       "      <td>3.417412</td>\n",
       "      <td>10.035883</td>\n",
       "    </tr>\n",
       "    <tr>\n",
       "      <th>f-s (std)</th>\n",
       "      <td>0.502067</td>\n",
       "      <td>0.424049</td>\n",
       "      <td>0.386002</td>\n",
       "      <td>0.417156</td>\n",
       "      <td>0.548351</td>\n",
       "      <td>1.864167</td>\n",
       "    </tr>\n",
       "    <tr>\n",
       "      <th>rx (mean)</th>\n",
       "      <td>-1.611818</td>\n",
       "      <td>-0.445614</td>\n",
       "      <td>0.792219</td>\n",
       "      <td>3.049199</td>\n",
       "      <td>2.079043</td>\n",
       "      <td>4.769104</td>\n",
       "    </tr>\n",
       "    <tr>\n",
       "      <th>rx (std)</th>\n",
       "      <td>7.307233</td>\n",
       "      <td>6.455874</td>\n",
       "      <td>6.934276</td>\n",
       "      <td>7.61099</td>\n",
       "      <td>8.467846</td>\n",
       "      <td>10.075066</td>\n",
       "    </tr>\n",
       "    <tr>\n",
       "      <th>rx (SR)</th>\n",
       "      <td>-0.220578</td>\n",
       "      <td>-0.069025</td>\n",
       "      <td>0.114247</td>\n",
       "      <td>0.400631</td>\n",
       "      <td>0.245522</td>\n",
       "      <td>0.473357</td>\n",
       "    </tr>\n",
       "    <tr>\n",
       "      <th>rx_net (mean)</th>\n",
       "      <td>0.660692</td>\n",
       "      <td>-1.31092</td>\n",
       "      <td>-0.430114</td>\n",
       "      <td>1.696714</td>\n",
       "      <td>0.562494</td>\n",
       "      <td>2.357677</td>\n",
       "    </tr>\n",
       "    <tr>\n",
       "      <th>rx_net (std)</th>\n",
       "      <td>7.315014</td>\n",
       "      <td>6.452888</td>\n",
       "      <td>6.907007</td>\n",
       "      <td>7.581305</td>\n",
       "      <td>8.496005</td>\n",
       "      <td>10.039797</td>\n",
       "    </tr>\n",
       "    <tr>\n",
       "      <th>rx_net (SR)</th>\n",
       "      <td>0.09032</td>\n",
       "      <td>-0.203152</td>\n",
       "      <td>-0.062272</td>\n",
       "      <td>0.223802</td>\n",
       "      <td>0.066207</td>\n",
       "      <td>0.234833</td>\n",
       "    </tr>\n",
       "  </tbody>\n",
       "</table>\n",
       "</div>"
      ],
      "text/plain": [
       "                      1         2         3         4         5          6\n",
       "Δs (mean)     -0.644963  -0.32804 -0.430232 -1.478847  1.338368   5.264857\n",
       "Δs (std)        7.29209  6.448507   6.90521   7.57225  8.481703  10.075641\n",
       "f-s (mean)    -2.256781 -0.773654  0.361987  1.570437  3.417412  10.035883\n",
       "f-s (std)      0.502067  0.424049  0.386002  0.417156  0.548351   1.864167\n",
       "rx (mean)     -1.611818 -0.445614  0.792219  3.049199  2.079043   4.769104\n",
       "rx (std)       7.307233  6.455874  6.934276   7.61099  8.467846  10.075066\n",
       "rx (SR)       -0.220578 -0.069025  0.114247  0.400631  0.245522   0.473357\n",
       "rx_net (mean)  0.660692  -1.31092 -0.430114  1.696714  0.562494   2.357677\n",
       "rx_net (std)   7.315014  6.452888  6.907007  7.581305  8.496005  10.039797\n",
       "rx_net (SR)     0.09032 -0.203152 -0.062272  0.223802  0.066207   0.234833"
      ]
     },
     "execution_count": 8,
     "metadata": {},
     "output_type": "execute_result"
    }
   ],
   "source": [
    "df_summary"
   ]
  },
  {
   "cell_type": "markdown",
   "id": "be8a2185",
   "metadata": {},
   "source": [
    "# Calculate Monthly Factors"
   ]
  },
  {
   "cell_type": "code",
   "execution_count": 11,
   "id": "d7cf28e7",
   "metadata": {},
   "outputs": [],
   "source": [
    "# Aggregate factor data\n",
    "df_curr_factors = (\n",
    "    df_curr_ports.sort_values(by=[\"date\", \"group_num\"]).groupby(\"date\")\n",
    "                 .agg(rx=(\"ret\", \"mean\"),\n",
    "                      hml_high=(\"ret\", \"last\"),\n",
    "                      hml_low=(\"ret\", \"first\"),\n",
    "                      rx_net=(\"ret_net\", \"mean\"),\n",
    "                      hml_high_net=(\"ret_net\", \"last\"),\n",
    "                      hml_low_net=(\"ret_net\", \"first\"),\n",
    "                      dollar=(\"del_spot\", \"mean\"),\n",
    "                      carry_high=(\"del_spot\", \"last\"),\n",
    "                      carry_low=(\"del_spot\", \"first\"))\n",
    ")\n",
    "\n",
    "# Define HML_FX and Carry\n",
    "df_curr_factors[\"hml_fx\"] = df_curr_factors.hml_high - df_curr_factors.hml_low\n",
    "df_curr_factors[\"hml_fx_net\"] = (df_curr_factors.hml_high_net\n",
    "                                 - df_curr_factors.hml_low_net)\n",
    "\n",
    "df_curr_factors[\"carry\"] = (df_curr_factors.carry_high\n",
    "                            - df_curr_factors.carry_low)\n",
    "\n",
    "# Choose columns and convert returns to percentage points\n",
    "df_curr_factors = (\n",
    "    df_curr_factors.copy().loc[:, [\"hml_fx\", \"rx\", \"hml_fx_net\",\n",
    "                                   \"rx_net\", \"carry\", \"dollar\"]] * 100\n",
    ")"
   ]
  },
  {
   "cell_type": "markdown",
   "id": "e15fa20f",
   "metadata": {},
   "source": [
    "# Save Factors"
   ]
  },
  {
   "cell_type": "code",
   "execution_count": 13,
   "id": "efcdc10a",
   "metadata": {},
   "outputs": [],
   "source": [
    "df_curr_factors.to_csv(\"..\\\\Data\\\\Refined Data\\\\Currencies\\\\curr_factors.csv\")"
   ]
  }
 ],
 "metadata": {
  "kernelspec": {
   "display_name": "Python 3 (ipykernel)",
   "language": "python",
   "name": "python3"
  },
  "language_info": {
   "codemirror_mode": {
    "name": "ipython",
    "version": 3
   },
   "file_extension": ".py",
   "mimetype": "text/x-python",
   "name": "python",
   "nbconvert_exporter": "python",
   "pygments_lexer": "ipython3",
   "version": "3.9.12"
  }
 },
 "nbformat": 4,
 "nbformat_minor": 5
}
