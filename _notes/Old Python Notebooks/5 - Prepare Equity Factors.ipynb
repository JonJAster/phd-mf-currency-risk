{
 "cells": [
  {
   "cell_type": "markdown",
   "id": "f833ab31",
   "metadata": {},
   "source": [
    "# Imports"
   ]
  },
  {
   "cell_type": "code",
   "execution_count": 5,
   "id": "804c3511",
   "metadata": {},
   "outputs": [],
   "source": [
    "import numpy as np\n",
    "import pandas as pd\n",
    "from pandas.tseries.offsets import MonthEnd"
   ]
  },
  {
   "cell_type": "markdown",
   "id": "c9f59493",
   "metadata": {},
   "source": [
    "# Load Data"
   ]
  },
  {
   "cell_type": "code",
   "execution_count": 6,
   "id": "b415c011",
   "metadata": {},
   "outputs": [],
   "source": [
    "file_dir = \"..\\\\Data\\\\Raw Data\\\\Equity Factors\\\\\"\n",
    "\n",
    "# Fama-French 5-factor returns\n",
    "df_ff5 = pd.read_csv(file_dir+\"ff5.csv\", parse_dates=[0])\n",
    "\n",
    "# Fama-French momentum returns\n",
    "df_mom = pd.read_csv(file_dir+\"momentum.csv\", parse_dates=[0])"
   ]
  },
  {
   "cell_type": "markdown",
   "id": "7a799eb8",
   "metadata": {},
   "source": [
    "# Process Data"
   ]
  },
  {
   "cell_type": "code",
   "execution_count": 7,
   "id": "ccbf13d4",
   "metadata": {},
   "outputs": [],
   "source": [
    "# Combine DataFrames and select the appropriate columns\n",
    "df_eqfactors = df_ff5.merge(df_mom, on=\"date\", how=\"outer\")\n",
    "df_eqfactors = df_eqfactors.loc[:,[\"date\", \"mkt\", \"smb\",\n",
    "                                   \"hml\", \"wml\", \"rf\"]]"
   ]
  },
  {
   "cell_type": "code",
   "execution_count": 8,
   "id": "1ea75da0",
   "metadata": {},
   "outputs": [],
   "source": [
    "# Align dates to month end for consistency with other sources of data\n",
    "df_eqfactors.date = df_eqfactors.date + MonthEnd(0)"
   ]
  },
  {
   "cell_type": "markdown",
   "id": "d3abde33",
   "metadata": {},
   "source": [
    "# Save Data"
   ]
  },
  {
   "cell_type": "code",
   "execution_count": 9,
   "id": "578a3f7a",
   "metadata": {},
   "outputs": [],
   "source": [
    "df_eqfactors.to_csv(\"..\\\\Data\\\\Refined Data\\\\Equity Factors\\\\ff4.csv\",\n",
    "                    index=False)"
   ]
  }
 ],
 "metadata": {
  "kernelspec": {
   "display_name": "Python 3 (ipykernel)",
   "language": "python",
   "name": "python3"
  },
  "language_info": {
   "codemirror_mode": {
    "name": "ipython",
    "version": 3
   },
   "file_extension": ".py",
   "mimetype": "text/x-python",
   "name": "python",
   "nbconvert_exporter": "python",
   "pygments_lexer": "ipython3",
   "version": "3.9.12"
  }
 },
 "nbformat": 4,
 "nbformat_minor": 5
}
