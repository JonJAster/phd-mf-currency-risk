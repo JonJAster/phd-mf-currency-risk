{
 "cells": [
  {
   "attachments": {},
   "cell_type": "markdown",
   "metadata": {},
   "source": [
    "process-mf-data.py:\n",
    "\n",
    "        Process 12304 (kor): Finished loading data (0:00:36.217927 passed since process start)\n",
    "        Process 16932 (can-chn-jpn): Finished loading data (0:00:37.928225 passed since process start)\n",
    "        Process 19056 (usa): Finished loading data (0:00:49.670278 passed since process start)\n",
    "        Process 9764 (lux): Finished loading data (0:01:31.543600 passed since process start)\n",
    "        Process 12304 (kor): Finished merging data (0:02:33.150872 passed since process start)\n",
    "        Process 16932 (can-chn-jpn): Finished merging data (0:03:12.618271 passed since process start)\n",
    "        Process 12304 (kor): Finished aggregating funds (0:03:25.126459 passed since process start)\n",
    "        Process 12304 (kor): Data saved and processed ended (0:03:30.917971 passed since process start)\n",
    "        Process 12304 (irl-bra): Finished loading data (0:00:35.598723 passed since process start)\n",
    "        Process 19056 (usa): Finished merging data (0:04:07.722406 passed since process start)\n",
    "        Process 16932 (can-chn-jpn): Finished aggregating funds (0:05:34.547585 passed since process start)\n",
    "        Process 16932 (can-chn-jpn): Data saved and processed ended (0:05:48.959605 passed since process start)\n",
    "        Process 12304 (irl-bra): Finished merging data (0:02:46.407093 passed since process start)\n",
    "        Process 16932 (gbr-fra-ind): Finished loading data (0:00:35.096636 passed since process start)\n",
    "        Process 12304 (irl-bra): Finished aggregating funds (0:03:50.927874 passed since process start)\n",
    "        Process 9764 (lux): Finished merging data (0:07:22.559971 passed since process start)\n",
    "        Process 12304 (irl-bra): Data saved and processed ended (0:03:57.631046 passed since process start)\n",
    "        Process 12304 (esp-tha-aus-zaf-mex-aut-che): Finished loading data (0:00:35.097138 passed since process start)\n",
    "        Process 16932 (gbr-fra-ind): Finished merging data (0:02:34.723051 passed since process start)\n",
    "        Process 19056 (usa): Finished aggregating funds (0:09:30.227792 passed since process start)\n",
    "        Process 12304 (esp-tha-aus-zaf-mex-aut-che): Finished merging data (0:02:26.677645 passed since process start)\n",
    "        Process 19056 (usa): Data saved and processed ended (0:10:02.489932 passed since process start)\n",
    "        Process 19056 (other): Finished loading data (0:00:33.965439 passed since process start)\n",
    "        Process 9764 (lux): Finished aggregating funds (0:10:59.454893 passed since process start)\n",
    "        Process 9764 (lux): Data saved and processed ended (0:11:21.619268 passed since process start)\n",
    "        Process 16932 (gbr-fra-ind): Finished aggregating funds (0:05:36.474828 passed since process start)\n",
    "        Process 16932 (gbr-fra-ind): Data saved and processed ended (0:05:55.404638 passed since process start)\n",
    "        Process 19056 (other): Finished merging data (0:02:14.222467 passed since process start)\n",
    "        Process 12304 (esp-tha-aus-zaf-mex-aut-che): Finished aggregating funds (0:06:57.296459 passed since process start)\n",
    "        Process 12304 (esp-tha-aus-zaf-mex-aut-che): Data saved and processed ended (0:07:32.028532 passed since process start)\n",
    "        Process 19056 (other): Finished aggregating funds (0:05:24.356902 passed since process start)\n",
    "        Process 19056 (other): Data saved and processed ended (0:05:48.258502 passed since process start)\n",
    "        All processes complete in 0:15:53.258565"
   ]
  },
  {
   "attachments": {},
   "cell_type": "markdown",
   "metadata": {},
   "source": [
    "bundle-mf-data.jl:\n",
    "\n",
    "        Reading data...\n",
    "        Mapping countries to currencies...\n",
    "        Missing directory created: data/mutual-funds\\post-processing\\local-rets_na-int_eq-strict_targets\\main\n",
    "        Finished bundling mutual fund data in 32.81 seconds."
   ]
  },
  {
   "attachments": {},
   "cell_type": "markdown",
   "metadata": {},
   "source": [
    "regress-fund-returns.jl:\n",
    "\n",
    "        Running regressions...\n",
    "        Process finished regressing on world_capm with lrv in 277.19 seconds (4.62 minutes)\n",
    "        Process finished regressing on world_capm with verdelhan in 277.93 seconds (4.63 minutes)\n",
    "        Process finished regressing on world_ff3 with lrv_net in 330.36 seconds (5.51 minutes)\n",
    "        Process finished regressing on world_ffcarhart with lrv_net in 360.62 seconds (6.01 minutes)\n",
    "        Process finished regressing on world_ffcarhart with lrv in 360.76 seconds (6.01 minutes)\n",
    "        Process finished regressing on world_ffcarhart with verdelhan in 368.39 seconds (6.14 minutes)\n",
    "        Process finished regressing on world_ff5 with lrv in 390.16 seconds (6.5 minutes)\n",
    "        Process finished regressing on world_ff5 with lrv_net in 391.43 seconds (6.52 minutes)\n",
    "        Process finished regressing on world_ff5 with verdelhan in 396.73 seconds (6.61 minutes)\n",
    "        Process finished regressing on world_ff6 with lrv in 425.2 seconds (7.09 minutes)\n",
    "        Process finished regressing on world_ff6 with verdelhan in 426.22 seconds (7.1 minutes)\n",
    "        Process finished regressing on world_ff6 with lrv_net in 428.64 seconds (7.14 minutes)\n",
    "        Process finished regressing on world_capm with lrv_net in 192.88 seconds (3.21 minutes)\n",
    "        Process finished regressing on world_ff3 with lrv in 208.68 seconds (3.48 minutes)\n",
    "        Process finished regressing on world_ff3 with verdelhan in 164.09 seconds (2.73 minutes)\n",
    "        Saving results...\n",
    "        Missing directory created: data/mutual-funds\\post-processing\\local-rets_na-int_eq-strict_targets\\factor-betas\n",
    "        Finished fund regressions in 751.3 seconds (12.52 minutes)"
   ]
  },
  {
   "attachments": {},
   "cell_type": "markdown",
   "metadata": {},
   "source": [
    "decompose-fund-returns.jl\n",
    "\n",
    "        Process finished decomposing returns on world_capm_verdelhan in 61.6 seconds (1.03 minutes)\n",
    "        Process finished decomposing returns on world_ffcarhart_verdelhan in 66.73 seconds (1.11 minutes)\n",
    "        Process finished decomposing returns on world_ff6_lrv in 70.11 seconds (1.17 minutes)\n",
    "        Process finished decomposing returns on world_ff3_lrv_net in 73.45 seconds (1.22 minutes)\n",
    "        Process finished decomposing returns on world_ffcarhart_lrv in 78.31 seconds (1.31 minutes)\n",
    "        Process finished decomposing returns on world_ffcarhart_lrv_net in 81.91 seconds (1.37 minutes)\n",
    "        Process finished decomposing returns on world_ff5_lrv_net in 86.13 seconds (1.44 minutes)\n",
    "        Process finished decomposing returns on world_ff6_lrv_net in 88.21 seconds (1.47 minutes)\n",
    "        Process finished decomposing returns on world_ff5_verdelhan in 90.15 seconds (1.5 minutes)\n",
    "        Process finished decomposing returns on world_capm_lrv in 92.22 seconds (1.54 minutes)\n",
    "        Process finished decomposing returns on world_ff3_lrv in 34.28 seconds (0.57 minutes)\n",
    "        Process finished decomposing returns on world_ff5_lrv in 100.82 seconds (1.68 minutes)\n",
    "        Process finished decomposing returns on world_ff6_verdelhan in 103.17 seconds (1.72 minutes)\n",
    "        Process finished decomposing returns on world_ff3_verdelhan in 31.05 seconds (0.52 minutes)\n",
    "        Process finished decomposing returns on world_capm_lrv_net in 13.55 seconds (0.23 minutes)\n",
    "        Finished decomposing fund returns in 114.99 seconds (1.92 minutes)"
   ]
  },
  {
   "attachments": {},
   "cell_type": "markdown",
   "metadata": {},
   "source": [
    "time-weight-return-components.jl:\n",
    "\n",
    "        Finished time-weighting fund return components in 132.39 seconds (2.21 minutes)"
   ]
  }
 ],
 "metadata": {
  "kernelspec": {
   "display_name": "Julia 1.8.5",
   "language": "julia",
   "name": "julia-1.8"
  },
  "language_info": {
   "file_extension": ".jl",
   "mimetype": "application/julia",
   "name": "julia",
   "version": "1.8.5"
  },
  "orig_nbformat": 4
 },
 "nbformat": 4,
 "nbformat_minor": 2
}
