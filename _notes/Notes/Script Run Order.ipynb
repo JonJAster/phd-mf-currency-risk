{
 "cells": [
  {
   "attachments": {},
   "cell_type": "markdown",
   "metadata": {},
   "source": [
    "The scripts are run in the following order, where each script depends on the scripts directly adjacent to it one row up.\n",
    "\n",
    "<table>\n",
    "  <tr>\n",
    "    <td align=\"center\" colspan=\"2\">group-raw-mf-data-by-country.jl</td>\n",
    "    <td align=\"center\">refine-raw-currency-data</td>\n",
    "    <td align=\"center\" rowspan=\"4\">refine-raw-equity-factors.jl</td>\n",
    "  </tr>\n",
    "  <tr>\n",
    "    <td align=\"center\" rowspan=\"3\">aggregate-mf-info.jl</td>\n",
    "    <td align=\"center\" colspan=\"1\">process-mf-data.py</td>\n",
    "    <td align=\"center\" rowspan=\"3\">build-currency-factors.jl</td>\n",
    "  </tr>\n",
    "  <tr>\n",
    "    <td align=\"center\">bundle-mf-data.jl</td>\n",
    "  </tr>\n",
    "  <tr>\n",
    "    <td align=\"center\">dynamic-filter-mf-data.jl</td>\n",
    "  </tr>\n",
    "  <tr>\n",
    "    <td align=\"center\" colspan=\"4\">compute-excess-returns.jl</td>\n",
    "  </tr>\n",
    "  <tr>\n",
    "    <td align=\"center\" colspan=\"4\">regress-fund-returns.jl</td>\n",
    "  </tr>\n",
    "  <tr>\n",
    "    <td align=\"center\" rowspan=\"4\">analyse-betas.ipynb</td>\n",
    "    <td align=\"center\" colspan=\"3\">decompose-fund-returns.jl</td>\n",
    "  </tr>\n",
    "  <tr>\n",
    "    <td align=\"center\" colspan=\"3\">estimate-decay-coefficient.jl</td>\n",
    "  </tr>\n",
    "  <tr>\n",
    "    <td align=\"center\" colspan=\"3\">time-weight-return-components.jl</td>\n",
    "  </tr>\n",
    "  <tr>\n",
    "    <td align=\"center\" colspan=\"3\">regress-fund-flows.jl</td>\n",
    "  </tr>\n",
    "</table>"
   ]
  }
 ],
 "metadata": {
  "kernelspec": {
   "display_name": "Julia 1.8.5",
   "language": "julia",
   "name": "julia-1.8"
  },
  "language_info": {
   "file_extension": ".jl",
   "mimetype": "application/julia",
   "name": "julia",
   "version": "1.8.5"
  },
  "orig_nbformat": 4
 },
 "nbformat": 4,
 "nbformat_minor": 2
}
