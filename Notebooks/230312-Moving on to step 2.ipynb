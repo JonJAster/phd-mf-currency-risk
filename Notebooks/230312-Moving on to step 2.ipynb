{
 "cells": [
  {
   "attachments": {},
   "cell_type": "markdown",
   "metadata": {},
   "source": [
    "I've finished successfully running step 1, to regroup the mutual fund data by country, with the following output:\n",
    "\n",
    "        Processing folder: info\n",
    "        Finished in 4.35 seconds\n",
    "        Processing folder: local-monthly-gross-returns\n",
    "        Finished in 130.5 seconds\n",
    "        Processing folder: local-monthly-net-returns\n",
    "        Finished in 148.06 seconds\n",
    "        Processing folder: monthly-costs\n",
    "        Finished in 63.1 seconds\n",
    "        Processing folder: monthly-morningstar-category\n",
    "        Finished in 467.8 seconds\n",
    "        Processing folder: monthly-net-assets\n",
    "        Finished in 237.36 seconds\n",
    "        Processing folder: usd-monthly-gross-returns\n",
    "        Finished in 85.24 seconds\n",
    "        Processing folder: usd-monthly-net-returns\n",
    "        Finished in 100.15 seconds"
   ]
  },
  {
   "attachments": {},
   "cell_type": "markdown",
   "metadata": {},
   "source": [
    "Moving on to step 2, collecting currency data together and resaving."
   ]
  },
  {
   "cell_type": "markdown",
   "metadata": {},
   "source": []
  }
 ],
 "metadata": {
  "kernelspec": {
   "display_name": "Julia 1.8.5",
   "language": "julia",
   "name": "julia-1.8"
  },
  "language_info": {
   "file_extension": ".jl",
   "mimetype": "application/julia",
   "name": "julia",
   "version": "1.8.5"
  },
  "orig_nbformat": 4
 },
 "nbformat": 4,
 "nbformat_minor": 2
}
