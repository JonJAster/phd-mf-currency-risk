{
 "cells": [
  {
   "attachments": {},
   "cell_type": "markdown",
   "metadata": {},
   "source": [
    "Here is the new cleaning code terminal output after correcting it to truncate the file after cleaning and retrying IO operations until success or timeout:"
   ]
  },
  {
   "attachments": {},
   "cell_type": "markdown",
   "metadata": {},
   "source": [
    "        Copying csv files...\n",
    "        Finished copying csv files in 39.83 seconds.\n",
    "        Cleaning csv files...\n",
    "        Finished cleaning info in 0.56 seconds.\n",
    "        Finished cleaning local-monthly-gross-returns in 27.12 seconds.\n",
    "        Finished cleaning local-monthly-net-returns in 24.45 seconds.\n",
    "        Finished cleaning monthly-costs in 13.28 seconds.\n",
    "        Finished cleaning monthly-morningstar-category in 32.39 seconds.\n",
    "        Finished cleaning monthly-net-assets in 27.4 seconds.\n",
    "        Finished cleaning usd-monthly-gross-returns in 16.97 seconds.\n",
    "        Finished cleaning usd-monthly-net-returns in 25.15 seconds.\n",
    "        Finished cleaning all csv files in 207.16 seconds."
   ]
  }
 ],
 "metadata": {
  "kernelspec": {
   "display_name": "Julia 1.8.5",
   "language": "julia",
   "name": "julia-1.8"
  },
  "language_info": {
   "file_extension": ".jl",
   "mimetype": "application/julia",
   "name": "julia",
   "version": "1.8.5"
  },
  "orig_nbformat": 4
 },
 "nbformat": 4,
 "nbformat_minor": 2
}
