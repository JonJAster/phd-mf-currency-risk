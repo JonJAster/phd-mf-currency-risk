{
 "cells": [
  {
   "attachments": {},
   "cell_type": "markdown",
   "metadata": {},
   "source": [
    "I will be working through the notebooks and data from my existing python scripts to plan out the steps required to finish this research."
   ]
  },
  {
   "attachments": {},
   "cell_type": "markdown",
   "metadata": {},
   "source": [
    "The first step will be to combine the partial MF datasets from Morningstar. Previously I have regrouped this data into a series of .csv files grouped by country of domicile instead of by fund creation date. I still think this is necessary, as the raw data has been downloaded several times and there is no guarantee that the split between file parts in each folder includes the same funds on either side, while a grouping by domicile will ensure that all funds of a given domicile are in the same file part. This means that only one file part needs to be loaded at a time when processing the data, making it possible to run on moderately sized machines."
   ]
  },
  {
   "cell_type": "code",
   "execution_count": 3,
   "metadata": {},
   "outputs": [
    {
     "data": {
      "text/html": [
       "<div><div style = \"float: left;\"><span>DataFrameRow (12 columns)</span></div><div style = \"clear: both;\"></div></div><div class = \"data-frame\" style = \"overflow-x: scroll;\"><table class = \"data-frame\" style = \"margin-bottom: 6px;\"><thead><tr class = \"header\"><th class = \"rowLabel\" style = \"font-weight: bold; text-align: right;\">Row</th><th style = \"text-align: left;\">FundId</th><th style = \"text-align: left;\">SecId</th><th style = \"text-align: left;\">Domicile</th><th style = \"text-align: left;\">Base Currency</th><th style = \"text-align: left;\">Fund Class Name</th><th style = \"text-align: left;\">Fund Class Legal Name</th><th style = \"text-align: left;\">Fund Standard Name</th><th style = \"text-align: left;\">Fund Legal Name</th><th style = \"text-align: left;\">Firm Name (Asset Manager)</th><th style = \"text-align: left;\">Firm Name (Fund Manager)</th><th style = \"text-align: left;\">True No-Load</th><th style = \"text-align: left;\">Inception \\nDate</th></tr><tr class = \"subheader headerLastRow\"><th class = \"rowLabel\" style = \"font-weight: bold; text-align: right;\"></th><th title = \"Union{Missing, String15}\" style = \"text-align: left;\">String15?</th><th title = \"String15\" style = \"text-align: left;\">String15</th><th title = \"Union{Missing, String31}\" style = \"text-align: left;\">String31?</th><th title = \"Union{Missing, String31}\" style = \"text-align: left;\">String31?</th><th title = \"String\" style = \"text-align: left;\">String</th><th title = \"Union{Missing, String}\" style = \"text-align: left;\">String?</th><th title = \"Union{Missing, String}\" style = \"text-align: left;\">String?</th><th title = \"Union{Missing, String}\" style = \"text-align: left;\">String?</th><th title = \"Union{Missing, String}\" style = \"text-align: left;\">String?</th><th title = \"Union{Missing, String}\" style = \"text-align: left;\">String?</th><th title = \"String3\" style = \"text-align: left;\">String3</th><th title = \"String15\" style = \"text-align: left;\">String15</th></tr></thead><tbody><tr><td class = \"rowLabel\" style = \"font-weight: bold; text-align: right;\">1</td><td style = \"text-align: left;\">FS000091C6</td><td style = \"text-align: left;\">F00000NE43</td><td style = \"text-align: left;\">Canada</td><td style = \"text-align: left;\">Canadian Dollar</td><td style = \"text-align: left;\">@rgentum Canadian Equity Portfolio</td><td style = \"text-align: left;\">@RGENTUM CANADIAN EQUITY PORTFOLIO</td><td style = \"text-align: left;\">@rgentum Canadian Equity Portfolio</td><td style = \"text-align: left;\">@rgentum Canadian Equity Portfolio</td><td style = \"font-style: italic; text-align: left;\">missing</td><td style = \"text-align: left;\">@rgentum Management &amp; Research Corp.</td><td style = \"text-align: left;\">Yes</td><td style = \"text-align: left;\">2/04/1998</td></tr></tbody></table></div>"
      ],
      "text/latex": [
       "\\begin{tabular}{r|ccccccc}\n",
       "\t& FundId & SecId & Domicile & Base Currency & Fund Class Name & Fund Class Legal Name & \\\\\n",
       "\t\\hline\n",
       "\t& String15? & String15 & String31? & String31? & String & String? & \\\\\n",
       "\t\\hline\n",
       "\t1 & FS000091C6 & F00000NE43 & Canada & Canadian Dollar & @rgentum Canadian Equity Portfolio & @RGENTUM CANADIAN EQUITY PORTFOLIO & $\\dots$ \\\\\n",
       "\\end{tabular}\n"
      ],
      "text/plain": [
       "\u001b[1mDataFrameRow\u001b[0m\n",
       "\u001b[1m Row \u001b[0m│\u001b[1m FundId     \u001b[0m\u001b[1m SecId      \u001b[0m\u001b[1m Domicile  \u001b[0m\u001b[1m Base Currency   \u001b[0m\u001b[1m Fund Class Name                   \u001b[0m\u001b[1m Fun\u001b[0m ⋯\n",
       "     │\u001b[90m String15?  \u001b[0m\u001b[90m String15   \u001b[0m\u001b[90m String31? \u001b[0m\u001b[90m String31?       \u001b[0m\u001b[90m String                            \u001b[0m\u001b[90m Str\u001b[0m ⋯\n",
       "─────┼─────────────────────────────────────────────────────────────────────────────────────────────\n",
       "   1 │ FS000091C6  F00000NE43  Canada     Canadian Dollar  @rgentum Canadian Equity Portfol…  @RG ⋯\n",
       "\u001b[36m                                                                                  7 columns omitted\u001b[0m"
      ]
     },
     "metadata": {},
     "output_type": "display_data"
    }
   ],
   "source": [
    "# Read mf_info_part-1 into a dataframe in Julia\n",
    "\n",
    "using DataFrames\n",
    "using CSV\n",
    "\n",
    "mf_info = CSV.read(\"../Data/Raw Data/Mutual Funds/info/mf_info_part-1.csv\", DataFrame)\n",
    "first(mf_info)"
   ]
  },
  {
   "cell_type": "code",
   "execution_count": 6,
   "metadata": {},
   "outputs": [
    {
     "data": {
      "text/html": [
       "<div><div style = \"float: left;\"><span>DataFrameRow (615 columns)</span></div><div style = \"float: right;\"><span style = \"font-style: italic;\">515 columns omitted</span></div><div style = \"clear: both;\"></div></div><div class = \"data-frame\" style = \"overflow-x: scroll;\"><table class = \"data-frame\" style = \"margin-bottom: 6px;\"><thead><tr class = \"header\"><th class = \"rowLabel\" style = \"font-weight: bold; text-align: right;\">Row</th><th style = \"text-align: left;\">Name</th><th style = \"text-align: left;\">FundId</th><th style = \"text-align: left;\">SecId</th><th style = \"text-align: left;\">Monthly Gross Return (Local Currency) \\n1970-01 \\nBase \\nCurrency</th><th style = \"text-align: left;\">Monthly Gross Return (Local Currency) \\n1970-02 \\nBase \\nCurrency</th><th style = \"text-align: left;\">Monthly Gross Return (Local Currency) \\n1970-03 \\nBase \\nCurrency</th><th style = \"text-align: left;\">Monthly Gross Return (Local Currency) \\n1970-04 \\nBase \\nCurrency</th><th style = \"text-align: left;\">Monthly Gross Return (Local Currency) \\n1970-05 \\nBase \\nCurrency</th><th style = \"text-align: left;\">Monthly Gross Return (Local Currency) \\n1970-06 \\nBase \\nCurrency</th><th style = \"text-align: left;\">Monthly Gross Return (Local Currency) \\n1970-07 \\nBase \\nCurrency</th><th style = \"text-align: left;\">Monthly Gross Return (Local Currency) \\n1970-08 \\nBase \\nCurrency</th><th style = \"text-align: left;\">Monthly Gross Return (Local Currency) \\n1970-09 \\nBase \\nCurrency</th><th style = \"text-align: left;\">Monthly Gross Return (Local Currency) \\n1970-10 \\nBase \\nCurrency</th><th style = \"text-align: left;\">Monthly Gross Return (Local Currency) \\n1970-11 \\nBase \\nCurrency</th><th style = \"text-align: left;\">Monthly Gross Return (Local Currency) \\n1970-12 \\nBase \\nCurrency</th><th style = \"text-align: left;\">Monthly Gross Return (Local Currency) \\n1971-01 \\nBase \\nCurrency</th><th style = \"text-align: left;\">Monthly Gross Return (Local Currency) \\n1971-02 \\nBase \\nCurrency</th><th style = \"text-align: left;\">Monthly Gross Return (Local Currency) \\n1971-03 \\nBase \\nCurrency</th><th style = \"text-align: left;\">Monthly Gross Return (Local Currency) \\n1971-04 \\nBase \\nCurrency</th><th style = \"text-align: left;\">Monthly Gross Return (Local Currency) \\n1971-05 \\nBase \\nCurrency</th><th style = \"text-align: left;\">Monthly Gross Return (Local Currency) \\n1971-06 \\nBase \\nCurrency</th><th style = \"text-align: left;\">Monthly Gross Return (Local Currency) \\n1971-07 \\nBase \\nCurrency</th><th style = \"text-align: left;\">Monthly Gross Return (Local Currency) \\n1971-08 \\nBase \\nCurrency</th><th style = \"text-align: left;\">Monthly Gross Return (Local Currency) \\n1971-09 \\nBase \\nCurrency</th><th style = \"text-align: left;\">Monthly Gross Return (Local Currency) \\n1971-10 \\nBase \\nCurrency</th><th style = \"text-align: left;\">Monthly Gross Return (Local Currency) \\n1971-11 \\nBase \\nCurrency</th><th style = \"text-align: left;\">Monthly Gross Return (Local Currency) \\n1971-12 \\nBase \\nCurrency</th><th style = \"text-align: left;\">Monthly Gross Return (Local Currency) \\n1972-01 \\nBase \\nCurrency</th><th style = \"text-align: left;\">Monthly Gross Return (Local Currency) \\n1972-02 \\nBase \\nCurrency</th><th style = \"text-align: left;\">Monthly Gross Return (Local Currency) \\n1972-03 \\nBase \\nCurrency</th><th style = \"text-align: left;\">Monthly Gross Return (Local Currency) \\n1972-04 \\nBase \\nCurrency</th><th style = \"text-align: left;\">Monthly Gross Return (Local Currency) \\n1972-05 \\nBase \\nCurrency</th><th style = \"text-align: left;\">Monthly Gross Return (Local Currency) \\n1972-06 \\nBase \\nCurrency</th><th style = \"text-align: left;\">Monthly Gross Return (Local Currency) \\n1972-07 \\nBase \\nCurrency</th><th style = \"text-align: left;\">Monthly Gross Return (Local Currency) \\n1972-08 \\nBase \\nCurrency</th><th style = \"text-align: left;\">Monthly Gross Return (Local Currency) \\n1972-09 \\nBase \\nCurrency</th><th style = \"text-align: left;\">Monthly Gross Return (Local Currency) \\n1972-10 \\nBase \\nCurrency</th><th style = \"text-align: left;\">Monthly Gross Return (Local Currency) \\n1972-11 \\nBase \\nCurrency</th><th style = \"text-align: left;\">Monthly Gross Return (Local Currency) \\n1972-12 \\nBase \\nCurrency</th><th style = \"text-align: left;\">Monthly Gross Return (Local Currency) \\n1973-01 \\nBase \\nCurrency</th><th style = \"text-align: left;\">Monthly Gross Return (Local Currency) \\n1973-02 \\nBase \\nCurrency</th><th style = \"text-align: left;\">Monthly Gross Return (Local Currency) \\n1973-03 \\nBase \\nCurrency</th><th style = \"text-align: left;\">Monthly Gross Return (Local Currency) \\n1973-04 \\nBase \\nCurrency</th><th style = \"text-align: left;\">Monthly Gross Return (Local Currency) \\n1973-05 \\nBase \\nCurrency</th><th style = \"text-align: left;\">Monthly Gross Return (Local Currency) \\n1973-06 \\nBase \\nCurrency</th><th style = \"text-align: left;\">Monthly Gross Return (Local Currency) \\n1973-07 \\nBase \\nCurrency</th><th style = \"text-align: left;\">Monthly Gross Return (Local Currency) \\n1973-08 \\nBase \\nCurrency</th><th style = \"text-align: left;\">Monthly Gross Return (Local Currency) \\n1973-09 \\nBase \\nCurrency</th><th style = \"text-align: left;\">Monthly Gross Return (Local Currency) \\n1973-10 \\nBase \\nCurrency</th><th style = \"text-align: left;\">Monthly Gross Return (Local Currency) \\n1973-11 \\nBase \\nCurrency</th><th style = \"text-align: left;\">Monthly Gross Return (Local Currency) \\n1973-12 \\nBase \\nCurrency</th><th style = \"text-align: left;\">Monthly Gross Return (Local Currency) \\n1974-01 \\nBase \\nCurrency</th><th style = \"text-align: left;\">Monthly Gross Return (Local Currency) \\n1974-02 \\nBase \\nCurrency</th><th style = \"text-align: left;\">Monthly Gross Return (Local Currency) \\n1974-03 \\nBase \\nCurrency</th><th style = \"text-align: left;\">Monthly Gross Return (Local Currency) \\n1974-04 \\nBase \\nCurrency</th><th style = \"text-align: left;\">Monthly Gross Return (Local Currency) \\n1974-05 \\nBase \\nCurrency</th><th style = \"text-align: left;\">Monthly Gross Return (Local Currency) \\n1974-06 \\nBase \\nCurrency</th><th style = \"text-align: left;\">Monthly Gross Return (Local Currency) \\n1974-07 \\nBase \\nCurrency</th><th style = \"text-align: left;\">Monthly Gross Return (Local Currency) \\n1974-08 \\nBase \\nCurrency</th><th style = \"text-align: left;\">Monthly Gross Return (Local Currency) \\n1974-09 \\nBase \\nCurrency</th><th style = \"text-align: left;\">Monthly Gross Return (Local Currency) \\n1974-10 \\nBase \\nCurrency</th><th style = \"text-align: left;\">Monthly Gross Return (Local Currency) \\n1974-11 \\nBase \\nCurrency</th><th style = \"text-align: left;\">Monthly Gross Return (Local Currency) \\n1974-12 \\nBase \\nCurrency</th><th style = \"text-align: left;\">Monthly Gross Return (Local Currency) \\n1975-01 \\nBase \\nCurrency</th><th style = \"text-align: left;\">Monthly Gross Return (Local Currency) \\n1975-02 \\nBase \\nCurrency</th><th style = \"text-align: left;\">Monthly Gross Return (Local Currency) \\n1975-03 \\nBase \\nCurrency</th><th style = \"text-align: left;\">Monthly Gross Return (Local Currency) \\n1975-04 \\nBase \\nCurrency</th><th style = \"text-align: left;\">Monthly Gross Return (Local Currency) \\n1975-05 \\nBase \\nCurrency</th><th style = \"text-align: left;\">Monthly Gross Return (Local Currency) \\n1975-06 \\nBase \\nCurrency</th><th style = \"text-align: left;\">Monthly Gross Return (Local Currency) \\n1975-07 \\nBase \\nCurrency</th><th style = \"text-align: left;\">Monthly Gross Return (Local Currency) \\n1975-08 \\nBase \\nCurrency</th><th style = \"text-align: left;\">Monthly Gross Return (Local Currency) \\n1975-09 \\nBase \\nCurrency</th><th style = \"text-align: left;\">Monthly Gross Return (Local Currency) \\n1975-10 \\nBase \\nCurrency</th><th style = \"text-align: left;\">Monthly Gross Return (Local Currency) \\n1975-11 \\nBase \\nCurrency</th><th style = \"text-align: left;\">Monthly Gross Return (Local Currency) \\n1975-12 \\nBase \\nCurrency</th><th style = \"text-align: left;\">Monthly Gross Return (Local Currency) \\n1976-01 \\nBase \\nCurrency</th><th style = \"text-align: left;\">Monthly Gross Return (Local Currency) \\n1976-02 \\nBase \\nCurrency</th><th style = \"text-align: left;\">Monthly Gross Return (Local Currency) \\n1976-03 \\nBase \\nCurrency</th><th style = \"text-align: left;\">Monthly Gross Return (Local Currency) \\n1976-04 \\nBase \\nCurrency</th><th style = \"text-align: left;\">Monthly Gross Return (Local Currency) \\n1976-05 \\nBase \\nCurrency</th><th style = \"text-align: left;\">Monthly Gross Return (Local Currency) \\n1976-06 \\nBase \\nCurrency</th><th style = \"text-align: left;\">Monthly Gross Return (Local Currency) \\n1976-07 \\nBase \\nCurrency</th><th style = \"text-align: left;\">Monthly Gross Return (Local Currency) \\n1976-08 \\nBase \\nCurrency</th><th style = \"text-align: left;\">Monthly Gross Return (Local Currency) \\n1976-09 \\nBase \\nCurrency</th><th style = \"text-align: left;\">Monthly Gross Return (Local Currency) \\n1976-10 \\nBase \\nCurrency</th><th style = \"text-align: left;\">Monthly Gross Return (Local Currency) \\n1976-11 \\nBase \\nCurrency</th><th style = \"text-align: left;\">Monthly Gross Return (Local Currency) \\n1976-12 \\nBase \\nCurrency</th><th style = \"text-align: left;\">Monthly Gross Return (Local Currency) \\n1977-01 \\nBase \\nCurrency</th><th style = \"text-align: left;\">Monthly Gross Return (Local Currency) \\n1977-02 \\nBase \\nCurrency</th><th style = \"text-align: left;\">Monthly Gross Return (Local Currency) \\n1977-03 \\nBase \\nCurrency</th><th style = \"text-align: left;\">Monthly Gross Return (Local Currency) \\n1977-04 \\nBase \\nCurrency</th><th style = \"text-align: left;\">Monthly Gross Return (Local Currency) \\n1977-05 \\nBase \\nCurrency</th><th style = \"text-align: left;\">Monthly Gross Return (Local Currency) \\n1977-06 \\nBase \\nCurrency</th><th style = \"text-align: left;\">Monthly Gross Return (Local Currency) \\n1977-07 \\nBase \\nCurrency</th><th style = \"text-align: left;\">Monthly Gross Return (Local Currency) \\n1977-08 \\nBase \\nCurrency</th><th style = \"text-align: left;\">Monthly Gross Return (Local Currency) \\n1977-09 \\nBase \\nCurrency</th><th style = \"text-align: left;\">Monthly Gross Return (Local Currency) \\n1977-10 \\nBase \\nCurrency</th><th style = \"text-align: left;\">Monthly Gross Return (Local Currency) \\n1977-11 \\nBase \\nCurrency</th><th style = \"text-align: left;\">Monthly Gross Return (Local Currency) \\n1977-12 \\nBase \\nCurrency</th><th style = \"text-align: left;\">Monthly Gross Return (Local Currency) \\n1978-01 \\nBase \\nCurrency</th><th style = \"text-align: right;\">&ctdot;</th></tr><tr class = \"subheader headerLastRow\"><th class = \"rowLabel\" style = \"font-weight: bold; text-align: right;\"></th><th title = \"String\" style = \"text-align: left;\">String</th><th title = \"String15\" style = \"text-align: left;\">String15</th><th title = \"String15\" style = \"text-align: left;\">String15</th><th title = \"Missing\" style = \"text-align: left;\">Missing</th><th title = \"Missing\" style = \"text-align: left;\">Missing</th><th title = \"Missing\" style = \"text-align: left;\">Missing</th><th title = \"Missing\" style = \"text-align: left;\">Missing</th><th title = \"Missing\" style = \"text-align: left;\">Missing</th><th title = \"Missing\" style = \"text-align: left;\">Missing</th><th title = \"Missing\" style = \"text-align: left;\">Missing</th><th title = \"Missing\" style = \"text-align: left;\">Missing</th><th title = \"Missing\" style = \"text-align: left;\">Missing</th><th title = \"Missing\" style = \"text-align: left;\">Missing</th><th title = \"Missing\" style = \"text-align: left;\">Missing</th><th title = \"Missing\" style = \"text-align: left;\">Missing</th><th title = \"Missing\" style = \"text-align: left;\">Missing</th><th title = \"Missing\" style = \"text-align: left;\">Missing</th><th title = \"Missing\" style = \"text-align: left;\">Missing</th><th title = \"Missing\" style = \"text-align: left;\">Missing</th><th title = \"Missing\" style = \"text-align: left;\">Missing</th><th title = \"Missing\" style = \"text-align: left;\">Missing</th><th title = \"Missing\" style = \"text-align: left;\">Missing</th><th title = \"Missing\" style = \"text-align: left;\">Missing</th><th title = \"Missing\" style = \"text-align: left;\">Missing</th><th title = \"Missing\" style = \"text-align: left;\">Missing</th><th title = \"Missing\" style = \"text-align: left;\">Missing</th><th title = \"Missing\" style = \"text-align: left;\">Missing</th><th title = \"Missing\" style = \"text-align: left;\">Missing</th><th title = \"Missing\" style = \"text-align: left;\">Missing</th><th title = \"Missing\" style = \"text-align: left;\">Missing</th><th title = \"Missing\" style = \"text-align: left;\">Missing</th><th title = \"Missing\" style = \"text-align: left;\">Missing</th><th title = \"Missing\" style = \"text-align: left;\">Missing</th><th title = \"Missing\" style = \"text-align: left;\">Missing</th><th title = \"Missing\" style = \"text-align: left;\">Missing</th><th title = \"Missing\" style = \"text-align: left;\">Missing</th><th title = \"Missing\" style = \"text-align: left;\">Missing</th><th title = \"Missing\" style = \"text-align: left;\">Missing</th><th title = \"Missing\" style = \"text-align: left;\">Missing</th><th title = \"Missing\" style = \"text-align: left;\">Missing</th><th title = \"Missing\" style = \"text-align: left;\">Missing</th><th title = \"Missing\" style = \"text-align: left;\">Missing</th><th title = \"Missing\" style = \"text-align: left;\">Missing</th><th title = \"Missing\" style = \"text-align: left;\">Missing</th><th title = \"Missing\" style = \"text-align: left;\">Missing</th><th title = \"Union{Missing, Float64}\" style = \"text-align: left;\">Float64?</th><th title = \"Union{Missing, Float64}\" style = \"text-align: left;\">Float64?</th><th title = \"Union{Missing, Float64}\" style = \"text-align: left;\">Float64?</th><th title = \"Union{Missing, Float64}\" style = \"text-align: left;\">Float64?</th><th title = \"Union{Missing, Float64}\" style = \"text-align: left;\">Float64?</th><th title = \"Union{Missing, Float64}\" style = \"text-align: left;\">Float64?</th><th title = \"Union{Missing, Float64}\" style = \"text-align: left;\">Float64?</th><th title = \"Union{Missing, Float64}\" style = \"text-align: left;\">Float64?</th><th title = \"Union{Missing, Float64}\" style = \"text-align: left;\">Float64?</th><th title = \"Union{Missing, Float64}\" style = \"text-align: left;\">Float64?</th><th title = \"Union{Missing, Float64}\" style = \"text-align: left;\">Float64?</th><th title = \"Union{Missing, Float64}\" style = \"text-align: left;\">Float64?</th><th title = \"Union{Missing, Float64}\" style = \"text-align: left;\">Float64?</th><th title = \"Union{Missing, Float64}\" style = \"text-align: left;\">Float64?</th><th title = \"Union{Missing, Float64}\" style = \"text-align: left;\">Float64?</th><th title = \"Union{Missing, Float64}\" style = \"text-align: left;\">Float64?</th><th title = \"Union{Missing, Float64}\" style = \"text-align: left;\">Float64?</th><th title = \"Union{Missing, Float64}\" style = \"text-align: left;\">Float64?</th><th title = \"Union{Missing, Float64}\" style = \"text-align: left;\">Float64?</th><th title = \"Union{Missing, Float64}\" style = \"text-align: left;\">Float64?</th><th title = \"Union{Missing, Float64}\" style = \"text-align: left;\">Float64?</th><th title = \"Union{Missing, Float64}\" style = \"text-align: left;\">Float64?</th><th title = \"Union{Missing, Float64}\" style = \"text-align: left;\">Float64?</th><th title = \"Union{Missing, Float64}\" style = \"text-align: left;\">Float64?</th><th title = \"Union{Missing, Float64}\" style = \"text-align: left;\">Float64?</th><th title = \"Union{Missing, Float64}\" style = \"text-align: left;\">Float64?</th><th title = \"Union{Missing, Float64}\" style = \"text-align: left;\">Float64?</th><th title = \"Union{Missing, Float64}\" style = \"text-align: left;\">Float64?</th><th title = \"Union{Missing, Float64}\" style = \"text-align: left;\">Float64?</th><th title = \"Union{Missing, Float64}\" style = \"text-align: left;\">Float64?</th><th title = \"Union{Missing, Float64}\" style = \"text-align: left;\">Float64?</th><th title = \"Union{Missing, Float64}\" style = \"text-align: left;\">Float64?</th><th title = \"Union{Missing, Float64}\" style = \"text-align: left;\">Float64?</th><th title = \"Union{Missing, Float64}\" style = \"text-align: left;\">Float64?</th><th title = \"Union{Missing, Float64}\" style = \"text-align: left;\">Float64?</th><th title = \"Union{Missing, Float64}\" style = \"text-align: left;\">Float64?</th><th title = \"Union{Missing, Float64}\" style = \"text-align: left;\">Float64?</th><th title = \"Union{Missing, Float64}\" style = \"text-align: left;\">Float64?</th><th title = \"Union{Missing, Float64}\" style = \"text-align: left;\">Float64?</th><th title = \"Union{Missing, Float64}\" style = \"text-align: left;\">Float64?</th><th title = \"Union{Missing, Float64}\" style = \"text-align: left;\">Float64?</th><th title = \"Union{Missing, Float64}\" style = \"text-align: left;\">Float64?</th><th title = \"Union{Missing, Float64}\" style = \"text-align: left;\">Float64?</th><th title = \"Union{Missing, Float64}\" style = \"text-align: left;\">Float64?</th><th title = \"Union{Missing, Float64}\" style = \"text-align: left;\">Float64?</th><th title = \"Union{Missing, Float64}\" style = \"text-align: left;\">Float64?</th><th title = \"Union{Missing, Float64}\" style = \"text-align: left;\">Float64?</th><th title = \"Union{Missing, Float64}\" style = \"text-align: left;\">Float64?</th><th title = \"Union{Missing, Float64}\" style = \"text-align: left;\">Float64?</th><th title = \"Union{Missing, Float64}\" style = \"text-align: left;\">Float64?</th><th title = \"Union{Missing, Float64}\" style = \"text-align: left;\">Float64?</th><th title = \"Union{Missing, Float64}\" style = \"text-align: left;\">Float64?</th><th title = \"Union{Missing, Float64}\" style = \"text-align: left;\">Float64?</th><th title = \"Union{Missing, Float64}\" style = \"text-align: left;\">Float64?</th><th title = \"Union{Missing, Float64}\" style = \"text-align: left;\">Float64?</th><th title = \"Union{Missing, Float64}\" style = \"text-align: right;\">&ctdot;</th></tr></thead><tbody><tr><td class = \"rowLabel\" style = \"font-weight: bold; text-align: right;\">1</td><td style = \"text-align: left;\">@rgentum Canadian Equity Portfolio</td><td style = \"text-align: left;\">FS000091C6</td><td style = \"text-align: left;\">F00000NE43</td><td style = \"font-style: italic; text-align: right;\">missing</td><td style = \"font-style: italic; text-align: right;\">missing</td><td style = \"font-style: italic; text-align: right;\">missing</td><td style = \"font-style: italic; text-align: right;\">missing</td><td style = \"font-style: italic; text-align: right;\">missing</td><td style = \"font-style: italic; text-align: right;\">missing</td><td style = \"font-style: italic; text-align: right;\">missing</td><td style = \"font-style: italic; text-align: right;\">missing</td><td style = \"font-style: italic; text-align: right;\">missing</td><td style = \"font-style: italic; text-align: right;\">missing</td><td style = \"font-style: italic; text-align: right;\">missing</td><td style = \"font-style: italic; text-align: right;\">missing</td><td style = \"font-style: italic; text-align: right;\">missing</td><td style = \"font-style: italic; text-align: right;\">missing</td><td style = \"font-style: italic; text-align: right;\">missing</td><td style = \"font-style: italic; text-align: right;\">missing</td><td style = \"font-style: italic; text-align: right;\">missing</td><td style = \"font-style: italic; text-align: right;\">missing</td><td style = \"font-style: italic; text-align: right;\">missing</td><td style = \"font-style: italic; text-align: right;\">missing</td><td style = \"font-style: italic; text-align: right;\">missing</td><td style = \"font-style: italic; text-align: right;\">missing</td><td style = \"font-style: italic; text-align: right;\">missing</td><td style = \"font-style: italic; text-align: right;\">missing</td><td style = \"font-style: italic; text-align: right;\">missing</td><td style = \"font-style: italic; text-align: right;\">missing</td><td style = \"font-style: italic; text-align: right;\">missing</td><td style = \"font-style: italic; text-align: right;\">missing</td><td style = \"font-style: italic; text-align: right;\">missing</td><td style = \"font-style: italic; text-align: right;\">missing</td><td style = \"font-style: italic; text-align: right;\">missing</td><td style = \"font-style: italic; text-align: right;\">missing</td><td style = \"font-style: italic; text-align: right;\">missing</td><td style = \"font-style: italic; text-align: right;\">missing</td><td style = \"font-style: italic; text-align: right;\">missing</td><td style = \"font-style: italic; text-align: right;\">missing</td><td style = \"font-style: italic; text-align: right;\">missing</td><td style = \"font-style: italic; text-align: right;\">missing</td><td style = \"font-style: italic; text-align: right;\">missing</td><td style = \"font-style: italic; text-align: right;\">missing</td><td style = \"font-style: italic; text-align: right;\">missing</td><td style = \"font-style: italic; text-align: right;\">missing</td><td style = \"font-style: italic; text-align: right;\">missing</td><td style = \"font-style: italic; text-align: right;\">missing</td><td style = \"font-style: italic; text-align: right;\">missing</td><td style = \"font-style: italic; text-align: right;\">missing</td><td style = \"font-style: italic; text-align: right;\">missing</td><td style = \"font-style: italic; text-align: right;\">missing</td><td style = \"font-style: italic; text-align: right;\">missing</td><td style = \"font-style: italic; text-align: right;\">missing</td><td style = \"font-style: italic; text-align: right;\">missing</td><td style = \"font-style: italic; text-align: right;\">missing</td><td style = \"font-style: italic; text-align: right;\">missing</td><td style = \"font-style: italic; text-align: right;\">missing</td><td style = \"font-style: italic; text-align: right;\">missing</td><td style = \"font-style: italic; text-align: right;\">missing</td><td style = \"font-style: italic; text-align: right;\">missing</td><td style = \"font-style: italic; text-align: right;\">missing</td><td style = \"font-style: italic; text-align: right;\">missing</td><td style = \"font-style: italic; text-align: right;\">missing</td><td style = \"font-style: italic; text-align: right;\">missing</td><td style = \"font-style: italic; text-align: right;\">missing</td><td style = \"font-style: italic; text-align: right;\">missing</td><td style = \"font-style: italic; text-align: right;\">missing</td><td style = \"font-style: italic; text-align: right;\">missing</td><td style = \"font-style: italic; text-align: right;\">missing</td><td style = \"font-style: italic; text-align: right;\">missing</td><td style = \"font-style: italic; text-align: right;\">missing</td><td style = \"font-style: italic; text-align: right;\">missing</td><td style = \"font-style: italic; text-align: right;\">missing</td><td style = \"font-style: italic; text-align: right;\">missing</td><td style = \"font-style: italic; text-align: right;\">missing</td><td style = \"font-style: italic; text-align: right;\">missing</td><td style = \"font-style: italic; text-align: right;\">missing</td><td style = \"font-style: italic; text-align: right;\">missing</td><td style = \"font-style: italic; text-align: right;\">missing</td><td style = \"font-style: italic; text-align: right;\">missing</td><td style = \"font-style: italic; text-align: right;\">missing</td><td style = \"font-style: italic; text-align: right;\">missing</td><td style = \"font-style: italic; text-align: right;\">missing</td><td style = \"font-style: italic; text-align: right;\">missing</td><td style = \"font-style: italic; text-align: right;\">missing</td><td style = \"font-style: italic; text-align: right;\">missing</td><td style = \"font-style: italic; text-align: right;\">missing</td><td style = \"font-style: italic; text-align: right;\">missing</td><td style = \"font-style: italic; text-align: right;\">missing</td><td style = \"font-style: italic; text-align: right;\">missing</td><td style = \"font-style: italic; text-align: right;\">missing</td><td style = \"font-style: italic; text-align: right;\">missing</td><td style = \"font-style: italic; text-align: right;\">missing</td><td style = \"font-style: italic; text-align: right;\">missing</td><td style = \"font-style: italic; text-align: right;\">missing</td><td style = \"font-style: italic; text-align: right;\">missing</td><td style = \"font-style: italic; text-align: right;\">missing</td><td style = \"font-style: italic; text-align: right;\">missing</td><td style = \"font-style: italic; text-align: right;\">missing</td><td style = \"font-style: italic; text-align: right;\">missing</td><td style = \"text-align: right;\">&ctdot;</td></tr></tbody></table></div>"
      ],
      "text/latex": [
       "\\begin{tabular}{r|ccccc}\n",
       "\t& Name & FundId & SecId & Monthly Gross Return (Local Currency) \n",
       "1970-01 \n",
       "Base \n",
       "Currency & \\\\\n",
       "\t\\hline\n",
       "\t& String & String15 & String15 & Missing & \\\\\n",
       "\t\\hline\n",
       "\t1 & @rgentum Canadian Equity Portfolio & FS000091C6 & F00000NE43 & \\emph{missing} & $\\dots$ \\\\\n",
       "\\end{tabular}\n"
      ],
      "text/plain": [
       "\u001b[1mDataFrameRow\u001b[0m\n",
       "\u001b[1m Row \u001b[0m│\u001b[1m Name                              \u001b[0m\u001b[1m FundId     \u001b[0m\u001b[1m SecId      \u001b[0m\u001b[1m Monthly Gross Return (Local Cur\u001b[0m ⋯\n",
       "     │\u001b[90m String                            \u001b[0m\u001b[90m String15   \u001b[0m\u001b[90m String15   \u001b[0m\u001b[90m Missing                        \u001b[0m ⋯\n",
       "─────┼─────────────────────────────────────────────────────────────────────────────────────────────\n",
       "   1 │ @rgentum Canadian Equity Portfol…  FS000091C6  F00000NE43 \u001b[90m                                \u001b[0m ⋯\n",
       "\u001b[36m                                                                                612 columns omitted\u001b[0m"
      ]
     },
     "metadata": {},
     "output_type": "display_data"
    }
   ],
   "source": [
    "# Read df_local-monthly-gross-returns_part-1 into a dataframe in Julia\n",
    "\n",
    "using DataFrames\n",
    "using CSV\n",
    "\n",
    "df_local_monthly_gross_returns = CSV.read(\"../Data/Raw Data/Mutual Funds/local-monthly-gross-returns/df_local-monthly-gross-returns_part-1.csv\", DataFrame)\n",
    "first(df_local_monthly_gross_returns)"
   ]
  },
  {
   "attachments": {},
   "cell_type": "markdown",
   "metadata": {},
   "source": [
    "I've just seen that once again some of the data files are named incorrectly. This time the data files for monthly gross and net returns, both usd and local, begin with df_ instead of mf_."
   ]
  },
  {
   "cell_type": "code",
   "execution_count": 17,
   "metadata": {},
   "outputs": [],
   "source": [
    "# Fixing filenames\n",
    "\n",
    "for folder in [\"local-monthly-gross-returns\", \"local-monthly-net-returns\", \"usd-monthly-gross-returns\", \"usd-monthly-net-returns\"]\n",
    "    for file in readdir(\"../Data/Raw Data/Mutual Funds/$folder\")\n",
    "        if file[1] == 'd'\n",
    "            mv(\"../Data/Raw Data/Mutual Funds/$folder/$file\", \"../Data/Raw Data/Mutual Funds/$folder/mf_\"*file[2:end])\n",
    "        end\n",
    "    end\n",
    "end"
   ]
  },
  {
   "attachments": {},
   "cell_type": "markdown",
   "metadata": {},
   "source": [
    "That didn't work, fixing a new problem now."
   ]
  },
  {
   "cell_type": "code",
   "execution_count": 18,
   "metadata": {},
   "outputs": [],
   "source": [
    "# Fixing filenames\n",
    "\n",
    "for folder in [\"local-monthly-gross-returns\", \"local-monthly-net-returns\", \"usd-monthly-gross-returns\", \"usd-monthly-net-returns\"]\n",
    "    for file in readdir(\"../Data/Raw Data/Mutual Funds/$folder\")\n",
    "        if file[1:7] == \"mf_f_f_\"\n",
    "            mv(\"../Data/Raw Data/Mutual Funds/$folder/$file\", \"../Data/Raw Data/Mutual Funds/$folder/mf_\"*file[8:end])\n",
    "        end\n",
    "    end\n",
    "end"
   ]
  },
  {
   "attachments": {},
   "cell_type": "markdown",
   "metadata": {},
   "source": [
    "When using VS code it's actually much simpler to inspect data in a .csv preview window rather than loading it into a notebook, so I'll start to do that now."
   ]
  },
  {
   "attachments": {},
   "cell_type": "markdown",
   "metadata": {},
   "source": [
    "The first stage, then, involves reading in all parts of the info data so that mapping from fundid to domicile can be made. Then I load each part of every other folder, map each row to its domicile and group each domicile into defined groups, then split up the full dataframe into new .csv parts."
   ]
  }
 ],
 "metadata": {
  "kernelspec": {
   "display_name": "Julia 1.8.5",
   "language": "julia",
   "name": "julia-1.8"
  },
  "language_info": {
   "file_extension": ".jl",
   "mimetype": "application/julia",
   "name": "julia",
   "version": "1.8.5"
  },
  "orig_nbformat": 4
 },
 "nbformat": 4,
 "nbformat_minor": 2
}
