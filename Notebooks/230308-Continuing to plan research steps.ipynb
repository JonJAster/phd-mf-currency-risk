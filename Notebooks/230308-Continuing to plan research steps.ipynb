{
 "cells": [
  {
   "attachments": {},
   "cell_type": "markdown",
   "metadata": {},
   "source": [
    "# Research Steps\n",
    "1. Regroup mutual fund data by domicile group\n",
    "2. Combine currency data sets into a single table of mids, bids and asks\n",
    "3. Build currency factors from the currency data\n",
    "4. Process the mutual fund data, allowing for variations in options and saving into a single\n",
    "   file for one set of options\n",
    "5. Download equity factors\n",
    "6. Construct world market index\n",
    "7. Calculate local risk-free rate series for each currency in the sample\n",
    "8. Regress to find time-varying betas of mutual fund excess returns on equity and currency\n",
    "   factors\n",
    "9. Visually analyse the time-series of betas\n",
    "10. Decompose mutual fund returns into factor realisations and alphas\n",
    "11. Empirically estimate the exponential decay coefficient in the return-fund flow\n",
    "    relationship.\n",
    "12. Calculate time-weighted average return components\n",
    "13. Regress fund flows on time-weighted average return components\n",
    "14. Analyse fund flow regression results\n"
   ]
  }
 ],
 "metadata": {
  "kernelspec": {
   "display_name": "Julia 1.8.5",
   "language": "julia",
   "name": "julia-1.8"
  },
  "language_info": {
   "file_extension": ".jl",
   "mimetype": "application/julia",
   "name": "julia",
   "version": "1.8.5"
  },
  "orig_nbformat": 4
 },
 "nbformat": 4,
 "nbformat_minor": 2
}
