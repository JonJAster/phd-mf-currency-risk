{
 "cells": [
  {
   "cell_type": "code",
   "execution_count": 1,
   "metadata": {},
   "outputs": [],
   "source": [
    "using DataFrames\n",
    "using CSV\n",
    "using Plots\n",
    "using Distributions\n",
    "using Arrow"
   ]
  },
  {
   "cell_type": "code",
   "execution_count": 2,
   "metadata": {},
   "outputs": [],
   "source": [
    "include(\"CommonFunctions.jl\")\n",
    "include(\"CommonConstants.jl\")\n",
    "using .CommonFunctions\n",
    "using .CommonConstants"
   ]
  },
  {
   "cell_type": "markdown",
   "metadata": {},
   "source": [
    "Load up the betas data."
   ]
  },
  {
   "cell_type": "code",
   "execution_count": 3,
   "metadata": {},
   "outputs": [
    {
     "data": {
      "text/plain": [
       "\"local-rets_eq-strict\""
      ]
     },
     "execution_count": 3,
     "metadata": {},
     "output_type": "execute_result"
    }
   ],
   "source": [
    "options_folder = option_foldername(currency_type=\"local\", strict_eq=true)"
   ]
  },
  {
   "cell_type": "code",
   "execution_count": 6,
   "metadata": {},
   "outputs": [
    {
     "name": "stdout",
     "output_type": "stream",
     "text": [
      "Data loaded in 0.02 seconds.\n"
     ]
    }
   ],
   "source": [
    "model_outputs = Dict()\n",
    "for (currency_risk, benchmark) in COMPLETE_MODELS\n",
    "    model_filename = joinpath(\"../data/results\", options_folder, \"betas/$(benchmark)_$currency_risk.arrow\")\n",
    "    model_outputs[(currency_risk, benchmark)] = DataFrame(Arrow.Table(model_filename))\n",
    "end"
   ]
  },
  {
   "cell_type": "markdown",
   "metadata": {},
   "source": [
    "Extract the info required to calculate p-values and calculate all p-values."
   ]
  },
  {
   "cell_type": "code",
   "execution_count": 8,
   "metadata": {},
   "outputs": [
    {
     "data": {
      "text/plain": [
       "compute_pvalues (generic function with 1 method)"
      ]
     },
     "execution_count": 8,
     "metadata": {},
     "output_type": "execute_result"
    }
   ],
   "source": [
    "function compute_pvalues(regression_data)\n",
    "    t = regression_data.coef ./ regression_data.se\n",
    "    p = ccdf.(Ref(FDist(1,regression_data.df)), t^2)\n",
    "    \n",
    "    return p\n",
    "end"
   ]
  },
  {
   "cell_type": "markdown",
   "metadata": {},
   "source": [
    "This function computes the proportions of significant p-values by date."
   ]
  },
  {
   "cell_type": "code",
   "execution_count": 14,
   "metadata": {},
   "outputs": [
    {
     "data": {
      "text/plain": [
       "truth_fraction (generic function with 1 method)"
      ]
     },
     "execution_count": 14,
     "metadata": {},
     "output_type": "execute_result"
    }
   ],
   "source": [
    "truth_fraction(bool_array) = count(==(true), bool_array)/length(bool_array)"
   ]
  },
  {
   "cell_type": "code",
   "execution_count": 15,
   "metadata": {},
   "outputs": [
    {
     "data": {
      "text/plain": [
       "proportion_sig (generic function with 1 method)"
      ]
     },
     "execution_count": 15,
     "metadata": {},
     "output_type": "execute_result"
    }
   ],
   "source": [
    "function proportion_sig(ptable, sig_level)\n",
    "    ptable.both_sig = (ptable[:,3] .<= sig_level) .&& (ptable[:,4] .<= sig_level)\n",
    "    \n",
    "    date_ptable = groupby(ptable, :date)\n",
    "    sig_proportions = combine(date_ptable, :both_sig => truth_fraction => :sig_proportion)\n",
    "    \n",
    "    return sig_proportions\n",
    "end"
   ]
  },
  {
   "cell_type": "markdown",
   "metadata": {},
   "source": [
    "This function can be called on a model name to compute the p-values, compute proportions of significant p-values by date, altogether"
   ]
  },
  {
   "cell_type": "code",
   "execution_count": 16,
   "metadata": {},
   "outputs": [
    {
     "data": {
      "text/plain": [
       "(:lrv_net, :world_capm)"
      ]
     },
     "execution_count": 16,
     "metadata": {},
     "output_type": "execute_result"
    }
   ],
   "source": [
    "model = first(COMPLETE_MODELS)"
   ]
  },
  {
   "cell_type": "code",
   "execution_count": 17,
   "metadata": {},
   "outputs": [
    {
     "data": {
      "text/plain": [
       "15-element Vector{Symbol}:\n",
       " :lrv_net_world_capm_betas\n",
       " :verdelhan_world_capm_betas\n",
       " :lrv_world_capm_betas\n",
       " :lrv_net_world_ff5_betas\n",
       " :verdelhan_world_ff5_betas\n",
       " :lrv_world_ff5_betas\n",
       " :lrv_net_world_ffcarhart_betas\n",
       " :verdelhan_world_ffcarhart_betas\n",
       " :lrv_world_ffcarhart_betas\n",
       " :lrv_net_world_ff6_betas\n",
       " :verdelhan_world_ff6_betas\n",
       " :lrv_world_ff6_betas\n",
       " :lrv_net_world_ff3_betas\n",
       " :verdelhan_world_ff3_betas\n",
       " :lrv_world_ff3_betas"
      ]
     },
     "execution_count": 17,
     "metadata": {},
     "output_type": "execute_result"
    }
   ],
   "source": [
    "RESULT_COLUMNS"
   ]
  },
  {
   "cell_type": "code",
   "execution_count": null,
   "metadata": {},
   "outputs": [],
   "source": [
    "x = build_ptable()"
   ]
  },
  {
   "cell_type": "code",
   "execution_count": null,
   "metadata": {},
   "outputs": [],
   "source": [
    "function build"
   ]
  }
 ],
 "metadata": {
  "kernelspec": {
   "display_name": "Julia 1.8.5",
   "language": "julia",
   "name": "julia-1.8"
  },
  "language_info": {
   "file_extension": ".jl",
   "mimetype": "application/julia",
   "name": "julia",
   "version": "1.8.5"
  }
 },
 "nbformat": 4,
 "nbformat_minor": 2
}
