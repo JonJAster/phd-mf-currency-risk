{
 "cells": [
  {
   "cell_type": "code",
   "execution_count": 1,
   "metadata": {},
   "outputs": [],
   "source": [
    "using DataFrames\n",
    "using CSV\n",
    "using Plots\n",
    "using Distributions\n",
    "using Arrow"
   ]
  },
  {
   "cell_type": "code",
   "execution_count": 2,
   "metadata": {},
   "outputs": [],
   "source": [
    "include(\"CommonFunctions.jl\")\n",
    "include(\"CommonConstants.jl\")\n",
    "using .CommonFunctions\n",
    "using .CommonConstants"
   ]
  },
  {
   "cell_type": "markdown",
   "metadata": {},
   "source": [
    "Load up the betas data."
   ]
  },
  {
   "cell_type": "code",
   "execution_count": 3,
   "metadata": {},
   "outputs": [
    {
     "data": {
      "text/plain": [
       "\"local-rets_eq-strict\""
      ]
     },
     "execution_count": 3,
     "metadata": {},
     "output_type": "execute_result"
    }
   ],
   "source": [
    "options_folder = option_foldername(currency_type=\"local\", strict_eq=true)"
   ]
  },
  {
   "cell_type": "code",
   "execution_count": 4,
   "metadata": {},
   "outputs": [],
   "source": [
    "model_outputs = Dict()\n",
    "for (currency_risk, benchmark) in COMPLETE_MODELS\n",
    "    model_filename = joinpath(\"../data/results\", options_folder, \"betas/$(benchmark)_$currency_risk.arrow\")\n",
    "    model_outputs[(currency_risk, benchmark)] = DataFrame(Arrow.Table(model_filename))\n",
    "end"
   ]
  },
  {
   "cell_type": "markdown",
   "metadata": {},
   "source": [
    "Extract the info required to calculate p-values and calculate all p-values."
   ]
  },
  {
   "cell_type": "code",
   "execution_count": 10,
   "metadata": {},
   "outputs": [
    {
     "data": {
      "text/plain": [
       "compute_pvalues (generic function with 1 method)"
      ]
     },
     "execution_count": 10,
     "metadata": {},
     "output_type": "execute_result"
    }
   ],
   "source": [
    "function compute_pvalues(regression_data)\n",
    "    regression_data.t = regression_data.coef ./ regression_data.se\n",
    "    calc_p(row) = ccdf(FDist(1,row.df), row.t^2)\n",
    "    p = calc_p.(eachrow(regression_data))\n",
    "    \n",
    "    return p\n",
    "end"
   ]
  },
  {
   "cell_type": "markdown",
   "metadata": {},
   "source": [
    "This function computes the proportions of significant p-values by date."
   ]
  },
  {
   "cell_type": "code",
   "execution_count": 11,
   "metadata": {},
   "outputs": [
    {
     "data": {
      "text/plain": [
       "truth_fraction (generic function with 1 method)"
      ]
     },
     "execution_count": 11,
     "metadata": {},
     "output_type": "execute_result"
    }
   ],
   "source": [
    "truth_fraction(bool_array) = count(==(true), bool_array)/length(bool_array)"
   ]
  },
  {
   "cell_type": "code",
   "execution_count": 21,
   "metadata": {},
   "outputs": [
    {
     "data": {
      "text/plain": [
       "proportion_sig (generic function with 1 method)"
      ]
     },
     "execution_count": 21,
     "metadata": {},
     "output_type": "execute_result"
    }
   ],
   "source": [
    "function proportion_sig(regression_data, model, sig_level)\n",
    "    currency_risk_only = regression_data[regression_data.factor .∈ Ref(CURRENCYRISK_MODELS[model[1]]), :]\n",
    "    obs_groups = groupby(currency_risk_only, [:fundid, :date])\n",
    "    \n",
    "    sig_table = combine(obs_groups, :pvalue => (pp->all(pp .<= sig_level)) => :currency_sig)\n",
    "    \n",
    "    date_groups = groupby(regression_data, :date)\n",
    "    sig_proportions = combine(date_groups, :currency_sig => truth_fraction => :proportion_sig)\n",
    "    \n",
    "    return sig_proportions\n",
    "end"
   ]
  },
  {
   "cell_type": "markdown",
   "metadata": {},
   "source": [
    "This function can be called on a model name to compute the p-values, compute proportions of significant p-values by date, altogether"
   ]
  },
  {
   "cell_type": "code",
   "execution_count": 19,
   "metadata": {},
   "outputs": [
    {
     "data": {
      "text/plain": [
       "build_proportion_sig_data (generic function with 1 method)"
      ]
     },
     "execution_count": 19,
     "metadata": {},
     "output_type": "execute_result"
    }
   ],
   "source": [
    "function build_proportion_sig_data(regression_data, model, sig_level)\n",
    "    regression_data.pvalue = compute_pvalues(regression_data)\n",
    "    \n",
    "    return proportion_sig(regression_data, model, sig_level)\n",
    "end "
   ]
  },
  {
   "cell_type": "code",
   "execution_count": 14,
   "metadata": {},
   "outputs": [
    {
     "data": {
      "text/plain": [
       "(:lrv_net, :world_capm)"
      ]
     },
     "execution_count": 14,
     "metadata": {},
     "output_type": "execute_result"
    }
   ],
   "source": [
    "testmodel = first(COMPLETE_MODELS)"
   ]
  },
  {
   "cell_type": "code",
   "execution_count": 15,
   "metadata": {},
   "outputs": [
    {
     "data": {
      "text/html": [
       "<div><div style = \"float: left;\"><span>8096880×6 DataFrame</span></div><div style = \"float: right;\"><span style = \"font-style: italic;\">8096855 rows omitted</span></div><div style = \"clear: both;\"></div></div><div class = \"data-frame\" style = \"overflow-x: scroll;\"><table class = \"data-frame\" style = \"margin-bottom: 6px;\"><thead><tr class = \"header\"><th class = \"rowNumber\" style = \"font-weight: bold; text-align: right;\">Row</th><th style = \"text-align: left;\">fundid</th><th style = \"text-align: left;\">date</th><th style = \"text-align: left;\">factor</th><th style = \"text-align: left;\">coef</th><th style = \"text-align: left;\">se</th><th style = \"text-align: left;\">df</th></tr><tr class = \"subheader headerLastRow\"><th class = \"rowNumber\" style = \"font-weight: bold; text-align: right;\"></th><th title = \"String\" style = \"text-align: left;\">String</th><th title = \"Dates.Date\" style = \"text-align: left;\">Date</th><th title = \"Symbol\" style = \"text-align: left;\">Symbol</th><th title = \"Float64\" style = \"text-align: left;\">Float64</th><th title = \"Float64\" style = \"text-align: left;\">Float64</th><th title = \"Float64\" style = \"text-align: left;\">Float64</th></tr></thead><tbody><tr><td class = \"rowNumber\" style = \"font-weight: bold; text-align: right;\">1</td><td style = \"text-align: left;\">FS00008KOI</td><td style = \"text-align: left;\">2016-09-30</td><td style = \"text-align: left;\">const</td><td style = \"text-align: right;\">0.453189</td><td style = \"text-align: right;\">0.305519</td><td style = \"text-align: right;\">57.0</td></tr><tr><td class = \"rowNumber\" style = \"font-weight: bold; text-align: right;\">2</td><td style = \"text-align: left;\">FS00008KOI</td><td style = \"text-align: left;\">2016-09-30</td><td style = \"text-align: left;\">MKT</td><td style = \"text-align: right;\">74.9111</td><td style = \"text-align: right;\">10.3368</td><td style = \"text-align: right;\">57.0</td></tr><tr><td class = \"rowNumber\" style = \"font-weight: bold; text-align: right;\">3</td><td style = \"text-align: left;\">FS00008KOI</td><td style = \"text-align: left;\">2016-09-30</td><td style = \"text-align: left;\">hml_fx_net</td><td style = \"text-align: right;\">-0.293464</td><td style = \"text-align: right;\">0.142144</td><td style = \"text-align: right;\">57.0</td></tr><tr><td class = \"rowNumber\" style = \"font-weight: bold; text-align: right;\">4</td><td style = \"text-align: left;\">FS00008KOI</td><td style = \"text-align: left;\">2016-09-30</td><td style = \"text-align: left;\">rx_net</td><td style = \"text-align: right;\">-0.0204917</td><td style = \"text-align: right;\">0.533077</td><td style = \"text-align: right;\">57.0</td></tr><tr><td class = \"rowNumber\" style = \"font-weight: bold; text-align: right;\">5</td><td style = \"text-align: left;\">FS00008KOI</td><td style = \"text-align: left;\">2016-10-31</td><td style = \"text-align: left;\">const</td><td style = \"text-align: right;\">0.42747</td><td style = \"text-align: right;\">0.29879</td><td style = \"text-align: right;\">57.0</td></tr><tr><td class = \"rowNumber\" style = \"font-weight: bold; text-align: right;\">6</td><td style = \"text-align: left;\">FS00008KOI</td><td style = \"text-align: left;\">2016-10-31</td><td style = \"text-align: left;\">MKT</td><td style = \"text-align: right;\">78.1904</td><td style = \"text-align: right;\">10.3427</td><td style = \"text-align: right;\">57.0</td></tr><tr><td class = \"rowNumber\" style = \"font-weight: bold; text-align: right;\">7</td><td style = \"text-align: left;\">FS00008KOI</td><td style = \"text-align: left;\">2016-10-31</td><td style = \"text-align: left;\">hml_fx_net</td><td style = \"text-align: right;\">-0.256071</td><td style = \"text-align: right;\">0.141446</td><td style = \"text-align: right;\">57.0</td></tr><tr><td class = \"rowNumber\" style = \"font-weight: bold; text-align: right;\">8</td><td style = \"text-align: left;\">FS00008KOI</td><td style = \"text-align: left;\">2016-10-31</td><td style = \"text-align: left;\">rx_net</td><td style = \"text-align: right;\">-0.373017</td><td style = \"text-align: right;\">0.573423</td><td style = \"text-align: right;\">57.0</td></tr><tr><td class = \"rowNumber\" style = \"font-weight: bold; text-align: right;\">9</td><td style = \"text-align: left;\">FS00008KOI</td><td style = \"text-align: left;\">2016-11-30</td><td style = \"text-align: left;\">const</td><td style = \"text-align: right;\">0.423035</td><td style = \"text-align: right;\">0.303903</td><td style = \"text-align: right;\">56.0</td></tr><tr><td class = \"rowNumber\" style = \"font-weight: bold; text-align: right;\">10</td><td style = \"text-align: left;\">FS00008KOI</td><td style = \"text-align: left;\">2016-11-30</td><td style = \"text-align: left;\">MKT</td><td style = \"text-align: right;\">78.2076</td><td style = \"text-align: right;\">10.4346</td><td style = \"text-align: right;\">56.0</td></tr><tr><td class = \"rowNumber\" style = \"font-weight: bold; text-align: right;\">11</td><td style = \"text-align: left;\">FS00008KOI</td><td style = \"text-align: left;\">2016-11-30</td><td style = \"text-align: left;\">hml_fx_net</td><td style = \"text-align: right;\">-0.251393</td><td style = \"text-align: right;\">0.148454</td><td style = \"text-align: right;\">56.0</td></tr><tr><td class = \"rowNumber\" style = \"font-weight: bold; text-align: right;\">12</td><td style = \"text-align: left;\">FS00008KOI</td><td style = \"text-align: left;\">2016-11-30</td><td style = \"text-align: left;\">rx_net</td><td style = \"text-align: right;\">-0.396694</td><td style = \"text-align: right;\">0.614497</td><td style = \"text-align: right;\">56.0</td></tr><tr><td class = \"rowNumber\" style = \"font-weight: bold; text-align: right;\">13</td><td style = \"text-align: left;\">FS00008KOI</td><td style = \"text-align: left;\">2016-12-31</td><td style = \"text-align: left;\">const</td><td style = \"text-align: right;\">0.41831</td><td style = \"text-align: right;\">0.302947</td><td style = \"text-align: right;\">56.0</td></tr><tr><td style = \"text-align: right;\">&vellip;</td><td style = \"text-align: right;\">&vellip;</td><td style = \"text-align: right;\">&vellip;</td><td style = \"text-align: right;\">&vellip;</td><td style = \"text-align: right;\">&vellip;</td><td style = \"text-align: right;\">&vellip;</td><td style = \"text-align: right;\">&vellip;</td></tr><tr><td class = \"rowNumber\" style = \"font-weight: bold; text-align: right;\">8096869</td><td style = \"text-align: left;\">FSUSA0BGZD</td><td style = \"text-align: left;\">2020-10-31</td><td style = \"text-align: left;\">const</td><td style = \"text-align: right;\">0.736438</td><td style = \"text-align: right;\">0.455155</td><td style = \"text-align: right;\">57.0</td></tr><tr><td class = \"rowNumber\" style = \"font-weight: bold; text-align: right;\">8096870</td><td style = \"text-align: left;\">FSUSA0BGZD</td><td style = \"text-align: left;\">2020-10-31</td><td style = \"text-align: left;\">MKT</td><td style = \"text-align: right;\">58.7628</td><td style = \"text-align: right;\">11.0657</td><td style = \"text-align: right;\">57.0</td></tr><tr><td class = \"rowNumber\" style = \"font-weight: bold; text-align: right;\">8096871</td><td style = \"text-align: left;\">FSUSA0BGZD</td><td style = \"text-align: left;\">2020-10-31</td><td style = \"text-align: left;\">hml_fx_net</td><td style = \"text-align: right;\">-1.1223</td><td style = \"text-align: right;\">0.226866</td><td style = \"text-align: right;\">57.0</td></tr><tr><td class = \"rowNumber\" style = \"font-weight: bold; text-align: right;\">8096872</td><td style = \"text-align: left;\">FSUSA0BGZD</td><td style = \"text-align: left;\">2020-10-31</td><td style = \"text-align: left;\">rx_net</td><td style = \"text-align: right;\">4.86579</td><td style = \"text-align: right;\">0.99329</td><td style = \"text-align: right;\">57.0</td></tr><tr><td class = \"rowNumber\" style = \"font-weight: bold; text-align: right;\">8096873</td><td style = \"text-align: left;\">FSUSA0BGZD</td><td style = \"text-align: left;\">2020-11-30</td><td style = \"text-align: left;\">const</td><td style = \"text-align: right;\">0.905772</td><td style = \"text-align: right;\">0.457659</td><td style = \"text-align: right;\">57.0</td></tr><tr><td class = \"rowNumber\" style = \"font-weight: bold; text-align: right;\">8096874</td><td style = \"text-align: left;\">FSUSA0BGZD</td><td style = \"text-align: left;\">2020-11-30</td><td style = \"text-align: left;\">MKT</td><td style = \"text-align: right;\">61.0455</td><td style = \"text-align: right;\">11.0961</td><td style = \"text-align: right;\">57.0</td></tr><tr><td class = \"rowNumber\" style = \"font-weight: bold; text-align: right;\">8096875</td><td style = \"text-align: left;\">FSUSA0BGZD</td><td style = \"text-align: left;\">2020-11-30</td><td style = \"text-align: left;\">hml_fx_net</td><td style = \"text-align: right;\">-1.22103</td><td style = \"text-align: right;\">0.22973</td><td style = \"text-align: right;\">57.0</td></tr><tr><td class = \"rowNumber\" style = \"font-weight: bold; text-align: right;\">8096876</td><td style = \"text-align: left;\">FSUSA0BGZD</td><td style = \"text-align: left;\">2020-11-30</td><td style = \"text-align: left;\">rx_net</td><td style = \"text-align: right;\">5.43956</td><td style = \"text-align: right;\">0.998762</td><td style = \"text-align: right;\">57.0</td></tr><tr><td class = \"rowNumber\" style = \"font-weight: bold; text-align: right;\">8096877</td><td style = \"text-align: left;\">FSUSA0BGZD</td><td style = \"text-align: left;\">2020-12-31</td><td style = \"text-align: left;\">const</td><td style = \"text-align: right;\">1.05655</td><td style = \"text-align: right;\">0.47266</td><td style = \"text-align: right;\">57.0</td></tr><tr><td class = \"rowNumber\" style = \"font-weight: bold; text-align: right;\">8096878</td><td style = \"text-align: left;\">FSUSA0BGZD</td><td style = \"text-align: left;\">2020-12-31</td><td style = \"text-align: left;\">MKT</td><td style = \"text-align: right;\">61.8814</td><td style = \"text-align: right;\">11.3856</td><td style = \"text-align: right;\">57.0</td></tr><tr><td class = \"rowNumber\" style = \"font-weight: bold; text-align: right;\">8096879</td><td style = \"text-align: left;\">FSUSA0BGZD</td><td style = \"text-align: left;\">2020-12-31</td><td style = \"text-align: left;\">hml_fx_net</td><td style = \"text-align: right;\">-1.19796</td><td style = \"text-align: right;\">0.243333</td><td style = \"text-align: right;\">57.0</td></tr><tr><td class = \"rowNumber\" style = \"font-weight: bold; text-align: right;\">8096880</td><td style = \"text-align: left;\">FSUSA0BGZD</td><td style = \"text-align: left;\">2020-12-31</td><td style = \"text-align: left;\">rx_net</td><td style = \"text-align: right;\">5.41679</td><td style = \"text-align: right;\">1.05069</td><td style = \"text-align: right;\">57.0</td></tr></tbody></table></div>"
      ],
      "text/latex": [
       "\\begin{tabular}{r|cccccc}\n",
       "\t& fundid & date & factor & coef & se & df\\\\\n",
       "\t\\hline\n",
       "\t& String & Date & Symbol & Float64 & Float64 & Float64\\\\\n",
       "\t\\hline\n",
       "\t1 & FS00008KOI & 2016-09-30 & const & 0.453189 & 0.305519 & 57.0 \\\\\n",
       "\t2 & FS00008KOI & 2016-09-30 & MKT & 74.9111 & 10.3368 & 57.0 \\\\\n",
       "\t3 & FS00008KOI & 2016-09-30 & hml\\_fx\\_net & -0.293464 & 0.142144 & 57.0 \\\\\n",
       "\t4 & FS00008KOI & 2016-09-30 & rx\\_net & -0.0204917 & 0.533077 & 57.0 \\\\\n",
       "\t5 & FS00008KOI & 2016-10-31 & const & 0.42747 & 0.29879 & 57.0 \\\\\n",
       "\t6 & FS00008KOI & 2016-10-31 & MKT & 78.1904 & 10.3427 & 57.0 \\\\\n",
       "\t7 & FS00008KOI & 2016-10-31 & hml\\_fx\\_net & -0.256071 & 0.141446 & 57.0 \\\\\n",
       "\t8 & FS00008KOI & 2016-10-31 & rx\\_net & -0.373017 & 0.573423 & 57.0 \\\\\n",
       "\t9 & FS00008KOI & 2016-11-30 & const & 0.423035 & 0.303903 & 56.0 \\\\\n",
       "\t10 & FS00008KOI & 2016-11-30 & MKT & 78.2076 & 10.4346 & 56.0 \\\\\n",
       "\t11 & FS00008KOI & 2016-11-30 & hml\\_fx\\_net & -0.251393 & 0.148454 & 56.0 \\\\\n",
       "\t12 & FS00008KOI & 2016-11-30 & rx\\_net & -0.396694 & 0.614497 & 56.0 \\\\\n",
       "\t13 & FS00008KOI & 2016-12-31 & const & 0.41831 & 0.302947 & 56.0 \\\\\n",
       "\t14 & FS00008KOI & 2016-12-31 & MKT & 77.9497 & 10.503 & 56.0 \\\\\n",
       "\t15 & FS00008KOI & 2016-12-31 & hml\\_fx\\_net & -0.258623 & 0.153683 & 56.0 \\\\\n",
       "\t16 & FS00008KOI & 2016-12-31 & rx\\_net & -0.35585 & 0.656115 & 56.0 \\\\\n",
       "\t17 & FS00008KOI & 2017-01-31 & const & 0.476496 & 0.297459 & 56.0 \\\\\n",
       "\t18 & FS00008KOI & 2017-01-31 & MKT & 77.0719 & 10.3123 & 56.0 \\\\\n",
       "\t19 & FS00008KOI & 2017-01-31 & hml\\_fx\\_net & -0.273388 & 0.150964 & 56.0 \\\\\n",
       "\t20 & FS00008KOI & 2017-01-31 & rx\\_net & -0.302381 & 0.644347 & 56.0 \\\\\n",
       "\t21 & FS00008KOI & 2017-02-28 & const & 0.451592 & 0.29826 & 56.0 \\\\\n",
       "\t22 & FS00008KOI & 2017-02-28 & MKT & 77.9577 & 10.2972 & 56.0 \\\\\n",
       "\t23 & FS00008KOI & 2017-02-28 & hml\\_fx\\_net & -0.290735 & 0.149961 & 56.0 \\\\\n",
       "\t24 & FS00008KOI & 2017-02-28 & rx\\_net & -0.359723 & 0.646189 & 56.0 \\\\\n",
       "\t25 & FS00008KOI & 2017-03-31 & const & 0.442488 & 0.298916 & 56.0 \\\\\n",
       "\t26 & FS00008KOI & 2017-03-31 & MKT & 78.3521 & 10.2786 & 56.0 \\\\\n",
       "\t27 & FS00008KOI & 2017-03-31 & hml\\_fx\\_net & -0.269009 & 0.149762 & 56.0 \\\\\n",
       "\t28 & FS00008KOI & 2017-03-31 & rx\\_net & -0.46922 & 0.654592 & 56.0 \\\\\n",
       "\t29 & FS00008KOI & 2017-04-30 & const & 0.463976 & 0.302079 & 56.0 \\\\\n",
       "\t30 & FS00008KOI & 2017-04-30 & MKT & 78.8241 & 10.3993 & 56.0 \\\\\n",
       "\t$\\dots$ & $\\dots$ & $\\dots$ & $\\dots$ & $\\dots$ & $\\dots$ & $\\dots$ \\\\\n",
       "\\end{tabular}\n"
      ],
      "text/plain": [
       "\u001b[1m8096880×6 DataFrame\u001b[0m\n",
       "\u001b[1m     Row \u001b[0m│\u001b[1m fundid     \u001b[0m\u001b[1m date       \u001b[0m\u001b[1m factor     \u001b[0m\u001b[1m coef       \u001b[0m\u001b[1m se        \u001b[0m\u001b[1m df      \u001b[0m\n",
       "         │\u001b[90m String     \u001b[0m\u001b[90m Date       \u001b[0m\u001b[90m Symbol     \u001b[0m\u001b[90m Float64    \u001b[0m\u001b[90m Float64   \u001b[0m\u001b[90m Float64 \u001b[0m\n",
       "─────────┼────────────────────────────────────────────────────────────────────\n",
       "       1 │ FS00008KOI  2016-09-30  const        0.453189    0.305519     57.0\n",
       "       2 │ FS00008KOI  2016-09-30  MKT         74.9111     10.3368       57.0\n",
       "       3 │ FS00008KOI  2016-09-30  hml_fx_net  -0.293464    0.142144     57.0\n",
       "       4 │ FS00008KOI  2016-09-30  rx_net      -0.0204917   0.533077     57.0\n",
       "       5 │ FS00008KOI  2016-10-31  const        0.42747     0.29879      57.0\n",
       "       6 │ FS00008KOI  2016-10-31  MKT         78.1904     10.3427       57.0\n",
       "       7 │ FS00008KOI  2016-10-31  hml_fx_net  -0.256071    0.141446     57.0\n",
       "       8 │ FS00008KOI  2016-10-31  rx_net      -0.373017    0.573423     57.0\n",
       "       9 │ FS00008KOI  2016-11-30  const        0.423035    0.303903     56.0\n",
       "      10 │ FS00008KOI  2016-11-30  MKT         78.2076     10.4346       56.0\n",
       "      11 │ FS00008KOI  2016-11-30  hml_fx_net  -0.251393    0.148454     56.0\n",
       "    ⋮    │     ⋮           ⋮           ⋮           ⋮           ⋮         ⋮\n",
       " 8096871 │ FSUSA0BGZD  2020-10-31  hml_fx_net  -1.1223      0.226866     57.0\n",
       " 8096872 │ FSUSA0BGZD  2020-10-31  rx_net       4.86579     0.99329      57.0\n",
       " 8096873 │ FSUSA0BGZD  2020-11-30  const        0.905772    0.457659     57.0\n",
       " 8096874 │ FSUSA0BGZD  2020-11-30  MKT         61.0455     11.0961       57.0\n",
       " 8096875 │ FSUSA0BGZD  2020-11-30  hml_fx_net  -1.22103     0.22973      57.0\n",
       " 8096876 │ FSUSA0BGZD  2020-11-30  rx_net       5.43956     0.998762     57.0\n",
       " 8096877 │ FSUSA0BGZD  2020-12-31  const        1.05655     0.47266      57.0\n",
       " 8096878 │ FSUSA0BGZD  2020-12-31  MKT         61.8814     11.3856       57.0\n",
       " 8096879 │ FSUSA0BGZD  2020-12-31  hml_fx_net  -1.19796     0.243333     57.0\n",
       " 8096880 │ FSUSA0BGZD  2020-12-31  rx_net       5.41679     1.05069      57.0\n",
       "\u001b[36m                                                          8096859 rows omitted\u001b[0m"
      ]
     },
     "execution_count": 15,
     "metadata": {},
     "output_type": "execute_result"
    }
   ],
   "source": [
    "x = model_outputs[testmodel]"
   ]
  },
  {
   "cell_type": "code",
   "execution_count": 22,
   "metadata": {},
   "outputs": [
    {
     "ename": "LoadError",
     "evalue": "UndefVarError: data_groups not defined",
     "output_type": "error",
     "traceback": [
      "UndefVarError: data_groups not defined",
      "",
      "Stacktrace:",
      " [1] proportion_sig(regression_data::DataFrame, model::Tuple{Symbol, Symbol}, sig_level::Float64)",
      "   @ Main .\\In[21]:5",
      " [2] build_proportion_sig_data(regression_data::DataFrame, model::Tuple{Symbol, Symbol}, sig_level::Float64)",
      "   @ Main .\\In[19]:4",
      " [3] top-level scope",
      "   @ In[22]:1"
     ]
    }
   ],
   "source": [
    "testx = build_proportion_sig_data(model_outputs[testmodel], testmodel, 0.05)"
   ]
  },
  {
   "cell_type": "code",
   "execution_count": null,
   "metadata": {},
   "outputs": [],
   "source": []
  }
 ],
 "metadata": {
  "kernelspec": {
   "display_name": "Julia 1.8.5",
   "language": "julia",
   "name": "julia-1.8"
  },
  "language_info": {
   "file_extension": ".jl",
   "mimetype": "application/julia",
   "name": "julia",
   "version": "1.8.5"
  }
 },
 "nbformat": 4,
 "nbformat_minor": 2
}
