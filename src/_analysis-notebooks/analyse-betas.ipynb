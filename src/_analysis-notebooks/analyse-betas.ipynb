{
 "cells": [
  {
   "cell_type": "code",
   "execution_count": 1,
   "metadata": {},
   "outputs": [],
   "source": [
    "using Revise\n",
    "using FromFile"
   ]
  },
  {
   "cell_type": "code",
   "execution_count": 2,
   "metadata": {},
   "outputs": [],
   "source": [
    "using DataFrames\n",
    "using CSV\n",
    "using Plots\n",
    "using Distributions\n",
    "using Arrow"
   ]
  },
  {
   "cell_type": "code",
   "execution_count": 2,
   "metadata": {},
   "outputs": [],
   "source": [
    "include(\"shared/CommonFunctions.jl\")\n",
    "include(\"shared/CommonConstants.jl\")\n",
    "using .CommonFunctions\n",
    "using .CommonConstants"
   ]
  },
  {
   "cell_type": "code",
   "execution_count": 2,
   "metadata": {},
   "outputs": [],
   "source": [
    "@from \"../utils.jl\" using ProjectUtilities"
   ]
  },
  {
   "cell_type": "code",
   "execution_count": 3,
   "metadata": {},
   "outputs": [
    {
     "data": {
      "text/plain": [
       "\"../../data/mutual-funds/raw\""
      ]
     },
     "metadata": {},
     "output_type": "display_data"
    }
   ],
   "source": [
    "qpath(PATHS.rawfunds)"
   ]
  },
  {
   "attachments": {},
   "cell_type": "markdown",
   "metadata": {},
   "source": [
    "Load up the betas data."
   ]
  },
  {
   "cell_type": "code",
   "execution_count": 5,
   "metadata": {},
   "outputs": [
    {
     "ename": "UndefVarError",
     "evalue": "UndefVarError: DEFAULT_OPTIONS not defined",
     "output_type": "error",
     "traceback": [
      "UndefVarError: DEFAULT_OPTIONS not defined\n",
      "\n",
      "Stacktrace:\n",
      " [1] top-level scope\n",
      "   @ c:\\Users\\ozboy\\OneDrive - The University of Queensland\\PHD\\Code\\Currency Exposure of Mutual Funds\\src\\_analysis-notebooks\\analyse-betas.ipynb:1"
     ]
    }
   ],
   "source": [
    "options_folder = option_foldername(; DEFAULT_OPTIONS...)"
   ]
  },
  {
   "cell_type": "code",
   "execution_count": 6,
   "metadata": {},
   "outputs": [
    {
     "ename": "UndefVarError",
     "evalue": "UndefVarError: COMPLETE_MODELS not defined",
     "output_type": "error",
     "traceback": [
      "UndefVarError: COMPLETE_MODELS not defined\n",
      "\n",
      "Stacktrace:\n",
      " [1] top-level scope\n",
      "   @ c:\\Users\\ozboy\\OneDrive - The University of Queensland\\PHD\\Code\\Currency Exposure of Mutual Funds\\src\\_analysis-notebooks\\analyse-betas.ipynb:2"
     ]
    }
   ],
   "source": [
    "model_outputs = Dict()\n",
    "for (currency_risk, benchmark) in COMPLETE_MODELS\n",
    "    model_filename = joinpath(\"..\", DIRS.fund, \"post-processing\", options_folder, \"factor-betas/$(benchmark)_$currency_risk.arrow\")\n",
    "    model_outputs[(currency_risk, benchmark)] = DataFrame(Arrow.Table(model_filename))\n",
    "end"
   ]
  },
  {
   "attachments": {},
   "cell_type": "markdown",
   "metadata": {},
   "source": [
    "Extract the info required to calculate p-values and calculate all p-values."
   ]
  },
  {
   "cell_type": "code",
   "execution_count": 7,
   "metadata": {},
   "outputs": [
    {
     "data": {
      "text/plain": [
       "compute_pvalues (generic function with 1 method)"
      ]
     },
     "metadata": {},
     "output_type": "display_data"
    }
   ],
   "source": [
    "function compute_pvalues(regression_data)\n",
    "    regression_data.t = regression_data.coef ./ regression_data.se\n",
    "    calc_p(row) = ccdf(FDist(1,row.df), row.t^2)\n",
    "    p = calc_p.(eachrow(regression_data))\n",
    "    \n",
    "    return p\n",
    "end"
   ]
  },
  {
   "attachments": {},
   "cell_type": "markdown",
   "metadata": {},
   "source": [
    "This function computes the proportions of significant p-values by date."
   ]
  },
  {
   "cell_type": "code",
   "execution_count": 8,
   "metadata": {},
   "outputs": [
    {
     "data": {
      "text/plain": [
       "truth_fraction (generic function with 1 method)"
      ]
     },
     "metadata": {},
     "output_type": "display_data"
    }
   ],
   "source": [
    "truth_fraction(bool_array) = count(==(true), bool_array)/length(bool_array)"
   ]
  },
  {
   "cell_type": "code",
   "execution_count": 9,
   "metadata": {},
   "outputs": [
    {
     "data": {
      "text/plain": [
       "proportion_sig (generic function with 1 method)"
      ]
     },
     "metadata": {},
     "output_type": "display_data"
    }
   ],
   "source": [
    "function proportion_sig(regression_data, model, sig_level, factor)\n",
    "    if factor ∉ [:slope, :level, :either, :both]\n",
    "        error(\"factor must be one of :slope, :level, :either, :both\")\n",
    "    end\n",
    "    \n",
    "    if factor == :slope\n",
    "        factorset = [CURRENCYRISK_MODELS[model[1]][1]]\n",
    "    elseif factor == :level\n",
    "        factorset = [CURRENCYRISK_MODELS[model[1]][2]]\n",
    "    else\n",
    "        factorset = CURRENCYRISK_MODELS[model[1]]\n",
    "    end\n",
    "    \n",
    "    if factor == :either\n",
    "        checkeach = any\n",
    "    else factor\n",
    "        checkeach = all\n",
    "    end\n",
    "\n",
    "    currency_risk_only = regression_data[regression_data.factor .∈ Ref(factorset), :]\n",
    "    obs_groups = groupby(currency_risk_only, [:fundid, :date])\n",
    "    \n",
    "    sig_table = combine(obs_groups, :pvalue => (pp->checkeach(pp .<= sig_level)) => :currency_sig)\n",
    "    \n",
    "    date_groups = groupby(sig_table, :date)\n",
    "    sig_proportions = combine(date_groups, :currency_sig => truth_fraction => :proportion_sig)\n",
    "    \n",
    "    return sig_proportions\n",
    "end"
   ]
  },
  {
   "attachments": {},
   "cell_type": "markdown",
   "metadata": {},
   "source": [
    "This function can be called on a model name to compute the p-values, compute proportions of significant p-values by date, altogether"
   ]
  },
  {
   "cell_type": "code",
   "execution_count": 10,
   "metadata": {},
   "outputs": [
    {
     "data": {
      "text/plain": [
       "build_proportion_sig_data (generic function with 1 method)"
      ]
     },
     "metadata": {},
     "output_type": "display_data"
    }
   ],
   "source": [
    "function build_proportion_sig_data(regression_data, model, sig_level, factor)\n",
    "    regression_data.pvalue = compute_pvalues(regression_data)\n",
    "    \n",
    "    output = proportion_sig(regression_data, model, sig_level, factor)\n",
    "    sort!(output, :date)\n",
    "    \n",
    "    return output\n",
    "end "
   ]
  },
  {
   "attachments": {},
   "cell_type": "markdown",
   "metadata": {},
   "source": [
    "This function plots a time series of proportion values."
   ]
  },
  {
   "cell_type": "code",
   "execution_count": 11,
   "metadata": {},
   "outputs": [
    {
     "data": {
      "text/plain": [
       "draw_proportion_plot (generic function with 1 method)"
      ]
     },
     "metadata": {},
     "output_type": "display_data"
    }
   ],
   "source": [
    "function draw_proportion_plot(proportion_table, model_name)\n",
    "    x = proportion_table.date\n",
    "    y = proportion_table.proportion_sig\n",
    "    p = plot(x, y, title=model_name, legend=false)\n",
    "    plot!(xlabel=\"Date\", xguidefontsize=10)\n",
    "    plot!(ylabel=\"Proportion of Funds with \\nSignificant Currency Exposure\", yguidefontsize=10)\n",
    "    display(p)\n",
    "end"
   ]
  },
  {
   "attachments": {},
   "cell_type": "markdown",
   "metadata": {},
   "source": [
    "This function creates a plot from a model name and data source only."
   ]
  },
  {
   "cell_type": "code",
   "execution_count": 12,
   "metadata": {},
   "outputs": [
    {
     "data": {
      "text/plain": [
       "plot_currency_significance (generic function with 2 methods)"
      ]
     },
     "metadata": {},
     "output_type": "display_data"
    }
   ],
   "source": [
    "function plot_currency_significance(data_source, model, factor=:both; datafilter=nothing)\n",
    "    benchmark_model_name = replace(string(model[2]), \"_\"=>\" \") |> uppercase\n",
    "    currency_risk_model_name = uppercase(string(model[1]))\n",
    "    plot_type = uppercase(string(factor))\n",
    "    plot_title = \"$benchmark_model_name + $currency_risk_model_name ($plot_type)\"\n",
    "    \n",
    "    if isnothing(datafilter)\n",
    "        data = data_source[model]\n",
    "    else\n",
    "        data = infofilter(datafilter, data_source[model], notebook=true)\n",
    "        println(\"Filtered data to $(length(unique(data.fundid))) funds\")\n",
    "    end\n",
    "\n",
    "    proportion_table = build_proportion_sig_data(data, model, 0.05, factor)\n",
    "    \n",
    "    draw_proportion_plot(proportion_table, plot_title)\n",
    "end"
   ]
  },
  {
   "cell_type": "code",
   "execution_count": 13,
   "metadata": {},
   "outputs": [
    {
     "data": {
      "text/plain": [
       "allplots (generic function with 1 method)"
      ]
     },
     "metadata": {},
     "output_type": "display_data"
    }
   ],
   "source": [
    "function allplots(data_source, model; datafilter=nothing)\n",
    "    for type in [:slope, :level, :either, :both]\n",
    "        plot_currency_significance(data_source, model, type, datafilter=datafilter)\n",
    "    end\n",
    "end"
   ]
  },
  {
   "cell_type": "code",
   "execution_count": 14,
   "metadata": {},
   "outputs": [
    {
     "ename": "KeyError",
     "evalue": "KeyError: key (:verdelhan, :world_ff5) not found",
     "output_type": "error",
     "traceback": [
      "KeyError: key (:verdelhan, :world_ff5) not found\n",
      "\n",
      "Stacktrace:\n",
      " [1] getindex\n",
      "   @ .\\dict.jl:498 [inlined]\n",
      " [2] plot_currency_significance(data_source::Dict{Any, Any}, model::Tuple{Symbol, Symbol}, factor::Symbol; datafilter::Pair{Vector{Symbol}, var\"#14#15\"})\n",
      "   @ Main c:\\Users\\ozboy\\OneDrive - The University of Queensland\\PHD\\Code\\Currency Exposure of Mutual Funds\\src\\_analysis-notebooks\\analyse-betas.ipynb:10\n",
      " [3] #allplots#13\n",
      "   @ c:\\Users\\ozboy\\OneDrive - The University of Queensland\\PHD\\Code\\Currency Exposure of Mutual Funds\\src\\_analysis-notebooks\\analyse-betas.ipynb:3 [inlined]\n",
      " [4] top-level scope\n",
      "   @ c:\\Users\\ozboy\\OneDrive - The University of Queensland\\PHD\\Code\\Currency Exposure of Mutual Funds\\src\\_analysis-notebooks\\analyse-betas.ipynb:1"
     ]
    }
   ],
   "source": [
    "allplots(model_outputs, (:verdelhan, :world_ff5); datafilter=([:broad_category, :domicile, :passive]=>(x,y,z)->(nonmissing(x==\"Equity\") && nonmissing(y==\"USA\") && (ismissing(z) || !z))))"
   ]
  },
  {
   "cell_type": "code",
   "execution_count": 15,
   "metadata": {},
   "outputs": [
    {
     "ename": "KeyError",
     "evalue": "KeyError: key (:verdelhan, :world_ff5) not found",
     "output_type": "error",
     "traceback": [
      "KeyError: key (:verdelhan, :world_ff5) not found\n",
      "\n",
      "Stacktrace:\n",
      " [1] getindex\n",
      "   @ .\\dict.jl:498 [inlined]\n",
      " [2] plot_currency_significance(data_source::Dict{Any, Any}, model::Tuple{Symbol, Symbol}, factor::Symbol; datafilter::Pair{Vector{Symbol}, var\"#16#17\"})\n",
      "   @ Main c:\\Users\\ozboy\\OneDrive - The University of Queensland\\PHD\\Code\\Currency Exposure of Mutual Funds\\src\\_analysis-notebooks\\analyse-betas.ipynb:10\n",
      " [3] top-level scope\n",
      "   @ c:\\Users\\ozboy\\OneDrive - The University of Queensland\\PHD\\Code\\Currency Exposure of Mutual Funds\\src\\_analysis-notebooks\\analyse-betas.ipynb:1"
     ]
    }
   ],
   "source": [
    "plot_currency_significance(model_outputs, (:verdelhan, :world_ff5), :both; datafilter=([:broad_category, :domicile]=>(x,y)->(nonmissing(x==\"Equity\") && nonmissing(y==\"USA\"))))"
   ]
  },
  {
   "cell_type": "code",
   "execution_count": 16,
   "metadata": {},
   "outputs": [
    {
     "ename": "KeyError",
     "evalue": "KeyError: key (:verdelhan, :world_capm) not found",
     "output_type": "error",
     "traceback": [
      "KeyError: key (:verdelhan, :world_capm) not found\n",
      "\n",
      "Stacktrace:\n",
      " [1] getindex\n",
      "   @ .\\dict.jl:498 [inlined]\n",
      " [2] plot_currency_significance(data_source::Dict{Any, Any}, model::Tuple{Symbol, Symbol}, factor::String; datafilter::Nothing)\n",
      "   @ Main c:\\Users\\ozboy\\OneDrive - The University of Queensland\\PHD\\Code\\Currency Exposure of Mutual Funds\\src\\_analysis-notebooks\\analyse-betas.ipynb:8\n",
      " [3] plot_currency_significance(data_source::Dict{Any, Any}, model::Tuple{Symbol, Symbol}, factor::String)\n",
      "   @ Main c:\\Users\\ozboy\\OneDrive - The University of Queensland\\PHD\\Code\\Currency Exposure of Mutual Funds\\src\\_analysis-notebooks\\analyse-betas.ipynb:1\n",
      " [4] top-level scope\n",
      "   @ c:\\Users\\ozboy\\OneDrive - The University of Queensland\\PHD\\Code\\Currency Exposure of Mutual Funds\\src\\_analysis-notebooks\\analyse-betas.ipynb:1"
     ]
    }
   ],
   "source": [
    "plot_currency_significance(model_outputs, (:verdelhan, :world_capm), \"both\")"
   ]
  },
  {
   "cell_type": "code",
   "execution_count": 17,
   "metadata": {
    "scrolled": false
   },
   "outputs": [
    {
     "ename": "UndefVarError",
     "evalue": "UndefVarError: COMPLETE_MODELS not defined",
     "output_type": "error",
     "traceback": [
      "UndefVarError: COMPLETE_MODELS not defined\n",
      "\n",
      "Stacktrace:\n",
      " [1] top-level scope\n",
      "   @ c:\\Users\\ozboy\\OneDrive - The University of Queensland\\PHD\\Code\\Currency Exposure of Mutual Funds\\src\\_analysis-notebooks\\analyse-betas.ipynb:1"
     ]
    }
   ],
   "source": [
    "for i in COMPLETE_MODELS\n",
    "    plot_currency_significance(model_outputs, i, \"level\")\n",
    "    plot_currency_significance(model_outputs, i, \"slope\")\n",
    "    plot_currency_significance(model_outputs, i, \"either\")\n",
    "    plot_currency_significance(model_outputs, i, \"both\")\n",
    "end"
   ]
  }
 ],
 "metadata": {
  "kernelspec": {
   "display_name": "Julia 1.8.5",
   "language": "julia",
   "name": "julia-1.8"
  },
  "language_info": {
   "file_extension": ".jl",
   "mimetype": "application/julia",
   "name": "julia",
   "version": "1.8.5"
  }
 },
 "nbformat": 4,
 "nbformat_minor": 2
}
