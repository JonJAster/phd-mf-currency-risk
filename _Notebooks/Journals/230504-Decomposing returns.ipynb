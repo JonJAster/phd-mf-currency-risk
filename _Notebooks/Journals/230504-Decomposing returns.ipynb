{
 "cells": [
  {
   "cell_type": "markdown",
   "metadata": {},
   "source": [
    "The final output of the script to decompose returns is:\n",
    "\n",
    "        Loading data...\n",
    "        Mapping countries to currencies...\n",
    "        Process finished decomposing returns on world_capm_lrv_net in 62.86 seconds (1.05 minutes)\n",
    "        Process finished decomposing returns on world_ff5_verdelhan in 67.81 seconds (1.13 minutes)\n",
    "        Process finished decomposing returns on world_ffcarhart_lrv in 74.71 seconds (1.25 minutes)\n",
    "        Process finished decomposing returns on world_ff3_verdelhan in 78.34 seconds (1.31 minutes)\n",
    "        Process finished decomposing returns on world_ff6_verdelhan in 84.31 seconds (1.41 minutes)\n",
    "        Process finished decomposing returns on world_ffcarhart_lrv_net in 86.16 seconds (1.44 minutes)\n",
    "        Process finished decomposing returns on world_ff3_lrv in 88.06 seconds (1.47 minutes)\n",
    "        Process finished decomposing returns on world_ff5_lrv in 22.01 seconds (0.37 minutes)\n",
    "        Process finished decomposing returns on world_capm_verdelhan in 28.63 seconds (0.48 minutes)\n",
    "        Process finished decomposing returns on world_ff3_lrv_net in 93.16 seconds (1.55 minutes)\n",
    "        Process finished decomposing returns on world_ffcarhart_verdelhan in 94.82 seconds (1.58 minutes)\n",
    "        Process finished decomposing returns on world_ff6_lrv in 96.5 seconds (1.61 minutes)\n",
    "        Process finished decomposing returns on world_ff6_lrv_net in 97.81 seconds (1.63 minutes)\n",
    "        Process finished decomposing returns on world_capm_lrv in 99.11 seconds (1.65 minutes)\n",
    "        Process finished decomposing returns on world_ff5_lrv_net in 8.83 seconds (0.15 minutes)\n",
    "        Finished decomposing fund returns in 140.55 seconds (2.34 minutes)"
   ]
  }
 ],
 "metadata": {
  "language_info": {
   "name": "python"
  },
  "orig_nbformat": 4
 },
 "nbformat": 4,
 "nbformat_minor": 2
}
