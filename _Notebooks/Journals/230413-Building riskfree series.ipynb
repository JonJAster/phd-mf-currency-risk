{
 "cells": [
  {
   "attachments": {},
   "cell_type": "markdown",
   "metadata": {},
   "source": [
    "I finished the market index and now need to define risk-free rates for all currencies by assuming CIP."
   ]
  },
  {
   "cell_type": "code",
   "execution_count": 2,
   "metadata": {},
   "outputs": [],
   "source": [
    "using DataFrames\n",
    "using CSV\n",
    "\n",
    "rfdata = CSV.read(\"../../data/raw/equities/usd_riskfree.csv\", DataFrame)\n",
    "fxdata = CSV.read(\"../../data/prepared/currencies/currency_rates.csv\", DataFrame);"
   ]
  },
  {
   "cell_type": "code",
   "execution_count": 3,
   "metadata": {},
   "outputs": [
    {
     "data": {
      "text/html": [
       "<div><div style = \"float: left;\"><span>5×2 DataFrame</span></div><div style = \"clear: both;\"></div></div><div class = \"data-frame\" style = \"overflow-x: scroll;\"><table class = \"data-frame\" style = \"margin-bottom: 6px;\"><thead><tr class = \"header\"><th class = \"rowNumber\" style = \"font-weight: bold; text-align: right;\">Row</th><th style = \"text-align: left;\">date</th><th style = \"text-align: left;\">rf</th></tr><tr class = \"subheader headerLastRow\"><th class = \"rowNumber\" style = \"font-weight: bold; text-align: right;\"></th><th title = \"Dates.Date\" style = \"text-align: left;\">Date</th><th title = \"Float64\" style = \"text-align: left;\">Float64</th></tr></thead><tbody><tr><td class = \"rowNumber\" style = \"font-weight: bold; text-align: right;\">1</td><td style = \"text-align: left;\">1926-07-31</td><td style = \"text-align: right;\">0.0022</td></tr><tr><td class = \"rowNumber\" style = \"font-weight: bold; text-align: right;\">2</td><td style = \"text-align: left;\">1926-08-31</td><td style = \"text-align: right;\">0.0025</td></tr><tr><td class = \"rowNumber\" style = \"font-weight: bold; text-align: right;\">3</td><td style = \"text-align: left;\">1926-09-30</td><td style = \"text-align: right;\">0.0023</td></tr><tr><td class = \"rowNumber\" style = \"font-weight: bold; text-align: right;\">4</td><td style = \"text-align: left;\">1926-10-31</td><td style = \"text-align: right;\">0.0032</td></tr><tr><td class = \"rowNumber\" style = \"font-weight: bold; text-align: right;\">5</td><td style = \"text-align: left;\">1926-11-30</td><td style = \"text-align: right;\">0.0031</td></tr></tbody></table></div>"
      ],
      "text/latex": [
       "\\begin{tabular}{r|cc}\n",
       "\t& date & rf\\\\\n",
       "\t\\hline\n",
       "\t& Date & Float64\\\\\n",
       "\t\\hline\n",
       "\t1 & 1926-07-31 & 0.0022 \\\\\n",
       "\t2 & 1926-08-31 & 0.0025 \\\\\n",
       "\t3 & 1926-09-30 & 0.0023 \\\\\n",
       "\t4 & 1926-10-31 & 0.0032 \\\\\n",
       "\t5 & 1926-11-30 & 0.0031 \\\\\n",
       "\\end{tabular}\n"
      ],
      "text/plain": [
       "\u001b[1m5×2 DataFrame\u001b[0m\n",
       "\u001b[1m Row \u001b[0m│\u001b[1m date       \u001b[0m\u001b[1m rf      \u001b[0m\n",
       "     │\u001b[90m Date       \u001b[0m\u001b[90m Float64 \u001b[0m\n",
       "─────┼─────────────────────\n",
       "   1 │ 1926-07-31   0.0022\n",
       "   2 │ 1926-08-31   0.0025\n",
       "   3 │ 1926-09-30   0.0023\n",
       "   4 │ 1926-10-31   0.0032\n",
       "   5 │ 1926-11-30   0.0031"
      ]
     },
     "metadata": {},
     "output_type": "display_data"
    }
   ],
   "source": [
    "first(rfdata, 5)"
   ]
  },
  {
   "cell_type": "code",
   "execution_count": 4,
   "metadata": {},
   "outputs": [
    {
     "data": {
      "text/html": [
       "<div><div style = \"float: left;\"><span>5×8 DataFrame</span></div><div style = \"clear: both;\"></div></div><div class = \"data-frame\" style = \"overflow-x: scroll;\"><table class = \"data-frame\" style = \"margin-bottom: 6px;\"><thead><tr class = \"header\"><th class = \"rowNumber\" style = \"font-weight: bold; text-align: right;\">Row</th><th style = \"text-align: left;\">cur_code</th><th style = \"text-align: left;\">date</th><th style = \"text-align: left;\">spot_bid</th><th style = \"text-align: left;\">forward_bid</th><th style = \"text-align: left;\">spot_mid</th><th style = \"text-align: left;\">forward_mid</th><th style = \"text-align: left;\">spot_ask</th><th style = \"text-align: left;\">forward_ask</th></tr><tr class = \"subheader headerLastRow\"><th class = \"rowNumber\" style = \"font-weight: bold; text-align: right;\"></th><th title = \"String3\" style = \"text-align: left;\">String3</th><th title = \"Dates.Date\" style = \"text-align: left;\">Date</th><th title = \"Union{Missing, Float64}\" style = \"text-align: left;\">Float64?</th><th title = \"Union{Missing, Float64}\" style = \"text-align: left;\">Float64?</th><th title = \"Union{Missing, Float64}\" style = \"text-align: left;\">Float64?</th><th title = \"Union{Missing, Float64}\" style = \"text-align: left;\">Float64?</th><th title = \"Union{Missing, Float64}\" style = \"text-align: left;\">Float64?</th><th title = \"Union{Missing, Float64}\" style = \"text-align: left;\">Float64?</th></tr></thead><tbody><tr><td class = \"rowNumber\" style = \"font-weight: bold; text-align: right;\">1</td><td style = \"text-align: left;\">AED</td><td style = \"text-align: left;\">1995-06-30</td><td style = \"text-align: right;\">3.6725</td><td style = \"text-align: right;\">3.6715</td><td style = \"text-align: right;\">3.6728</td><td style = \"text-align: right;\">3.67235</td><td style = \"text-align: right;\">3.673</td><td style = \"text-align: right;\">3.6732</td></tr><tr><td class = \"rowNumber\" style = \"font-weight: bold; text-align: right;\">2</td><td style = \"text-align: left;\">AED</td><td style = \"text-align: left;\">1995-07-31</td><td style = \"text-align: right;\">3.6726</td><td style = \"text-align: right;\">3.6716</td><td style = \"text-align: right;\">3.673</td><td style = \"text-align: right;\">3.6726</td><td style = \"text-align: right;\">3.6734</td><td style = \"text-align: right;\">3.6736</td></tr><tr><td class = \"rowNumber\" style = \"font-weight: bold; text-align: right;\">3</td><td style = \"text-align: left;\">AED</td><td style = \"text-align: left;\">1995-08-31</td><td style = \"text-align: right;\">3.6723</td><td style = \"text-align: right;\">3.6713</td><td style = \"text-align: right;\">3.6726</td><td style = \"text-align: right;\">3.6722</td><td style = \"text-align: right;\">3.6729</td><td style = \"text-align: right;\">3.6731</td></tr><tr><td class = \"rowNumber\" style = \"font-weight: bold; text-align: right;\">4</td><td style = \"text-align: left;\">AED</td><td style = \"text-align: left;\">1995-09-30</td><td style = \"text-align: right;\">3.6724</td><td style = \"text-align: right;\">3.6719</td><td style = \"text-align: right;\">3.6728</td><td style = \"text-align: right;\">3.6728</td><td style = \"text-align: right;\">3.6732</td><td style = \"text-align: right;\">3.6737</td></tr><tr><td class = \"rowNumber\" style = \"font-weight: bold; text-align: right;\">5</td><td style = \"text-align: left;\">AED</td><td style = \"text-align: left;\">1995-10-31</td><td style = \"text-align: right;\">3.6729</td><td style = \"text-align: right;\">3.6725</td><td style = \"text-align: right;\">3.6731</td><td style = \"text-align: right;\">3.67295</td><td style = \"text-align: right;\">3.6732</td><td style = \"text-align: right;\">3.6734</td></tr></tbody></table></div>"
      ],
      "text/latex": [
       "\\begin{tabular}{r|cccccccc}\n",
       "\t& cur\\_code & date & spot\\_bid & forward\\_bid & spot\\_mid & forward\\_mid & spot\\_ask & forward\\_ask\\\\\n",
       "\t\\hline\n",
       "\t& String3 & Date & Float64? & Float64? & Float64? & Float64? & Float64? & Float64?\\\\\n",
       "\t\\hline\n",
       "\t1 & AED & 1995-06-30 & 3.6725 & 3.6715 & 3.6728 & 3.67235 & 3.673 & 3.6732 \\\\\n",
       "\t2 & AED & 1995-07-31 & 3.6726 & 3.6716 & 3.673 & 3.6726 & 3.6734 & 3.6736 \\\\\n",
       "\t3 & AED & 1995-08-31 & 3.6723 & 3.6713 & 3.6726 & 3.6722 & 3.6729 & 3.6731 \\\\\n",
       "\t4 & AED & 1995-09-30 & 3.6724 & 3.6719 & 3.6728 & 3.6728 & 3.6732 & 3.6737 \\\\\n",
       "\t5 & AED & 1995-10-31 & 3.6729 & 3.6725 & 3.6731 & 3.67295 & 3.6732 & 3.6734 \\\\\n",
       "\\end{tabular}\n"
      ],
      "text/plain": [
       "\u001b[1m5×8 DataFrame\u001b[0m\n",
       "\u001b[1m Row \u001b[0m│\u001b[1m cur_code \u001b[0m\u001b[1m date       \u001b[0m\u001b[1m spot_bid \u001b[0m\u001b[1m forward_bid \u001b[0m\u001b[1m spot_mid \u001b[0m\u001b[1m forward_mid \u001b[0m\u001b[1m spot_ask \u001b[0m\u001b[1m forward_ask \u001b[0m\n",
       "     │\u001b[90m String3  \u001b[0m\u001b[90m Date       \u001b[0m\u001b[90m Float64? \u001b[0m\u001b[90m Float64?    \u001b[0m\u001b[90m Float64? \u001b[0m\u001b[90m Float64?    \u001b[0m\u001b[90m Float64? \u001b[0m\u001b[90m Float64?    \u001b[0m\n",
       "─────┼───────────────────────────────────────────────────────────────────────────────────────────\n",
       "   1 │ AED       1995-06-30    3.6725       3.6715    3.6728      3.67235    3.673        3.6732\n",
       "   2 │ AED       1995-07-31    3.6726       3.6716    3.673       3.6726     3.6734       3.6736\n",
       "   3 │ AED       1995-08-31    3.6723       3.6713    3.6726      3.6722     3.6729       3.6731\n",
       "   4 │ AED       1995-09-30    3.6724       3.6719    3.6728      3.6728     3.6732       3.6737\n",
       "   5 │ AED       1995-10-31    3.6729       3.6725    3.6731      3.67295    3.6732       3.6734"
      ]
     },
     "metadata": {},
     "output_type": "display_data"
    }
   ],
   "source": [
    "first(fxdata, 5)"
   ]
  }
 ],
 "metadata": {
  "kernelspec": {
   "display_name": "Julia 1.8.5",
   "language": "julia",
   "name": "julia-1.8"
  },
  "language_info": {
   "file_extension": ".jl",
   "mimetype": "application/julia",
   "name": "julia",
   "version": "1.8.5"
  },
  "orig_nbformat": 4
 },
 "nbformat": 4,
 "nbformat_minor": 2
}
