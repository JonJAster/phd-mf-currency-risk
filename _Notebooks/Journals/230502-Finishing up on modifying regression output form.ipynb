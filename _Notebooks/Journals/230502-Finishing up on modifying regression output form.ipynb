{
 "cells": [
  {
   "attachments": {},
   "cell_type": "markdown",
   "metadata": {},
   "source": [
    "I had to modify both the form of the data and the file format used to save the regression outputs, as the last iteration was unusably slow to work with. The previous version of the regression script took around 40 minutes to run altogether. Here is the new output:"
   ]
  },
  {
   "attachments": {},
   "cell_type": "markdown",
   "metadata": {},
   "source": [
    "        Loading data...\n",
    "        Mapping countries to currencies...\n",
    "        Running regressions...\n",
    "        Process finished regressing on world_capm with lrv in 360.61 seconds (6.01 minutes))\n",
    "        Process finished regressing on world_capm with lrv_net in 361.04 seconds (6.02 minutes))\n",
    "        Process finished regressing on world_ff3 with lrv_net in 428.99 seconds (7.15 minutes))\n",
    "        Process finished regressing on world_ff3 with verdelhan in 429.09 seconds (7.15 minutes))\n",
    "        Process finished regressing on world_ff3 with lrv in 433.37 seconds (7.22 minutes))\n",
    "        Process finished regressing on world_ffcarhart with lrv in 453.29 seconds (7.55 minutes))\n",
    "        Process finished regressing on world_ffcarhart with lrv_net in 453.29 seconds (7.55 minutes))\n",
    "        Process finished regressing on world_ffcarhart with verdelhan in 456.09 seconds (7.6 minutes))\n",
    "        Process finished regressing on world_ff5 with verdelhan in 471.04 seconds (7.85 minutes))\n",
    "        Process finished regressing on world_ff6 with lrv_net in 502.11 seconds (8.37 minutes))\n",
    "        Process finished regressing on world_ff6 with lrv in 503.62 seconds (8.39 minutes))\n",
    "        Process finished regressing on world_ff6 with verdelhan in 503.72 seconds (8.4 minutes))\n",
    "        Process finished regressing on world_capm with verdelhan in 194.47 seconds (3.24 minutes))\n",
    "        Process finished regressing on world_ff5 with lrv_net in 237.23 seconds (3.95 minutes))\n",
    "        Process finished regressing on world_ff5 with lrv in 142.53 seconds (2.38 minutes))\n",
    "        Saving results...\n",
    "        Finished fund regressions in 1050.92 seconds (17.515333333333334 minutes)"
   ]
  },
  {
   "attachments": {},
   "cell_type": "markdown",
   "metadata": {},
   "source": [
    "I just realised that a 24-month rolling window for estimating time-varying betas is too short. I'm changing it to 60 months with a minimum 36 observations in the window. The new output is now:\n",
    "\n",
    "        Loading data...\n",
    "        Mapping countries to currencies...\n",
    "        Running regressions...\n",
    "        Process finished regressing on world_capm with lrv in 241.14 seconds (4.02 minutes)\n",
    "        Process finished regressing on world_capm with lrv_net in 241.43 seconds (4.02 minutes)\n",
    "        Process finished regressing on world_ff3 with lrv_net in 283.32 seconds (4.72 minutes)\n",
    "        Process finished regressing on world_ff3 with lrv in 283.41 seconds (4.72 minutes)\n",
    "        Process finished regressing on world_ff3 with verdelhan in 286.66 seconds (4.78 minutes)\n",
    "        Process finished regressing on world_ffcarhart with verdelhan in 305.71 seconds (5.1 minutes)\n",
    "        Process finished regressing on world_ffcarhart with lrv_net in 305.57 seconds (5.09 minutes)\n",
    "        Process finished regressing on world_ffcarhart with lrv in 308.31 seconds (5.14 minutes)\n",
    "        Process finished regressing on world_ff5 with verdelhan in 321.43 seconds (5.36 minutes)\n",
    "        Process finished regressing on world_ff6 with verdelhan in 345.27 seconds (5.75 minutes)\n",
    "        Process finished regressing on world_ff6 with lrv in 345.98 seconds (5.77 minutes)\n",
    "        Process finished regressing on world_ff6 with lrv_net in 347.68 seconds (5.79 minutes)\n",
    "        Process finished regressing on world_capm with verdelhan in 142.05 seconds (2.37 minutes)\n",
    "        Process finished regressing on world_ff5 with lrv_net in 171.82 seconds (2.86 minutes)\n",
    "        Process finished regressing on world_ff5 with lrv in 105.52 seconds (1.76 minutes)\n",
    "        Saving results...\n",
    "        Finished fund regressions in 674.81 seconds (11.25 minutes)"
   ]
  },
  {
   "cell_type": "markdown",
   "metadata": {},
   "source": []
  }
 ],
 "metadata": {
  "language_info": {
   "name": "python"
  },
  "orig_nbformat": 4
 },
 "nbformat": 4,
 "nbformat_minor": 2
}
