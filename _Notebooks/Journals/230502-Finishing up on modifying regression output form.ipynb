{
 "cells": [
  {
   "attachments": {},
   "cell_type": "markdown",
   "metadata": {},
   "source": [
    "I had to modify both the form of the data and the file format used to save the regression outputs, as the last iteration was unusably slow to work with. The previous version of the regression script took around 40 minutes to run altogether. Here is the new output:"
   ]
  },
  {
   "attachments": {},
   "cell_type": "markdown",
   "metadata": {},
   "source": [
    "        Loading data...\n",
    "        Mapping countries to currencies...\n",
    "        Running regressions...\n",
    "        Process finished regressing on world_capm with lrv in 360.61 seconds (6.01 minutes))\n",
    "        Process finished regressing on world_capm with lrv_net in 361.04 seconds (6.02 minutes))\n",
    "        Process finished regressing on world_ff3 with lrv_net in 428.99 seconds (7.15 minutes))\n",
    "        Process finished regressing on world_ff3 with verdelhan in 429.09 seconds (7.15 minutes))\n",
    "        Process finished regressing on world_ff3 with lrv in 433.37 seconds (7.22 minutes))\n",
    "        Process finished regressing on world_ffcarhart with lrv in 453.29 seconds (7.55 minutes))\n",
    "        Process finished regressing on world_ffcarhart with lrv_net in 453.29 seconds (7.55 minutes))\n",
    "        Process finished regressing on world_ffcarhart with verdelhan in 456.09 seconds (7.6 minutes))\n",
    "        Process finished regressing on world_ff5 with verdelhan in 471.04 seconds (7.85 minutes))\n",
    "        Process finished regressing on world_ff6 with lrv_net in 502.11 seconds (8.37 minutes))\n",
    "        Process finished regressing on world_ff6 with lrv in 503.62 seconds (8.39 minutes))\n",
    "        Process finished regressing on world_ff6 with verdelhan in 503.72 seconds (8.4 minutes))\n",
    "        Process finished regressing on world_capm with verdelhan in 194.47 seconds (3.24 minutes))\n",
    "        Process finished regressing on world_ff5 with lrv_net in 237.23 seconds (3.95 minutes))\n",
    "        Process finished regressing on world_ff5 with lrv in 142.53 seconds (2.38 minutes))\n",
    "        Saving results...\n",
    "        Finished fund regressions in 1050.92 seconds (17.515333333333334 minutes)"
   ]
  }
 ],
 "metadata": {
  "language_info": {
   "name": "python"
  },
  "orig_nbformat": 4
 },
 "nbformat": 4,
 "nbformat_minor": 2
}
