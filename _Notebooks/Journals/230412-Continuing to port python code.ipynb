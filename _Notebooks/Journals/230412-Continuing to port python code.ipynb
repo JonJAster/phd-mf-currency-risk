{
 "cells": [
  {
   "attachments": {},
   "cell_type": "markdown",
   "metadata": {},
   "source": [
    "I need a new way to removed thousands separating commas wherever necessary, as the existing regex method misses the instances where there are decimals after the thousands place."
   ]
  },
  {
   "attachments": {},
   "cell_type": "markdown",
   "metadata": {},
   "source": [
    "There was a long delay caused by the presence of thousands-seperating commas. I had to completely redo the process of finding and fixing thousands-separating commas so that it used julia code instead of a regex search string."
   ]
  },
  {
   "cell_type": "markdown",
   "metadata": {},
   "source": []
  }
 ],
 "metadata": {
  "language_info": {
   "name": "python"
  },
  "orig_nbformat": 4
 },
 "nbformat": 4,
 "nbformat_minor": 2
}
