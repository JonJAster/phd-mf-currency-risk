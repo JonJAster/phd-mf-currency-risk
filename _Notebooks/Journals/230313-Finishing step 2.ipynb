{
 "cells": [
  {
   "attachments": {},
   "cell_type": "markdown",
   "metadata": {},
   "source": [
    "After learning a bit about the utilities of VS Code, I've discovered that I don't often have to run code in these notebooks to test my data or processes."
   ]
  },
  {
   "attachments": {},
   "cell_type": "markdown",
   "metadata": {},
   "source": [
    "Finished research step 2. Terminal output:\n",
    "\n",
    "        Reading currency info...\n",
    "        Reading raw rate data...\n",
    "        Processing rate data...\n",
    "        Finished refining currency data in 14.75 seconds"
   ]
  },
  {
   "cell_type": "markdown",
   "metadata": {},
   "source": []
  }
 ],
 "metadata": {
  "language_info": {
   "name": "python"
  },
  "orig_nbformat": 4
 },
 "nbformat": 4,
 "nbformat_minor": 2
}
