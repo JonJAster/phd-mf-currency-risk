{
 "cells": [
  {
   "attachments": {},
   "cell_type": "markdown",
   "metadata": {},
   "source": [
    "I have done most of my testing in the REPL for today. I started today with a much stricter timeline to finish in, and was set to finish script 3 on time, but bug hunting has blown out my alloted time. I eventually worked out that the various currency series (spot bid, spot mid, spot ask, forward bid, etc...) begin on different dates on some currencies. I don't know what it was about my Python code that made it so I never had to clean that up, but it was causing an error in the Julia code."
   ]
  },
  {
   "cell_type": "code",
   "execution_count": 1,
   "metadata": {},
   "outputs": [
    {
     "data": {
      "text/plain": [
       "main (generic function with 1 method)"
      ]
     },
     "metadata": {},
     "output_type": "display_data"
    }
   ],
   "source": [
    "using CSV\n",
    "using DataFrames\n",
    "using DataStructures\n",
    "using Dates\n",
    "\n",
    "const INPUT_FILESTRING_BASE = \"../../Data/Raw Data/Currencies\"\n",
    "const OUTPUT_FILESTRING_BASE = \"../../Data/Refined Data/Currencies\"\n",
    "\n",
    "const RATE_SETTLEMENTS = [\"spot\", \"forward\"]\n",
    "const RATE_LEVELS = [\"bid\", \"mid\", \"ask\"]\n",
    "const INVERTED_RATE_LEVELS = Dict(\"bid\" => \"ask\", \"mid\" => \"mid\", \"ask\" => \"bid\")\n",
    "const RATE_TYPES =  Iterators.product(RATE_SETTLEMENTS, RATE_LEVELS)\n",
    "const DATE_FORMAT = DateFormat(\"dd/mm/yyyy\")\n",
    "\n",
    "const CIP_VIOLATIONS = [\n",
    "    (currency=\"AED\", start_date=\"2006-06-30\", end_date=\"2006-11-30\"),\n",
    "    (currency=\"IDR\", start_date=\"2000-12-31\", end_date=\"2007-05-31\"),\n",
    "    (currency=\"MYR\", start_date=\"1998-08-31\", end_date=\"2005-06-30\"),\n",
    "    (currency=\"TRY\", start_date=\"2000-10-31\", end_date=\"2001-11-30\"),\n",
    "    (currency=\"ZAR\", start_date=\"1985-07-31\", end_date=\"1985-08-31\")\n",
    "]\n",
    "const EURO_CONSTITUENTS = [\n",
    "    (currency=\"ATS\", start_date=\"1999-01-01\"),\n",
    "    (currency=\"BEF\", start_date=\"1999-01-01\"),\n",
    "    (currency=\"DEM\", start_date=\"1999-01-01\"),\n",
    "    (currency=\"ESP\", start_date=\"1999-01-01\"),\n",
    "    (currency=\"FIM\", start_date=\"1999-01-01\"),\n",
    "    (currency=\"FRF\", start_date=\"1999-01-01\"),\n",
    "    (currency=\"IEP\", start_date=\"1999-01-01\"),\n",
    "    (currency=\"ITL\", start_date=\"1999-01-01\"),\n",
    "    (currency=\"NGL\", start_date=\"1999-01-01\"),\n",
    "    (currency=\"PTE\", start_date=\"1999-01-01\"),\n",
    "    (currency=\"GRD\", start_date=\"2001-01-01\"),\n",
    "]\n",
    "\n",
    "const RateSet = Vector{Vector{Union{Missing,Float64}}}\n",
    "\n",
    "function termcheck(level::String, term)\n",
    "    if term == \"european\"\n",
    "        return level\n",
    "    elseif term == \"american\"\n",
    "        return INVERTED_RATE_LEVELS[level]\n",
    "    else\n",
    "        error(\"Invalid term type: $term\")\n",
    "    end\n",
    "end\n",
    "function termcheck(rate::AbstractVector{T}, term) where T<:Union{Missing,Float64}\n",
    "    if term == \"european\"\n",
    "        return rate\n",
    "    elseif term == \"american\"\n",
    "        return 1 ./ rate\n",
    "    else\n",
    "        error(\"Invalid term type: $term\")\n",
    "    end\n",
    "end\n",
    "\n",
    "function build_rate_series(currency, info, rate_data)\n",
    "    currency_info = info[info[:, :cur_code] .== currency, :]\n",
    "    dates = first(values(rate_data))[!, :date]\n",
    "\n",
    "    currency_rate_sets = Dict(\n",
    "        (a, b) => RateSet() for (a,b) in RATE_TYPES\n",
    "    )\n",
    "\n",
    "    for series_source in eachrow(currency_info)\n",
    "        push_source_to_rate_sets!(currency_rate_sets, series_source, rate_data)\n",
    "    end\n",
    "\n",
    "    index_columns = OrderedDict(:cur_code => currency, :date => dates)\n",
    "    rate_columns = OrderedDict(\n",
    "        Symbol.(\"$(a)_$b\") => layer_series(currency_rate_sets[(a, b)])\n",
    "        for (a, b) in RATE_TYPES\n",
    "    )\n",
    "\n",
    "    rate_series = DataFrame(merge(index_columns, rate_columns))\n",
    "\n",
    "    return rate_series\n",
    "end\n",
    "\n",
    "function push_source_to_rate_sets!(currency_rate_sets, series_source, rate_data)\n",
    "    for level in RATE_LEVELS\n",
    "        spot_rate_code = series_source.symbol_s\n",
    "        forward_rate_code = series_source.symbol_f\n",
    "        term = series_source.terms\n",
    "        checked_level = termcheck(level, term)\n",
    "\n",
    "\n",
    "\n",
    "        spot_series = rate_data[(\"spot\", checked_level)][!, spot_rate_code]\n",
    "        forward_series = add_forward_points(\n",
    "            rate_data[(\"forward\", checked_level)][!, forward_rate_code],\n",
    "            spot_series,\n",
    "            series_source.f_denom\n",
    "        )\n",
    "        \n",
    "        push!(currency_rate_sets[(\"spot\", checked_level)], termcheck(spot_series, term))\n",
    "        push!(\n",
    "            currency_rate_sets[(\"forward\", checked_level)], termcheck(forward_series, term)\n",
    "        )\n",
    "    end\n",
    "end\n",
    "\n",
    "function add_forward_points(forward_points, spot_series, f_denom::Integer)\n",
    "    return forward_points ./ f_denom .+ spot_series\n",
    "end\n",
    "add_forward_points(forward_series, ::Any, ::Missing) = forward_series\n",
    "\n",
    "\n",
    "function layer_series(rate_set)\n",
    "    # The input data is sorted so that sources in later rows have higher priority\n",
    "    series_size = length(first(rate_set))\n",
    "    layered_series = fill(missing, series_size)\n",
    "\n",
    "    for series in Iterators.reverse(rate_set)\n",
    "        layered_series = coalesce.(layered_series, series)\n",
    "    end\n",
    "\n",
    "    return layered_series\n",
    "end\n",
    "\n",
    "function assert_equal_dates!(rate_data)\n",
    "    # Only dates represented in every set are useful. Asserting equality of dates now\n",
    "    # prevents the need to merge rate data on dates later.\n",
    "    date_columns = [rate_data[(a, b)].date for (a, b) in RATE_TYPES]\n",
    "\n",
    "    latest_start_date = maximum([minimum(dates) for dates in date_columns])\n",
    "    earliest_end_date = minimum([maximum(dates) for dates in date_columns])\n",
    "\n",
    "    for (a, b) in RATE_TYPES\n",
    "        post_start_date(row) = row.date .>= latest_start_date\n",
    "        pre_end_date(row) = row.date .<= earliest_end_date\n",
    "\n",
    "        filter!(row -> post_start_date(row) .& pre_end_date(row), rate_data[(a, b)])\n",
    "    end\n",
    "\n",
    "    date_collection = [rate_data[(a, b)].date for (a, b) in RATE_TYPES]\n",
    "    \n",
    "    dates_conform(date_series) = all(date_series .== first(date_collection))\n",
    "\n",
    "    if !all(date_series -> dates_conform(date_series), date_collection)\n",
    "        error(\"The rate data cannot be conformed to a common date series.\")\n",
    "    end\n",
    "end\n",
    "\n",
    "function remove_cip_violations!(currency_table)\n",
    "    for i in CIP_VIOLATIONS\n",
    "        cip_violation_mask = (\n",
    "            (currency_table[:, :cur_code] .== i.currency)\n",
    "            .& (currency_table[:, :date] .>= Date(i.start_date))\n",
    "            .& (currency_table[:, :date] .<= Date(i.end_date))\n",
    "        )\n",
    "        rate_columns = collect(\"$(a)_$b\" for (a, b) in RATE_TYPES) |> vec\n",
    "\n",
    "        currency_table[cip_violation_mask, rate_columns] .= missing\n",
    "    end\n",
    "end\n",
    "\n",
    "function end_euro_constituents!(currency_table)\n",
    "    for i in EURO_CONSTITUENTS\n",
    "        euro_constituent_mask = (\n",
    "            (currency_table[:, :cur_code] .== i.currency)\n",
    "            .& (currency_table[:, :date] .>= Date(i.start_date))\n",
    "        )\n",
    "\n",
    "        deleteat!(currency_table, euro_constituent_mask)\n",
    "    end\n",
    "end\n",
    "\n",
    "#function align_series(currency_table)\n",
    "\n",
    "\n",
    "function main()\n",
    "    time_start = time()\n",
    "    \n",
    "    println(\"Reading currency info...\")\n",
    "    info = CSV.read(\"$INPUT_FILESTRING_BASE/currency_info.csv\", DataFrame)\n",
    "    \n",
    "    println(\"Reading raw rate data...\")\n",
    "    rate_data = Dict{Tuple{String, String}, DataFrame}()\n",
    "    for (a, b) in RATE_TYPES\n",
    "        filestring = \"$INPUT_FILESTRING_BASE/$(a)_$b.csv\"\n",
    "        rate_data[(a, b)] = CSV.read(\n",
    "            filestring, DataFrame, missingstring=\"NA\",\n",
    "            dateformat=DATE_FORMAT, types=Dict(:date => Date)\n",
    "        )\n",
    "    end\n",
    "\n",
    "    assert_equal_dates!(rate_data)\n",
    "\n",
    "    currency_series = DataFrame[]\n",
    "    unique_currencies = unique(info[:, :cur_code])\n",
    "\n",
    "    println(\"Processing rate data...\")\n",
    "    for i in unique_currencies\n",
    "        push!(currency_series, build_rate_series(i, info, rate_data))\n",
    "    end\n",
    "\n",
    "    currency_table = vcat(currency_series...)\n",
    "    currency_table[!, :date] = lastdayofmonth.(currency_table[!, :date])\n",
    "\n",
    "    remove_cip_violations!(currency_table)\n",
    "    end_euro_constituents!(currency_table)\n",
    "    align_series!(currency_table)\n",
    "    \n",
    "    CSV.write(\"$OUTPUT_FILESTRING_BASE/currency_rates.csv\", currency_table)\n",
    "\n",
    "    time_duration = round(time() - time_start, digits=2)\n",
    "    println(\"Finished refining currency data in $time_duration seconds\")\n",
    "end"
   ]
  },
  {
   "cell_type": "code",
   "execution_count": 2,
   "metadata": {},
   "outputs": [
    {
     "name": "stdout",
     "output_type": "stream",
     "text": [
      "Reading raw rate data...\n"
     ]
    },
    {
     "name": "stdout",
     "output_type": "stream",
     "text": [
      "Processing rate data...\n"
     ]
    }
   ],
   "source": [
    "info = CSV.read(\"$INPUT_FILESTRING_BASE/currency_info.csv\", DataFrame)\n",
    "    \n",
    "println(\"Reading raw rate data...\")\n",
    "rate_data = Dict{Tuple{String, String}, DataFrame}()\n",
    "for (a, b) in RATE_TYPES\n",
    "    filestring = \"$INPUT_FILESTRING_BASE/$(a)_$b.csv\"\n",
    "    rate_data[(a, b)] = CSV.read(\n",
    "        filestring, DataFrame, missingstring=\"NA\",\n",
    "        dateformat=DATE_FORMAT, types=Dict(:date => Date)\n",
    "    )\n",
    "end\n",
    "\n",
    "assert_equal_dates!(rate_data)\n",
    "\n",
    "currency_series = DataFrame[]\n",
    "unique_currencies = unique(info[:, :cur_code])\n",
    "\n",
    "println(\"Processing rate data...\")\n",
    "for i in unique_currencies\n",
    "    push!(currency_series, build_rate_series(i, info, rate_data))\n",
    "end\n",
    "\n",
    "currency_table = vcat(currency_series...)\n",
    "currency_table[!, :date] = lastdayofmonth.(currency_table[!, :date])\n",
    "\n",
    "remove_cip_violations!(currency_table)\n",
    "end_euro_constituents!(currency_table)"
   ]
  },
  {
   "cell_type": "code",
   "execution_count": 6,
   "metadata": {},
   "outputs": [
    {
     "data": {
      "text/html": [
       "<div><div style = \"float: left;\"><span>18792×8 DataFrame</span></div><div style = \"float: right;\"><span style = \"font-style: italic;\">18767 rows omitted</span></div><div style = \"clear: both;\"></div></div><div class = \"data-frame\" style = \"overflow-x: scroll;\"><table class = \"data-frame\" style = \"margin-bottom: 6px;\"><thead><tr class = \"header\"><th class = \"rowNumber\" style = \"font-weight: bold; text-align: right;\">Row</th><th style = \"text-align: left;\">cur_code</th><th style = \"text-align: left;\">date</th><th style = \"text-align: left;\">spot_bid</th><th style = \"text-align: left;\">forward_bid</th><th style = \"text-align: left;\">spot_mid</th><th style = \"text-align: left;\">forward_mid</th><th style = \"text-align: left;\">spot_ask</th><th style = \"text-align: left;\">forward_ask</th></tr><tr class = \"subheader headerLastRow\"><th class = \"rowNumber\" style = \"font-weight: bold; text-align: right;\"></th><th title = \"String3\" style = \"text-align: left;\">String3</th><th title = \"Date\" style = \"text-align: left;\">Date</th><th title = \"Union{Missing, Float64}\" style = \"text-align: left;\">Float64?</th><th title = \"Union{Missing, Float64}\" style = \"text-align: left;\">Float64?</th><th title = \"Union{Missing, Float64}\" style = \"text-align: left;\">Float64?</th><th title = \"Union{Missing, Float64}\" style = \"text-align: left;\">Float64?</th><th title = \"Union{Missing, Float64}\" style = \"text-align: left;\">Float64?</th><th title = \"Union{Missing, Float64}\" style = \"text-align: left;\">Float64?</th></tr></thead><tbody><tr><td class = \"rowNumber\" style = \"font-weight: bold; text-align: right;\">1</td><td style = \"text-align: left;\">AUD</td><td style = \"text-align: left;\">1976-01-31</td><td style = \"font-style: italic; text-align: right;\">missing</td><td style = \"font-style: italic; text-align: right;\">missing</td><td style = \"font-style: italic; text-align: right;\">missing</td><td style = \"font-style: italic; text-align: right;\">missing</td><td style = \"font-style: italic; text-align: right;\">missing</td><td style = \"font-style: italic; text-align: right;\">missing</td></tr><tr><td class = \"rowNumber\" style = \"font-weight: bold; text-align: right;\">2</td><td style = \"text-align: left;\">AUD</td><td style = \"text-align: left;\">1976-02-29</td><td style = \"font-style: italic; text-align: right;\">missing</td><td style = \"font-style: italic; text-align: right;\">missing</td><td style = \"font-style: italic; text-align: right;\">missing</td><td style = \"font-style: italic; text-align: right;\">missing</td><td style = \"font-style: italic; text-align: right;\">missing</td><td style = \"font-style: italic; text-align: right;\">missing</td></tr><tr><td class = \"rowNumber\" style = \"font-weight: bold; text-align: right;\">3</td><td style = \"text-align: left;\">AUD</td><td style = \"text-align: left;\">1976-03-31</td><td style = \"font-style: italic; text-align: right;\">missing</td><td style = \"font-style: italic; text-align: right;\">missing</td><td style = \"font-style: italic; text-align: right;\">missing</td><td style = \"font-style: italic; text-align: right;\">missing</td><td style = \"font-style: italic; text-align: right;\">missing</td><td style = \"font-style: italic; text-align: right;\">missing</td></tr><tr><td class = \"rowNumber\" style = \"font-weight: bold; text-align: right;\">4</td><td style = \"text-align: left;\">AUD</td><td style = \"text-align: left;\">1976-04-30</td><td style = \"font-style: italic; text-align: right;\">missing</td><td style = \"font-style: italic; text-align: right;\">missing</td><td style = \"font-style: italic; text-align: right;\">missing</td><td style = \"font-style: italic; text-align: right;\">missing</td><td style = \"font-style: italic; text-align: right;\">missing</td><td style = \"font-style: italic; text-align: right;\">missing</td></tr><tr><td class = \"rowNumber\" style = \"font-weight: bold; text-align: right;\">5</td><td style = \"text-align: left;\">AUD</td><td style = \"text-align: left;\">1976-05-31</td><td style = \"font-style: italic; text-align: right;\">missing</td><td style = \"font-style: italic; text-align: right;\">missing</td><td style = \"font-style: italic; text-align: right;\">missing</td><td style = \"font-style: italic; text-align: right;\">missing</td><td style = \"font-style: italic; text-align: right;\">missing</td><td style = \"font-style: italic; text-align: right;\">missing</td></tr><tr><td class = \"rowNumber\" style = \"font-weight: bold; text-align: right;\">6</td><td style = \"text-align: left;\">AUD</td><td style = \"text-align: left;\">1976-06-30</td><td style = \"font-style: italic; text-align: right;\">missing</td><td style = \"font-style: italic; text-align: right;\">missing</td><td style = \"font-style: italic; text-align: right;\">missing</td><td style = \"font-style: italic; text-align: right;\">missing</td><td style = \"font-style: italic; text-align: right;\">missing</td><td style = \"font-style: italic; text-align: right;\">missing</td></tr><tr><td class = \"rowNumber\" style = \"font-weight: bold; text-align: right;\">7</td><td style = \"text-align: left;\">AUD</td><td style = \"text-align: left;\">1976-07-31</td><td style = \"font-style: italic; text-align: right;\">missing</td><td style = \"font-style: italic; text-align: right;\">missing</td><td style = \"font-style: italic; text-align: right;\">missing</td><td style = \"font-style: italic; text-align: right;\">missing</td><td style = \"font-style: italic; text-align: right;\">missing</td><td style = \"font-style: italic; text-align: right;\">missing</td></tr><tr><td class = \"rowNumber\" style = \"font-weight: bold; text-align: right;\">8</td><td style = \"text-align: left;\">AUD</td><td style = \"text-align: left;\">1976-08-31</td><td style = \"font-style: italic; text-align: right;\">missing</td><td style = \"font-style: italic; text-align: right;\">missing</td><td style = \"font-style: italic; text-align: right;\">missing</td><td style = \"font-style: italic; text-align: right;\">missing</td><td style = \"font-style: italic; text-align: right;\">missing</td><td style = \"font-style: italic; text-align: right;\">missing</td></tr><tr><td class = \"rowNumber\" style = \"font-weight: bold; text-align: right;\">9</td><td style = \"text-align: left;\">AUD</td><td style = \"text-align: left;\">1976-09-30</td><td style = \"font-style: italic; text-align: right;\">missing</td><td style = \"font-style: italic; text-align: right;\">missing</td><td style = \"font-style: italic; text-align: right;\">missing</td><td style = \"font-style: italic; text-align: right;\">missing</td><td style = \"font-style: italic; text-align: right;\">missing</td><td style = \"font-style: italic; text-align: right;\">missing</td></tr><tr><td class = \"rowNumber\" style = \"font-weight: bold; text-align: right;\">10</td><td style = \"text-align: left;\">AUD</td><td style = \"text-align: left;\">1976-10-31</td><td style = \"font-style: italic; text-align: right;\">missing</td><td style = \"font-style: italic; text-align: right;\">missing</td><td style = \"font-style: italic; text-align: right;\">missing</td><td style = \"font-style: italic; text-align: right;\">missing</td><td style = \"font-style: italic; text-align: right;\">missing</td><td style = \"font-style: italic; text-align: right;\">missing</td></tr><tr><td class = \"rowNumber\" style = \"font-weight: bold; text-align: right;\">11</td><td style = \"text-align: left;\">AUD</td><td style = \"text-align: left;\">1976-11-30</td><td style = \"font-style: italic; text-align: right;\">missing</td><td style = \"font-style: italic; text-align: right;\">missing</td><td style = \"font-style: italic; text-align: right;\">missing</td><td style = \"font-style: italic; text-align: right;\">missing</td><td style = \"font-style: italic; text-align: right;\">missing</td><td style = \"font-style: italic; text-align: right;\">missing</td></tr><tr><td class = \"rowNumber\" style = \"font-weight: bold; text-align: right;\">12</td><td style = \"text-align: left;\">AUD</td><td style = \"text-align: left;\">1976-12-31</td><td style = \"font-style: italic; text-align: right;\">missing</td><td style = \"font-style: italic; text-align: right;\">missing</td><td style = \"font-style: italic; text-align: right;\">missing</td><td style = \"font-style: italic; text-align: right;\">missing</td><td style = \"font-style: italic; text-align: right;\">missing</td><td style = \"font-style: italic; text-align: right;\">missing</td></tr><tr><td class = \"rowNumber\" style = \"font-weight: bold; text-align: right;\">13</td><td style = \"text-align: left;\">AUD</td><td style = \"text-align: left;\">1977-01-31</td><td style = \"font-style: italic; text-align: right;\">missing</td><td style = \"font-style: italic; text-align: right;\">missing</td><td style = \"font-style: italic; text-align: right;\">missing</td><td style = \"font-style: italic; text-align: right;\">missing</td><td style = \"font-style: italic; text-align: right;\">missing</td><td style = \"font-style: italic; text-align: right;\">missing</td></tr><tr><td style = \"text-align: right;\">&vellip;</td><td style = \"text-align: right;\">&vellip;</td><td style = \"text-align: right;\">&vellip;</td><td style = \"text-align: right;\">&vellip;</td><td style = \"text-align: right;\">&vellip;</td><td style = \"text-align: right;\">&vellip;</td><td style = \"text-align: right;\">&vellip;</td><td style = \"text-align: right;\">&vellip;</td><td style = \"text-align: right;\">&vellip;</td></tr><tr><td class = \"rowNumber\" style = \"font-weight: bold; text-align: right;\">18781</td><td style = \"text-align: left;\">GBP</td><td style = \"text-align: left;\">2021-01-31</td><td style = \"font-style: italic; text-align: right;\">0.728332</td><td style = \"font-style: italic; text-align: right;\">0.728237</td><td style = \"font-style: italic; text-align: right;\">0.728226</td><td style = \"font-style: italic; text-align: right;\">0.728125</td><td style = \"font-style: italic; text-align: right;\">0.72812</td><td style = \"font-style: italic; text-align: right;\">0.728019</td></tr><tr><td class = \"rowNumber\" style = \"font-weight: bold; text-align: right;\">18782</td><td style = \"text-align: left;\">GBP</td><td style = \"text-align: left;\">2021-02-28</td><td style = \"font-style: italic; text-align: right;\">0.715359</td><td style = \"font-style: italic; text-align: right;\">0.715205</td><td style = \"font-style: italic; text-align: right;\">0.715256</td><td style = \"font-style: italic; text-align: right;\">0.715098</td><td style = \"font-style: italic; text-align: right;\">0.715154</td><td style = \"font-style: italic; text-align: right;\">0.714996</td></tr><tr><td class = \"rowNumber\" style = \"font-weight: bold; text-align: right;\">18783</td><td style = \"text-align: left;\">GBP</td><td style = \"text-align: left;\">2021-03-31</td><td style = \"font-style: italic; text-align: right;\">0.7249</td><td style = \"font-style: italic; text-align: right;\">0.724832</td><td style = \"font-style: italic; text-align: right;\">0.724795</td><td style = \"font-style: italic; text-align: right;\">0.724722</td><td style = \"font-style: italic; text-align: right;\">0.72469</td><td style = \"font-style: italic; text-align: right;\">0.724611</td></tr><tr><td class = \"rowNumber\" style = \"font-weight: bold; text-align: right;\">18784</td><td style = \"text-align: left;\">GBP</td><td style = \"text-align: left;\">2021-04-30</td><td style = \"font-style: italic; text-align: right;\">0.722387</td><td style = \"font-style: italic; text-align: right;\">0.722345</td><td style = \"font-style: italic; text-align: right;\">0.722256</td><td style = \"font-style: italic; text-align: right;\">0.722204</td><td style = \"font-style: italic; text-align: right;\">0.722126</td><td style = \"font-style: italic; text-align: right;\">0.722069</td></tr><tr><td class = \"rowNumber\" style = \"font-weight: bold; text-align: right;\">18785</td><td style = \"text-align: left;\">GBP</td><td style = \"text-align: left;\">2021-05-31</td><td style = \"font-style: italic; text-align: right;\">0.703581</td><td style = \"font-style: italic; text-align: right;\">0.703561</td><td style = \"font-style: italic; text-align: right;\">0.703482</td><td style = \"font-style: italic; text-align: right;\">0.703453</td><td style = \"font-style: italic; text-align: right;\">0.703383</td><td style = \"font-style: italic; text-align: right;\">0.703349</td></tr><tr><td class = \"rowNumber\" style = \"font-weight: bold; text-align: right;\">18786</td><td style = \"text-align: left;\">GBP</td><td style = \"text-align: left;\">2021-06-30</td><td style = \"font-style: italic; text-align: right;\">0.724008</td><td style = \"font-style: italic; text-align: right;\">0.72395</td><td style = \"font-style: italic; text-align: right;\">0.723877</td><td style = \"font-style: italic; text-align: right;\">0.723814</td><td style = \"font-style: italic; text-align: right;\">0.723746</td><td style = \"font-style: italic; text-align: right;\">0.723678</td></tr><tr><td class = \"rowNumber\" style = \"font-weight: bold; text-align: right;\">18787</td><td style = \"text-align: left;\">GBP</td><td style = \"text-align: left;\">2021-07-31</td><td style = \"font-style: italic; text-align: right;\">0.719373</td><td style = \"font-style: italic; text-align: right;\">0.719326</td><td style = \"font-style: italic; text-align: right;\">0.719243</td><td style = \"font-style: italic; text-align: right;\">0.719192</td><td style = \"font-style: italic; text-align: right;\">0.719114</td><td style = \"font-style: italic; text-align: right;\">0.719062</td></tr><tr><td class = \"rowNumber\" style = \"font-weight: bold; text-align: right;\">18788</td><td style = \"text-align: left;\">GBP</td><td style = \"text-align: left;\">2021-08-31</td><td style = \"font-style: italic; text-align: right;\">0.726744</td><td style = \"font-style: italic; text-align: right;\">0.726691</td><td style = \"font-style: italic; text-align: right;\">0.726612</td><td style = \"font-style: italic; text-align: right;\">0.726549</td><td style = \"font-style: italic; text-align: right;\">0.72648</td><td style = \"font-style: italic; text-align: right;\">0.726412</td></tr><tr><td class = \"rowNumber\" style = \"font-weight: bold; text-align: right;\">18789</td><td style = \"text-align: left;\">GBP</td><td style = \"text-align: left;\">2021-09-30</td><td style = \"font-style: italic; text-align: right;\">0.741785</td><td style = \"font-style: italic; text-align: right;\">0.741757</td><td style = \"font-style: italic; text-align: right;\">0.741647</td><td style = \"font-style: italic; text-align: right;\">0.741614</td><td style = \"font-style: italic; text-align: right;\">0.74151</td><td style = \"font-style: italic; text-align: right;\">0.741471</td></tr><tr><td class = \"rowNumber\" style = \"font-weight: bold; text-align: right;\">18790</td><td style = \"text-align: left;\">GBP</td><td style = \"text-align: left;\">2021-10-31</td><td style = \"font-style: italic; text-align: right;\">0.729661</td><td style = \"font-style: italic; text-align: right;\">0.72965</td><td style = \"font-style: italic; text-align: right;\">0.729528</td><td style = \"font-style: italic; text-align: right;\">0.729512</td><td style = \"font-style: italic; text-align: right;\">0.729395</td><td style = \"font-style: italic; text-align: right;\">0.729373</td></tr><tr><td class = \"rowNumber\" style = \"font-weight: bold; text-align: right;\">18791</td><td style = \"text-align: left;\">GBP</td><td style = \"text-align: left;\">2021-11-30</td><td style = \"font-style: italic; text-align: right;\">0.755972</td><td style = \"font-style: italic; text-align: right;\">0.75535</td><td style = \"font-style: italic; text-align: right;\">0.755858</td><td style = \"font-style: italic; text-align: right;\">0.755224</td><td style = \"font-style: italic; text-align: right;\">0.755744</td><td style = \"font-style: italic; text-align: right;\">0.755099</td></tr><tr><td class = \"rowNumber\" style = \"font-weight: bold; text-align: right;\">18792</td><td style = \"text-align: left;\">GBP</td><td style = \"text-align: left;\">2021-12-31</td><td style = \"font-style: italic; text-align: right;\">0.738443</td><td style = \"font-style: italic; text-align: right;\">0.738514</td><td style = \"font-style: italic; text-align: right;\">0.738307</td><td style = \"font-style: italic; text-align: right;\">0.738362</td><td style = \"font-style: italic; text-align: right;\">0.738171</td><td style = \"font-style: italic; text-align: right;\">0.738204</td></tr></tbody></table></div>"
      ],
      "text/latex": [
       "\\begin{tabular}{r|cccccccc}\n",
       "\t& cur\\_code & date & spot\\_bid & forward\\_bid & spot\\_mid & forward\\_mid & spot\\_ask & forward\\_ask\\\\\n",
       "\t\\hline\n",
       "\t& String3 & Date & Float64? & Float64? & Float64? & Float64? & Float64? & Float64?\\\\\n",
       "\t\\hline\n",
       "\t1 & AUD & 1976-01-31 & \\emph{missing} & \\emph{missing} & \\emph{missing} & \\emph{missing} & \\emph{missing} & \\emph{missing} \\\\\n",
       "\t2 & AUD & 1976-02-29 & \\emph{missing} & \\emph{missing} & \\emph{missing} & \\emph{missing} & \\emph{missing} & \\emph{missing} \\\\\n",
       "\t3 & AUD & 1976-03-31 & \\emph{missing} & \\emph{missing} & \\emph{missing} & \\emph{missing} & \\emph{missing} & \\emph{missing} \\\\\n",
       "\t4 & AUD & 1976-04-30 & \\emph{missing} & \\emph{missing} & \\emph{missing} & \\emph{missing} & \\emph{missing} & \\emph{missing} \\\\\n",
       "\t5 & AUD & 1976-05-31 & \\emph{missing} & \\emph{missing} & \\emph{missing} & \\emph{missing} & \\emph{missing} & \\emph{missing} \\\\\n",
       "\t6 & AUD & 1976-06-30 & \\emph{missing} & \\emph{missing} & \\emph{missing} & \\emph{missing} & \\emph{missing} & \\emph{missing} \\\\\n",
       "\t7 & AUD & 1976-07-31 & \\emph{missing} & \\emph{missing} & \\emph{missing} & \\emph{missing} & \\emph{missing} & \\emph{missing} \\\\\n",
       "\t8 & AUD & 1976-08-31 & \\emph{missing} & \\emph{missing} & \\emph{missing} & \\emph{missing} & \\emph{missing} & \\emph{missing} \\\\\n",
       "\t9 & AUD & 1976-09-30 & \\emph{missing} & \\emph{missing} & \\emph{missing} & \\emph{missing} & \\emph{missing} & \\emph{missing} \\\\\n",
       "\t10 & AUD & 1976-10-31 & \\emph{missing} & \\emph{missing} & \\emph{missing} & \\emph{missing} & \\emph{missing} & \\emph{missing} \\\\\n",
       "\t11 & AUD & 1976-11-30 & \\emph{missing} & \\emph{missing} & \\emph{missing} & \\emph{missing} & \\emph{missing} & \\emph{missing} \\\\\n",
       "\t12 & AUD & 1976-12-31 & \\emph{missing} & \\emph{missing} & \\emph{missing} & \\emph{missing} & \\emph{missing} & \\emph{missing} \\\\\n",
       "\t13 & AUD & 1977-01-31 & \\emph{missing} & \\emph{missing} & \\emph{missing} & \\emph{missing} & \\emph{missing} & \\emph{missing} \\\\\n",
       "\t14 & AUD & 1977-02-28 & \\emph{missing} & \\emph{missing} & \\emph{missing} & \\emph{missing} & \\emph{missing} & \\emph{missing} \\\\\n",
       "\t15 & AUD & 1977-03-31 & \\emph{missing} & \\emph{missing} & \\emph{missing} & \\emph{missing} & \\emph{missing} & \\emph{missing} \\\\\n",
       "\t16 & AUD & 1977-04-30 & \\emph{missing} & \\emph{missing} & \\emph{missing} & \\emph{missing} & \\emph{missing} & \\emph{missing} \\\\\n",
       "\t17 & AUD & 1977-05-31 & \\emph{missing} & \\emph{missing} & \\emph{missing} & \\emph{missing} & \\emph{missing} & \\emph{missing} \\\\\n",
       "\t18 & AUD & 1977-06-30 & \\emph{missing} & \\emph{missing} & \\emph{missing} & \\emph{missing} & \\emph{missing} & \\emph{missing} \\\\\n",
       "\t19 & AUD & 1977-07-31 & \\emph{missing} & \\emph{missing} & \\emph{missing} & \\emph{missing} & \\emph{missing} & \\emph{missing} \\\\\n",
       "\t20 & AUD & 1977-08-31 & \\emph{missing} & \\emph{missing} & \\emph{missing} & \\emph{missing} & \\emph{missing} & \\emph{missing} \\\\\n",
       "\t21 & AUD & 1977-09-30 & \\emph{missing} & \\emph{missing} & \\emph{missing} & \\emph{missing} & \\emph{missing} & \\emph{missing} \\\\\n",
       "\t22 & AUD & 1977-10-31 & \\emph{missing} & \\emph{missing} & \\emph{missing} & \\emph{missing} & \\emph{missing} & \\emph{missing} \\\\\n",
       "\t23 & AUD & 1977-11-30 & \\emph{missing} & \\emph{missing} & \\emph{missing} & \\emph{missing} & \\emph{missing} & \\emph{missing} \\\\\n",
       "\t24 & AUD & 1977-12-31 & \\emph{missing} & \\emph{missing} & \\emph{missing} & \\emph{missing} & \\emph{missing} & \\emph{missing} \\\\\n",
       "\t$\\dots$ & $\\dots$ & $\\dots$ & $\\dots$ & $\\dots$ & $\\dots$ & $\\dots$ & $\\dots$ & $\\dots$ \\\\\n",
       "\\end{tabular}\n"
      ],
      "text/plain": [
       "\u001b[1m18792×8 DataFrame\u001b[0m\n",
       "\u001b[1m   Row \u001b[0m│\u001b[1m cur_code \u001b[0m\u001b[1m date       \u001b[0m\u001b[1m spot_bid       \u001b[0m\u001b[1m forward_bid    \u001b[0m\u001b[1m spot_mid       \u001b[0m\u001b[1m forward_mid    \u001b[0m\u001b[1m sp\u001b[0m ⋯\n",
       "       │\u001b[90m String3  \u001b[0m\u001b[90m Date       \u001b[0m\u001b[90m Float64?       \u001b[0m\u001b[90m Float64?       \u001b[0m\u001b[90m Float64?       \u001b[0m\u001b[90m Float64?       \u001b[0m\u001b[90m Fl\u001b[0m ⋯\n",
       "───────┼───────────────────────────────────────────────────────────────────────────────────────────\n",
       "     1 │ AUD       1976-01-31 \u001b[90m missing        \u001b[0m\u001b[90m missing        \u001b[0m\u001b[90m missing        \u001b[0m\u001b[90m missing        \u001b[0m\u001b[90m mi\u001b[0m ⋯\n",
       "     2 │ AUD       1976-02-29 \u001b[90m missing        \u001b[0m\u001b[90m missing        \u001b[0m\u001b[90m missing        \u001b[0m\u001b[90m missing        \u001b[0m\u001b[90m mi\u001b[0m\n",
       "     3 │ AUD       1976-03-31 \u001b[90m missing        \u001b[0m\u001b[90m missing        \u001b[0m\u001b[90m missing        \u001b[0m\u001b[90m missing        \u001b[0m\u001b[90m mi\u001b[0m\n",
       "     4 │ AUD       1976-04-30 \u001b[90m missing        \u001b[0m\u001b[90m missing        \u001b[0m\u001b[90m missing        \u001b[0m\u001b[90m missing        \u001b[0m\u001b[90m mi\u001b[0m\n",
       "     5 │ AUD       1976-05-31 \u001b[90m missing        \u001b[0m\u001b[90m missing        \u001b[0m\u001b[90m missing        \u001b[0m\u001b[90m missing        \u001b[0m\u001b[90m mi\u001b[0m ⋯\n",
       "     6 │ AUD       1976-06-30 \u001b[90m missing        \u001b[0m\u001b[90m missing        \u001b[0m\u001b[90m missing        \u001b[0m\u001b[90m missing        \u001b[0m\u001b[90m mi\u001b[0m\n",
       "     7 │ AUD       1976-07-31 \u001b[90m missing        \u001b[0m\u001b[90m missing        \u001b[0m\u001b[90m missing        \u001b[0m\u001b[90m missing        \u001b[0m\u001b[90m mi\u001b[0m\n",
       "     8 │ AUD       1976-08-31 \u001b[90m missing        \u001b[0m\u001b[90m missing        \u001b[0m\u001b[90m missing        \u001b[0m\u001b[90m missing        \u001b[0m\u001b[90m mi\u001b[0m\n",
       "   ⋮   │    ⋮          ⋮             ⋮               ⋮               ⋮               ⋮            ⋱\n",
       " 18786 │ GBP       2021-06-30        0.724008        0.72395         0.723877        0.723814     ⋯\n",
       " 18787 │ GBP       2021-07-31        0.719373        0.719326        0.719243        0.719192\n",
       " 18788 │ GBP       2021-08-31        0.726744        0.726691        0.726612        0.726549\n",
       " 18789 │ GBP       2021-09-30        0.741785        0.741757        0.741647        0.741614\n",
       " 18790 │ GBP       2021-10-31        0.729661        0.72965         0.729528        0.729512     ⋯\n",
       " 18791 │ GBP       2021-11-30        0.755972        0.75535         0.755858        0.755224\n",
       " 18792 │ GBP       2021-12-31        0.738443        0.738514        0.738307        0.738362\n",
       "\u001b[36m                                                                   2 columns and 18777 rows omitted\u001b[0m"
      ]
     },
     "metadata": {},
     "output_type": "display_data"
    }
   ],
   "source": [
    "currency_table"
   ]
  },
  {
   "cell_type": "code",
   "execution_count": 7,
   "metadata": {},
   "outputs": [
    {
     "data": {
      "text/plain": [
       "2×3 Matrix{String}:\n",
       " \"spot_bid\"     \"spot_mid\"     \"spot_ask\"\n",
       " \"forward_bid\"  \"forward_mid\"  \"forward_ask\""
      ]
     },
     "metadata": {},
     "output_type": "display_data"
    }
   ],
   "source": [
    "[\"$(a)_$b\" for (a,b) in RATE_TYPES]"
   ]
  },
  {
   "cell_type": "code",
   "execution_count": 3,
   "metadata": {},
   "outputs": [
    {
     "name": "stderr",
     "output_type": "stream",
     "text": [
      "WARNING: redefinition of constant BASKET_ALLOCATION_ORDER. This may fail, cause incorrect answers, or produce other errors.\n"
     ]
    },
    {
     "data": {
      "text/plain": [
       "main (generic function with 1 method)"
      ]
     },
     "metadata": {},
     "output_type": "display_data"
    }
   ],
   "source": [
    "using CSV\n",
    "using DataFrames\n",
    "using Statistics\n",
    "using ShiftedArrays: lead, lag\n",
    "\n",
    "const INPUT_FILESTRING = \"../../../../Code - Old Python Version/Data/Refined Data/Currencies/currencies.csv\"\n",
    "const OUTPUT_FILESTRING = \"../../Data/Refined Data/Currencies/currency_factors_old_data_julia_script.csv\"\n",
    "\n",
    "const BASKET_ALLOCATION_ORDER = Dict(\n",
    "    # Quantile number => Order that that quantile receives a currency added to the sample\n",
    "    1 => 2,\n",
    "    2 => 4,\n",
    "    3 => 6,\n",
    "    4 => 5,\n",
    "    5 => 3,\n",
    "    6 => 1\n",
    ")\n",
    "\n",
    "function group_transform!(df, group_cols, input_cols, f::Function, output_cols)\n",
    "    groupby(df, group_cols) |> x -> transform!(x, input_cols => f => output_cols)\n",
    "end\n",
    "\n",
    "function group_combine(df, group_cols, input_cols, f::Function, output_cols; cast=true)\n",
    "    if cast\n",
    "        groupby(df, group_cols) |> x -> combine(x, input_cols .=> f .=> output_cols)\n",
    "    else\n",
    "        groupby(df, group_cols) |> x -> combine(x, input_cols => f => output_cols)\n",
    "    end\n",
    "end\n",
    "\n",
    "function compute_delta_spot!(df)\n",
    "    group_on = :curr\n",
    "    input = :spot_mid\n",
    "    output = :delta_spot\n",
    "\n",
    "    delta_spot_computation(spot) = log.(spot) - log.(lag(spot))\n",
    "\n",
    "    group_transform!(df, group_on, input, delta_spot_computation, output)\n",
    "end\n",
    "\n",
    "function compute_forward_discount!(df)\n",
    "    group_on = :curr\n",
    "    input = [:spot_mid, :for_mid]\n",
    "    output = :forward_discount\n",
    "\n",
    "    function forward_discount_computation(spot, forward)\n",
    "        missing_filter = 0*spot + 0*forward\n",
    "        forward_discount = log.(lag(forward)) - log.(lag(spot)) + missing_filter\n",
    "\n",
    "        return forward_discount\n",
    "    end\n",
    "\n",
    "    group_transform!(df, group_on, input, forward_discount_computation, output)\n",
    "end\n",
    "\n",
    "function compute_carry_returns!(df)\n",
    "    group_on = :curr\n",
    "    input = [\n",
    "        :delta_spot, :forward_discount, :for_bid, :for_ask, :spot_bid, :spot_ask\n",
    "    ]\n",
    "    output = [:carry_return, :net_long_carry_return, :net_short_carry_return]\n",
    "\n",
    "    gross_carry(forward_discount, delta_spot) = forward_discount - delta_spot\n",
    "    long_net_carry(forward_bid, spot_ask) = log.(lag(forward_bid)) - log.(spot_ask)\n",
    "    short_net_carry(forward_ask, spot_bid) = -log.(lag(forward_ask)) + log.(spot_bid)\n",
    "\n",
    "    carry_return_computations(Δs, d, fb, fa, sb, sa) = zip(\n",
    "        gross_carry(d, Δs), long_net_carry(fb, sa), short_net_carry(fa, sb)\n",
    "    )\n",
    "\n",
    "    group_transform!(df, group_on, input, carry_return_computations, output)\n",
    "end\n",
    "\n",
    "function compute_interest_rate_ranking!(df)\n",
    "    group_on = :date\n",
    "    input = :forward_discount\n",
    "    output = :interest_rate_rank\n",
    "\n",
    "    function interest_rate_rank_computation(forward_discount)\n",
    "        permutation_index = sortperm(forward_discount)\n",
    "        rank = Array{Union{Missing, Int}}(undef, length(forward_discount))\n",
    "\n",
    "        for (i, j) in enumerate(permutation_index)\n",
    "            ismissing(forward_discount[j]) ? (rank[j] = missing) : rank[j] = i\n",
    "        end\n",
    "\n",
    "        return rank\n",
    "    end\n",
    "\n",
    "    group_transform!(df, group_on, input, interest_rate_rank_computation, output)\n",
    "end\n",
    "\n",
    "function assign_interest_rate_baskets!(df)\n",
    "    group_on = :date\n",
    "    input = :interest_rate_rank\n",
    "    output = :interest_rate_basket\n",
    "\n",
    "    function interest_rate_basket_definition(rank)\n",
    "        nonmissing_rank = skipmissing(rank)\n",
    "        isempty(nonmissing_rank) && return fill(missing, length(rank))\n",
    "        num_currencies = maximum(nonmissing_rank)\n",
    "\n",
    "        basket_size(i) = Int(ceil((num_currencies - (BASKET_ALLOCATION_ORDER[i]-1))/6))\n",
    "\n",
    "        max_rank_per_basket = cumsum([basket_size(i) for i in 1:6])\n",
    "\n",
    "        basket = assign_basket_num.(rank, Ref(max_rank_per_basket))\n",
    "\n",
    "        return basket\n",
    "    end\n",
    "\n",
    "    group_transform!(df, group_on, input, interest_rate_basket_definition, output)\n",
    "end\n",
    "\n",
    "function assign_basket_num(row_rank, max_rank_per_basket)\n",
    "    ismissing(row_rank) && return missing\n",
    "    basket_num = findfirst(>=(row_rank), max_rank_per_basket)\n",
    "    return basket_num\n",
    "end\n",
    "\n",
    "function combine_net_carry_returns!(df)\n",
    "    df.net_carry_return = Vector{Union{Missing, Float64}}(missing, nrow(df))\n",
    "    for row in eachrow(df)\n",
    "        !ismissing(row.interest_rate_basket) || continue\n",
    "        \n",
    "        row.interest_rate_basket == 1 && (row.net_carry_return = row.net_short_carry_return)\n",
    "        row.net_carry_return = row.net_long_carry_return\n",
    "    end\n",
    "end\n",
    "\n",
    "function aggregate_baskets(df)\n",
    "    basketed_df = df[.!ismissing.(df.interest_rate_basket), :]\n",
    "\n",
    "    group_on = [:date, :interest_rate_basket]\n",
    "    aggregated_columns = [:delta_spot, :forward_discount, :carry_return, :net_carry_return]\n",
    "\n",
    "    basket_rates = group_combine(\n",
    "        basketed_df, group_on, aggregated_columns, mean, aggregated_columns\n",
    "    )\n",
    "\n",
    "sort!(basket_rates, [:date, :interest_rate_basket])\n",
    "\n",
    "    return basket_rates\n",
    "end\n",
    "\n",
    "function compute_factors(df)\n",
    "    group_on = :date\n",
    "    input = [:delta_spot, :carry_return, :net_carry_return, :interest_rate_basket]\n",
    "    output = [:rx, :hml_fx, :rx_net, :hml_fx_net, :dollar, :carry]\n",
    "\n",
    "    function hml(basket_nums, series)\n",
    "        basketed_series = Dict(\n",
    "            basket => series for (basket, series) in zip(basket_nums, series)\n",
    "        )\n",
    "\n",
    "        return basketed_series[6] - basketed_series[1]\n",
    "    end\n",
    "\n",
    "    function factor_computations(delta_spot, carry_return, net_carry_return, basket_num)\n",
    "        rx = mean(skipmissing(carry_return))\n",
    "        hml_fx = hml(basket_num, carry_return)\n",
    "        rx_net = mean(skipmissing(net_carry_return))\n",
    "        hml_fx_net = hml(basket_num, net_carry_return)\n",
    "        dollar = mean(skipmissing(delta_spot))\n",
    "        carry = hml(basket_num, delta_spot)\n",
    "        \n",
    "        return [(rx, hml_fx, rx_net, hml_fx_net, dollar, carry)]\n",
    "    end\n",
    "\n",
    "    factors = group_combine(df, group_on, input, factor_computations, output, cast=false)\n",
    "\n",
    "    return factors\n",
    "end\n",
    "    \n",
    "\n",
    "function main()\n",
    "    rates = CSV.read(INPUT_FILESTRING, DataFrame)\n",
    "    \n",
    "    compute_delta_spot!(rates)\n",
    "    compute_forward_discount!(rates)\n",
    "    compute_carry_returns!(rates)\n",
    "\n",
    "    compute_interest_rate_ranking!(rates)\n",
    "    assign_interest_rate_baskets!(rates)\n",
    "    combine_net_carry_returns!(rates)\n",
    "\n",
    "    basket_rates = aggregate_baskets(rates)\n",
    "\n",
    "    currency_factors = compute_factors(basket_rates)\n",
    "\n",
    "    CSV.write(OUTPUT_FILESTRING, currency_factors)\n",
    "end"
   ]
  },
  {
   "cell_type": "code",
   "execution_count": 5,
   "metadata": {},
   "outputs": [
    {
     "data": {
      "text/plain": [
       "\"../../Data/Refined Data/Currencies/currency_factors_old_data_julia_script.csv\""
      ]
     },
     "metadata": {},
     "output_type": "display_data"
    }
   ],
   "source": [
    "main()"
   ]
  },
  {
   "attachments": {},
   "cell_type": "markdown",
   "metadata": {},
   "source": [
    "Is there a difference between the old currency data and the new?"
   ]
  },
  {
   "cell_type": "code",
   "execution_count": 50,
   "metadata": {},
   "outputs": [
    {
     "data": {
      "text/plain": [
       "Dict{String, DataFrame} with 7 entries:\n",
       "  \"spot_ask\"      => \u001b[1m552×74 DataFrame\u001b[0m…\n",
       "  \"forward_mid\"   => \u001b[1m552×74 DataFrame\u001b[0m…\n",
       "  \"spot_mid\"      => \u001b[1m552×74 DataFrame\u001b[0m…\n",
       "  \"spot_bid\"      => \u001b[1m552×74 DataFrame\u001b[0m…\n",
       "  \"currency_info\" => \u001b[1m73×5 DataFrame\u001b[0m…\n",
       "  \"forward_bid\"   => \u001b[1m552×74 DataFrame\u001b[0m…\n",
       "  \"forward_ask\"   => \u001b[1m552×74 DataFrame\u001b[0m…"
      ]
     },
     "metadata": {},
     "output_type": "display_data"
    }
   ],
   "source": [
    "old_python_filestring_base = \"../../../../Code - Old Python Version/Data/Raw Data/Currencies\"\n",
    "new_julia_filestring_base = \"../../Data/Raw Data/Currencies\"\n",
    "\n",
    "currfiles = [\"currency_info\", \"forward_ask\", \"forward_bid\", \"spot_ask\", \"spot_bid\", \"forward_mid\", \"spot_mid\"]\n",
    "\n",
    "python_data = Dict(i => CSV.read(joinpath(old_python_filestring_base, \"$i.csv\"), DataFrame) for i in currfiles)\n",
    "julia_data = Dict(i => CSV.read(joinpath(new_julia_filestring_base, \"$i.csv\"), DataFrame) for i in currfiles)"
   ]
  },
  {
   "cell_type": "code",
   "execution_count": 12,
   "metadata": {},
   "outputs": [
    {
     "name": "stdout",
     "output_type": "stream",
     "text": [
      "i = \"currency_info\"\n",
      "isequal(python_data[i], julia_data[i]) = true\n",
      "i = \"forward_ask\"\n",
      "isequal(python_data[i], julia_data[i]) = true\n",
      "i = \"forward_bid\"\n",
      "isequal(python_data[i], julia_data[i]) = true\n",
      "i = \"spot_ask\"\n",
      "isequal(python_data[i], julia_data[i]) = true\n",
      "i = \"spot_bid\"\n",
      "isequal(python_data[i], julia_data[i]) = true\n",
      "i = \"forward_mid\"\n",
      "isequal(python_data[i], julia_data[i]) = true\n",
      "i = \"spot_mid\"\n",
      "isequal(python_data[i], julia_data[i]) = true\n"
     ]
    }
   ],
   "source": [
    "for i in currfiles\n",
    "    @show i\n",
    "    @show isequal(python_data[i], julia_data[i])\n",
    "end"
   ]
  },
  {
   "attachments": {},
   "cell_type": "markdown",
   "metadata": {},
   "source": [
    "Exactly the same. Let's try again."
   ]
  },
  {
   "cell_type": "code",
   "execution_count": 1,
   "metadata": {},
   "outputs": [
    {
     "data": {
      "text/plain": [
       "main (generic function with 1 method)"
      ]
     },
     "metadata": {},
     "output_type": "display_data"
    }
   ],
   "source": [
    "using CSV\n",
    "using DataFrames\n",
    "using Statistics\n",
    "using ShiftedArrays: lead, lag\n",
    "\n",
    "basket_allocation_order = Dict(\n",
    "    # Quantile number => Order that that quantile receives a currency added to the sample\n",
    "    1 => 2,\n",
    "    2 => 4,\n",
    "    3 => 6,\n",
    "    4 => 5,\n",
    "    5 => 3,\n",
    "    6 => 1\n",
    ")\n",
    "\n",
    "function group_transform!(df, group_cols, input_cols, f::Function, output_cols)\n",
    "    groupby(df, group_cols) |> x -> transform!(x, input_cols => f => output_cols)\n",
    "end\n",
    "\n",
    "function group_combine(df, group_cols, input_cols, f::Function, output_cols; cast=true)\n",
    "    if cast\n",
    "        groupby(df, group_cols) |> x -> combine(x, input_cols .=> f .=> output_cols)\n",
    "    else\n",
    "        groupby(df, group_cols) |> x -> combine(x, input_cols => f => output_cols)\n",
    "    end\n",
    "end\n",
    "\n",
    "function compute_delta_spot!(df, cur_code_name)\n",
    "    group_on = cur_code_name\n",
    "    input = :spot_mid\n",
    "    output = :delta_spot\n",
    "\n",
    "    delta_spot_computation(spot) = log.(spot) - log.(lag(spot))\n",
    "\n",
    "    group_transform!(df, group_on, input, delta_spot_computation, output)\n",
    "end\n",
    "\n",
    "function compute_forward_discount!(df, cur_code_name, forward_mid_name)\n",
    "    group_on = cur_code_name\n",
    "    input = [:spot_mid, forward_mid_name]\n",
    "    output = :forward_discount\n",
    "\n",
    "    function forward_discount_computation(spot, forward)\n",
    "        missing_filter = 0*spot + 0*forward\n",
    "        forward_discount = log.(lag(forward)) - log.(lag(spot)) + missing_filter\n",
    "\n",
    "        return forward_discount\n",
    "    end\n",
    "\n",
    "    group_transform!(df, group_on, input, forward_discount_computation, output)\n",
    "end\n",
    "\n",
    "function compute_carry_returns!(df, cur_code_name, forward_bid_name, forward_ask_name)\n",
    "    group_on = cur_code_name\n",
    "    input = [\n",
    "        :delta_spot, :forward_discount, forward_bid_name, forward_ask_name, :spot_bid, :spot_ask\n",
    "    ]\n",
    "    output = [:carry_return, :net_long_carry_return, :net_short_carry_return]\n",
    "\n",
    "    gross_carry(forward_discount, delta_spot) = forward_discount - delta_spot\n",
    "    long_net_carry(forward_bid, spot_ask) = log.(lag(forward_bid)) - log.(spot_ask)\n",
    "    short_net_carry(forward_ask, spot_bid) = -log.(lag(forward_ask)) + log.(spot_bid)\n",
    "\n",
    "    carry_return_computations(Δs, d, fb, fa, sb, sa) = zip(\n",
    "        gross_carry(d, Δs), long_net_carry(fb, sa), short_net_carry(fa, sb)\n",
    "    )\n",
    "\n",
    "    group_transform!(df, group_on, input, carry_return_computations, output)\n",
    "end\n",
    "\n",
    "function compute_interest_rate_ranking!(df)\n",
    "    group_on = :date\n",
    "    input = :forward_discount\n",
    "    output = :interest_rate_rank\n",
    "\n",
    "    function interest_rate_rank_computation(forward_discount)\n",
    "        permutation_index = sortperm(forward_discount)\n",
    "        rank = Array{Union{Missing, Int}}(undef, length(forward_discount))\n",
    "\n",
    "        for (i, j) in enumerate(permutation_index)\n",
    "            ismissing(forward_discount[j]) ? (rank[j] = missing) : rank[j] = i\n",
    "        end\n",
    "\n",
    "        return rank\n",
    "    end\n",
    "\n",
    "    group_transform!(df, group_on, input, interest_rate_rank_computation, output)\n",
    "end\n",
    "\n",
    "function assign_interest_rate_baskets!(df)\n",
    "    group_on = :date\n",
    "    input = :interest_rate_rank\n",
    "    output = :interest_rate_basket\n",
    "\n",
    "    function interest_rate_basket_definition(rank)\n",
    "        nonmissing_rank = skipmissing(rank)\n",
    "        isempty(nonmissing_rank) && return fill(missing, length(rank))\n",
    "        num_currencies = maximum(nonmissing_rank)\n",
    "\n",
    "        basket_size(i) = Int(ceil((num_currencies - (basket_allocation_order[i]-1))/6))\n",
    "\n",
    "        max_rank_per_basket = cumsum([basket_size(i) for i in 1:6])\n",
    "\n",
    "        basket = assign_basket_num.(rank, Ref(max_rank_per_basket))\n",
    "\n",
    "        return basket\n",
    "    end\n",
    "\n",
    "    group_transform!(df, group_on, input, interest_rate_basket_definition, output)\n",
    "end\n",
    "\n",
    "function assign_basket_num(row_rank, max_rank_per_basket)\n",
    "    ismissing(row_rank) && return missing\n",
    "    basket_num = findfirst(>=(row_rank), max_rank_per_basket)\n",
    "    return basket_num\n",
    "end\n",
    "\n",
    "function combine_net_carry_returns!(df)\n",
    "    df.net_carry_return = Vector{Union{Missing, Float64}}(missing, nrow(df))\n",
    "    for row in eachrow(df)\n",
    "        !ismissing(row.interest_rate_basket) || continue\n",
    "        \n",
    "        row.interest_rate_basket == 1 && (row.net_carry_return = row.net_short_carry_return)\n",
    "        row.net_carry_return = row.net_long_carry_return\n",
    "    end\n",
    "end\n",
    "\n",
    "function aggregate_baskets(df)\n",
    "    basketed_df = df[.!ismissing.(df.interest_rate_basket), :]\n",
    "\n",
    "    group_on = [:date, :interest_rate_basket]\n",
    "    aggregated_columns = [:delta_spot, :forward_discount, :carry_return, :net_carry_return]\n",
    "\n",
    "    basket_rates = group_combine(\n",
    "        basketed_df, group_on, aggregated_columns, mean, aggregated_columns\n",
    "    )\n",
    "\n",
    "sort!(basket_rates, [:date, :interest_rate_basket])\n",
    "\n",
    "    return basket_rates\n",
    "end\n",
    "\n",
    "function compute_factors(df)\n",
    "    group_on = :date\n",
    "    input = [:delta_spot, :carry_return, :net_carry_return, :interest_rate_basket]\n",
    "    output = [:rx, :hml_fx, :rx_net, :hml_fx_net, :dollar, :carry]\n",
    "\n",
    "    function hml(basket_nums, series)\n",
    "        basketed_series = Dict(\n",
    "            basket => series for (basket, series) in zip(basket_nums, series)\n",
    "        )\n",
    "\n",
    "        return basketed_series[6] - basketed_series[1]\n",
    "    end\n",
    "\n",
    "    function factor_computations(delta_spot, carry_return, net_carry_return, basket_num)\n",
    "        rx = mean(skipmissing(carry_return))\n",
    "        hml_fx = hml(basket_num, carry_return)\n",
    "        rx_net = mean(skipmissing(net_carry_return))\n",
    "        hml_fx_net = hml(basket_num, net_carry_return)\n",
    "        dollar = mean(skipmissing(delta_spot))\n",
    "        carry = hml(basket_num, delta_spot)\n",
    "        \n",
    "        return [(rx, hml_fx, rx_net, hml_fx_net, dollar, carry)]\n",
    "    end\n",
    "\n",
    "    factors = group_combine(df, group_on, input, factor_computations, output, cast=false)\n",
    "\n",
    "    return factors\n",
    "end\n",
    "    \n",
    "\n",
    "function main(input, cur_code_name, forward_bid_name, forward_mid_name, forward_ask_name)\n",
    "    rates = CSV.read(input, DataFrame)\n",
    "    \n",
    "    compute_delta_spot!(rates, cur_code_name)\n",
    "    compute_forward_discount!(rates, cur_code_name, forward_mid_name)\n",
    "    compute_carry_returns!(rates, cur_code_name, forward_bid_name, forward_ask_name)\n",
    "\n",
    "    compute_interest_rate_ranking!(rates)\n",
    "    assign_interest_rate_baskets!(rates)\n",
    "    combine_net_carry_returns!(rates)\n",
    "\n",
    "    basket_rates = aggregate_baskets(rates)\n",
    "\n",
    "    currency_factors = compute_factors(basket_rates)\n",
    "\n",
    "    return currency_factors\n",
    "end"
   ]
  },
  {
   "cell_type": "code",
   "execution_count": 2,
   "metadata": {},
   "outputs": [
    {
     "data": {
      "text/html": [
       "<div><div style = \"float: left;\"><span>458×7 DataFrame</span></div><div style = \"float: right;\"><span style = \"font-style: italic;\">433 rows omitted</span></div><div style = \"clear: both;\"></div></div><div class = \"data-frame\" style = \"overflow-x: scroll;\"><table class = \"data-frame\" style = \"margin-bottom: 6px;\"><thead><tr class = \"header\"><th class = \"rowNumber\" style = \"font-weight: bold; text-align: right;\">Row</th><th style = \"text-align: left;\">date</th><th style = \"text-align: left;\">rx</th><th style = \"text-align: left;\">hml_fx</th><th style = \"text-align: left;\">rx_net</th><th style = \"text-align: left;\">hml_fx_net</th><th style = \"text-align: left;\">dollar</th><th style = \"text-align: left;\">carry</th></tr><tr class = \"subheader headerLastRow\"><th class = \"rowNumber\" style = \"font-weight: bold; text-align: right;\"></th><th title = \"Dates.Date\" style = \"text-align: left;\">Date</th><th title = \"Float64\" style = \"text-align: left;\">Float64</th><th title = \"Float64\" style = \"text-align: left;\">Float64</th><th title = \"Float64\" style = \"text-align: left;\">Float64</th><th title = \"Float64\" style = \"text-align: left;\">Float64</th><th title = \"Float64\" style = \"text-align: left;\">Float64</th><th title = \"Float64\" style = \"text-align: left;\">Float64</th></tr></thead><tbody><tr><td class = \"rowNumber\" style = \"font-weight: bold; text-align: right;\">1</td><td style = \"text-align: left;\">1983-11-30</td><td style = \"text-align: right;\">-0.0164371</td><td style = \"text-align: right;\">-0.00301259</td><td style = \"text-align: right;\">-0.0172202</td><td style = \"text-align: right;\">-0.00294848</td><td style = \"text-align: right;\">0.0153914</td><td style = \"text-align: right;\">0.0110917</td></tr><tr><td class = \"rowNumber\" style = \"font-weight: bold; text-align: right;\">2</td><td style = \"text-align: left;\">1983-12-31</td><td style = \"text-align: right;\">-0.00855435</td><td style = \"text-align: right;\">0.00924729</td><td style = \"text-align: right;\">-0.0104163</td><td style = \"text-align: right;\">0.00531925</td><td style = \"text-align: right;\">0.00786787</td><td style = \"text-align: right;\">0.000485357</td></tr><tr><td class = \"rowNumber\" style = \"font-weight: bold; text-align: right;\">3</td><td style = \"text-align: left;\">1984-01-31</td><td style = \"text-align: right;\">-0.0300285</td><td style = \"text-align: right;\">0.0240907</td><td style = \"text-align: right;\">-0.031178</td><td style = \"text-align: right;\">0.0240164</td><td style = \"text-align: right;\">0.0293586</td><td style = \"text-align: right;\">-0.0134736</td></tr><tr><td class = \"rowNumber\" style = \"font-weight: bold; text-align: right;\">4</td><td style = \"text-align: left;\">1984-02-29</td><td style = \"text-align: right;\">0.0465761</td><td style = \"text-align: right;\">0.0141806</td><td style = \"text-align: right;\">0.0458362</td><td style = \"text-align: right;\">0.0144424</td><td style = \"text-align: right;\">-0.0476108</td><td style = \"text-align: right;\">-0.00504086</td></tr><tr><td class = \"rowNumber\" style = \"font-weight: bold; text-align: right;\">5</td><td style = \"text-align: left;\">1984-03-31</td><td style = \"text-align: right;\">-0.00102185</td><td style = \"text-align: right;\">-0.00814813</td><td style = \"text-align: right;\">-0.00190061</td><td style = \"text-align: right;\">-0.00849513</td><td style = \"text-align: right;\">0.0011936</td><td style = \"text-align: right;\">0.0208235</td></tr><tr><td class = \"rowNumber\" style = \"font-weight: bold; text-align: right;\">6</td><td style = \"text-align: left;\">1984-04-30</td><td style = \"text-align: right;\">-0.0345279</td><td style = \"text-align: right;\">0.0119197</td><td style = \"text-align: right;\">-0.0355351</td><td style = \"text-align: right;\">0.0104154</td><td style = \"text-align: right;\">0.0330083</td><td style = \"text-align: right;\">-0.00350537</td></tr><tr><td class = \"rowNumber\" style = \"font-weight: bold; text-align: right;\">7</td><td style = \"text-align: left;\">1984-05-31</td><td style = \"text-align: right;\">-0.00866225</td><td style = \"text-align: right;\">0.000918446</td><td style = \"text-align: right;\">-0.00949107</td><td style = \"text-align: right;\">0.000484597</td><td style = \"text-align: right;\">0.00796162</td><td style = \"text-align: right;\">0.00876436</td></tr><tr><td class = \"rowNumber\" style = \"font-weight: bold; text-align: right;\">8</td><td style = \"text-align: left;\">1984-06-30</td><td style = \"text-align: right;\">-0.0222722</td><td style = \"text-align: right;\">-0.00196952</td><td style = \"text-align: right;\">-0.0233708</td><td style = \"text-align: right;\">-0.00328071</td><td style = \"text-align: right;\">0.0213212</td><td style = \"text-align: right;\">0.0108247</td></tr><tr><td class = \"rowNumber\" style = \"font-weight: bold; text-align: right;\">9</td><td style = \"text-align: left;\">1984-07-31</td><td style = \"text-align: right;\">-0.0507343</td><td style = \"text-align: right;\">-0.0586337</td><td style = \"text-align: right;\">-0.0518118</td><td style = \"text-align: right;\">-0.0604458</td><td style = \"text-align: right;\">0.0490705</td><td style = \"text-align: right;\">0.0674597</td></tr><tr><td class = \"rowNumber\" style = \"font-weight: bold; text-align: right;\">10</td><td style = \"text-align: left;\">1984-08-31</td><td style = \"text-align: right;\">0.00952975</td><td style = \"text-align: right;\">0.0259592</td><td style = \"text-align: right;\">0.00805588</td><td style = \"text-align: right;\">0.0228228</td><td style = \"text-align: right;\">-0.00983357</td><td style = \"text-align: right;\">-0.0126415</td></tr><tr><td class = \"rowNumber\" style = \"font-weight: bold; text-align: right;\">11</td><td style = \"text-align: left;\">1984-09-30</td><td style = \"text-align: right;\">-0.0493</td><td style = \"text-align: right;\">0.00598681</td><td style = \"text-align: right;\">-0.050789</td><td style = \"text-align: right;\">0.00674645</td><td style = \"text-align: right;\">0.0480422</td><td style = \"text-align: right;\">0.00524294</td></tr><tr><td class = \"rowNumber\" style = \"font-weight: bold; text-align: right;\">12</td><td style = \"text-align: left;\">1984-10-31</td><td style = \"text-align: right;\">-0.00967766</td><td style = \"text-align: right;\">-0.0654397</td><td style = \"text-align: right;\">-0.0112236</td><td style = \"text-align: right;\">-0.064485</td><td style = \"text-align: right;\">0.00888802</td><td style = \"text-align: right;\">0.0766164</td></tr><tr><td class = \"rowNumber\" style = \"font-weight: bold; text-align: right;\">13</td><td style = \"text-align: left;\">1984-11-30</td><td style = \"text-align: right;\">-0.0112935</td><td style = \"text-align: right;\">0.0372536</td><td style = \"text-align: right;\">-0.0126611</td><td style = \"text-align: right;\">0.0338093</td><td style = \"text-align: right;\">0.0115806</td><td style = \"text-align: right;\">-0.0249051</td></tr><tr><td style = \"text-align: right;\">&vellip;</td><td style = \"text-align: right;\">&vellip;</td><td style = \"text-align: right;\">&vellip;</td><td style = \"text-align: right;\">&vellip;</td><td style = \"text-align: right;\">&vellip;</td><td style = \"text-align: right;\">&vellip;</td><td style = \"text-align: right;\">&vellip;</td><td style = \"text-align: right;\">&vellip;</td></tr><tr><td class = \"rowNumber\" style = \"font-weight: bold; text-align: right;\">447</td><td style = \"text-align: left;\">2021-01-31</td><td style = \"text-align: right;\">-0.00180341</td><td style = \"text-align: right;\">0.0114958</td><td style = \"text-align: right;\">-0.00241575</td><td style = \"text-align: right;\">0.0110427</td><td style = \"text-align: right;\">0.00255079</td><td style = \"text-align: right;\">-0.00595709</td></tr><tr><td class = \"rowNumber\" style = \"font-weight: bold; text-align: right;\">448</td><td style = \"text-align: left;\">2021-02-28</td><td style = \"text-align: right;\">-0.0033592</td><td style = \"text-align: right;\">-0.00442578</td><td style = \"text-align: right;\">-0.00401643</td><td style = \"text-align: right;\">-0.00535264</td><td style = \"text-align: right;\">0.00414156</td><td style = \"text-align: right;\">0.00980683</td></tr><tr><td class = \"rowNumber\" style = \"font-weight: bold; text-align: right;\">449</td><td style = \"text-align: left;\">2021-03-31</td><td style = \"text-align: right;\">-0.0159103</td><td style = \"text-align: right;\">0.0264055</td><td style = \"text-align: right;\">-0.0165302</td><td style = \"text-align: right;\">0.0255444</td><td style = \"text-align: right;\">0.0168658</td><td style = \"text-align: right;\">-0.0199708</td></tr><tr><td class = \"rowNumber\" style = \"font-weight: bold; text-align: right;\">450</td><td style = \"text-align: left;\">2021-04-30</td><td style = \"text-align: right;\">0.0149385</td><td style = \"text-align: right;\">-0.0117825</td><td style = \"text-align: right;\">0.0142722</td><td style = \"text-align: right;\">-0.0131844</td><td style = \"text-align: right;\">-0.0136734</td><td style = \"text-align: right;\">0.0196564</td></tr><tr><td class = \"rowNumber\" style = \"font-weight: bold; text-align: right;\">451</td><td style = \"text-align: left;\">2021-05-31</td><td style = \"text-align: right;\">0.0123023</td><td style = \"text-align: right;\">0.00960832</td><td style = \"text-align: right;\">0.0117174</td><td style = \"text-align: right;\">0.00920058</td><td style = \"text-align: right;\">-0.0112292</td><td style = \"text-align: right;\">-0.00291747</td></tr><tr><td class = \"rowNumber\" style = \"font-weight: bold; text-align: right;\">452</td><td style = \"text-align: left;\">2021-06-30</td><td style = \"text-align: right;\">-0.0188973</td><td style = \"text-align: right;\">0.012769</td><td style = \"text-align: right;\">-0.019468</td><td style = \"text-align: right;\">0.0123802</td><td style = \"text-align: right;\">0.019989</td><td style = \"text-align: right;\">-0.00610675</td></tr><tr><td class = \"rowNumber\" style = \"font-weight: bold; text-align: right;\">453</td><td style = \"text-align: left;\">2021-07-31</td><td style = \"text-align: right;\">-0.00371919</td><td style = \"text-align: right;\">0.00367223</td><td style = \"text-align: right;\">-0.0042291</td><td style = \"text-align: right;\">0.00329457</td><td style = \"text-align: right;\">0.00474065</td><td style = \"text-align: right;\">0.00271682</td></tr><tr><td class = \"rowNumber\" style = \"font-weight: bold; text-align: right;\">454</td><td style = \"text-align: left;\">2021-08-31</td><td style = \"text-align: right;\">0.00411804</td><td style = \"text-align: right;\">0.0207374</td><td style = \"text-align: right;\">0.00357954</td><td style = \"text-align: right;\">0.0203957</td><td style = \"text-align: right;\">-0.00306246</td><td style = \"text-align: right;\">-0.0145215</td></tr><tr><td class = \"rowNumber\" style = \"font-weight: bold; text-align: right;\">455</td><td style = \"text-align: left;\">2021-09-30</td><td style = \"text-align: right;\">-0.0155467</td><td style = \"text-align: right;\">-0.00713398</td><td style = \"text-align: right;\">-0.0160906</td><td style = \"text-align: right;\">-0.00746358</td><td style = \"text-align: right;\">0.0166073</td><td style = \"text-align: right;\">0.0135197</td></tr><tr><td class = \"rowNumber\" style = \"font-weight: bold; text-align: right;\">456</td><td style = \"text-align: left;\">2021-10-31</td><td style = \"text-align: right;\">0.00561126</td><td style = \"text-align: right;\">-0.0136209</td><td style = \"text-align: right;\">0.00502858</td><td style = \"text-align: right;\">-0.0140274</td><td style = \"text-align: right;\">-0.00440235</td><td style = \"text-align: right;\">0.020375</td></tr><tr><td class = \"rowNumber\" style = \"font-weight: bold; text-align: right;\">457</td><td style = \"text-align: left;\">2021-11-30</td><td style = \"text-align: right;\">-0.0312092</td><td style = \"text-align: right;\">-0.0569581</td><td style = \"text-align: right;\">-0.0319897</td><td style = \"text-align: right;\">-0.0582488</td><td style = \"text-align: right;\">0.0324027</td><td style = \"text-align: right;\">0.0632765</td></tr><tr><td class = \"rowNumber\" style = \"font-weight: bold; text-align: right;\">458</td><td style = \"text-align: left;\">2021-12-31</td><td style = \"text-align: right;\">0.0106153</td><td style = \"text-align: right;\">0.00908815</td><td style = \"text-align: right;\">0.00974196</td><td style = \"text-align: right;\">0.00750843</td><td style = \"text-align: right;\">-0.00956695</td><td style = \"text-align: right;\">-0.00135599</td></tr></tbody></table></div>"
      ],
      "text/latex": [
       "\\begin{tabular}{r|ccccccc}\n",
       "\t& date & rx & hml\\_fx & rx\\_net & hml\\_fx\\_net & dollar & carry\\\\\n",
       "\t\\hline\n",
       "\t& Date & Float64 & Float64 & Float64 & Float64 & Float64 & Float64\\\\\n",
       "\t\\hline\n",
       "\t1 & 1983-11-30 & -0.0164371 & -0.00301259 & -0.0172202 & -0.00294848 & 0.0153914 & 0.0110917 \\\\\n",
       "\t2 & 1983-12-31 & -0.00855435 & 0.00924729 & -0.0104163 & 0.00531925 & 0.00786787 & 0.000485357 \\\\\n",
       "\t3 & 1984-01-31 & -0.0300285 & 0.0240907 & -0.031178 & 0.0240164 & 0.0293586 & -0.0134736 \\\\\n",
       "\t4 & 1984-02-29 & 0.0465761 & 0.0141806 & 0.0458362 & 0.0144424 & -0.0476108 & -0.00504086 \\\\\n",
       "\t5 & 1984-03-31 & -0.00102185 & -0.00814813 & -0.00190061 & -0.00849513 & 0.0011936 & 0.0208235 \\\\\n",
       "\t6 & 1984-04-30 & -0.0345279 & 0.0119197 & -0.0355351 & 0.0104154 & 0.0330083 & -0.00350537 \\\\\n",
       "\t7 & 1984-05-31 & -0.00866225 & 0.000918446 & -0.00949107 & 0.000484597 & 0.00796162 & 0.00876436 \\\\\n",
       "\t8 & 1984-06-30 & -0.0222722 & -0.00196952 & -0.0233708 & -0.00328071 & 0.0213212 & 0.0108247 \\\\\n",
       "\t9 & 1984-07-31 & -0.0507343 & -0.0586337 & -0.0518118 & -0.0604458 & 0.0490705 & 0.0674597 \\\\\n",
       "\t10 & 1984-08-31 & 0.00952975 & 0.0259592 & 0.00805588 & 0.0228228 & -0.00983357 & -0.0126415 \\\\\n",
       "\t11 & 1984-09-30 & -0.0493 & 0.00598681 & -0.050789 & 0.00674645 & 0.0480422 & 0.00524294 \\\\\n",
       "\t12 & 1984-10-31 & -0.00967766 & -0.0654397 & -0.0112236 & -0.064485 & 0.00888802 & 0.0766164 \\\\\n",
       "\t13 & 1984-11-30 & -0.0112935 & 0.0372536 & -0.0126611 & 0.0338093 & 0.0115806 & -0.0249051 \\\\\n",
       "\t14 & 1984-12-31 & -0.0196106 & -0.00446018 & -0.0213044 & -0.00741581 & 0.0194938 & 0.0155751 \\\\\n",
       "\t15 & 1985-01-31 & -0.00826425 & 0.0101983 & -0.010175 & 0.00673396 & 0.00937026 & -0.00114745 \\\\\n",
       "\t16 & 1985-02-28 & -0.0467804 & 0.0263096 & -0.0492176 & 0.0223572 & 0.0479246 & -0.0169406 \\\\\n",
       "\t17 & 1985-03-31 & 0.0564107 & 0.0103828 & 0.0523995 & 0.00859719 & -0.0569152 & 0.010432 \\\\\n",
       "\t18 & 1985-04-30 & -0.00660584 & -0.000933242 & -0.00978786 & -0.0058027 & 0.0103777 & 0.0135867 \\\\\n",
       "\t19 & 1985-05-31 & 0.0112972 & 0.00621609 & 0.00894726 & 0.00399171 & -0.00906238 & 0.00682619 \\\\\n",
       "\t20 & 1985-06-30 & 0.0156921 & 0.0372224 & 0.0134053 & 0.0348543 & -0.012182 & -0.0229345 \\\\\n",
       "\t21 & 1985-07-31 & 0.056054 & 0.0191824 & 0.0543573 & 0.0181234 & -0.0538218 & -0.00797762 \\\\\n",
       "\t22 & 1985-08-31 & -0.00441376 & 0.0160045 & -0.00626056 & 0.0145607 & 0.0062166 & -0.00312668 \\\\\n",
       "\t23 & 1985-09-30 & 0.0355398 & -0.0221378 & 0.0335289 & -0.023837 & -0.0333116 & 0.0375194 \\\\\n",
       "\t24 & 1985-10-31 & 0.0191743 & 0.0272324 & 0.0166787 & 0.0237748 & -0.0171416 & -0.012727 \\\\\n",
       "\t$\\dots$ & $\\dots$ & $\\dots$ & $\\dots$ & $\\dots$ & $\\dots$ & $\\dots$ & $\\dots$ \\\\\n",
       "\\end{tabular}\n"
      ],
      "text/plain": [
       "\u001b[1m458×7 DataFrame\u001b[0m\n",
       "\u001b[1m Row \u001b[0m│\u001b[1m date       \u001b[0m\u001b[1m rx          \u001b[0m\u001b[1m hml_fx       \u001b[0m\u001b[1m rx_net      \u001b[0m\u001b[1m hml_fx_net   \u001b[0m\u001b[1m dollar      \u001b[0m\u001b[1m carry      \u001b[0m ⋯\n",
       "     │\u001b[90m Date       \u001b[0m\u001b[90m Float64     \u001b[0m\u001b[90m Float64      \u001b[0m\u001b[90m Float64     \u001b[0m\u001b[90m Float64      \u001b[0m\u001b[90m Float64     \u001b[0m\u001b[90m Float64    \u001b[0m ⋯\n",
       "─────┼─────────────────────────────────────────────────────────────────────────────────────────────\n",
       "   1 │ 1983-11-30  -0.0164371   -0.00301259   -0.0172202   -0.00294848    0.0153914    0.0110917  ⋯\n",
       "   2 │ 1983-12-31  -0.00855435   0.00924729   -0.0104163    0.00531925    0.00786787   0.00048535\n",
       "   3 │ 1984-01-31  -0.0300285    0.0240907    -0.031178     0.0240164     0.0293586   -0.0134736\n",
       "   4 │ 1984-02-29   0.0465761    0.0141806     0.0458362    0.0144424    -0.0476108   -0.00504086\n",
       "   5 │ 1984-03-31  -0.00102185  -0.00814813   -0.00190061  -0.00849513    0.0011936    0.0208235  ⋯\n",
       "   6 │ 1984-04-30  -0.0345279    0.0119197    -0.0355351    0.0104154     0.0330083   -0.00350537\n",
       "   7 │ 1984-05-31  -0.00866225   0.000918446  -0.00949107   0.000484597   0.00796162   0.00876436\n",
       "   8 │ 1984-06-30  -0.0222722   -0.00196952   -0.0233708   -0.00328071    0.0213212    0.0108247\n",
       "  ⋮  │     ⋮            ⋮            ⋮             ⋮            ⋮             ⋮            ⋮      ⋱\n",
       " 452 │ 2021-06-30  -0.0188973    0.012769     -0.019468     0.0123802     0.019989    -0.00610675 ⋯\n",
       " 453 │ 2021-07-31  -0.00371919   0.00367223   -0.0042291    0.00329457    0.00474065   0.00271682\n",
       " 454 │ 2021-08-31   0.00411804   0.0207374     0.00357954   0.0203957    -0.00306246  -0.0145215\n",
       " 455 │ 2021-09-30  -0.0155467   -0.00713398   -0.0160906   -0.00746358    0.0166073    0.0135197\n",
       " 456 │ 2021-10-31   0.00561126  -0.0136209     0.00502858  -0.0140274    -0.00440235   0.020375   ⋯\n",
       " 457 │ 2021-11-30  -0.0312092   -0.0569581    -0.0319897   -0.0582488     0.0324027    0.0632765\n",
       " 458 │ 2021-12-31   0.0106153    0.00908815    0.00974196   0.00750843   -0.00956695  -0.00135599\n",
       "\u001b[36m                                                                      1 column and 443 rows omitted\u001b[0m"
      ]
     },
     "metadata": {},
     "output_type": "display_data"
    }
   ],
   "source": [
    "old_python_combined_filestring_base = \"../../../../Code - Old Python Version/Data/Refined Data/Currencies\"\n",
    "new_julia_combined_filestring_base = \"../../Data/Refined Data/Currencies\"\n",
    "\n",
    "python_factors = main(joinpath(old_python_combined_filestring_base, \"currencies.csv\"), :curr, :for_bid, :for_mid, :for_ask)\n",
    "julia_factors = main(joinpath(new_julia_combined_filestring_base, \"currency_rates.csv\"), :cur_code, :forward_bid, :forward_mid, :forward_ask)"
   ]
  },
  {
   "cell_type": "code",
   "execution_count": 23,
   "metadata": {},
   "outputs": [
    {
     "data": {
      "text/html": [
       "<div><div style = \"float: left;\"><span>458×7 DataFrame</span></div><div style = \"float: right;\"><span style = \"font-style: italic;\">433 rows omitted</span></div><div style = \"clear: both;\"></div></div><div class = \"data-frame\" style = \"overflow-x: scroll;\"><table class = \"data-frame\" style = \"margin-bottom: 6px;\"><thead><tr class = \"header\"><th class = \"rowNumber\" style = \"font-weight: bold; text-align: right;\">Row</th><th style = \"text-align: left;\">date</th><th style = \"text-align: left;\">rx</th><th style = \"text-align: left;\">hml_fx</th><th style = \"text-align: left;\">rx_net</th><th style = \"text-align: left;\">hml_fx_net</th><th style = \"text-align: left;\">dollar</th><th style = \"text-align: left;\">carry</th></tr><tr class = \"subheader headerLastRow\"><th class = \"rowNumber\" style = \"font-weight: bold; text-align: right;\"></th><th title = \"Dates.Date\" style = \"text-align: left;\">Date</th><th title = \"Float64\" style = \"text-align: left;\">Float64</th><th title = \"Float64\" style = \"text-align: left;\">Float64</th><th title = \"Float64\" style = \"text-align: left;\">Float64</th><th title = \"Float64\" style = \"text-align: left;\">Float64</th><th title = \"Float64\" style = \"text-align: left;\">Float64</th><th title = \"Float64\" style = \"text-align: left;\">Float64</th></tr></thead><tbody><tr><td class = \"rowNumber\" style = \"font-weight: bold; text-align: right;\">1</td><td style = \"text-align: left;\">1983-11-30</td><td style = \"text-align: right;\">-0.0164371</td><td style = \"text-align: right;\">-0.00301259</td><td style = \"text-align: right;\">-0.0172202</td><td style = \"text-align: right;\">-0.00294848</td><td style = \"text-align: right;\">0.0153914</td><td style = \"text-align: right;\">0.0110917</td></tr><tr><td class = \"rowNumber\" style = \"font-weight: bold; text-align: right;\">2</td><td style = \"text-align: left;\">1983-12-31</td><td style = \"text-align: right;\">-0.00855435</td><td style = \"text-align: right;\">0.00924729</td><td style = \"text-align: right;\">-0.0104163</td><td style = \"text-align: right;\">0.00531925</td><td style = \"text-align: right;\">0.00786787</td><td style = \"text-align: right;\">0.000485357</td></tr><tr><td class = \"rowNumber\" style = \"font-weight: bold; text-align: right;\">3</td><td style = \"text-align: left;\">1984-01-31</td><td style = \"text-align: right;\">-0.0300285</td><td style = \"text-align: right;\">0.0240907</td><td style = \"text-align: right;\">-0.031178</td><td style = \"text-align: right;\">0.0240164</td><td style = \"text-align: right;\">0.0293586</td><td style = \"text-align: right;\">-0.0134736</td></tr><tr><td class = \"rowNumber\" style = \"font-weight: bold; text-align: right;\">4</td><td style = \"text-align: left;\">1984-02-29</td><td style = \"text-align: right;\">0.0465761</td><td style = \"text-align: right;\">0.0141806</td><td style = \"text-align: right;\">0.0458362</td><td style = \"text-align: right;\">0.0144424</td><td style = \"text-align: right;\">-0.0476108</td><td style = \"text-align: right;\">-0.00504086</td></tr><tr><td class = \"rowNumber\" style = \"font-weight: bold; text-align: right;\">5</td><td style = \"text-align: left;\">1984-03-31</td><td style = \"text-align: right;\">-0.00102185</td><td style = \"text-align: right;\">-0.00814813</td><td style = \"text-align: right;\">-0.00190061</td><td style = \"text-align: right;\">-0.00849513</td><td style = \"text-align: right;\">0.0011936</td><td style = \"text-align: right;\">0.0208235</td></tr><tr><td class = \"rowNumber\" style = \"font-weight: bold; text-align: right;\">6</td><td style = \"text-align: left;\">1984-04-30</td><td style = \"text-align: right;\">-0.0345279</td><td style = \"text-align: right;\">0.0119197</td><td style = \"text-align: right;\">-0.0355351</td><td style = \"text-align: right;\">0.0104154</td><td style = \"text-align: right;\">0.0330083</td><td style = \"text-align: right;\">-0.00350537</td></tr><tr><td class = \"rowNumber\" style = \"font-weight: bold; text-align: right;\">7</td><td style = \"text-align: left;\">1984-05-31</td><td style = \"text-align: right;\">-0.00866225</td><td style = \"text-align: right;\">0.000918446</td><td style = \"text-align: right;\">-0.00949107</td><td style = \"text-align: right;\">0.000484597</td><td style = \"text-align: right;\">0.00796162</td><td style = \"text-align: right;\">0.00876436</td></tr><tr><td class = \"rowNumber\" style = \"font-weight: bold; text-align: right;\">8</td><td style = \"text-align: left;\">1984-06-30</td><td style = \"text-align: right;\">-0.0222722</td><td style = \"text-align: right;\">-0.00196952</td><td style = \"text-align: right;\">-0.0233708</td><td style = \"text-align: right;\">-0.00328071</td><td style = \"text-align: right;\">0.0213212</td><td style = \"text-align: right;\">0.0108247</td></tr><tr><td class = \"rowNumber\" style = \"font-weight: bold; text-align: right;\">9</td><td style = \"text-align: left;\">1984-07-31</td><td style = \"text-align: right;\">-0.0507343</td><td style = \"text-align: right;\">-0.0586337</td><td style = \"text-align: right;\">-0.0518118</td><td style = \"text-align: right;\">-0.0604458</td><td style = \"text-align: right;\">0.0490705</td><td style = \"text-align: right;\">0.0674597</td></tr><tr><td class = \"rowNumber\" style = \"font-weight: bold; text-align: right;\">10</td><td style = \"text-align: left;\">1984-08-31</td><td style = \"text-align: right;\">0.00952975</td><td style = \"text-align: right;\">0.0259592</td><td style = \"text-align: right;\">0.00805588</td><td style = \"text-align: right;\">0.0228228</td><td style = \"text-align: right;\">-0.00983357</td><td style = \"text-align: right;\">-0.0126415</td></tr><tr><td class = \"rowNumber\" style = \"font-weight: bold; text-align: right;\">11</td><td style = \"text-align: left;\">1984-09-30</td><td style = \"text-align: right;\">-0.0493</td><td style = \"text-align: right;\">0.00598681</td><td style = \"text-align: right;\">-0.050789</td><td style = \"text-align: right;\">0.00674645</td><td style = \"text-align: right;\">0.0480422</td><td style = \"text-align: right;\">0.00524294</td></tr><tr><td class = \"rowNumber\" style = \"font-weight: bold; text-align: right;\">12</td><td style = \"text-align: left;\">1984-10-31</td><td style = \"text-align: right;\">-0.00967766</td><td style = \"text-align: right;\">-0.0654397</td><td style = \"text-align: right;\">-0.0112236</td><td style = \"text-align: right;\">-0.064485</td><td style = \"text-align: right;\">0.00888802</td><td style = \"text-align: right;\">0.0766164</td></tr><tr><td class = \"rowNumber\" style = \"font-weight: bold; text-align: right;\">13</td><td style = \"text-align: left;\">1984-11-30</td><td style = \"text-align: right;\">-0.0112935</td><td style = \"text-align: right;\">0.0372536</td><td style = \"text-align: right;\">-0.0126611</td><td style = \"text-align: right;\">0.0338093</td><td style = \"text-align: right;\">0.0115806</td><td style = \"text-align: right;\">-0.0249051</td></tr><tr><td style = \"text-align: right;\">&vellip;</td><td style = \"text-align: right;\">&vellip;</td><td style = \"text-align: right;\">&vellip;</td><td style = \"text-align: right;\">&vellip;</td><td style = \"text-align: right;\">&vellip;</td><td style = \"text-align: right;\">&vellip;</td><td style = \"text-align: right;\">&vellip;</td><td style = \"text-align: right;\">&vellip;</td></tr><tr><td class = \"rowNumber\" style = \"font-weight: bold; text-align: right;\">447</td><td style = \"text-align: left;\">2021-01-31</td><td style = \"text-align: right;\">-0.00180341</td><td style = \"text-align: right;\">0.0114958</td><td style = \"text-align: right;\">-0.00241575</td><td style = \"text-align: right;\">0.0110427</td><td style = \"text-align: right;\">0.00255079</td><td style = \"text-align: right;\">-0.00595709</td></tr><tr><td class = \"rowNumber\" style = \"font-weight: bold; text-align: right;\">448</td><td style = \"text-align: left;\">2021-02-28</td><td style = \"text-align: right;\">-0.0033592</td><td style = \"text-align: right;\">-0.00442578</td><td style = \"text-align: right;\">-0.00401643</td><td style = \"text-align: right;\">-0.00535264</td><td style = \"text-align: right;\">0.00414156</td><td style = \"text-align: right;\">0.00980683</td></tr><tr><td class = \"rowNumber\" style = \"font-weight: bold; text-align: right;\">449</td><td style = \"text-align: left;\">2021-03-31</td><td style = \"text-align: right;\">-0.0159103</td><td style = \"text-align: right;\">0.0264055</td><td style = \"text-align: right;\">-0.0165302</td><td style = \"text-align: right;\">0.0255444</td><td style = \"text-align: right;\">0.0168658</td><td style = \"text-align: right;\">-0.0199708</td></tr><tr><td class = \"rowNumber\" style = \"font-weight: bold; text-align: right;\">450</td><td style = \"text-align: left;\">2021-04-30</td><td style = \"text-align: right;\">0.0149385</td><td style = \"text-align: right;\">-0.0117825</td><td style = \"text-align: right;\">0.0142722</td><td style = \"text-align: right;\">-0.0131844</td><td style = \"text-align: right;\">-0.0136734</td><td style = \"text-align: right;\">0.0196564</td></tr><tr><td class = \"rowNumber\" style = \"font-weight: bold; text-align: right;\">451</td><td style = \"text-align: left;\">2021-05-31</td><td style = \"text-align: right;\">0.0123023</td><td style = \"text-align: right;\">0.00960832</td><td style = \"text-align: right;\">0.0117174</td><td style = \"text-align: right;\">0.00920058</td><td style = \"text-align: right;\">-0.0112292</td><td style = \"text-align: right;\">-0.00291747</td></tr><tr><td class = \"rowNumber\" style = \"font-weight: bold; text-align: right;\">452</td><td style = \"text-align: left;\">2021-06-30</td><td style = \"text-align: right;\">-0.0188973</td><td style = \"text-align: right;\">0.012769</td><td style = \"text-align: right;\">-0.019468</td><td style = \"text-align: right;\">0.0123802</td><td style = \"text-align: right;\">0.019989</td><td style = \"text-align: right;\">-0.00610675</td></tr><tr><td class = \"rowNumber\" style = \"font-weight: bold; text-align: right;\">453</td><td style = \"text-align: left;\">2021-07-31</td><td style = \"text-align: right;\">-0.00371919</td><td style = \"text-align: right;\">0.00367223</td><td style = \"text-align: right;\">-0.0042291</td><td style = \"text-align: right;\">0.00329457</td><td style = \"text-align: right;\">0.00474065</td><td style = \"text-align: right;\">0.00271682</td></tr><tr><td class = \"rowNumber\" style = \"font-weight: bold; text-align: right;\">454</td><td style = \"text-align: left;\">2021-08-31</td><td style = \"text-align: right;\">0.00411804</td><td style = \"text-align: right;\">0.0207374</td><td style = \"text-align: right;\">0.00357954</td><td style = \"text-align: right;\">0.0203957</td><td style = \"text-align: right;\">-0.00306246</td><td style = \"text-align: right;\">-0.0145215</td></tr><tr><td class = \"rowNumber\" style = \"font-weight: bold; text-align: right;\">455</td><td style = \"text-align: left;\">2021-09-30</td><td style = \"text-align: right;\">-0.0155467</td><td style = \"text-align: right;\">-0.00713398</td><td style = \"text-align: right;\">-0.0160906</td><td style = \"text-align: right;\">-0.00746358</td><td style = \"text-align: right;\">0.0166073</td><td style = \"text-align: right;\">0.0135197</td></tr><tr><td class = \"rowNumber\" style = \"font-weight: bold; text-align: right;\">456</td><td style = \"text-align: left;\">2021-10-31</td><td style = \"text-align: right;\">0.00561126</td><td style = \"text-align: right;\">-0.0136209</td><td style = \"text-align: right;\">0.00502858</td><td style = \"text-align: right;\">-0.0140274</td><td style = \"text-align: right;\">-0.00440235</td><td style = \"text-align: right;\">0.020375</td></tr><tr><td class = \"rowNumber\" style = \"font-weight: bold; text-align: right;\">457</td><td style = \"text-align: left;\">2021-11-30</td><td style = \"text-align: right;\">-0.0312092</td><td style = \"text-align: right;\">-0.0569581</td><td style = \"text-align: right;\">-0.0319897</td><td style = \"text-align: right;\">-0.0582488</td><td style = \"text-align: right;\">0.0324027</td><td style = \"text-align: right;\">0.0632765</td></tr><tr><td class = \"rowNumber\" style = \"font-weight: bold; text-align: right;\">458</td><td style = \"text-align: left;\">2021-12-31</td><td style = \"text-align: right;\">0.0106153</td><td style = \"text-align: right;\">0.00908815</td><td style = \"text-align: right;\">0.00974196</td><td style = \"text-align: right;\">0.00750843</td><td style = \"text-align: right;\">-0.00956695</td><td style = \"text-align: right;\">-0.00135599</td></tr></tbody></table></div>"
      ],
      "text/latex": [
       "\\begin{tabular}{r|ccccccc}\n",
       "\t& date & rx & hml\\_fx & rx\\_net & hml\\_fx\\_net & dollar & carry\\\\\n",
       "\t\\hline\n",
       "\t& Date & Float64 & Float64 & Float64 & Float64 & Float64 & Float64\\\\\n",
       "\t\\hline\n",
       "\t1 & 1983-11-30 & -0.0164371 & -0.00301259 & -0.0172202 & -0.00294848 & 0.0153914 & 0.0110917 \\\\\n",
       "\t2 & 1983-12-31 & -0.00855435 & 0.00924729 & -0.0104163 & 0.00531925 & 0.00786787 & 0.000485357 \\\\\n",
       "\t3 & 1984-01-31 & -0.0300285 & 0.0240907 & -0.031178 & 0.0240164 & 0.0293586 & -0.0134736 \\\\\n",
       "\t4 & 1984-02-29 & 0.0465761 & 0.0141806 & 0.0458362 & 0.0144424 & -0.0476108 & -0.00504086 \\\\\n",
       "\t5 & 1984-03-31 & -0.00102185 & -0.00814813 & -0.00190061 & -0.00849513 & 0.0011936 & 0.0208235 \\\\\n",
       "\t6 & 1984-04-30 & -0.0345279 & 0.0119197 & -0.0355351 & 0.0104154 & 0.0330083 & -0.00350537 \\\\\n",
       "\t7 & 1984-05-31 & -0.00866225 & 0.000918446 & -0.00949107 & 0.000484597 & 0.00796162 & 0.00876436 \\\\\n",
       "\t8 & 1984-06-30 & -0.0222722 & -0.00196952 & -0.0233708 & -0.00328071 & 0.0213212 & 0.0108247 \\\\\n",
       "\t9 & 1984-07-31 & -0.0507343 & -0.0586337 & -0.0518118 & -0.0604458 & 0.0490705 & 0.0674597 \\\\\n",
       "\t10 & 1984-08-31 & 0.00952975 & 0.0259592 & 0.00805588 & 0.0228228 & -0.00983357 & -0.0126415 \\\\\n",
       "\t11 & 1984-09-30 & -0.0493 & 0.00598681 & -0.050789 & 0.00674645 & 0.0480422 & 0.00524294 \\\\\n",
       "\t12 & 1984-10-31 & -0.00967766 & -0.0654397 & -0.0112236 & -0.064485 & 0.00888802 & 0.0766164 \\\\\n",
       "\t13 & 1984-11-30 & -0.0112935 & 0.0372536 & -0.0126611 & 0.0338093 & 0.0115806 & -0.0249051 \\\\\n",
       "\t14 & 1984-12-31 & -0.0196106 & -0.00446018 & -0.0213044 & -0.00741581 & 0.0194938 & 0.0155751 \\\\\n",
       "\t15 & 1985-01-31 & -0.00826425 & 0.0101983 & -0.010175 & 0.00673396 & 0.00937026 & -0.00114745 \\\\\n",
       "\t16 & 1985-02-28 & -0.0467804 & 0.0263096 & -0.0492176 & 0.0223572 & 0.0479246 & -0.0169406 \\\\\n",
       "\t17 & 1985-03-31 & 0.0564107 & 0.0103828 & 0.0523995 & 0.00859719 & -0.0569152 & 0.010432 \\\\\n",
       "\t18 & 1985-04-30 & -0.00660584 & -0.000933242 & -0.00978786 & -0.0058027 & 0.0103777 & 0.0135867 \\\\\n",
       "\t19 & 1985-05-31 & 0.0112972 & 0.00621609 & 0.00894726 & 0.00399171 & -0.00906238 & 0.00682619 \\\\\n",
       "\t20 & 1985-06-30 & 0.0156921 & 0.0372224 & 0.0134053 & 0.0348543 & -0.012182 & -0.0229345 \\\\\n",
       "\t21 & 1985-07-31 & 0.056054 & 0.0191824 & 0.0543573 & 0.0181234 & -0.0538218 & -0.00797762 \\\\\n",
       "\t22 & 1985-08-31 & -0.00441376 & 0.0160045 & -0.00626056 & 0.0145607 & 0.0062166 & -0.00312668 \\\\\n",
       "\t23 & 1985-09-30 & 0.0355398 & -0.0221378 & 0.0335289 & -0.023837 & -0.0333116 & 0.0375194 \\\\\n",
       "\t24 & 1985-10-31 & 0.0191743 & 0.0272324 & 0.0166787 & 0.0237748 & -0.0171416 & -0.012727 \\\\\n",
       "\t$\\dots$ & $\\dots$ & $\\dots$ & $\\dots$ & $\\dots$ & $\\dots$ & $\\dots$ & $\\dots$ \\\\\n",
       "\\end{tabular}\n"
      ],
      "text/plain": [
       "\u001b[1m458×7 DataFrame\u001b[0m\n",
       "\u001b[1m Row \u001b[0m│\u001b[1m date       \u001b[0m\u001b[1m rx          \u001b[0m\u001b[1m hml_fx       \u001b[0m\u001b[1m rx_net      \u001b[0m\u001b[1m hml_fx_net   \u001b[0m\u001b[1m dollar      \u001b[0m\u001b[1m carry      \u001b[0m ⋯\n",
       "     │\u001b[90m Date       \u001b[0m\u001b[90m Float64     \u001b[0m\u001b[90m Float64      \u001b[0m\u001b[90m Float64     \u001b[0m\u001b[90m Float64      \u001b[0m\u001b[90m Float64     \u001b[0m\u001b[90m Float64    \u001b[0m ⋯\n",
       "─────┼─────────────────────────────────────────────────────────────────────────────────────────────\n",
       "   1 │ 1983-11-30  -0.0164371   -0.00301259   -0.0172202   -0.00294848    0.0153914    0.0110917  ⋯\n",
       "   2 │ 1983-12-31  -0.00855435   0.00924729   -0.0104163    0.00531925    0.00786787   0.00048535\n",
       "   3 │ 1984-01-31  -0.0300285    0.0240907    -0.031178     0.0240164     0.0293586   -0.0134736\n",
       "   4 │ 1984-02-29   0.0465761    0.0141806     0.0458362    0.0144424    -0.0476108   -0.00504086\n",
       "   5 │ 1984-03-31  -0.00102185  -0.00814813   -0.00190061  -0.00849513    0.0011936    0.0208235  ⋯\n",
       "   6 │ 1984-04-30  -0.0345279    0.0119197    -0.0355351    0.0104154     0.0330083   -0.00350537\n",
       "   7 │ 1984-05-31  -0.00866225   0.000918446  -0.00949107   0.000484597   0.00796162   0.00876436\n",
       "   8 │ 1984-06-30  -0.0222722   -0.00196952   -0.0233708   -0.00328071    0.0213212    0.0108247\n",
       "  ⋮  │     ⋮            ⋮            ⋮             ⋮            ⋮             ⋮            ⋮      ⋱\n",
       " 452 │ 2021-06-30  -0.0188973    0.012769     -0.019468     0.0123802     0.019989    -0.00610675 ⋯\n",
       " 453 │ 2021-07-31  -0.00371919   0.00367223   -0.0042291    0.00329457    0.00474065   0.00271682\n",
       " 454 │ 2021-08-31   0.00411804   0.0207374     0.00357954   0.0203957    -0.00306246  -0.0145215\n",
       " 455 │ 2021-09-30  -0.0155467   -0.00713398   -0.0160906   -0.00746358    0.0166073    0.0135197\n",
       " 456 │ 2021-10-31   0.00561126  -0.0136209     0.00502858  -0.0140274    -0.00440235   0.020375   ⋯\n",
       " 457 │ 2021-11-30  -0.0312092   -0.0569581    -0.0319897   -0.0582488     0.0324027    0.0632765\n",
       " 458 │ 2021-12-31   0.0106153    0.00908815    0.00974196   0.00750843   -0.00956695  -0.00135599\n",
       "\u001b[36m                                                                      1 column and 443 rows omitted\u001b[0m"
      ]
     },
     "metadata": {},
     "output_type": "display_data"
    }
   ],
   "source": [
    "python_factors"
   ]
  },
  {
   "cell_type": "code",
   "execution_count": 24,
   "metadata": {},
   "outputs": [
    {
     "data": {
      "text/html": [
       "<div><div style = \"float: left;\"><span>458×7 DataFrame</span></div><div style = \"float: right;\"><span style = \"font-style: italic;\">433 rows omitted</span></div><div style = \"clear: both;\"></div></div><div class = \"data-frame\" style = \"overflow-x: scroll;\"><table class = \"data-frame\" style = \"margin-bottom: 6px;\"><thead><tr class = \"header\"><th class = \"rowNumber\" style = \"font-weight: bold; text-align: right;\">Row</th><th style = \"text-align: left;\">date</th><th style = \"text-align: left;\">rx</th><th style = \"text-align: left;\">hml_fx</th><th style = \"text-align: left;\">rx_net</th><th style = \"text-align: left;\">hml_fx_net</th><th style = \"text-align: left;\">dollar</th><th style = \"text-align: left;\">carry</th></tr><tr class = \"subheader headerLastRow\"><th class = \"rowNumber\" style = \"font-weight: bold; text-align: right;\"></th><th title = \"Dates.Date\" style = \"text-align: left;\">Date</th><th title = \"Float64\" style = \"text-align: left;\">Float64</th><th title = \"Float64\" style = \"text-align: left;\">Float64</th><th title = \"Float64\" style = \"text-align: left;\">Float64</th><th title = \"Float64\" style = \"text-align: left;\">Float64</th><th title = \"Float64\" style = \"text-align: left;\">Float64</th><th title = \"Float64\" style = \"text-align: left;\">Float64</th></tr></thead><tbody><tr><td class = \"rowNumber\" style = \"font-weight: bold; text-align: right;\">1</td><td style = \"text-align: left;\">1983-11-30</td><td style = \"text-align: right;\">-0.0164371</td><td style = \"text-align: right;\">-0.00301259</td><td style = \"text-align: right;\">-0.0170909</td><td style = \"text-align: right;\">-0.00294848</td><td style = \"text-align: right;\">0.0153914</td><td style = \"text-align: right;\">0.0110917</td></tr><tr><td class = \"rowNumber\" style = \"font-weight: bold; text-align: right;\">2</td><td style = \"text-align: left;\">1983-12-31</td><td style = \"text-align: right;\">-0.00855435</td><td style = \"text-align: right;\">0.00924729</td><td style = \"text-align: right;\">-0.0100971</td><td style = \"text-align: right;\">0.00531925</td><td style = \"text-align: right;\">0.00786787</td><td style = \"text-align: right;\">0.000485357</td></tr><tr><td class = \"rowNumber\" style = \"font-weight: bold; text-align: right;\">3</td><td style = \"text-align: left;\">1984-01-31</td><td style = \"text-align: right;\">-0.0300285</td><td style = \"text-align: right;\">0.0240907</td><td style = \"text-align: right;\">-0.0309099</td><td style = \"text-align: right;\">0.0240164</td><td style = \"text-align: right;\">0.0293586</td><td style = \"text-align: right;\">-0.0134736</td></tr><tr><td class = \"rowNumber\" style = \"font-weight: bold; text-align: right;\">4</td><td style = \"text-align: left;\">1984-02-29</td><td style = \"text-align: right;\">0.0465761</td><td style = \"text-align: right;\">0.0141806</td><td style = \"text-align: right;\">0.0459695</td><td style = \"text-align: right;\">0.0144424</td><td style = \"text-align: right;\">-0.0476108</td><td style = \"text-align: right;\">-0.00504086</td></tr><tr><td class = \"rowNumber\" style = \"font-weight: bold; text-align: right;\">5</td><td style = \"text-align: left;\">1984-03-31</td><td style = \"text-align: right;\">-0.00102185</td><td style = \"text-align: right;\">-0.00814813</td><td style = \"text-align: right;\">-0.00163983</td><td style = \"text-align: right;\">-0.00849513</td><td style = \"text-align: right;\">0.0011936</td><td style = \"text-align: right;\">0.0208235</td></tr><tr><td class = \"rowNumber\" style = \"font-weight: bold; text-align: right;\">6</td><td style = \"text-align: left;\">1984-04-30</td><td style = \"text-align: right;\">-0.0345279</td><td style = \"text-align: right;\">0.0119197</td><td style = \"text-align: right;\">-0.035266</td><td style = \"text-align: right;\">0.0104154</td><td style = \"text-align: right;\">0.0330083</td><td style = \"text-align: right;\">-0.00350537</td></tr><tr><td class = \"rowNumber\" style = \"font-weight: bold; text-align: right;\">7</td><td style = \"text-align: left;\">1984-05-31</td><td style = \"text-align: right;\">-0.00866225</td><td style = \"text-align: right;\">0.000918446</td><td style = \"text-align: right;\">-0.00921588</td><td style = \"text-align: right;\">0.000484597</td><td style = \"text-align: right;\">0.00796162</td><td style = \"text-align: right;\">0.00876436</td></tr><tr><td class = \"rowNumber\" style = \"font-weight: bold; text-align: right;\">8</td><td style = \"text-align: left;\">1984-06-30</td><td style = \"text-align: right;\">-0.0222722</td><td style = \"text-align: right;\">-0.00196952</td><td style = \"text-align: right;\">-0.0230918</td><td style = \"text-align: right;\">-0.00328071</td><td style = \"text-align: right;\">0.0213212</td><td style = \"text-align: right;\">0.0108247</td></tr><tr><td class = \"rowNumber\" style = \"font-weight: bold; text-align: right;\">9</td><td style = \"text-align: left;\">1984-07-31</td><td style = \"text-align: right;\">-0.0507343</td><td style = \"text-align: right;\">-0.0586337</td><td style = \"text-align: right;\">-0.051525</td><td style = \"text-align: right;\">-0.0604458</td><td style = \"text-align: right;\">0.0490705</td><td style = \"text-align: right;\">0.0674597</td></tr><tr><td class = \"rowNumber\" style = \"font-weight: bold; text-align: right;\">10</td><td style = \"text-align: left;\">1984-08-31</td><td style = \"text-align: right;\">0.00952975</td><td style = \"text-align: right;\">0.0259592</td><td style = \"text-align: right;\">0.00820246</td><td style = \"text-align: right;\">0.0228228</td><td style = \"text-align: right;\">-0.00983357</td><td style = \"text-align: right;\">-0.0126415</td></tr><tr><td class = \"rowNumber\" style = \"font-weight: bold; text-align: right;\">11</td><td style = \"text-align: left;\">1984-09-30</td><td style = \"text-align: right;\">-0.0493</td><td style = \"text-align: right;\">0.00598681</td><td style = \"text-align: right;\">-0.0503411</td><td style = \"text-align: right;\">0.00674645</td><td style = \"text-align: right;\">0.0480422</td><td style = \"text-align: right;\">0.00524294</td></tr><tr><td class = \"rowNumber\" style = \"font-weight: bold; text-align: right;\">12</td><td style = \"text-align: left;\">1984-10-31</td><td style = \"text-align: right;\">-0.00967766</td><td style = \"text-align: right;\">-0.0654397</td><td style = \"text-align: right;\">-0.0109118</td><td style = \"text-align: right;\">-0.064485</td><td style = \"text-align: right;\">0.00888802</td><td style = \"text-align: right;\">0.0766164</td></tr><tr><td class = \"rowNumber\" style = \"font-weight: bold; text-align: right;\">13</td><td style = \"text-align: left;\">1984-11-30</td><td style = \"text-align: right;\">-0.0112935</td><td style = \"text-align: right;\">0.0372536</td><td style = \"text-align: right;\">-0.0125028</td><td style = \"text-align: right;\">0.0338093</td><td style = \"text-align: right;\">0.0115806</td><td style = \"text-align: right;\">-0.0249051</td></tr><tr><td style = \"text-align: right;\">&vellip;</td><td style = \"text-align: right;\">&vellip;</td><td style = \"text-align: right;\">&vellip;</td><td style = \"text-align: right;\">&vellip;</td><td style = \"text-align: right;\">&vellip;</td><td style = \"text-align: right;\">&vellip;</td><td style = \"text-align: right;\">&vellip;</td><td style = \"text-align: right;\">&vellip;</td></tr><tr><td class = \"rowNumber\" style = \"font-weight: bold; text-align: right;\">447</td><td style = \"text-align: left;\">2021-01-31</td><td style = \"text-align: right;\">-0.00180341</td><td style = \"text-align: right;\">0.0114958</td><td style = \"text-align: right;\">-0.00232666</td><td style = \"text-align: right;\">0.0110427</td><td style = \"text-align: right;\">0.00255079</td><td style = \"text-align: right;\">-0.00595709</td></tr><tr><td class = \"rowNumber\" style = \"font-weight: bold; text-align: right;\">448</td><td style = \"text-align: left;\">2021-02-28</td><td style = \"text-align: right;\">-0.0033592</td><td style = \"text-align: right;\">-0.00442578</td><td style = \"text-align: right;\">-0.00391905</td><td style = \"text-align: right;\">-0.00535264</td><td style = \"text-align: right;\">0.00414156</td><td style = \"text-align: right;\">0.00980683</td></tr><tr><td class = \"rowNumber\" style = \"font-weight: bold; text-align: right;\">449</td><td style = \"text-align: left;\">2021-03-31</td><td style = \"text-align: right;\">-0.0159103</td><td style = \"text-align: right;\">0.0264055</td><td style = \"text-align: right;\">-0.0164256</td><td style = \"text-align: right;\">0.0255444</td><td style = \"text-align: right;\">0.0168658</td><td style = \"text-align: right;\">-0.0199708</td></tr><tr><td class = \"rowNumber\" style = \"font-weight: bold; text-align: right;\">450</td><td style = \"text-align: left;\">2021-04-30</td><td style = \"text-align: right;\">0.0149385</td><td style = \"text-align: right;\">-0.0117825</td><td style = \"text-align: right;\">0.0143643</td><td style = \"text-align: right;\">-0.0131844</td><td style = \"text-align: right;\">-0.0136734</td><td style = \"text-align: right;\">0.0196564</td></tr><tr><td class = \"rowNumber\" style = \"font-weight: bold; text-align: right;\">451</td><td style = \"text-align: left;\">2021-05-31</td><td style = \"text-align: right;\">0.0123023</td><td style = \"text-align: right;\">0.00960832</td><td style = \"text-align: right;\">0.0118046</td><td style = \"text-align: right;\">0.00920058</td><td style = \"text-align: right;\">-0.0112292</td><td style = \"text-align: right;\">-0.00291747</td></tr><tr><td class = \"rowNumber\" style = \"font-weight: bold; text-align: right;\">452</td><td style = \"text-align: left;\">2021-06-30</td><td style = \"text-align: right;\">-0.0188973</td><td style = \"text-align: right;\">0.012769</td><td style = \"text-align: right;\">-0.0193696</td><td style = \"text-align: right;\">0.0123802</td><td style = \"text-align: right;\">0.019989</td><td style = \"text-align: right;\">-0.00610675</td></tr><tr><td class = \"rowNumber\" style = \"font-weight: bold; text-align: right;\">453</td><td style = \"text-align: left;\">2021-07-31</td><td style = \"text-align: right;\">-0.00371919</td><td style = \"text-align: right;\">0.00367223</td><td style = \"text-align: right;\">-0.00411575</td><td style = \"text-align: right;\">0.00329457</td><td style = \"text-align: right;\">0.00474065</td><td style = \"text-align: right;\">0.00271682</td></tr><tr><td class = \"rowNumber\" style = \"font-weight: bold; text-align: right;\">454</td><td style = \"text-align: left;\">2021-08-31</td><td style = \"text-align: right;\">0.00411804</td><td style = \"text-align: right;\">0.0207374</td><td style = \"text-align: right;\">0.00368059</td><td style = \"text-align: right;\">0.0203957</td><td style = \"text-align: right;\">-0.00306246</td><td style = \"text-align: right;\">-0.0145215</td></tr><tr><td class = \"rowNumber\" style = \"font-weight: bold; text-align: right;\">455</td><td style = \"text-align: left;\">2021-09-30</td><td style = \"text-align: right;\">-0.0155467</td><td style = \"text-align: right;\">-0.00713398</td><td style = \"text-align: right;\">-0.0159634</td><td style = \"text-align: right;\">-0.00746358</td><td style = \"text-align: right;\">0.0166073</td><td style = \"text-align: right;\">0.0135197</td></tr><tr><td class = \"rowNumber\" style = \"font-weight: bold; text-align: right;\">456</td><td style = \"text-align: left;\">2021-10-31</td><td style = \"text-align: right;\">0.00561126</td><td style = \"text-align: right;\">-0.0136209</td><td style = \"text-align: right;\">0.00515765</td><td style = \"text-align: right;\">-0.0140274</td><td style = \"text-align: right;\">-0.00440235</td><td style = \"text-align: right;\">0.020375</td></tr><tr><td class = \"rowNumber\" style = \"font-weight: bold; text-align: right;\">457</td><td style = \"text-align: left;\">2021-11-30</td><td style = \"text-align: right;\">-0.0312092</td><td style = \"text-align: right;\">-0.0569581</td><td style = \"text-align: right;\">-0.0318899</td><td style = \"text-align: right;\">-0.0582488</td><td style = \"text-align: right;\">0.0324027</td><td style = \"text-align: right;\">0.0632765</td></tr><tr><td class = \"rowNumber\" style = \"font-weight: bold; text-align: right;\">458</td><td style = \"text-align: left;\">2021-12-31</td><td style = \"text-align: right;\">0.0106153</td><td style = \"text-align: right;\">0.00908815</td><td style = \"text-align: right;\">0.00985129</td><td style = \"text-align: right;\">0.00736814</td><td style = \"text-align: right;\">-0.00956695</td><td style = \"text-align: right;\">-0.00135599</td></tr></tbody></table></div>"
      ],
      "text/latex": [
       "\\begin{tabular}{r|ccccccc}\n",
       "\t& date & rx & hml\\_fx & rx\\_net & hml\\_fx\\_net & dollar & carry\\\\\n",
       "\t\\hline\n",
       "\t& Date & Float64 & Float64 & Float64 & Float64 & Float64 & Float64\\\\\n",
       "\t\\hline\n",
       "\t1 & 1983-11-30 & -0.0164371 & -0.00301259 & -0.0170909 & -0.00294848 & 0.0153914 & 0.0110917 \\\\\n",
       "\t2 & 1983-12-31 & -0.00855435 & 0.00924729 & -0.0100971 & 0.00531925 & 0.00786787 & 0.000485357 \\\\\n",
       "\t3 & 1984-01-31 & -0.0300285 & 0.0240907 & -0.0309099 & 0.0240164 & 0.0293586 & -0.0134736 \\\\\n",
       "\t4 & 1984-02-29 & 0.0465761 & 0.0141806 & 0.0459695 & 0.0144424 & -0.0476108 & -0.00504086 \\\\\n",
       "\t5 & 1984-03-31 & -0.00102185 & -0.00814813 & -0.00163983 & -0.00849513 & 0.0011936 & 0.0208235 \\\\\n",
       "\t6 & 1984-04-30 & -0.0345279 & 0.0119197 & -0.035266 & 0.0104154 & 0.0330083 & -0.00350537 \\\\\n",
       "\t7 & 1984-05-31 & -0.00866225 & 0.000918446 & -0.00921588 & 0.000484597 & 0.00796162 & 0.00876436 \\\\\n",
       "\t8 & 1984-06-30 & -0.0222722 & -0.00196952 & -0.0230918 & -0.00328071 & 0.0213212 & 0.0108247 \\\\\n",
       "\t9 & 1984-07-31 & -0.0507343 & -0.0586337 & -0.051525 & -0.0604458 & 0.0490705 & 0.0674597 \\\\\n",
       "\t10 & 1984-08-31 & 0.00952975 & 0.0259592 & 0.00820246 & 0.0228228 & -0.00983357 & -0.0126415 \\\\\n",
       "\t11 & 1984-09-30 & -0.0493 & 0.00598681 & -0.0503411 & 0.00674645 & 0.0480422 & 0.00524294 \\\\\n",
       "\t12 & 1984-10-31 & -0.00967766 & -0.0654397 & -0.0109118 & -0.064485 & 0.00888802 & 0.0766164 \\\\\n",
       "\t13 & 1984-11-30 & -0.0112935 & 0.0372536 & -0.0125028 & 0.0338093 & 0.0115806 & -0.0249051 \\\\\n",
       "\t14 & 1984-12-31 & -0.0196106 & -0.00446018 & -0.0211424 & -0.00838742 & 0.0194938 & 0.0155751 \\\\\n",
       "\t15 & 1985-01-31 & -0.00826425 & 0.0101983 & -0.0100634 & 0.00673396 & 0.00937026 & -0.00114745 \\\\\n",
       "\t16 & 1985-02-28 & -0.0467804 & 0.0263096 & -0.0490922 & 0.0223572 & 0.0479246 & -0.0169406 \\\\\n",
       "\t17 & 1985-03-31 & 0.0564107 & 0.0103828 & 0.0525615 & 0.00956909 & -0.0569152 & 0.010432 \\\\\n",
       "\t18 & 1985-04-30 & -0.00660584 & -0.000933242 & -0.00954816 & -0.0043645 & 0.0103777 & 0.0135867 \\\\\n",
       "\t19 & 1985-05-31 & 0.0112972 & 0.00621609 & 0.00909361 & 0.00399171 & -0.00906238 & 0.00682619 \\\\\n",
       "\t20 & 1985-06-30 & 0.0156921 & 0.0372224 & 0.0135474 & 0.0348543 & -0.012182 & -0.0229345 \\\\\n",
       "\t21 & 1985-07-31 & 0.056054 & 0.0191824 & 0.0544521 & 0.0181234 & -0.0538218 & -0.00797762 \\\\\n",
       "\t22 & 1985-08-31 & -0.00441376 & 0.0160045 & -0.00614953 & 0.0145607 & 0.0062166 & -0.00312668 \\\\\n",
       "\t23 & 1985-09-30 & 0.0355398 & -0.0221378 & 0.0336404 & -0.023837 & -0.0333116 & 0.0375194 \\\\\n",
       "\t24 & 1985-10-31 & 0.0191743 & 0.0272324 & 0.0167885 & 0.0237748 & -0.0171416 & -0.012727 \\\\\n",
       "\t$\\dots$ & $\\dots$ & $\\dots$ & $\\dots$ & $\\dots$ & $\\dots$ & $\\dots$ & $\\dots$ \\\\\n",
       "\\end{tabular}\n"
      ],
      "text/plain": [
       "\u001b[1m458×7 DataFrame\u001b[0m\n",
       "\u001b[1m Row \u001b[0m│\u001b[1m date       \u001b[0m\u001b[1m rx          \u001b[0m\u001b[1m hml_fx       \u001b[0m\u001b[1m rx_net      \u001b[0m\u001b[1m hml_fx_net   \u001b[0m\u001b[1m dollar      \u001b[0m\u001b[1m carry      \u001b[0m ⋯\n",
       "     │\u001b[90m Date       \u001b[0m\u001b[90m Float64     \u001b[0m\u001b[90m Float64      \u001b[0m\u001b[90m Float64     \u001b[0m\u001b[90m Float64      \u001b[0m\u001b[90m Float64     \u001b[0m\u001b[90m Float64    \u001b[0m ⋯\n",
       "─────┼─────────────────────────────────────────────────────────────────────────────────────────────\n",
       "   1 │ 1983-11-30  -0.0164371   -0.00301259   -0.0170909   -0.00294848    0.0153914    0.0110917  ⋯\n",
       "   2 │ 1983-12-31  -0.00855435   0.00924729   -0.0100971    0.00531925    0.00786787   0.00048535\n",
       "   3 │ 1984-01-31  -0.0300285    0.0240907    -0.0309099    0.0240164     0.0293586   -0.0134736\n",
       "   4 │ 1984-02-29   0.0465761    0.0141806     0.0459695    0.0144424    -0.0476108   -0.00504086\n",
       "   5 │ 1984-03-31  -0.00102185  -0.00814813   -0.00163983  -0.00849513    0.0011936    0.0208235  ⋯\n",
       "   6 │ 1984-04-30  -0.0345279    0.0119197    -0.035266     0.0104154     0.0330083   -0.00350537\n",
       "   7 │ 1984-05-31  -0.00866225   0.000918446  -0.00921588   0.000484597   0.00796162   0.00876436\n",
       "   8 │ 1984-06-30  -0.0222722   -0.00196952   -0.0230918   -0.00328071    0.0213212    0.0108247\n",
       "  ⋮  │     ⋮            ⋮            ⋮             ⋮            ⋮             ⋮            ⋮      ⋱\n",
       " 452 │ 2021-06-30  -0.0188973    0.012769     -0.0193696    0.0123802     0.019989    -0.00610675 ⋯\n",
       " 453 │ 2021-07-31  -0.00371919   0.00367223   -0.00411575   0.00329457    0.00474065   0.00271682\n",
       " 454 │ 2021-08-31   0.00411804   0.0207374     0.00368059   0.0203957    -0.00306246  -0.0145215\n",
       " 455 │ 2021-09-30  -0.0155467   -0.00713398   -0.0159634   -0.00746358    0.0166073    0.0135197\n",
       " 456 │ 2021-10-31   0.00561126  -0.0136209     0.00515765  -0.0140274    -0.00440235   0.020375   ⋯\n",
       " 457 │ 2021-11-30  -0.0312092   -0.0569581    -0.0318899   -0.0582488     0.0324027    0.0632765\n",
       " 458 │ 2021-12-31   0.0106153    0.00908815    0.00985129   0.00736814   -0.00956695  -0.00135599\n",
       "\u001b[36m                                                                      1 column and 443 rows omitted\u001b[0m"
      ]
     },
     "metadata": {},
     "output_type": "display_data"
    }
   ],
   "source": [
    "julia_factors"
   ]
  },
  {
   "cell_type": "code",
   "execution_count": 28,
   "metadata": {},
   "outputs": [
    {
     "data": {
      "text/html": [
       "<div><div style = \"float: left;\"><span>18792×8 DataFrame</span></div><div style = \"float: right;\"><span style = \"font-style: italic;\">18767 rows omitted</span></div><div style = \"clear: both;\"></div></div><div class = \"data-frame\" style = \"overflow-x: scroll;\"><table class = \"data-frame\" style = \"margin-bottom: 6px;\"><thead><tr class = \"header\"><th class = \"rowNumber\" style = \"font-weight: bold; text-align: right;\">Row</th><th style = \"text-align: left;\">cur_code</th><th style = \"text-align: left;\">date</th><th style = \"text-align: left;\">spot_bid</th><th style = \"text-align: left;\">forward_bid</th><th style = \"text-align: left;\">spot_mid</th><th style = \"text-align: left;\">forward_mid</th><th style = \"text-align: left;\">spot_ask</th><th style = \"text-align: left;\">forward_ask</th></tr><tr class = \"subheader headerLastRow\"><th class = \"rowNumber\" style = \"font-weight: bold; text-align: right;\"></th><th title = \"String3\" style = \"text-align: left;\">String3</th><th title = \"Dates.Date\" style = \"text-align: left;\">Date</th><th title = \"Union{Missing, Float64}\" style = \"text-align: left;\">Float64?</th><th title = \"Union{Missing, Float64}\" style = \"text-align: left;\">Float64?</th><th title = \"Union{Missing, Float64}\" style = \"text-align: left;\">Float64?</th><th title = \"Union{Missing, Float64}\" style = \"text-align: left;\">Float64?</th><th title = \"Union{Missing, Float64}\" style = \"text-align: left;\">Float64?</th><th title = \"Union{Missing, Float64}\" style = \"text-align: left;\">Float64?</th></tr></thead><tbody><tr><td class = \"rowNumber\" style = \"font-weight: bold; text-align: right;\">1</td><td style = \"text-align: left;\">AUD</td><td style = \"text-align: left;\">1976-01-31</td><td style = \"font-style: italic; text-align: right;\">missing</td><td style = \"font-style: italic; text-align: right;\">missing</td><td style = \"font-style: italic; text-align: right;\">missing</td><td style = \"font-style: italic; text-align: right;\">missing</td><td style = \"font-style: italic; text-align: right;\">missing</td><td style = \"font-style: italic; text-align: right;\">missing</td></tr><tr><td class = \"rowNumber\" style = \"font-weight: bold; text-align: right;\">2</td><td style = \"text-align: left;\">AUD</td><td style = \"text-align: left;\">1976-02-29</td><td style = \"font-style: italic; text-align: right;\">missing</td><td style = \"font-style: italic; text-align: right;\">missing</td><td style = \"font-style: italic; text-align: right;\">missing</td><td style = \"font-style: italic; text-align: right;\">missing</td><td style = \"font-style: italic; text-align: right;\">missing</td><td style = \"font-style: italic; text-align: right;\">missing</td></tr><tr><td class = \"rowNumber\" style = \"font-weight: bold; text-align: right;\">3</td><td style = \"text-align: left;\">AUD</td><td style = \"text-align: left;\">1976-03-31</td><td style = \"font-style: italic; text-align: right;\">missing</td><td style = \"font-style: italic; text-align: right;\">missing</td><td style = \"font-style: italic; text-align: right;\">missing</td><td style = \"font-style: italic; text-align: right;\">missing</td><td style = \"font-style: italic; text-align: right;\">missing</td><td style = \"font-style: italic; text-align: right;\">missing</td></tr><tr><td class = \"rowNumber\" style = \"font-weight: bold; text-align: right;\">4</td><td style = \"text-align: left;\">AUD</td><td style = \"text-align: left;\">1976-04-30</td><td style = \"font-style: italic; text-align: right;\">missing</td><td style = \"font-style: italic; text-align: right;\">missing</td><td style = \"font-style: italic; text-align: right;\">missing</td><td style = \"font-style: italic; text-align: right;\">missing</td><td style = \"font-style: italic; text-align: right;\">missing</td><td style = \"font-style: italic; text-align: right;\">missing</td></tr><tr><td class = \"rowNumber\" style = \"font-weight: bold; text-align: right;\">5</td><td style = \"text-align: left;\">AUD</td><td style = \"text-align: left;\">1976-05-31</td><td style = \"font-style: italic; text-align: right;\">missing</td><td style = \"font-style: italic; text-align: right;\">missing</td><td style = \"font-style: italic; text-align: right;\">missing</td><td style = \"font-style: italic; text-align: right;\">missing</td><td style = \"font-style: italic; text-align: right;\">missing</td><td style = \"font-style: italic; text-align: right;\">missing</td></tr><tr><td class = \"rowNumber\" style = \"font-weight: bold; text-align: right;\">6</td><td style = \"text-align: left;\">AUD</td><td style = \"text-align: left;\">1976-06-30</td><td style = \"font-style: italic; text-align: right;\">missing</td><td style = \"font-style: italic; text-align: right;\">missing</td><td style = \"font-style: italic; text-align: right;\">missing</td><td style = \"font-style: italic; text-align: right;\">missing</td><td style = \"font-style: italic; text-align: right;\">missing</td><td style = \"font-style: italic; text-align: right;\">missing</td></tr><tr><td class = \"rowNumber\" style = \"font-weight: bold; text-align: right;\">7</td><td style = \"text-align: left;\">AUD</td><td style = \"text-align: left;\">1976-07-31</td><td style = \"font-style: italic; text-align: right;\">missing</td><td style = \"font-style: italic; text-align: right;\">missing</td><td style = \"font-style: italic; text-align: right;\">missing</td><td style = \"font-style: italic; text-align: right;\">missing</td><td style = \"font-style: italic; text-align: right;\">missing</td><td style = \"font-style: italic; text-align: right;\">missing</td></tr><tr><td class = \"rowNumber\" style = \"font-weight: bold; text-align: right;\">8</td><td style = \"text-align: left;\">AUD</td><td style = \"text-align: left;\">1976-08-31</td><td style = \"font-style: italic; text-align: right;\">missing</td><td style = \"font-style: italic; text-align: right;\">missing</td><td style = \"font-style: italic; text-align: right;\">missing</td><td style = \"font-style: italic; text-align: right;\">missing</td><td style = \"font-style: italic; text-align: right;\">missing</td><td style = \"font-style: italic; text-align: right;\">missing</td></tr><tr><td class = \"rowNumber\" style = \"font-weight: bold; text-align: right;\">9</td><td style = \"text-align: left;\">AUD</td><td style = \"text-align: left;\">1976-09-30</td><td style = \"font-style: italic; text-align: right;\">missing</td><td style = \"font-style: italic; text-align: right;\">missing</td><td style = \"font-style: italic; text-align: right;\">missing</td><td style = \"font-style: italic; text-align: right;\">missing</td><td style = \"font-style: italic; text-align: right;\">missing</td><td style = \"font-style: italic; text-align: right;\">missing</td></tr><tr><td class = \"rowNumber\" style = \"font-weight: bold; text-align: right;\">10</td><td style = \"text-align: left;\">AUD</td><td style = \"text-align: left;\">1976-10-31</td><td style = \"font-style: italic; text-align: right;\">missing</td><td style = \"font-style: italic; text-align: right;\">missing</td><td style = \"font-style: italic; text-align: right;\">missing</td><td style = \"font-style: italic; text-align: right;\">missing</td><td style = \"font-style: italic; text-align: right;\">missing</td><td style = \"font-style: italic; text-align: right;\">missing</td></tr><tr><td class = \"rowNumber\" style = \"font-weight: bold; text-align: right;\">11</td><td style = \"text-align: left;\">AUD</td><td style = \"text-align: left;\">1976-11-30</td><td style = \"font-style: italic; text-align: right;\">missing</td><td style = \"font-style: italic; text-align: right;\">missing</td><td style = \"font-style: italic; text-align: right;\">missing</td><td style = \"font-style: italic; text-align: right;\">missing</td><td style = \"font-style: italic; text-align: right;\">missing</td><td style = \"font-style: italic; text-align: right;\">missing</td></tr><tr><td class = \"rowNumber\" style = \"font-weight: bold; text-align: right;\">12</td><td style = \"text-align: left;\">AUD</td><td style = \"text-align: left;\">1976-12-31</td><td style = \"font-style: italic; text-align: right;\">missing</td><td style = \"font-style: italic; text-align: right;\">missing</td><td style = \"font-style: italic; text-align: right;\">missing</td><td style = \"font-style: italic; text-align: right;\">missing</td><td style = \"font-style: italic; text-align: right;\">missing</td><td style = \"font-style: italic; text-align: right;\">missing</td></tr><tr><td class = \"rowNumber\" style = \"font-weight: bold; text-align: right;\">13</td><td style = \"text-align: left;\">AUD</td><td style = \"text-align: left;\">1977-01-31</td><td style = \"font-style: italic; text-align: right;\">missing</td><td style = \"font-style: italic; text-align: right;\">missing</td><td style = \"font-style: italic; text-align: right;\">missing</td><td style = \"font-style: italic; text-align: right;\">missing</td><td style = \"font-style: italic; text-align: right;\">missing</td><td style = \"font-style: italic; text-align: right;\">missing</td></tr><tr><td style = \"text-align: right;\">&vellip;</td><td style = \"text-align: right;\">&vellip;</td><td style = \"text-align: right;\">&vellip;</td><td style = \"text-align: right;\">&vellip;</td><td style = \"text-align: right;\">&vellip;</td><td style = \"text-align: right;\">&vellip;</td><td style = \"text-align: right;\">&vellip;</td><td style = \"text-align: right;\">&vellip;</td><td style = \"text-align: right;\">&vellip;</td></tr><tr><td class = \"rowNumber\" style = \"font-weight: bold; text-align: right;\">18781</td><td style = \"text-align: left;\">GBP</td><td style = \"text-align: left;\">2021-01-31</td><td style = \"font-style: italic; text-align: right;\">0.728332</td><td style = \"font-style: italic; text-align: right;\">0.728237</td><td style = \"font-style: italic; text-align: right;\">0.728226</td><td style = \"font-style: italic; text-align: right;\">0.728125</td><td style = \"font-style: italic; text-align: right;\">0.72812</td><td style = \"font-style: italic; text-align: right;\">0.728019</td></tr><tr><td class = \"rowNumber\" style = \"font-weight: bold; text-align: right;\">18782</td><td style = \"text-align: left;\">GBP</td><td style = \"text-align: left;\">2021-02-28</td><td style = \"font-style: italic; text-align: right;\">0.715359</td><td style = \"font-style: italic; text-align: right;\">0.715205</td><td style = \"font-style: italic; text-align: right;\">0.715256</td><td style = \"font-style: italic; text-align: right;\">0.715098</td><td style = \"font-style: italic; text-align: right;\">0.715154</td><td style = \"font-style: italic; text-align: right;\">0.714996</td></tr><tr><td class = \"rowNumber\" style = \"font-weight: bold; text-align: right;\">18783</td><td style = \"text-align: left;\">GBP</td><td style = \"text-align: left;\">2021-03-31</td><td style = \"font-style: italic; text-align: right;\">0.7249</td><td style = \"font-style: italic; text-align: right;\">0.724832</td><td style = \"font-style: italic; text-align: right;\">0.724795</td><td style = \"font-style: italic; text-align: right;\">0.724722</td><td style = \"font-style: italic; text-align: right;\">0.72469</td><td style = \"font-style: italic; text-align: right;\">0.724611</td></tr><tr><td class = \"rowNumber\" style = \"font-weight: bold; text-align: right;\">18784</td><td style = \"text-align: left;\">GBP</td><td style = \"text-align: left;\">2021-04-30</td><td style = \"font-style: italic; text-align: right;\">0.722387</td><td style = \"font-style: italic; text-align: right;\">0.722345</td><td style = \"font-style: italic; text-align: right;\">0.722256</td><td style = \"font-style: italic; text-align: right;\">0.722204</td><td style = \"font-style: italic; text-align: right;\">0.722126</td><td style = \"font-style: italic; text-align: right;\">0.722069</td></tr><tr><td class = \"rowNumber\" style = \"font-weight: bold; text-align: right;\">18785</td><td style = \"text-align: left;\">GBP</td><td style = \"text-align: left;\">2021-05-31</td><td style = \"font-style: italic; text-align: right;\">0.703581</td><td style = \"font-style: italic; text-align: right;\">0.703561</td><td style = \"font-style: italic; text-align: right;\">0.703482</td><td style = \"font-style: italic; text-align: right;\">0.703453</td><td style = \"font-style: italic; text-align: right;\">0.703383</td><td style = \"font-style: italic; text-align: right;\">0.703349</td></tr><tr><td class = \"rowNumber\" style = \"font-weight: bold; text-align: right;\">18786</td><td style = \"text-align: left;\">GBP</td><td style = \"text-align: left;\">2021-06-30</td><td style = \"font-style: italic; text-align: right;\">0.724008</td><td style = \"font-style: italic; text-align: right;\">0.72395</td><td style = \"font-style: italic; text-align: right;\">0.723877</td><td style = \"font-style: italic; text-align: right;\">0.723814</td><td style = \"font-style: italic; text-align: right;\">0.723746</td><td style = \"font-style: italic; text-align: right;\">0.723678</td></tr><tr><td class = \"rowNumber\" style = \"font-weight: bold; text-align: right;\">18787</td><td style = \"text-align: left;\">GBP</td><td style = \"text-align: left;\">2021-07-31</td><td style = \"font-style: italic; text-align: right;\">0.719373</td><td style = \"font-style: italic; text-align: right;\">0.719326</td><td style = \"font-style: italic; text-align: right;\">0.719243</td><td style = \"font-style: italic; text-align: right;\">0.719192</td><td style = \"font-style: italic; text-align: right;\">0.719114</td><td style = \"font-style: italic; text-align: right;\">0.719062</td></tr><tr><td class = \"rowNumber\" style = \"font-weight: bold; text-align: right;\">18788</td><td style = \"text-align: left;\">GBP</td><td style = \"text-align: left;\">2021-08-31</td><td style = \"font-style: italic; text-align: right;\">0.726744</td><td style = \"font-style: italic; text-align: right;\">0.726691</td><td style = \"font-style: italic; text-align: right;\">0.726612</td><td style = \"font-style: italic; text-align: right;\">0.726549</td><td style = \"font-style: italic; text-align: right;\">0.72648</td><td style = \"font-style: italic; text-align: right;\">0.726412</td></tr><tr><td class = \"rowNumber\" style = \"font-weight: bold; text-align: right;\">18789</td><td style = \"text-align: left;\">GBP</td><td style = \"text-align: left;\">2021-09-30</td><td style = \"font-style: italic; text-align: right;\">0.741785</td><td style = \"font-style: italic; text-align: right;\">0.741757</td><td style = \"font-style: italic; text-align: right;\">0.741647</td><td style = \"font-style: italic; text-align: right;\">0.741614</td><td style = \"font-style: italic; text-align: right;\">0.74151</td><td style = \"font-style: italic; text-align: right;\">0.741471</td></tr><tr><td class = \"rowNumber\" style = \"font-weight: bold; text-align: right;\">18790</td><td style = \"text-align: left;\">GBP</td><td style = \"text-align: left;\">2021-10-31</td><td style = \"font-style: italic; text-align: right;\">0.729661</td><td style = \"font-style: italic; text-align: right;\">0.72965</td><td style = \"font-style: italic; text-align: right;\">0.729528</td><td style = \"font-style: italic; text-align: right;\">0.729512</td><td style = \"font-style: italic; text-align: right;\">0.729395</td><td style = \"font-style: italic; text-align: right;\">0.729373</td></tr><tr><td class = \"rowNumber\" style = \"font-weight: bold; text-align: right;\">18791</td><td style = \"text-align: left;\">GBP</td><td style = \"text-align: left;\">2021-11-30</td><td style = \"font-style: italic; text-align: right;\">0.755972</td><td style = \"font-style: italic; text-align: right;\">0.75535</td><td style = \"font-style: italic; text-align: right;\">0.755858</td><td style = \"font-style: italic; text-align: right;\">0.755224</td><td style = \"font-style: italic; text-align: right;\">0.755744</td><td style = \"font-style: italic; text-align: right;\">0.755099</td></tr><tr><td class = \"rowNumber\" style = \"font-weight: bold; text-align: right;\">18792</td><td style = \"text-align: left;\">GBP</td><td style = \"text-align: left;\">2021-12-31</td><td style = \"font-style: italic; text-align: right;\">0.738443</td><td style = \"font-style: italic; text-align: right;\">0.738514</td><td style = \"font-style: italic; text-align: right;\">0.738307</td><td style = \"font-style: italic; text-align: right;\">0.738362</td><td style = \"font-style: italic; text-align: right;\">0.738171</td><td style = \"font-style: italic; text-align: right;\">0.738204</td></tr></tbody></table></div>"
      ],
      "text/latex": [
       "\\begin{tabular}{r|cccccccc}\n",
       "\t& cur\\_code & date & spot\\_bid & forward\\_bid & spot\\_mid & forward\\_mid & spot\\_ask & forward\\_ask\\\\\n",
       "\t\\hline\n",
       "\t& String3 & Date & Float64? & Float64? & Float64? & Float64? & Float64? & Float64?\\\\\n",
       "\t\\hline\n",
       "\t1 & AUD & 1976-01-31 & \\emph{missing} & \\emph{missing} & \\emph{missing} & \\emph{missing} & \\emph{missing} & \\emph{missing} \\\\\n",
       "\t2 & AUD & 1976-02-29 & \\emph{missing} & \\emph{missing} & \\emph{missing} & \\emph{missing} & \\emph{missing} & \\emph{missing} \\\\\n",
       "\t3 & AUD & 1976-03-31 & \\emph{missing} & \\emph{missing} & \\emph{missing} & \\emph{missing} & \\emph{missing} & \\emph{missing} \\\\\n",
       "\t4 & AUD & 1976-04-30 & \\emph{missing} & \\emph{missing} & \\emph{missing} & \\emph{missing} & \\emph{missing} & \\emph{missing} \\\\\n",
       "\t5 & AUD & 1976-05-31 & \\emph{missing} & \\emph{missing} & \\emph{missing} & \\emph{missing} & \\emph{missing} & \\emph{missing} \\\\\n",
       "\t6 & AUD & 1976-06-30 & \\emph{missing} & \\emph{missing} & \\emph{missing} & \\emph{missing} & \\emph{missing} & \\emph{missing} \\\\\n",
       "\t7 & AUD & 1976-07-31 & \\emph{missing} & \\emph{missing} & \\emph{missing} & \\emph{missing} & \\emph{missing} & \\emph{missing} \\\\\n",
       "\t8 & AUD & 1976-08-31 & \\emph{missing} & \\emph{missing} & \\emph{missing} & \\emph{missing} & \\emph{missing} & \\emph{missing} \\\\\n",
       "\t9 & AUD & 1976-09-30 & \\emph{missing} & \\emph{missing} & \\emph{missing} & \\emph{missing} & \\emph{missing} & \\emph{missing} \\\\\n",
       "\t10 & AUD & 1976-10-31 & \\emph{missing} & \\emph{missing} & \\emph{missing} & \\emph{missing} & \\emph{missing} & \\emph{missing} \\\\\n",
       "\t11 & AUD & 1976-11-30 & \\emph{missing} & \\emph{missing} & \\emph{missing} & \\emph{missing} & \\emph{missing} & \\emph{missing} \\\\\n",
       "\t12 & AUD & 1976-12-31 & \\emph{missing} & \\emph{missing} & \\emph{missing} & \\emph{missing} & \\emph{missing} & \\emph{missing} \\\\\n",
       "\t13 & AUD & 1977-01-31 & \\emph{missing} & \\emph{missing} & \\emph{missing} & \\emph{missing} & \\emph{missing} & \\emph{missing} \\\\\n",
       "\t14 & AUD & 1977-02-28 & \\emph{missing} & \\emph{missing} & \\emph{missing} & \\emph{missing} & \\emph{missing} & \\emph{missing} \\\\\n",
       "\t15 & AUD & 1977-03-31 & \\emph{missing} & \\emph{missing} & \\emph{missing} & \\emph{missing} & \\emph{missing} & \\emph{missing} \\\\\n",
       "\t16 & AUD & 1977-04-30 & \\emph{missing} & \\emph{missing} & \\emph{missing} & \\emph{missing} & \\emph{missing} & \\emph{missing} \\\\\n",
       "\t17 & AUD & 1977-05-31 & \\emph{missing} & \\emph{missing} & \\emph{missing} & \\emph{missing} & \\emph{missing} & \\emph{missing} \\\\\n",
       "\t18 & AUD & 1977-06-30 & \\emph{missing} & \\emph{missing} & \\emph{missing} & \\emph{missing} & \\emph{missing} & \\emph{missing} \\\\\n",
       "\t19 & AUD & 1977-07-31 & \\emph{missing} & \\emph{missing} & \\emph{missing} & \\emph{missing} & \\emph{missing} & \\emph{missing} \\\\\n",
       "\t20 & AUD & 1977-08-31 & \\emph{missing} & \\emph{missing} & \\emph{missing} & \\emph{missing} & \\emph{missing} & \\emph{missing} \\\\\n",
       "\t21 & AUD & 1977-09-30 & \\emph{missing} & \\emph{missing} & \\emph{missing} & \\emph{missing} & \\emph{missing} & \\emph{missing} \\\\\n",
       "\t22 & AUD & 1977-10-31 & \\emph{missing} & \\emph{missing} & \\emph{missing} & \\emph{missing} & \\emph{missing} & \\emph{missing} \\\\\n",
       "\t23 & AUD & 1977-11-30 & \\emph{missing} & \\emph{missing} & \\emph{missing} & \\emph{missing} & \\emph{missing} & \\emph{missing} \\\\\n",
       "\t24 & AUD & 1977-12-31 & \\emph{missing} & \\emph{missing} & \\emph{missing} & \\emph{missing} & \\emph{missing} & \\emph{missing} \\\\\n",
       "\t$\\dots$ & $\\dots$ & $\\dots$ & $\\dots$ & $\\dots$ & $\\dots$ & $\\dots$ & $\\dots$ & $\\dots$ \\\\\n",
       "\\end{tabular}\n"
      ],
      "text/plain": [
       "\u001b[1m18792×8 DataFrame\u001b[0m\n",
       "\u001b[1m   Row \u001b[0m│\u001b[1m cur_code \u001b[0m\u001b[1m date       \u001b[0m\u001b[1m spot_bid       \u001b[0m\u001b[1m forward_bid    \u001b[0m\u001b[1m spot_mid       \u001b[0m\u001b[1m forward_mid    \u001b[0m\u001b[1m sp\u001b[0m ⋯\n",
       "       │\u001b[90m String3  \u001b[0m\u001b[90m Date       \u001b[0m\u001b[90m Float64?       \u001b[0m\u001b[90m Float64?       \u001b[0m\u001b[90m Float64?       \u001b[0m\u001b[90m Float64?       \u001b[0m\u001b[90m Fl\u001b[0m ⋯\n",
       "───────┼───────────────────────────────────────────────────────────────────────────────────────────\n",
       "     1 │ AUD       1976-01-31 \u001b[90m missing        \u001b[0m\u001b[90m missing        \u001b[0m\u001b[90m missing        \u001b[0m\u001b[90m missing        \u001b[0m\u001b[90m mi\u001b[0m ⋯\n",
       "     2 │ AUD       1976-02-29 \u001b[90m missing        \u001b[0m\u001b[90m missing        \u001b[0m\u001b[90m missing        \u001b[0m\u001b[90m missing        \u001b[0m\u001b[90m mi\u001b[0m\n",
       "     3 │ AUD       1976-03-31 \u001b[90m missing        \u001b[0m\u001b[90m missing        \u001b[0m\u001b[90m missing        \u001b[0m\u001b[90m missing        \u001b[0m\u001b[90m mi\u001b[0m\n",
       "     4 │ AUD       1976-04-30 \u001b[90m missing        \u001b[0m\u001b[90m missing        \u001b[0m\u001b[90m missing        \u001b[0m\u001b[90m missing        \u001b[0m\u001b[90m mi\u001b[0m\n",
       "     5 │ AUD       1976-05-31 \u001b[90m missing        \u001b[0m\u001b[90m missing        \u001b[0m\u001b[90m missing        \u001b[0m\u001b[90m missing        \u001b[0m\u001b[90m mi\u001b[0m ⋯\n",
       "     6 │ AUD       1976-06-30 \u001b[90m missing        \u001b[0m\u001b[90m missing        \u001b[0m\u001b[90m missing        \u001b[0m\u001b[90m missing        \u001b[0m\u001b[90m mi\u001b[0m\n",
       "     7 │ AUD       1976-07-31 \u001b[90m missing        \u001b[0m\u001b[90m missing        \u001b[0m\u001b[90m missing        \u001b[0m\u001b[90m missing        \u001b[0m\u001b[90m mi\u001b[0m\n",
       "     8 │ AUD       1976-08-31 \u001b[90m missing        \u001b[0m\u001b[90m missing        \u001b[0m\u001b[90m missing        \u001b[0m\u001b[90m missing        \u001b[0m\u001b[90m mi\u001b[0m\n",
       "   ⋮   │    ⋮          ⋮             ⋮               ⋮               ⋮               ⋮            ⋱\n",
       " 18786 │ GBP       2021-06-30        0.724008        0.72395         0.723877        0.723814     ⋯\n",
       " 18787 │ GBP       2021-07-31        0.719373        0.719326        0.719243        0.719192\n",
       " 18788 │ GBP       2021-08-31        0.726744        0.726691        0.726612        0.726549\n",
       " 18789 │ GBP       2021-09-30        0.741785        0.741757        0.741647        0.741614\n",
       " 18790 │ GBP       2021-10-31        0.729661        0.72965         0.729528        0.729512     ⋯\n",
       " 18791 │ GBP       2021-11-30        0.755972        0.75535         0.755858        0.755224\n",
       " 18792 │ GBP       2021-12-31        0.738443        0.738514        0.738307        0.738362\n",
       "\u001b[36m                                                                   2 columns and 18777 rows omitted\u001b[0m"
      ]
     },
     "metadata": {},
     "output_type": "display_data"
    }
   ],
   "source": [
    "python_data_in = CSV.read(joinpath(old_python_combined_filestring_base, \"currencies.csv\"), DataFrame)\n",
    "julia_data_in = CSV.read(joinpath(new_julia_combined_filestring_base, \"currency_rates.csv\"), DataFrame)"
   ]
  },
  {
   "attachments": {},
   "cell_type": "markdown",
   "metadata": {},
   "source": [
    "Oh of course, the processing of the currency data is different before ever getting to the factor script."
   ]
  },
  {
   "cell_type": "code",
   "execution_count": 37,
   "metadata": {},
   "outputs": [
    {
     "data": {
      "text/html": [
       "<div><div style = \"float: left;\"><span>445×8 DataFrame</span></div><div style = \"float: right;\"><span style = \"font-style: italic;\">420 rows omitted</span></div><div style = \"clear: both;\"></div></div><div class = \"data-frame\" style = \"overflow-x: scroll;\"><table class = \"data-frame\" style = \"margin-bottom: 6px;\"><thead><tr class = \"header\"><th class = \"rowNumber\" style = \"font-weight: bold; text-align: right;\">Row</th><th style = \"text-align: left;\">cur_code</th><th style = \"text-align: left;\">date</th><th style = \"text-align: left;\">spot_bid</th><th style = \"text-align: left;\">forward_bid</th><th style = \"text-align: left;\">spot_mid</th><th style = \"text-align: left;\">forward_mid</th><th style = \"text-align: left;\">spot_ask</th><th style = \"text-align: left;\">forward_ask</th></tr><tr class = \"subheader headerLastRow\"><th class = \"rowNumber\" style = \"font-weight: bold; text-align: right;\"></th><th title = \"String3\" style = \"text-align: left;\">String3</th><th title = \"Dates.Date\" style = \"text-align: left;\">Date</th><th title = \"Union{Missing, Float64}\" style = \"text-align: left;\">Float64?</th><th title = \"Union{Missing, Float64}\" style = \"text-align: left;\">Float64?</th><th title = \"Union{Missing, Float64}\" style = \"text-align: left;\">Float64?</th><th title = \"Union{Missing, Float64}\" style = \"text-align: left;\">Float64?</th><th title = \"Union{Missing, Float64}\" style = \"text-align: left;\">Float64?</th><th title = \"Union{Missing, Float64}\" style = \"text-align: left;\">Float64?</th></tr></thead><tbody><tr><td class = \"rowNumber\" style = \"font-weight: bold; text-align: right;\">1</td><td style = \"text-align: left;\">AUD</td><td style = \"text-align: left;\">1984-12-31</td><td style = \"text-align: right;\">1.2107</td><td style = \"text-align: right;\">1.2129</td><td style = \"text-align: right;\">1.2114</td><td style = \"text-align: right;\">1.214</td><td style = \"text-align: right;\">1.2121</td><td style = \"text-align: right;\">1.2151</td></tr><tr><td class = \"rowNumber\" style = \"font-weight: bold; text-align: right;\">2</td><td style = \"text-align: left;\">AUD</td><td style = \"text-align: left;\">1985-01-31</td><td style = \"text-align: right;\">1.227</td><td style = \"text-align: right;\">1.2308</td><td style = \"text-align: right;\">1.2277</td><td style = \"text-align: right;\">1.2319</td><td style = \"text-align: right;\">1.2285</td><td style = \"text-align: right;\">1.233</td></tr><tr><td class = \"rowNumber\" style = \"font-weight: bold; text-align: right;\">3</td><td style = \"text-align: left;\">AUD</td><td style = \"text-align: left;\">1985-02-28</td><td style = \"text-align: right;\">1.405</td><td style = \"text-align: right;\">1.395</td><td style = \"text-align: right;\">1.408</td><td style = \"text-align: right;\">1.399</td><td style = \"text-align: right;\">1.411</td><td style = \"text-align: right;\">1.402</td></tr><tr><td class = \"rowNumber\" style = \"font-weight: bold; text-align: right;\">4</td><td style = \"text-align: left;\">AUD</td><td style = \"text-align: left;\">1985-03-31</td><td style = \"text-align: right;\">1.4215</td><td style = \"text-align: right;\">1.4284</td><td style = \"text-align: right;\">1.423</td><td style = \"text-align: right;\">1.4304</td><td style = \"text-align: right;\">1.4245</td><td style = \"text-align: right;\">1.4324</td></tr><tr><td class = \"rowNumber\" style = \"font-weight: bold; text-align: right;\">5</td><td style = \"text-align: left;\">AUD</td><td style = \"text-align: left;\">1985-04-30</td><td style = \"text-align: right;\">1.548</td><td style = \"text-align: right;\">1.558</td><td style = \"text-align: right;\">1.55</td><td style = \"text-align: right;\">1.561</td><td style = \"text-align: right;\">1.553</td><td style = \"text-align: right;\">1.564</td></tr><tr><td class = \"rowNumber\" style = \"font-weight: bold; text-align: right;\">6</td><td style = \"text-align: left;\">AUD</td><td style = \"text-align: left;\">1985-05-31</td><td style = \"text-align: right;\">1.5049</td><td style = \"text-align: right;\">1.514</td><td style = \"text-align: right;\">1.506</td><td style = \"text-align: right;\">1.5156</td><td style = \"text-align: right;\">1.5071</td><td style = \"text-align: right;\">1.5172</td></tr><tr><td class = \"rowNumber\" style = \"font-weight: bold; text-align: right;\">7</td><td style = \"text-align: left;\">AUD</td><td style = \"text-align: left;\">1985-06-30</td><td style = \"text-align: right;\">1.4925</td><td style = \"text-align: right;\">1.5015</td><td style = \"text-align: right;\">1.4936</td><td style = \"text-align: right;\">1.5032</td><td style = \"text-align: right;\">1.4948</td><td style = \"text-align: right;\">1.5049</td></tr><tr><td class = \"rowNumber\" style = \"font-weight: bold; text-align: right;\">8</td><td style = \"text-align: left;\">AUD</td><td style = \"text-align: left;\">1985-07-31</td><td style = \"text-align: right;\">1.3799</td><td style = \"text-align: right;\">1.3881</td><td style = \"text-align: right;\">1.3808</td><td style = \"text-align: right;\">1.3895</td><td style = \"text-align: right;\">1.3818</td><td style = \"text-align: right;\">1.3908</td></tr><tr><td class = \"rowNumber\" style = \"font-weight: bold; text-align: right;\">9</td><td style = \"text-align: left;\">AUD</td><td style = \"text-align: left;\">1985-08-31</td><td style = \"text-align: right;\">1.4245</td><td style = \"text-align: right;\">1.4347</td><td style = \"text-align: right;\">1.4255</td><td style = \"text-align: right;\">1.4364</td><td style = \"text-align: right;\">1.4265</td><td style = \"text-align: right;\">1.438</td></tr><tr><td class = \"rowNumber\" style = \"font-weight: bold; text-align: right;\">10</td><td style = \"text-align: left;\">AUD</td><td style = \"text-align: left;\">1985-09-30</td><td style = \"text-align: right;\">1.4225</td><td style = \"text-align: right;\">1.4324</td><td style = \"text-align: right;\">1.4235</td><td style = \"text-align: right;\">1.4338</td><td style = \"text-align: right;\">1.4245</td><td style = \"text-align: right;\">1.4351</td></tr><tr><td class = \"rowNumber\" style = \"font-weight: bold; text-align: right;\">11</td><td style = \"text-align: left;\">AUD</td><td style = \"text-align: left;\">1985-10-31</td><td style = \"text-align: right;\">1.4286</td><td style = \"text-align: right;\">1.4372</td><td style = \"text-align: right;\">1.4296</td><td style = \"text-align: right;\">1.4385</td><td style = \"text-align: right;\">1.4306</td><td style = \"text-align: right;\">1.4399</td></tr><tr><td class = \"rowNumber\" style = \"font-weight: bold; text-align: right;\">12</td><td style = \"text-align: left;\">AUD</td><td style = \"text-align: left;\">1985-11-30</td><td style = \"text-align: right;\">1.456</td><td style = \"text-align: right;\">1.4689</td><td style = \"text-align: right;\">1.4571</td><td style = \"text-align: right;\">1.4704</td><td style = \"text-align: right;\">1.4581</td><td style = \"text-align: right;\">1.4719</td></tr><tr><td class = \"rowNumber\" style = \"font-weight: bold; text-align: right;\">13</td><td style = \"text-align: left;\">AUD</td><td style = \"text-align: left;\">1985-12-31</td><td style = \"text-align: right;\">1.4652</td><td style = \"text-align: right;\">1.4777</td><td style = \"text-align: right;\">1.4663</td><td style = \"text-align: right;\">1.4793</td><td style = \"text-align: right;\">1.4673</td><td style = \"text-align: right;\">1.4808</td></tr><tr><td style = \"text-align: right;\">&vellip;</td><td style = \"text-align: right;\">&vellip;</td><td style = \"text-align: right;\">&vellip;</td><td style = \"text-align: right;\">&vellip;</td><td style = \"text-align: right;\">&vellip;</td><td style = \"text-align: right;\">&vellip;</td><td style = \"text-align: right;\">&vellip;</td><td style = \"text-align: right;\">&vellip;</td><td style = \"text-align: right;\">&vellip;</td></tr><tr><td class = \"rowNumber\" style = \"font-weight: bold; text-align: right;\">434</td><td style = \"text-align: left;\">AUD</td><td style = \"text-align: left;\">2021-01-31</td><td style = \"text-align: right;\">1.30361</td><td style = \"text-align: right;\">1.30341</td><td style = \"text-align: right;\">1.30336</td><td style = \"text-align: right;\">1.30314</td><td style = \"text-align: right;\">1.3031</td><td style = \"text-align: right;\">1.30288</td></tr><tr><td class = \"rowNumber\" style = \"font-weight: bold; text-align: right;\">435</td><td style = \"text-align: left;\">AUD</td><td style = \"text-align: left;\">2021-02-28</td><td style = \"text-align: right;\">1.29199</td><td style = \"text-align: right;\">1.29182</td><td style = \"text-align: right;\">1.29166</td><td style = \"text-align: right;\">1.29147</td><td style = \"text-align: right;\">1.29132</td><td style = \"text-align: right;\">1.29114</td></tr><tr><td class = \"rowNumber\" style = \"font-weight: bold; text-align: right;\">436</td><td style = \"text-align: left;\">AUD</td><td style = \"text-align: left;\">2021-03-31</td><td style = \"text-align: right;\">1.3132</td><td style = \"text-align: right;\">1.31301</td><td style = \"text-align: right;\">1.31294</td><td style = \"text-align: right;\">1.31273</td><td style = \"text-align: right;\">1.31268</td><td style = \"text-align: right;\">1.31247</td></tr><tr><td class = \"rowNumber\" style = \"font-weight: bold; text-align: right;\">437</td><td style = \"text-align: left;\">AUD</td><td style = \"text-align: left;\">2021-04-30</td><td style = \"text-align: right;\">1.29483</td><td style = \"text-align: right;\">1.29467</td><td style = \"text-align: right;\">1.29458</td><td style = \"text-align: right;\">1.2944</td><td style = \"text-align: right;\">1.29433</td><td style = \"text-align: right;\">1.29413</td></tr><tr><td class = \"rowNumber\" style = \"font-weight: bold; text-align: right;\">438</td><td style = \"text-align: left;\">AUD</td><td style = \"text-align: left;\">2021-05-31</td><td style = \"text-align: right;\">1.29216</td><td style = \"text-align: right;\">1.29199</td><td style = \"text-align: right;\">1.29191</td><td style = \"text-align: right;\">1.29172</td><td style = \"text-align: right;\">1.29166</td><td style = \"text-align: right;\">1.29146</td></tr><tr><td class = \"rowNumber\" style = \"font-weight: bold; text-align: right;\">439</td><td style = \"text-align: left;\">AUD</td><td style = \"text-align: left;\">2021-06-30</td><td style = \"text-align: right;\">1.33227</td><td style = \"text-align: right;\">1.33207</td><td style = \"text-align: right;\">1.332</td><td style = \"text-align: right;\">1.33179</td><td style = \"text-align: right;\">1.33174</td><td style = \"text-align: right;\">1.33152</td></tr><tr><td class = \"rowNumber\" style = \"font-weight: bold; text-align: right;\">440</td><td style = \"text-align: left;\">AUD</td><td style = \"text-align: left;\">2021-07-31</td><td style = \"text-align: right;\">1.36073</td><td style = \"text-align: right;\">1.36053</td><td style = \"text-align: right;\">1.36045</td><td style = \"text-align: right;\">1.36023</td><td style = \"text-align: right;\">1.36017</td><td style = \"text-align: right;\">1.35993</td></tr><tr><td class = \"rowNumber\" style = \"font-weight: bold; text-align: right;\">441</td><td style = \"text-align: left;\">AUD</td><td style = \"text-align: left;\">2021-08-31</td><td style = \"text-align: right;\">1.36855</td><td style = \"text-align: right;\">1.36831</td><td style = \"text-align: right;\">1.36827</td><td style = \"text-align: right;\">1.36801</td><td style = \"text-align: right;\">1.36799</td><td style = \"text-align: right;\">1.36771</td></tr><tr><td class = \"rowNumber\" style = \"font-weight: bold; text-align: right;\">442</td><td style = \"text-align: left;\">AUD</td><td style = \"text-align: left;\">2021-09-30</td><td style = \"text-align: right;\">1.38466</td><td style = \"text-align: right;\">1.38449</td><td style = \"text-align: right;\">1.38437</td><td style = \"text-align: right;\">1.38418</td><td style = \"text-align: right;\">1.38408</td><td style = \"text-align: right;\">1.38389</td></tr><tr><td class = \"rowNumber\" style = \"font-weight: bold; text-align: right;\">443</td><td style = \"text-align: left;\">AUD</td><td style = \"text-align: left;\">2021-10-31</td><td style = \"text-align: right;\">1.33174</td><td style = \"text-align: right;\">1.33161</td><td style = \"text-align: right;\">1.33138</td><td style = \"text-align: right;\">1.33122</td><td style = \"text-align: right;\">1.33103</td><td style = \"text-align: right;\">1.33085</td></tr><tr><td class = \"rowNumber\" style = \"font-weight: bold; text-align: right;\">444</td><td style = \"text-align: left;\">AUD</td><td style = \"text-align: left;\">2021-11-30</td><td style = \"text-align: right;\">1.41064</td><td style = \"text-align: right;\">1.40998</td><td style = \"text-align: right;\">1.41034</td><td style = \"text-align: right;\">1.40964</td><td style = \"text-align: right;\">1.41004</td><td style = \"text-align: right;\">1.40932</td></tr><tr><td class = \"rowNumber\" style = \"font-weight: bold; text-align: right;\">445</td><td style = \"text-align: left;\">AUD</td><td style = \"text-align: left;\">2021-12-31</td><td style = \"text-align: right;\">1.37571</td><td style = \"text-align: right;\">1.37557</td><td style = \"text-align: right;\">1.37542</td><td style = \"text-align: right;\">1.37529</td><td style = \"text-align: right;\">1.37514</td><td style = \"text-align: right;\">1.37499</td></tr></tbody></table></div>"
      ],
      "text/latex": [
       "\\begin{tabular}{r|cccccccc}\n",
       "\t& cur\\_code & date & spot\\_bid & forward\\_bid & spot\\_mid & forward\\_mid & spot\\_ask & forward\\_ask\\\\\n",
       "\t\\hline\n",
       "\t& String3 & Date & Float64? & Float64? & Float64? & Float64? & Float64? & Float64?\\\\\n",
       "\t\\hline\n",
       "\t1 & AUD & 1984-12-31 & 1.2107 & 1.2129 & 1.2114 & 1.214 & 1.2121 & 1.2151 \\\\\n",
       "\t2 & AUD & 1985-01-31 & 1.227 & 1.2308 & 1.2277 & 1.2319 & 1.2285 & 1.233 \\\\\n",
       "\t3 & AUD & 1985-02-28 & 1.405 & 1.395 & 1.408 & 1.399 & 1.411 & 1.402 \\\\\n",
       "\t4 & AUD & 1985-03-31 & 1.4215 & 1.4284 & 1.423 & 1.4304 & 1.4245 & 1.4324 \\\\\n",
       "\t5 & AUD & 1985-04-30 & 1.548 & 1.558 & 1.55 & 1.561 & 1.553 & 1.564 \\\\\n",
       "\t6 & AUD & 1985-05-31 & 1.5049 & 1.514 & 1.506 & 1.5156 & 1.5071 & 1.5172 \\\\\n",
       "\t7 & AUD & 1985-06-30 & 1.4925 & 1.5015 & 1.4936 & 1.5032 & 1.4948 & 1.5049 \\\\\n",
       "\t8 & AUD & 1985-07-31 & 1.3799 & 1.3881 & 1.3808 & 1.3895 & 1.3818 & 1.3908 \\\\\n",
       "\t9 & AUD & 1985-08-31 & 1.4245 & 1.4347 & 1.4255 & 1.4364 & 1.4265 & 1.438 \\\\\n",
       "\t10 & AUD & 1985-09-30 & 1.4225 & 1.4324 & 1.4235 & 1.4338 & 1.4245 & 1.4351 \\\\\n",
       "\t11 & AUD & 1985-10-31 & 1.4286 & 1.4372 & 1.4296 & 1.4385 & 1.4306 & 1.4399 \\\\\n",
       "\t12 & AUD & 1985-11-30 & 1.456 & 1.4689 & 1.4571 & 1.4704 & 1.4581 & 1.4719 \\\\\n",
       "\t13 & AUD & 1985-12-31 & 1.4652 & 1.4777 & 1.4663 & 1.4793 & 1.4673 & 1.4808 \\\\\n",
       "\t14 & AUD & 1986-01-31 & 1.4006 & 1.4108 & 1.4015 & 1.4121 & 1.4025 & 1.4134 \\\\\n",
       "\t15 & AUD & 1986-02-28 & 1.4302 & 1.4413 & 1.4312 & 1.4427 & 1.4322 & 1.444 \\\\\n",
       "\t16 & AUD & 1986-03-31 & 1.4029 & 1.4128 & 1.4039 & 1.4141 & 1.4049 & 1.4154 \\\\\n",
       "\t17 & AUD & 1986-04-30 & 1.3488 & 1.3596 & 1.3494 & 1.3605 & 1.3501 & 1.3615 \\\\\n",
       "\t18 & AUD & 1986-05-31 & 1.3982 & 1.4069 & 1.3989 & 1.4078 & 1.3996 & 1.4088 \\\\\n",
       "\t19 & AUD & 1986-06-30 & 1.4843 & 1.4941 & 1.4851 & 1.4952 & 1.4859 & 1.4963 \\\\\n",
       "\t20 & AUD & 1986-07-31 & 1.6778 & 1.69 & 1.6788 & 1.6915 & 1.6798 & 1.6929 \\\\\n",
       "\t21 & AUD & 1986-08-31 & 1.6407 & 1.657 & 1.6416 & 1.6584 & 1.6426 & 1.6597 \\\\\n",
       "\t22 & AUD & 1986-09-30 & 1.5913 & 1.6067 & 1.5922 & 1.608 & 1.5931 & 1.6093 \\\\\n",
       "\t23 & AUD & 1986-10-31 & 1.5584 & 1.5708 & 1.5592 & 1.5719 & 1.5601 & 1.5731 \\\\\n",
       "\t24 & AUD & 1986-11-30 & 1.5366 & 1.5501 & 1.5372 & 1.551 & 1.5377 & 1.5518 \\\\\n",
       "\t$\\dots$ & $\\dots$ & $\\dots$ & $\\dots$ & $\\dots$ & $\\dots$ & $\\dots$ & $\\dots$ & $\\dots$ \\\\\n",
       "\\end{tabular}\n"
      ],
      "text/plain": [
       "\u001b[1m445×8 DataFrame\u001b[0m\n",
       "\u001b[1m Row \u001b[0m│\u001b[1m cur_code \u001b[0m\u001b[1m date       \u001b[0m\u001b[1m spot_bid \u001b[0m\u001b[1m forward_bid \u001b[0m\u001b[1m spot_mid \u001b[0m\u001b[1m forward_mid \u001b[0m\u001b[1m spot_ask \u001b[0m\u001b[1m forward_ask \u001b[0m\n",
       "     │\u001b[90m String3  \u001b[0m\u001b[90m Date       \u001b[0m\u001b[90m Float64? \u001b[0m\u001b[90m Float64?    \u001b[0m\u001b[90m Float64? \u001b[0m\u001b[90m Float64?    \u001b[0m\u001b[90m Float64? \u001b[0m\u001b[90m Float64?    \u001b[0m\n",
       "─────┼───────────────────────────────────────────────────────────────────────────────────────────\n",
       "   1 │ AUD       1984-12-31   1.2107       1.2129    1.2114       1.214     1.2121       1.2151\n",
       "   2 │ AUD       1985-01-31   1.227        1.2308    1.2277       1.2319    1.2285       1.233\n",
       "   3 │ AUD       1985-02-28   1.405        1.395     1.408        1.399     1.411        1.402\n",
       "   4 │ AUD       1985-03-31   1.4215       1.4284    1.423        1.4304    1.4245       1.4324\n",
       "   5 │ AUD       1985-04-30   1.548        1.558     1.55         1.561     1.553        1.564\n",
       "   6 │ AUD       1985-05-31   1.5049       1.514     1.506        1.5156    1.5071       1.5172\n",
       "   7 │ AUD       1985-06-30   1.4925       1.5015    1.4936       1.5032    1.4948       1.5049\n",
       "   8 │ AUD       1985-07-31   1.3799       1.3881    1.3808       1.3895    1.3818       1.3908\n",
       "  ⋮  │    ⋮          ⋮          ⋮           ⋮          ⋮           ⋮          ⋮           ⋮\n",
       " 439 │ AUD       2021-06-30   1.33227      1.33207   1.332        1.33179   1.33174      1.33152\n",
       " 440 │ AUD       2021-07-31   1.36073      1.36053   1.36045      1.36023   1.36017      1.35993\n",
       " 441 │ AUD       2021-08-31   1.36855      1.36831   1.36827      1.36801   1.36799      1.36771\n",
       " 442 │ AUD       2021-09-30   1.38466      1.38449   1.38437      1.38418   1.38408      1.38389\n",
       " 443 │ AUD       2021-10-31   1.33174      1.33161   1.33138      1.33122   1.33103      1.33085\n",
       " 444 │ AUD       2021-11-30   1.41064      1.40998   1.41034      1.40964   1.41004      1.40932\n",
       " 445 │ AUD       2021-12-31   1.37571      1.37557   1.37542      1.37529   1.37514      1.37499\n",
       "\u001b[36m                                                                                 430 rows omitted\u001b[0m"
      ]
     },
     "metadata": {},
     "output_type": "display_data"
    }
   ],
   "source": [
    "julia_data_in[(julia_data_in.cur_code .== \"AUD\") .&& (.!ismissing.(julia_data_in.forward_bid)), :]"
   ]
  },
  {
   "cell_type": "code",
   "execution_count": 35,
   "metadata": {},
   "outputs": [
    {
     "data": {
      "text/html": [
       "<div><div style = \"float: left;\"><span>445×8 DataFrame</span></div><div style = \"float: right;\"><span style = \"font-style: italic;\">420 rows omitted</span></div><div style = \"clear: both;\"></div></div><div class = \"data-frame\" style = \"overflow-x: scroll;\"><table class = \"data-frame\" style = \"margin-bottom: 6px;\"><thead><tr class = \"header\"><th class = \"rowNumber\" style = \"font-weight: bold; text-align: right;\">Row</th><th style = \"text-align: left;\">curr</th><th style = \"text-align: left;\">date</th><th style = \"text-align: left;\">spot_bid</th><th style = \"text-align: left;\">spot_mid</th><th style = \"text-align: left;\">spot_ask</th><th style = \"text-align: left;\">for_bid</th><th style = \"text-align: left;\">for_mid</th><th style = \"text-align: left;\">for_ask</th></tr><tr class = \"subheader headerLastRow\"><th class = \"rowNumber\" style = \"font-weight: bold; text-align: right;\"></th><th title = \"String3\" style = \"text-align: left;\">String3</th><th title = \"Dates.Date\" style = \"text-align: left;\">Date</th><th title = \"Union{Missing, Float64}\" style = \"text-align: left;\">Float64?</th><th title = \"Union{Missing, Float64}\" style = \"text-align: left;\">Float64?</th><th title = \"Union{Missing, Float64}\" style = \"text-align: left;\">Float64?</th><th title = \"Union{Missing, Float64}\" style = \"text-align: left;\">Float64?</th><th title = \"Union{Missing, Float64}\" style = \"text-align: left;\">Float64?</th><th title = \"Union{Missing, Float64}\" style = \"text-align: left;\">Float64?</th></tr></thead><tbody><tr><td class = \"rowNumber\" style = \"font-weight: bold; text-align: right;\">1</td><td style = \"text-align: left;\">AUD</td><td style = \"text-align: left;\">1984-12-31</td><td style = \"text-align: right;\">1.2107</td><td style = \"text-align: right;\">1.2114</td><td style = \"text-align: right;\">1.2121</td><td style = \"text-align: right;\">1.2129</td><td style = \"text-align: right;\">1.214</td><td style = \"text-align: right;\">1.2151</td></tr><tr><td class = \"rowNumber\" style = \"font-weight: bold; text-align: right;\">2</td><td style = \"text-align: left;\">AUD</td><td style = \"text-align: left;\">1985-01-31</td><td style = \"text-align: right;\">1.227</td><td style = \"text-align: right;\">1.2277</td><td style = \"text-align: right;\">1.2285</td><td style = \"text-align: right;\">1.2308</td><td style = \"text-align: right;\">1.2319</td><td style = \"text-align: right;\">1.233</td></tr><tr><td class = \"rowNumber\" style = \"font-weight: bold; text-align: right;\">3</td><td style = \"text-align: left;\">AUD</td><td style = \"text-align: left;\">1985-02-28</td><td style = \"text-align: right;\">1.405</td><td style = \"text-align: right;\">1.408</td><td style = \"text-align: right;\">1.411</td><td style = \"text-align: right;\">1.395</td><td style = \"text-align: right;\">1.399</td><td style = \"text-align: right;\">1.402</td></tr><tr><td class = \"rowNumber\" style = \"font-weight: bold; text-align: right;\">4</td><td style = \"text-align: left;\">AUD</td><td style = \"text-align: left;\">1985-03-31</td><td style = \"text-align: right;\">1.4215</td><td style = \"text-align: right;\">1.423</td><td style = \"text-align: right;\">1.4245</td><td style = \"text-align: right;\">1.4284</td><td style = \"text-align: right;\">1.4304</td><td style = \"text-align: right;\">1.4324</td></tr><tr><td class = \"rowNumber\" style = \"font-weight: bold; text-align: right;\">5</td><td style = \"text-align: left;\">AUD</td><td style = \"text-align: left;\">1985-04-30</td><td style = \"text-align: right;\">1.548</td><td style = \"text-align: right;\">1.55</td><td style = \"text-align: right;\">1.553</td><td style = \"text-align: right;\">1.558</td><td style = \"text-align: right;\">1.561</td><td style = \"text-align: right;\">1.564</td></tr><tr><td class = \"rowNumber\" style = \"font-weight: bold; text-align: right;\">6</td><td style = \"text-align: left;\">AUD</td><td style = \"text-align: left;\">1985-05-31</td><td style = \"text-align: right;\">1.5049</td><td style = \"text-align: right;\">1.506</td><td style = \"text-align: right;\">1.5071</td><td style = \"text-align: right;\">1.514</td><td style = \"text-align: right;\">1.5156</td><td style = \"text-align: right;\">1.5172</td></tr><tr><td class = \"rowNumber\" style = \"font-weight: bold; text-align: right;\">7</td><td style = \"text-align: left;\">AUD</td><td style = \"text-align: left;\">1985-06-30</td><td style = \"text-align: right;\">1.4925</td><td style = \"text-align: right;\">1.4936</td><td style = \"text-align: right;\">1.4948</td><td style = \"text-align: right;\">1.5015</td><td style = \"text-align: right;\">1.5032</td><td style = \"text-align: right;\">1.5049</td></tr><tr><td class = \"rowNumber\" style = \"font-weight: bold; text-align: right;\">8</td><td style = \"text-align: left;\">AUD</td><td style = \"text-align: left;\">1985-07-31</td><td style = \"text-align: right;\">1.3799</td><td style = \"text-align: right;\">1.3808</td><td style = \"text-align: right;\">1.3818</td><td style = \"text-align: right;\">1.3881</td><td style = \"text-align: right;\">1.3895</td><td style = \"text-align: right;\">1.3908</td></tr><tr><td class = \"rowNumber\" style = \"font-weight: bold; text-align: right;\">9</td><td style = \"text-align: left;\">AUD</td><td style = \"text-align: left;\">1985-08-31</td><td style = \"text-align: right;\">1.4245</td><td style = \"text-align: right;\">1.4255</td><td style = \"text-align: right;\">1.4265</td><td style = \"text-align: right;\">1.4347</td><td style = \"text-align: right;\">1.4364</td><td style = \"text-align: right;\">1.438</td></tr><tr><td class = \"rowNumber\" style = \"font-weight: bold; text-align: right;\">10</td><td style = \"text-align: left;\">AUD</td><td style = \"text-align: left;\">1985-09-30</td><td style = \"text-align: right;\">1.4225</td><td style = \"text-align: right;\">1.4235</td><td style = \"text-align: right;\">1.4245</td><td style = \"text-align: right;\">1.4324</td><td style = \"text-align: right;\">1.4338</td><td style = \"text-align: right;\">1.4351</td></tr><tr><td class = \"rowNumber\" style = \"font-weight: bold; text-align: right;\">11</td><td style = \"text-align: left;\">AUD</td><td style = \"text-align: left;\">1985-10-31</td><td style = \"text-align: right;\">1.4286</td><td style = \"text-align: right;\">1.4296</td><td style = \"text-align: right;\">1.4306</td><td style = \"text-align: right;\">1.4372</td><td style = \"text-align: right;\">1.4385</td><td style = \"text-align: right;\">1.4399</td></tr><tr><td class = \"rowNumber\" style = \"font-weight: bold; text-align: right;\">12</td><td style = \"text-align: left;\">AUD</td><td style = \"text-align: left;\">1985-11-30</td><td style = \"text-align: right;\">1.456</td><td style = \"text-align: right;\">1.4571</td><td style = \"text-align: right;\">1.4581</td><td style = \"text-align: right;\">1.4689</td><td style = \"text-align: right;\">1.4704</td><td style = \"text-align: right;\">1.4719</td></tr><tr><td class = \"rowNumber\" style = \"font-weight: bold; text-align: right;\">13</td><td style = \"text-align: left;\">AUD</td><td style = \"text-align: left;\">1985-12-31</td><td style = \"text-align: right;\">1.4652</td><td style = \"text-align: right;\">1.4663</td><td style = \"text-align: right;\">1.4673</td><td style = \"text-align: right;\">1.4777</td><td style = \"text-align: right;\">1.4793</td><td style = \"text-align: right;\">1.4808</td></tr><tr><td style = \"text-align: right;\">&vellip;</td><td style = \"text-align: right;\">&vellip;</td><td style = \"text-align: right;\">&vellip;</td><td style = \"text-align: right;\">&vellip;</td><td style = \"text-align: right;\">&vellip;</td><td style = \"text-align: right;\">&vellip;</td><td style = \"text-align: right;\">&vellip;</td><td style = \"text-align: right;\">&vellip;</td><td style = \"text-align: right;\">&vellip;</td></tr><tr><td class = \"rowNumber\" style = \"font-weight: bold; text-align: right;\">434</td><td style = \"text-align: left;\">AUD</td><td style = \"text-align: left;\">2021-01-31</td><td style = \"text-align: right;\">1.3031</td><td style = \"text-align: right;\">1.30336</td><td style = \"text-align: right;\">1.30361</td><td style = \"text-align: right;\">1.30288</td><td style = \"text-align: right;\">1.30314</td><td style = \"text-align: right;\">1.30341</td></tr><tr><td class = \"rowNumber\" style = \"font-weight: bold; text-align: right;\">435</td><td style = \"text-align: left;\">AUD</td><td style = \"text-align: left;\">2021-02-28</td><td style = \"text-align: right;\">1.29132</td><td style = \"text-align: right;\">1.29166</td><td style = \"text-align: right;\">1.29199</td><td style = \"text-align: right;\">1.29114</td><td style = \"text-align: right;\">1.29147</td><td style = \"text-align: right;\">1.29182</td></tr><tr><td class = \"rowNumber\" style = \"font-weight: bold; text-align: right;\">436</td><td style = \"text-align: left;\">AUD</td><td style = \"text-align: left;\">2021-03-31</td><td style = \"text-align: right;\">1.31268</td><td style = \"text-align: right;\">1.31294</td><td style = \"text-align: right;\">1.3132</td><td style = \"text-align: right;\">1.31247</td><td style = \"text-align: right;\">1.31273</td><td style = \"text-align: right;\">1.31301</td></tr><tr><td class = \"rowNumber\" style = \"font-weight: bold; text-align: right;\">437</td><td style = \"text-align: left;\">AUD</td><td style = \"text-align: left;\">2021-04-30</td><td style = \"text-align: right;\">1.29433</td><td style = \"text-align: right;\">1.29458</td><td style = \"text-align: right;\">1.29483</td><td style = \"text-align: right;\">1.29413</td><td style = \"text-align: right;\">1.2944</td><td style = \"text-align: right;\">1.29467</td></tr><tr><td class = \"rowNumber\" style = \"font-weight: bold; text-align: right;\">438</td><td style = \"text-align: left;\">AUD</td><td style = \"text-align: left;\">2021-05-31</td><td style = \"text-align: right;\">1.29166</td><td style = \"text-align: right;\">1.29191</td><td style = \"text-align: right;\">1.29216</td><td style = \"text-align: right;\">1.29146</td><td style = \"text-align: right;\">1.29172</td><td style = \"text-align: right;\">1.29199</td></tr><tr><td class = \"rowNumber\" style = \"font-weight: bold; text-align: right;\">439</td><td style = \"text-align: left;\">AUD</td><td style = \"text-align: left;\">2021-06-30</td><td style = \"text-align: right;\">1.33174</td><td style = \"text-align: right;\">1.332</td><td style = \"text-align: right;\">1.33227</td><td style = \"text-align: right;\">1.33152</td><td style = \"text-align: right;\">1.33179</td><td style = \"text-align: right;\">1.33207</td></tr><tr><td class = \"rowNumber\" style = \"font-weight: bold; text-align: right;\">440</td><td style = \"text-align: left;\">AUD</td><td style = \"text-align: left;\">2021-07-31</td><td style = \"text-align: right;\">1.36017</td><td style = \"text-align: right;\">1.36045</td><td style = \"text-align: right;\">1.36073</td><td style = \"text-align: right;\">1.35993</td><td style = \"text-align: right;\">1.36023</td><td style = \"text-align: right;\">1.36053</td></tr><tr><td class = \"rowNumber\" style = \"font-weight: bold; text-align: right;\">441</td><td style = \"text-align: left;\">AUD</td><td style = \"text-align: left;\">2021-08-31</td><td style = \"text-align: right;\">1.36799</td><td style = \"text-align: right;\">1.36827</td><td style = \"text-align: right;\">1.36855</td><td style = \"text-align: right;\">1.36771</td><td style = \"text-align: right;\">1.36801</td><td style = \"text-align: right;\">1.36831</td></tr><tr><td class = \"rowNumber\" style = \"font-weight: bold; text-align: right;\">442</td><td style = \"text-align: left;\">AUD</td><td style = \"text-align: left;\">2021-09-30</td><td style = \"text-align: right;\">1.38408</td><td style = \"text-align: right;\">1.38437</td><td style = \"text-align: right;\">1.38466</td><td style = \"text-align: right;\">1.38389</td><td style = \"text-align: right;\">1.38418</td><td style = \"text-align: right;\">1.38449</td></tr><tr><td class = \"rowNumber\" style = \"font-weight: bold; text-align: right;\">443</td><td style = \"text-align: left;\">AUD</td><td style = \"text-align: left;\">2021-10-31</td><td style = \"text-align: right;\">1.33103</td><td style = \"text-align: right;\">1.33138</td><td style = \"text-align: right;\">1.33174</td><td style = \"text-align: right;\">1.33085</td><td style = \"text-align: right;\">1.33122</td><td style = \"text-align: right;\">1.33161</td></tr><tr><td class = \"rowNumber\" style = \"font-weight: bold; text-align: right;\">444</td><td style = \"text-align: left;\">AUD</td><td style = \"text-align: left;\">2021-11-30</td><td style = \"text-align: right;\">1.41004</td><td style = \"text-align: right;\">1.41034</td><td style = \"text-align: right;\">1.41064</td><td style = \"text-align: right;\">1.40932</td><td style = \"text-align: right;\">1.40964</td><td style = \"text-align: right;\">1.40998</td></tr><tr><td class = \"rowNumber\" style = \"font-weight: bold; text-align: right;\">445</td><td style = \"text-align: left;\">AUD</td><td style = \"text-align: left;\">2021-12-31</td><td style = \"text-align: right;\">1.37514</td><td style = \"text-align: right;\">1.37542</td><td style = \"text-align: right;\">1.37571</td><td style = \"text-align: right;\">1.37499</td><td style = \"text-align: right;\">1.37529</td><td style = \"text-align: right;\">1.37557</td></tr></tbody></table></div>"
      ],
      "text/latex": [
       "\\begin{tabular}{r|cccccccc}\n",
       "\t& curr & date & spot\\_bid & spot\\_mid & spot\\_ask & for\\_bid & for\\_mid & for\\_ask\\\\\n",
       "\t\\hline\n",
       "\t& String3 & Date & Float64? & Float64? & Float64? & Float64? & Float64? & Float64?\\\\\n",
       "\t\\hline\n",
       "\t1 & AUD & 1984-12-31 & 1.2107 & 1.2114 & 1.2121 & 1.2129 & 1.214 & 1.2151 \\\\\n",
       "\t2 & AUD & 1985-01-31 & 1.227 & 1.2277 & 1.2285 & 1.2308 & 1.2319 & 1.233 \\\\\n",
       "\t3 & AUD & 1985-02-28 & 1.405 & 1.408 & 1.411 & 1.395 & 1.399 & 1.402 \\\\\n",
       "\t4 & AUD & 1985-03-31 & 1.4215 & 1.423 & 1.4245 & 1.4284 & 1.4304 & 1.4324 \\\\\n",
       "\t5 & AUD & 1985-04-30 & 1.548 & 1.55 & 1.553 & 1.558 & 1.561 & 1.564 \\\\\n",
       "\t6 & AUD & 1985-05-31 & 1.5049 & 1.506 & 1.5071 & 1.514 & 1.5156 & 1.5172 \\\\\n",
       "\t7 & AUD & 1985-06-30 & 1.4925 & 1.4936 & 1.4948 & 1.5015 & 1.5032 & 1.5049 \\\\\n",
       "\t8 & AUD & 1985-07-31 & 1.3799 & 1.3808 & 1.3818 & 1.3881 & 1.3895 & 1.3908 \\\\\n",
       "\t9 & AUD & 1985-08-31 & 1.4245 & 1.4255 & 1.4265 & 1.4347 & 1.4364 & 1.438 \\\\\n",
       "\t10 & AUD & 1985-09-30 & 1.4225 & 1.4235 & 1.4245 & 1.4324 & 1.4338 & 1.4351 \\\\\n",
       "\t11 & AUD & 1985-10-31 & 1.4286 & 1.4296 & 1.4306 & 1.4372 & 1.4385 & 1.4399 \\\\\n",
       "\t12 & AUD & 1985-11-30 & 1.456 & 1.4571 & 1.4581 & 1.4689 & 1.4704 & 1.4719 \\\\\n",
       "\t13 & AUD & 1985-12-31 & 1.4652 & 1.4663 & 1.4673 & 1.4777 & 1.4793 & 1.4808 \\\\\n",
       "\t14 & AUD & 1986-01-31 & 1.4006 & 1.4015 & 1.4025 & 1.4108 & 1.4121 & 1.4134 \\\\\n",
       "\t15 & AUD & 1986-02-28 & 1.4302 & 1.4312 & 1.4322 & 1.4413 & 1.4427 & 1.444 \\\\\n",
       "\t16 & AUD & 1986-03-31 & 1.4029 & 1.4039 & 1.4049 & 1.4128 & 1.4141 & 1.4154 \\\\\n",
       "\t17 & AUD & 1986-04-30 & 1.3488 & 1.3494 & 1.3501 & 1.3596 & 1.3605 & 1.3615 \\\\\n",
       "\t18 & AUD & 1986-05-31 & 1.3982 & 1.3989 & 1.3996 & 1.4069 & 1.4078 & 1.4088 \\\\\n",
       "\t19 & AUD & 1986-06-30 & 1.4843 & 1.4851 & 1.4859 & 1.4941 & 1.4952 & 1.4963 \\\\\n",
       "\t20 & AUD & 1986-07-31 & 1.6778 & 1.6788 & 1.6798 & 1.69 & 1.6915 & 1.6929 \\\\\n",
       "\t21 & AUD & 1986-08-31 & 1.6407 & 1.6416 & 1.6426 & 1.657 & 1.6584 & 1.6597 \\\\\n",
       "\t22 & AUD & 1986-09-30 & 1.5913 & 1.5922 & 1.5931 & 1.6067 & 1.608 & 1.6093 \\\\\n",
       "\t23 & AUD & 1986-10-31 & 1.5584 & 1.5592 & 1.5601 & 1.5708 & 1.5719 & 1.5731 \\\\\n",
       "\t24 & AUD & 1986-11-30 & 1.5366 & 1.5372 & 1.5377 & 1.5501 & 1.551 & 1.5518 \\\\\n",
       "\t$\\dots$ & $\\dots$ & $\\dots$ & $\\dots$ & $\\dots$ & $\\dots$ & $\\dots$ & $\\dots$ & $\\dots$ \\\\\n",
       "\\end{tabular}\n"
      ],
      "text/plain": [
       "\u001b[1m445×8 DataFrame\u001b[0m\n",
       "\u001b[1m Row \u001b[0m│\u001b[1m curr    \u001b[0m\u001b[1m date       \u001b[0m\u001b[1m spot_bid \u001b[0m\u001b[1m spot_mid \u001b[0m\u001b[1m spot_ask \u001b[0m\u001b[1m for_bid  \u001b[0m\u001b[1m for_mid  \u001b[0m\u001b[1m for_ask  \u001b[0m\n",
       "     │\u001b[90m String3 \u001b[0m\u001b[90m Date       \u001b[0m\u001b[90m Float64? \u001b[0m\u001b[90m Float64? \u001b[0m\u001b[90m Float64? \u001b[0m\u001b[90m Float64? \u001b[0m\u001b[90m Float64? \u001b[0m\u001b[90m Float64? \u001b[0m\n",
       "─────┼─────────────────────────────────────────────────────────────────────────────────\n",
       "   1 │ AUD      1984-12-31   1.2107    1.2114    1.2121    1.2129    1.214     1.2151\n",
       "   2 │ AUD      1985-01-31   1.227     1.2277    1.2285    1.2308    1.2319    1.233\n",
       "   3 │ AUD      1985-02-28   1.405     1.408     1.411     1.395     1.399     1.402\n",
       "   4 │ AUD      1985-03-31   1.4215    1.423     1.4245    1.4284    1.4304    1.4324\n",
       "   5 │ AUD      1985-04-30   1.548     1.55      1.553     1.558     1.561     1.564\n",
       "   6 │ AUD      1985-05-31   1.5049    1.506     1.5071    1.514     1.5156    1.5172\n",
       "   7 │ AUD      1985-06-30   1.4925    1.4936    1.4948    1.5015    1.5032    1.5049\n",
       "   8 │ AUD      1985-07-31   1.3799    1.3808    1.3818    1.3881    1.3895    1.3908\n",
       "  ⋮  │    ⋮         ⋮          ⋮         ⋮         ⋮         ⋮         ⋮         ⋮\n",
       " 439 │ AUD      2021-06-30   1.33174   1.332     1.33227   1.33152   1.33179   1.33207\n",
       " 440 │ AUD      2021-07-31   1.36017   1.36045   1.36073   1.35993   1.36023   1.36053\n",
       " 441 │ AUD      2021-08-31   1.36799   1.36827   1.36855   1.36771   1.36801   1.36831\n",
       " 442 │ AUD      2021-09-30   1.38408   1.38437   1.38466   1.38389   1.38418   1.38449\n",
       " 443 │ AUD      2021-10-31   1.33103   1.33138   1.33174   1.33085   1.33122   1.33161\n",
       " 444 │ AUD      2021-11-30   1.41004   1.41034   1.41064   1.40932   1.40964   1.40998\n",
       " 445 │ AUD      2021-12-31   1.37514   1.37542   1.37571   1.37499   1.37529   1.37557\n",
       "\u001b[36m                                                                       430 rows omitted\u001b[0m"
      ]
     },
     "metadata": {},
     "output_type": "display_data"
    }
   ],
   "source": [
    "python_data_in[python_data_in.curr .== \"AUD\", :]"
   ]
  },
  {
   "cell_type": "code",
   "execution_count": 32,
   "metadata": {},
   "outputs": [
    {
     "name": "stdout",
     "output_type": "stream",
     "text": [
      "i = \"spot_bid\"\n"
     ]
    },
    {
     "ename": "DimensionMismatch",
     "evalue": "DimensionMismatch: dimensions must match: a has dims (Base.OneTo(12256),), b has dims (Base.OneTo(18792),), mismatch at 1",
     "output_type": "error",
     "traceback": [
      "DimensionMismatch: dimensions must match: a has dims (Base.OneTo(12256),), b has dims (Base.OneTo(18792),), mismatch at 1\n",
      "\n",
      "Stacktrace:\n",
      " [1] promote_shape\n",
      "   @ .\\indices.jl:178 [inlined]\n",
      " [2] promote_shape\n",
      "   @ .\\indices.jl:169 [inlined]\n",
      " [3] -(A::Vector{Union{Missing, Float64}}, B::Vector{Union{Missing, Float64}})\n",
      "   @ Base .\\arraymath.jl:7\n",
      " [4] macro expansion\n",
      "   @ .\\show.jl:1047 [inlined]\n",
      " [5] top-level scope\n",
      "   @ c:\\Users\\ozboy\\OneDrive - The University of Queensland\\PHD\\Code\\Currency Exposure of Mutual Funds\\Notebooks\\Journals\\230327-Session 2 Day 4 - Finishing and debugging currency factor script.ipynb:3"
     ]
    }
   ],
   "source": [
    "for i in names(python_data_in[:, 3:end])\n",
    "    @show i\n",
    "    @show python_data_in[:, i] - julia_data_in[:, i]\n",
    "end"
   ]
  },
  {
   "attachments": {},
   "cell_type": "markdown",
   "metadata": {},
   "source": [
    "I just modified the refining of currency data and I believe they should be the same now. Trying again."
   ]
  },
  {
   "cell_type": "code",
   "execution_count": 3,
   "metadata": {},
   "outputs": [
    {
     "data": {
      "text/html": [
       "<div><div style = \"float: left;\"><span>458×7 DataFrame</span></div><div style = \"float: right;\"><span style = \"font-style: italic;\">433 rows omitted</span></div><div style = \"clear: both;\"></div></div><div class = \"data-frame\" style = \"overflow-x: scroll;\"><table class = \"data-frame\" style = \"margin-bottom: 6px;\"><thead><tr class = \"header\"><th class = \"rowNumber\" style = \"font-weight: bold; text-align: right;\">Row</th><th style = \"text-align: left;\">date</th><th style = \"text-align: left;\">rx</th><th style = \"text-align: left;\">hml_fx</th><th style = \"text-align: left;\">rx_net</th><th style = \"text-align: left;\">hml_fx_net</th><th style = \"text-align: left;\">dollar</th><th style = \"text-align: left;\">carry</th></tr><tr class = \"subheader headerLastRow\"><th class = \"rowNumber\" style = \"font-weight: bold; text-align: right;\"></th><th title = \"Dates.Date\" style = \"text-align: left;\">Date</th><th title = \"Float64\" style = \"text-align: left;\">Float64</th><th title = \"Float64\" style = \"text-align: left;\">Float64</th><th title = \"Float64\" style = \"text-align: left;\">Float64</th><th title = \"Float64\" style = \"text-align: left;\">Float64</th><th title = \"Float64\" style = \"text-align: left;\">Float64</th><th title = \"Float64\" style = \"text-align: left;\">Float64</th></tr></thead><tbody><tr><td class = \"rowNumber\" style = \"font-weight: bold; text-align: right;\">1</td><td style = \"text-align: left;\">1983-11-30</td><td style = \"text-align: right;\">-0.0164371</td><td style = \"text-align: right;\">-0.00301259</td><td style = \"text-align: right;\">-0.0170909</td><td style = \"text-align: right;\">-0.00294848</td><td style = \"text-align: right;\">0.0153914</td><td style = \"text-align: right;\">0.0110917</td></tr><tr><td class = \"rowNumber\" style = \"font-weight: bold; text-align: right;\">2</td><td style = \"text-align: left;\">1983-12-31</td><td style = \"text-align: right;\">-0.00855435</td><td style = \"text-align: right;\">0.00924729</td><td style = \"text-align: right;\">-0.0100971</td><td style = \"text-align: right;\">0.00531925</td><td style = \"text-align: right;\">0.00786787</td><td style = \"text-align: right;\">0.000485357</td></tr><tr><td class = \"rowNumber\" style = \"font-weight: bold; text-align: right;\">3</td><td style = \"text-align: left;\">1984-01-31</td><td style = \"text-align: right;\">-0.0300285</td><td style = \"text-align: right;\">0.0240907</td><td style = \"text-align: right;\">-0.0309099</td><td style = \"text-align: right;\">0.0240164</td><td style = \"text-align: right;\">0.0293586</td><td style = \"text-align: right;\">-0.0134736</td></tr><tr><td class = \"rowNumber\" style = \"font-weight: bold; text-align: right;\">4</td><td style = \"text-align: left;\">1984-02-29</td><td style = \"text-align: right;\">0.0465761</td><td style = \"text-align: right;\">0.0141806</td><td style = \"text-align: right;\">0.0459695</td><td style = \"text-align: right;\">0.0144424</td><td style = \"text-align: right;\">-0.0476108</td><td style = \"text-align: right;\">-0.00504086</td></tr><tr><td class = \"rowNumber\" style = \"font-weight: bold; text-align: right;\">5</td><td style = \"text-align: left;\">1984-03-31</td><td style = \"text-align: right;\">-0.00102185</td><td style = \"text-align: right;\">-0.00814813</td><td style = \"text-align: right;\">-0.00163983</td><td style = \"text-align: right;\">-0.00849513</td><td style = \"text-align: right;\">0.0011936</td><td style = \"text-align: right;\">0.0208235</td></tr><tr><td class = \"rowNumber\" style = \"font-weight: bold; text-align: right;\">6</td><td style = \"text-align: left;\">1984-04-30</td><td style = \"text-align: right;\">-0.0345279</td><td style = \"text-align: right;\">0.0119197</td><td style = \"text-align: right;\">-0.035266</td><td style = \"text-align: right;\">0.0104154</td><td style = \"text-align: right;\">0.0330083</td><td style = \"text-align: right;\">-0.00350537</td></tr><tr><td class = \"rowNumber\" style = \"font-weight: bold; text-align: right;\">7</td><td style = \"text-align: left;\">1984-05-31</td><td style = \"text-align: right;\">-0.00866225</td><td style = \"text-align: right;\">0.000918446</td><td style = \"text-align: right;\">-0.00921588</td><td style = \"text-align: right;\">0.000484597</td><td style = \"text-align: right;\">0.00796162</td><td style = \"text-align: right;\">0.00876436</td></tr><tr><td class = \"rowNumber\" style = \"font-weight: bold; text-align: right;\">8</td><td style = \"text-align: left;\">1984-06-30</td><td style = \"text-align: right;\">-0.0222722</td><td style = \"text-align: right;\">-0.00196952</td><td style = \"text-align: right;\">-0.0230918</td><td style = \"text-align: right;\">-0.00328071</td><td style = \"text-align: right;\">0.0213212</td><td style = \"text-align: right;\">0.0108247</td></tr><tr><td class = \"rowNumber\" style = \"font-weight: bold; text-align: right;\">9</td><td style = \"text-align: left;\">1984-07-31</td><td style = \"text-align: right;\">-0.0507343</td><td style = \"text-align: right;\">-0.0586337</td><td style = \"text-align: right;\">-0.051525</td><td style = \"text-align: right;\">-0.0604458</td><td style = \"text-align: right;\">0.0490705</td><td style = \"text-align: right;\">0.0674597</td></tr><tr><td class = \"rowNumber\" style = \"font-weight: bold; text-align: right;\">10</td><td style = \"text-align: left;\">1984-08-31</td><td style = \"text-align: right;\">0.00952975</td><td style = \"text-align: right;\">0.0259592</td><td style = \"text-align: right;\">0.00820246</td><td style = \"text-align: right;\">0.0228228</td><td style = \"text-align: right;\">-0.00983357</td><td style = \"text-align: right;\">-0.0126415</td></tr><tr><td class = \"rowNumber\" style = \"font-weight: bold; text-align: right;\">11</td><td style = \"text-align: left;\">1984-09-30</td><td style = \"text-align: right;\">-0.0493</td><td style = \"text-align: right;\">0.00598681</td><td style = \"text-align: right;\">-0.0503411</td><td style = \"text-align: right;\">0.00674645</td><td style = \"text-align: right;\">0.0480422</td><td style = \"text-align: right;\">0.00524294</td></tr><tr><td class = \"rowNumber\" style = \"font-weight: bold; text-align: right;\">12</td><td style = \"text-align: left;\">1984-10-31</td><td style = \"text-align: right;\">-0.00967766</td><td style = \"text-align: right;\">-0.0654397</td><td style = \"text-align: right;\">-0.0109118</td><td style = \"text-align: right;\">-0.064485</td><td style = \"text-align: right;\">0.00888802</td><td style = \"text-align: right;\">0.0766164</td></tr><tr><td class = \"rowNumber\" style = \"font-weight: bold; text-align: right;\">13</td><td style = \"text-align: left;\">1984-11-30</td><td style = \"text-align: right;\">-0.0112935</td><td style = \"text-align: right;\">0.0372536</td><td style = \"text-align: right;\">-0.0125028</td><td style = \"text-align: right;\">0.0338093</td><td style = \"text-align: right;\">0.0115806</td><td style = \"text-align: right;\">-0.0249051</td></tr><tr><td style = \"text-align: right;\">&vellip;</td><td style = \"text-align: right;\">&vellip;</td><td style = \"text-align: right;\">&vellip;</td><td style = \"text-align: right;\">&vellip;</td><td style = \"text-align: right;\">&vellip;</td><td style = \"text-align: right;\">&vellip;</td><td style = \"text-align: right;\">&vellip;</td><td style = \"text-align: right;\">&vellip;</td></tr><tr><td class = \"rowNumber\" style = \"font-weight: bold; text-align: right;\">447</td><td style = \"text-align: left;\">2021-01-31</td><td style = \"text-align: right;\">-0.00180341</td><td style = \"text-align: right;\">0.0114958</td><td style = \"text-align: right;\">-0.00232666</td><td style = \"text-align: right;\">0.0110427</td><td style = \"text-align: right;\">0.00255079</td><td style = \"text-align: right;\">-0.00595709</td></tr><tr><td class = \"rowNumber\" style = \"font-weight: bold; text-align: right;\">448</td><td style = \"text-align: left;\">2021-02-28</td><td style = \"text-align: right;\">-0.0033592</td><td style = \"text-align: right;\">-0.00442578</td><td style = \"text-align: right;\">-0.00391905</td><td style = \"text-align: right;\">-0.00535264</td><td style = \"text-align: right;\">0.00414156</td><td style = \"text-align: right;\">0.00980683</td></tr><tr><td class = \"rowNumber\" style = \"font-weight: bold; text-align: right;\">449</td><td style = \"text-align: left;\">2021-03-31</td><td style = \"text-align: right;\">-0.0159103</td><td style = \"text-align: right;\">0.0264055</td><td style = \"text-align: right;\">-0.0164256</td><td style = \"text-align: right;\">0.0255444</td><td style = \"text-align: right;\">0.0168658</td><td style = \"text-align: right;\">-0.0199708</td></tr><tr><td class = \"rowNumber\" style = \"font-weight: bold; text-align: right;\">450</td><td style = \"text-align: left;\">2021-04-30</td><td style = \"text-align: right;\">0.0149385</td><td style = \"text-align: right;\">-0.0117825</td><td style = \"text-align: right;\">0.0143643</td><td style = \"text-align: right;\">-0.0131844</td><td style = \"text-align: right;\">-0.0136734</td><td style = \"text-align: right;\">0.0196564</td></tr><tr><td class = \"rowNumber\" style = \"font-weight: bold; text-align: right;\">451</td><td style = \"text-align: left;\">2021-05-31</td><td style = \"text-align: right;\">0.0123023</td><td style = \"text-align: right;\">0.00960832</td><td style = \"text-align: right;\">0.0118046</td><td style = \"text-align: right;\">0.00920058</td><td style = \"text-align: right;\">-0.0112292</td><td style = \"text-align: right;\">-0.00291747</td></tr><tr><td class = \"rowNumber\" style = \"font-weight: bold; text-align: right;\">452</td><td style = \"text-align: left;\">2021-06-30</td><td style = \"text-align: right;\">-0.0188973</td><td style = \"text-align: right;\">0.012769</td><td style = \"text-align: right;\">-0.0193696</td><td style = \"text-align: right;\">0.0123802</td><td style = \"text-align: right;\">0.019989</td><td style = \"text-align: right;\">-0.00610675</td></tr><tr><td class = \"rowNumber\" style = \"font-weight: bold; text-align: right;\">453</td><td style = \"text-align: left;\">2021-07-31</td><td style = \"text-align: right;\">-0.00371919</td><td style = \"text-align: right;\">0.00367223</td><td style = \"text-align: right;\">-0.00411575</td><td style = \"text-align: right;\">0.00329457</td><td style = \"text-align: right;\">0.00474065</td><td style = \"text-align: right;\">0.00271682</td></tr><tr><td class = \"rowNumber\" style = \"font-weight: bold; text-align: right;\">454</td><td style = \"text-align: left;\">2021-08-31</td><td style = \"text-align: right;\">0.00411804</td><td style = \"text-align: right;\">0.0207374</td><td style = \"text-align: right;\">0.00368059</td><td style = \"text-align: right;\">0.0203957</td><td style = \"text-align: right;\">-0.00306246</td><td style = \"text-align: right;\">-0.0145215</td></tr><tr><td class = \"rowNumber\" style = \"font-weight: bold; text-align: right;\">455</td><td style = \"text-align: left;\">2021-09-30</td><td style = \"text-align: right;\">-0.0155467</td><td style = \"text-align: right;\">-0.00713398</td><td style = \"text-align: right;\">-0.0159634</td><td style = \"text-align: right;\">-0.00746358</td><td style = \"text-align: right;\">0.0166073</td><td style = \"text-align: right;\">0.0135197</td></tr><tr><td class = \"rowNumber\" style = \"font-weight: bold; text-align: right;\">456</td><td style = \"text-align: left;\">2021-10-31</td><td style = \"text-align: right;\">0.00561126</td><td style = \"text-align: right;\">-0.0136209</td><td style = \"text-align: right;\">0.00515765</td><td style = \"text-align: right;\">-0.0140274</td><td style = \"text-align: right;\">-0.00440235</td><td style = \"text-align: right;\">0.020375</td></tr><tr><td class = \"rowNumber\" style = \"font-weight: bold; text-align: right;\">457</td><td style = \"text-align: left;\">2021-11-30</td><td style = \"text-align: right;\">-0.0312092</td><td style = \"text-align: right;\">-0.0569581</td><td style = \"text-align: right;\">-0.0318899</td><td style = \"text-align: right;\">-0.0582488</td><td style = \"text-align: right;\">0.0324027</td><td style = \"text-align: right;\">0.0632765</td></tr><tr><td class = \"rowNumber\" style = \"font-weight: bold; text-align: right;\">458</td><td style = \"text-align: left;\">2021-12-31</td><td style = \"text-align: right;\">0.0106153</td><td style = \"text-align: right;\">0.00908815</td><td style = \"text-align: right;\">0.00985129</td><td style = \"text-align: right;\">0.00736814</td><td style = \"text-align: right;\">-0.00956695</td><td style = \"text-align: right;\">-0.00135599</td></tr></tbody></table></div>"
      ],
      "text/latex": [
       "\\begin{tabular}{r|ccccccc}\n",
       "\t& date & rx & hml\\_fx & rx\\_net & hml\\_fx\\_net & dollar & carry\\\\\n",
       "\t\\hline\n",
       "\t& Date & Float64 & Float64 & Float64 & Float64 & Float64 & Float64\\\\\n",
       "\t\\hline\n",
       "\t1 & 1983-11-30 & -0.0164371 & -0.00301259 & -0.0170909 & -0.00294848 & 0.0153914 & 0.0110917 \\\\\n",
       "\t2 & 1983-12-31 & -0.00855435 & 0.00924729 & -0.0100971 & 0.00531925 & 0.00786787 & 0.000485357 \\\\\n",
       "\t3 & 1984-01-31 & -0.0300285 & 0.0240907 & -0.0309099 & 0.0240164 & 0.0293586 & -0.0134736 \\\\\n",
       "\t4 & 1984-02-29 & 0.0465761 & 0.0141806 & 0.0459695 & 0.0144424 & -0.0476108 & -0.00504086 \\\\\n",
       "\t5 & 1984-03-31 & -0.00102185 & -0.00814813 & -0.00163983 & -0.00849513 & 0.0011936 & 0.0208235 \\\\\n",
       "\t6 & 1984-04-30 & -0.0345279 & 0.0119197 & -0.035266 & 0.0104154 & 0.0330083 & -0.00350537 \\\\\n",
       "\t7 & 1984-05-31 & -0.00866225 & 0.000918446 & -0.00921588 & 0.000484597 & 0.00796162 & 0.00876436 \\\\\n",
       "\t8 & 1984-06-30 & -0.0222722 & -0.00196952 & -0.0230918 & -0.00328071 & 0.0213212 & 0.0108247 \\\\\n",
       "\t9 & 1984-07-31 & -0.0507343 & -0.0586337 & -0.051525 & -0.0604458 & 0.0490705 & 0.0674597 \\\\\n",
       "\t10 & 1984-08-31 & 0.00952975 & 0.0259592 & 0.00820246 & 0.0228228 & -0.00983357 & -0.0126415 \\\\\n",
       "\t11 & 1984-09-30 & -0.0493 & 0.00598681 & -0.0503411 & 0.00674645 & 0.0480422 & 0.00524294 \\\\\n",
       "\t12 & 1984-10-31 & -0.00967766 & -0.0654397 & -0.0109118 & -0.064485 & 0.00888802 & 0.0766164 \\\\\n",
       "\t13 & 1984-11-30 & -0.0112935 & 0.0372536 & -0.0125028 & 0.0338093 & 0.0115806 & -0.0249051 \\\\\n",
       "\t14 & 1984-12-31 & -0.0196106 & -0.00446018 & -0.0211424 & -0.00838742 & 0.0194938 & 0.0155751 \\\\\n",
       "\t15 & 1985-01-31 & -0.00826425 & 0.0101983 & -0.0100634 & 0.00673396 & 0.00937026 & -0.00114745 \\\\\n",
       "\t16 & 1985-02-28 & -0.0467804 & 0.0263096 & -0.0490922 & 0.0223572 & 0.0479246 & -0.0169406 \\\\\n",
       "\t17 & 1985-03-31 & 0.0564107 & 0.0103828 & 0.0525615 & 0.00956909 & -0.0569152 & 0.010432 \\\\\n",
       "\t18 & 1985-04-30 & -0.00660584 & -0.000933242 & -0.00954816 & -0.0043645 & 0.0103777 & 0.0135867 \\\\\n",
       "\t19 & 1985-05-31 & 0.0112972 & 0.00621609 & 0.00909361 & 0.00399171 & -0.00906238 & 0.00682619 \\\\\n",
       "\t20 & 1985-06-30 & 0.0156921 & 0.0372224 & 0.0135474 & 0.0348543 & -0.012182 & -0.0229345 \\\\\n",
       "\t21 & 1985-07-31 & 0.056054 & 0.0191824 & 0.0544521 & 0.0181234 & -0.0538218 & -0.00797762 \\\\\n",
       "\t22 & 1985-08-31 & -0.00441376 & 0.0160045 & -0.00614953 & 0.0145607 & 0.0062166 & -0.00312668 \\\\\n",
       "\t23 & 1985-09-30 & 0.0355398 & -0.0221378 & 0.0336404 & -0.023837 & -0.0333116 & 0.0375194 \\\\\n",
       "\t24 & 1985-10-31 & 0.0191743 & 0.0272324 & 0.0167885 & 0.0237748 & -0.0171416 & -0.012727 \\\\\n",
       "\t$\\dots$ & $\\dots$ & $\\dots$ & $\\dots$ & $\\dots$ & $\\dots$ & $\\dots$ & $\\dots$ \\\\\n",
       "\\end{tabular}\n"
      ],
      "text/plain": [
       "\u001b[1m458×7 DataFrame\u001b[0m\n",
       "\u001b[1m Row \u001b[0m│\u001b[1m date       \u001b[0m\u001b[1m rx          \u001b[0m\u001b[1m hml_fx       \u001b[0m\u001b[1m rx_net      \u001b[0m\u001b[1m hml_fx_net   \u001b[0m\u001b[1m dollar      \u001b[0m\u001b[1m carry      \u001b[0m ⋯\n",
       "     │\u001b[90m Date       \u001b[0m\u001b[90m Float64     \u001b[0m\u001b[90m Float64      \u001b[0m\u001b[90m Float64     \u001b[0m\u001b[90m Float64      \u001b[0m\u001b[90m Float64     \u001b[0m\u001b[90m Float64    \u001b[0m ⋯\n",
       "─────┼─────────────────────────────────────────────────────────────────────────────────────────────\n",
       "   1 │ 1983-11-30  -0.0164371   -0.00301259   -0.0170909   -0.00294848    0.0153914    0.0110917  ⋯\n",
       "   2 │ 1983-12-31  -0.00855435   0.00924729   -0.0100971    0.00531925    0.00786787   0.00048535\n",
       "   3 │ 1984-01-31  -0.0300285    0.0240907    -0.0309099    0.0240164     0.0293586   -0.0134736\n",
       "   4 │ 1984-02-29   0.0465761    0.0141806     0.0459695    0.0144424    -0.0476108   -0.00504086\n",
       "   5 │ 1984-03-31  -0.00102185  -0.00814813   -0.00163983  -0.00849513    0.0011936    0.0208235  ⋯\n",
       "   6 │ 1984-04-30  -0.0345279    0.0119197    -0.035266     0.0104154     0.0330083   -0.00350537\n",
       "   7 │ 1984-05-31  -0.00866225   0.000918446  -0.00921588   0.000484597   0.00796162   0.00876436\n",
       "   8 │ 1984-06-30  -0.0222722   -0.00196952   -0.0230918   -0.00328071    0.0213212    0.0108247\n",
       "  ⋮  │     ⋮            ⋮            ⋮             ⋮            ⋮             ⋮            ⋮      ⋱\n",
       " 452 │ 2021-06-30  -0.0188973    0.012769     -0.0193696    0.0123802     0.019989    -0.00610675 ⋯\n",
       " 453 │ 2021-07-31  -0.00371919   0.00367223   -0.00411575   0.00329457    0.00474065   0.00271682\n",
       " 454 │ 2021-08-31   0.00411804   0.0207374     0.00368059   0.0203957    -0.00306246  -0.0145215\n",
       " 455 │ 2021-09-30  -0.0155467   -0.00713398   -0.0159634   -0.00746358    0.0166073    0.0135197\n",
       " 456 │ 2021-10-31   0.00561126  -0.0136209     0.00515765  -0.0140274    -0.00440235   0.020375   ⋯\n",
       " 457 │ 2021-11-30  -0.0312092   -0.0569581    -0.0318899   -0.0582488     0.0324027    0.0632765\n",
       " 458 │ 2021-12-31   0.0106153    0.00908815    0.00985129   0.00736814   -0.00956695  -0.00135599\n",
       "\u001b[36m                                                                      1 column and 443 rows omitted\u001b[0m"
      ]
     },
     "metadata": {},
     "output_type": "display_data"
    }
   ],
   "source": [
    "old_python_combined_filestring_base = \"../../../../Code - Old Python Version/Data/Refined Data/Currencies\"\n",
    "new_julia_combined_filestring_base = \"../../Data/Refined Data/Currencies\"\n",
    "\n",
    "python_factors = main(joinpath(old_python_combined_filestring_base, \"currencies.csv\"), :curr, :for_bid, :for_mid, :for_ask)\n",
    "julia_factors = main(joinpath(new_julia_combined_filestring_base, \"currency_rates.csv\"), :cur_code, :forward_bid, :forward_mid, :forward_ask)"
   ]
  },
  {
   "cell_type": "code",
   "execution_count": 42,
   "metadata": {},
   "outputs": [
    {
     "data": {
      "text/html": [
       "<div><div style = \"float: left;\"><span>458×7 DataFrame</span></div><div style = \"float: right;\"><span style = \"font-style: italic;\">433 rows omitted</span></div><div style = \"clear: both;\"></div></div><div class = \"data-frame\" style = \"overflow-x: scroll;\"><table class = \"data-frame\" style = \"margin-bottom: 6px;\"><thead><tr class = \"header\"><th class = \"rowNumber\" style = \"font-weight: bold; text-align: right;\">Row</th><th style = \"text-align: left;\">date</th><th style = \"text-align: left;\">rx</th><th style = \"text-align: left;\">hml_fx</th><th style = \"text-align: left;\">rx_net</th><th style = \"text-align: left;\">hml_fx_net</th><th style = \"text-align: left;\">dollar</th><th style = \"text-align: left;\">carry</th></tr><tr class = \"subheader headerLastRow\"><th class = \"rowNumber\" style = \"font-weight: bold; text-align: right;\"></th><th title = \"Dates.Date\" style = \"text-align: left;\">Date</th><th title = \"Float64\" style = \"text-align: left;\">Float64</th><th title = \"Float64\" style = \"text-align: left;\">Float64</th><th title = \"Float64\" style = \"text-align: left;\">Float64</th><th title = \"Float64\" style = \"text-align: left;\">Float64</th><th title = \"Float64\" style = \"text-align: left;\">Float64</th><th title = \"Float64\" style = \"text-align: left;\">Float64</th></tr></thead><tbody><tr><td class = \"rowNumber\" style = \"font-weight: bold; text-align: right;\">1</td><td style = \"text-align: left;\">1983-11-30</td><td style = \"text-align: right;\">-0.0164371</td><td style = \"text-align: right;\">-0.00301259</td><td style = \"text-align: right;\">-0.0172202</td><td style = \"text-align: right;\">-0.00294848</td><td style = \"text-align: right;\">0.0153914</td><td style = \"text-align: right;\">0.0110917</td></tr><tr><td class = \"rowNumber\" style = \"font-weight: bold; text-align: right;\">2</td><td style = \"text-align: left;\">1983-12-31</td><td style = \"text-align: right;\">-0.00855435</td><td style = \"text-align: right;\">0.00924729</td><td style = \"text-align: right;\">-0.0104163</td><td style = \"text-align: right;\">0.00531925</td><td style = \"text-align: right;\">0.00786787</td><td style = \"text-align: right;\">0.000485357</td></tr><tr><td class = \"rowNumber\" style = \"font-weight: bold; text-align: right;\">3</td><td style = \"text-align: left;\">1984-01-31</td><td style = \"text-align: right;\">-0.0300285</td><td style = \"text-align: right;\">0.0240907</td><td style = \"text-align: right;\">-0.031178</td><td style = \"text-align: right;\">0.0240164</td><td style = \"text-align: right;\">0.0293586</td><td style = \"text-align: right;\">-0.0134736</td></tr><tr><td class = \"rowNumber\" style = \"font-weight: bold; text-align: right;\">4</td><td style = \"text-align: left;\">1984-02-29</td><td style = \"text-align: right;\">0.0465761</td><td style = \"text-align: right;\">0.0141806</td><td style = \"text-align: right;\">0.0458362</td><td style = \"text-align: right;\">0.0144424</td><td style = \"text-align: right;\">-0.0476108</td><td style = \"text-align: right;\">-0.00504086</td></tr><tr><td class = \"rowNumber\" style = \"font-weight: bold; text-align: right;\">5</td><td style = \"text-align: left;\">1984-03-31</td><td style = \"text-align: right;\">-0.00102185</td><td style = \"text-align: right;\">-0.00814813</td><td style = \"text-align: right;\">-0.00190061</td><td style = \"text-align: right;\">-0.00849513</td><td style = \"text-align: right;\">0.0011936</td><td style = \"text-align: right;\">0.0208235</td></tr><tr><td class = \"rowNumber\" style = \"font-weight: bold; text-align: right;\">6</td><td style = \"text-align: left;\">1984-04-30</td><td style = \"text-align: right;\">-0.0345279</td><td style = \"text-align: right;\">0.0119197</td><td style = \"text-align: right;\">-0.0355351</td><td style = \"text-align: right;\">0.0104154</td><td style = \"text-align: right;\">0.0330083</td><td style = \"text-align: right;\">-0.00350537</td></tr><tr><td class = \"rowNumber\" style = \"font-weight: bold; text-align: right;\">7</td><td style = \"text-align: left;\">1984-05-31</td><td style = \"text-align: right;\">-0.00866225</td><td style = \"text-align: right;\">0.000918446</td><td style = \"text-align: right;\">-0.00949107</td><td style = \"text-align: right;\">0.000484597</td><td style = \"text-align: right;\">0.00796162</td><td style = \"text-align: right;\">0.00876436</td></tr><tr><td class = \"rowNumber\" style = \"font-weight: bold; text-align: right;\">8</td><td style = \"text-align: left;\">1984-06-30</td><td style = \"text-align: right;\">-0.0222722</td><td style = \"text-align: right;\">-0.00196952</td><td style = \"text-align: right;\">-0.0233708</td><td style = \"text-align: right;\">-0.00328071</td><td style = \"text-align: right;\">0.0213212</td><td style = \"text-align: right;\">0.0108247</td></tr><tr><td class = \"rowNumber\" style = \"font-weight: bold; text-align: right;\">9</td><td style = \"text-align: left;\">1984-07-31</td><td style = \"text-align: right;\">-0.0507343</td><td style = \"text-align: right;\">-0.0586337</td><td style = \"text-align: right;\">-0.0518118</td><td style = \"text-align: right;\">-0.0604458</td><td style = \"text-align: right;\">0.0490705</td><td style = \"text-align: right;\">0.0674597</td></tr><tr><td class = \"rowNumber\" style = \"font-weight: bold; text-align: right;\">10</td><td style = \"text-align: left;\">1984-08-31</td><td style = \"text-align: right;\">0.00952975</td><td style = \"text-align: right;\">0.0259592</td><td style = \"text-align: right;\">0.00805588</td><td style = \"text-align: right;\">0.0228228</td><td style = \"text-align: right;\">-0.00983357</td><td style = \"text-align: right;\">-0.0126415</td></tr><tr><td class = \"rowNumber\" style = \"font-weight: bold; text-align: right;\">11</td><td style = \"text-align: left;\">1984-09-30</td><td style = \"text-align: right;\">-0.0493</td><td style = \"text-align: right;\">0.00598681</td><td style = \"text-align: right;\">-0.050789</td><td style = \"text-align: right;\">0.00674645</td><td style = \"text-align: right;\">0.0480422</td><td style = \"text-align: right;\">0.00524294</td></tr><tr><td class = \"rowNumber\" style = \"font-weight: bold; text-align: right;\">12</td><td style = \"text-align: left;\">1984-10-31</td><td style = \"text-align: right;\">-0.00967766</td><td style = \"text-align: right;\">-0.0654397</td><td style = \"text-align: right;\">-0.0112236</td><td style = \"text-align: right;\">-0.064485</td><td style = \"text-align: right;\">0.00888802</td><td style = \"text-align: right;\">0.0766164</td></tr><tr><td class = \"rowNumber\" style = \"font-weight: bold; text-align: right;\">13</td><td style = \"text-align: left;\">1984-11-30</td><td style = \"text-align: right;\">-0.0112935</td><td style = \"text-align: right;\">0.0372536</td><td style = \"text-align: right;\">-0.0126611</td><td style = \"text-align: right;\">0.0338093</td><td style = \"text-align: right;\">0.0115806</td><td style = \"text-align: right;\">-0.0249051</td></tr><tr><td style = \"text-align: right;\">&vellip;</td><td style = \"text-align: right;\">&vellip;</td><td style = \"text-align: right;\">&vellip;</td><td style = \"text-align: right;\">&vellip;</td><td style = \"text-align: right;\">&vellip;</td><td style = \"text-align: right;\">&vellip;</td><td style = \"text-align: right;\">&vellip;</td><td style = \"text-align: right;\">&vellip;</td></tr><tr><td class = \"rowNumber\" style = \"font-weight: bold; text-align: right;\">447</td><td style = \"text-align: left;\">2021-01-31</td><td style = \"text-align: right;\">-0.00180341</td><td style = \"text-align: right;\">0.0114958</td><td style = \"text-align: right;\">-0.00241575</td><td style = \"text-align: right;\">0.0110427</td><td style = \"text-align: right;\">0.00255079</td><td style = \"text-align: right;\">-0.00595709</td></tr><tr><td class = \"rowNumber\" style = \"font-weight: bold; text-align: right;\">448</td><td style = \"text-align: left;\">2021-02-28</td><td style = \"text-align: right;\">-0.0033592</td><td style = \"text-align: right;\">-0.00442578</td><td style = \"text-align: right;\">-0.00401643</td><td style = \"text-align: right;\">-0.00535264</td><td style = \"text-align: right;\">0.00414156</td><td style = \"text-align: right;\">0.00980683</td></tr><tr><td class = \"rowNumber\" style = \"font-weight: bold; text-align: right;\">449</td><td style = \"text-align: left;\">2021-03-31</td><td style = \"text-align: right;\">-0.0159103</td><td style = \"text-align: right;\">0.0264055</td><td style = \"text-align: right;\">-0.0165302</td><td style = \"text-align: right;\">0.0255444</td><td style = \"text-align: right;\">0.0168658</td><td style = \"text-align: right;\">-0.0199708</td></tr><tr><td class = \"rowNumber\" style = \"font-weight: bold; text-align: right;\">450</td><td style = \"text-align: left;\">2021-04-30</td><td style = \"text-align: right;\">0.0149385</td><td style = \"text-align: right;\">-0.0117825</td><td style = \"text-align: right;\">0.0142722</td><td style = \"text-align: right;\">-0.0131844</td><td style = \"text-align: right;\">-0.0136734</td><td style = \"text-align: right;\">0.0196564</td></tr><tr><td class = \"rowNumber\" style = \"font-weight: bold; text-align: right;\">451</td><td style = \"text-align: left;\">2021-05-31</td><td style = \"text-align: right;\">0.0123023</td><td style = \"text-align: right;\">0.00960832</td><td style = \"text-align: right;\">0.0117174</td><td style = \"text-align: right;\">0.00920058</td><td style = \"text-align: right;\">-0.0112292</td><td style = \"text-align: right;\">-0.00291747</td></tr><tr><td class = \"rowNumber\" style = \"font-weight: bold; text-align: right;\">452</td><td style = \"text-align: left;\">2021-06-30</td><td style = \"text-align: right;\">-0.0188973</td><td style = \"text-align: right;\">0.012769</td><td style = \"text-align: right;\">-0.019468</td><td style = \"text-align: right;\">0.0123802</td><td style = \"text-align: right;\">0.019989</td><td style = \"text-align: right;\">-0.00610675</td></tr><tr><td class = \"rowNumber\" style = \"font-weight: bold; text-align: right;\">453</td><td style = \"text-align: left;\">2021-07-31</td><td style = \"text-align: right;\">-0.00371919</td><td style = \"text-align: right;\">0.00367223</td><td style = \"text-align: right;\">-0.0042291</td><td style = \"text-align: right;\">0.00329457</td><td style = \"text-align: right;\">0.00474065</td><td style = \"text-align: right;\">0.00271682</td></tr><tr><td class = \"rowNumber\" style = \"font-weight: bold; text-align: right;\">454</td><td style = \"text-align: left;\">2021-08-31</td><td style = \"text-align: right;\">0.00411804</td><td style = \"text-align: right;\">0.0207374</td><td style = \"text-align: right;\">0.00357954</td><td style = \"text-align: right;\">0.0203957</td><td style = \"text-align: right;\">-0.00306246</td><td style = \"text-align: right;\">-0.0145215</td></tr><tr><td class = \"rowNumber\" style = \"font-weight: bold; text-align: right;\">455</td><td style = \"text-align: left;\">2021-09-30</td><td style = \"text-align: right;\">-0.0155467</td><td style = \"text-align: right;\">-0.00713398</td><td style = \"text-align: right;\">-0.0160906</td><td style = \"text-align: right;\">-0.00746358</td><td style = \"text-align: right;\">0.0166073</td><td style = \"text-align: right;\">0.0135197</td></tr><tr><td class = \"rowNumber\" style = \"font-weight: bold; text-align: right;\">456</td><td style = \"text-align: left;\">2021-10-31</td><td style = \"text-align: right;\">0.00561126</td><td style = \"text-align: right;\">-0.0136209</td><td style = \"text-align: right;\">0.00502858</td><td style = \"text-align: right;\">-0.0140274</td><td style = \"text-align: right;\">-0.00440235</td><td style = \"text-align: right;\">0.020375</td></tr><tr><td class = \"rowNumber\" style = \"font-weight: bold; text-align: right;\">457</td><td style = \"text-align: left;\">2021-11-30</td><td style = \"text-align: right;\">-0.0312092</td><td style = \"text-align: right;\">-0.0569581</td><td style = \"text-align: right;\">-0.0319897</td><td style = \"text-align: right;\">-0.0582488</td><td style = \"text-align: right;\">0.0324027</td><td style = \"text-align: right;\">0.0632765</td></tr><tr><td class = \"rowNumber\" style = \"font-weight: bold; text-align: right;\">458</td><td style = \"text-align: left;\">2021-12-31</td><td style = \"text-align: right;\">0.0106153</td><td style = \"text-align: right;\">0.00908815</td><td style = \"text-align: right;\">0.00974196</td><td style = \"text-align: right;\">0.00750843</td><td style = \"text-align: right;\">-0.00956695</td><td style = \"text-align: right;\">-0.00135599</td></tr></tbody></table></div>"
      ],
      "text/latex": [
       "\\begin{tabular}{r|ccccccc}\n",
       "\t& date & rx & hml\\_fx & rx\\_net & hml\\_fx\\_net & dollar & carry\\\\\n",
       "\t\\hline\n",
       "\t& Date & Float64 & Float64 & Float64 & Float64 & Float64 & Float64\\\\\n",
       "\t\\hline\n",
       "\t1 & 1983-11-30 & -0.0164371 & -0.00301259 & -0.0172202 & -0.00294848 & 0.0153914 & 0.0110917 \\\\\n",
       "\t2 & 1983-12-31 & -0.00855435 & 0.00924729 & -0.0104163 & 0.00531925 & 0.00786787 & 0.000485357 \\\\\n",
       "\t3 & 1984-01-31 & -0.0300285 & 0.0240907 & -0.031178 & 0.0240164 & 0.0293586 & -0.0134736 \\\\\n",
       "\t4 & 1984-02-29 & 0.0465761 & 0.0141806 & 0.0458362 & 0.0144424 & -0.0476108 & -0.00504086 \\\\\n",
       "\t5 & 1984-03-31 & -0.00102185 & -0.00814813 & -0.00190061 & -0.00849513 & 0.0011936 & 0.0208235 \\\\\n",
       "\t6 & 1984-04-30 & -0.0345279 & 0.0119197 & -0.0355351 & 0.0104154 & 0.0330083 & -0.00350537 \\\\\n",
       "\t7 & 1984-05-31 & -0.00866225 & 0.000918446 & -0.00949107 & 0.000484597 & 0.00796162 & 0.00876436 \\\\\n",
       "\t8 & 1984-06-30 & -0.0222722 & -0.00196952 & -0.0233708 & -0.00328071 & 0.0213212 & 0.0108247 \\\\\n",
       "\t9 & 1984-07-31 & -0.0507343 & -0.0586337 & -0.0518118 & -0.0604458 & 0.0490705 & 0.0674597 \\\\\n",
       "\t10 & 1984-08-31 & 0.00952975 & 0.0259592 & 0.00805588 & 0.0228228 & -0.00983357 & -0.0126415 \\\\\n",
       "\t11 & 1984-09-30 & -0.0493 & 0.00598681 & -0.050789 & 0.00674645 & 0.0480422 & 0.00524294 \\\\\n",
       "\t12 & 1984-10-31 & -0.00967766 & -0.0654397 & -0.0112236 & -0.064485 & 0.00888802 & 0.0766164 \\\\\n",
       "\t13 & 1984-11-30 & -0.0112935 & 0.0372536 & -0.0126611 & 0.0338093 & 0.0115806 & -0.0249051 \\\\\n",
       "\t14 & 1984-12-31 & -0.0196106 & -0.00446018 & -0.0213044 & -0.00741581 & 0.0194938 & 0.0155751 \\\\\n",
       "\t15 & 1985-01-31 & -0.00826425 & 0.0101983 & -0.010175 & 0.00673396 & 0.00937026 & -0.00114745 \\\\\n",
       "\t16 & 1985-02-28 & -0.0467804 & 0.0263096 & -0.0492176 & 0.0223572 & 0.0479246 & -0.0169406 \\\\\n",
       "\t17 & 1985-03-31 & 0.0564107 & 0.0103828 & 0.0523995 & 0.00859719 & -0.0569152 & 0.010432 \\\\\n",
       "\t18 & 1985-04-30 & -0.00660584 & -0.000933242 & -0.00978786 & -0.0058027 & 0.0103777 & 0.0135867 \\\\\n",
       "\t19 & 1985-05-31 & 0.0112972 & 0.00621609 & 0.00894726 & 0.00399171 & -0.00906238 & 0.00682619 \\\\\n",
       "\t20 & 1985-06-30 & 0.0156921 & 0.0372224 & 0.0134053 & 0.0348543 & -0.012182 & -0.0229345 \\\\\n",
       "\t21 & 1985-07-31 & 0.056054 & 0.0191824 & 0.0543573 & 0.0181234 & -0.0538218 & -0.00797762 \\\\\n",
       "\t22 & 1985-08-31 & -0.00441376 & 0.0160045 & -0.00626056 & 0.0145607 & 0.0062166 & -0.00312668 \\\\\n",
       "\t23 & 1985-09-30 & 0.0355398 & -0.0221378 & 0.0335289 & -0.023837 & -0.0333116 & 0.0375194 \\\\\n",
       "\t24 & 1985-10-31 & 0.0191743 & 0.0272324 & 0.0166787 & 0.0237748 & -0.0171416 & -0.012727 \\\\\n",
       "\t$\\dots$ & $\\dots$ & $\\dots$ & $\\dots$ & $\\dots$ & $\\dots$ & $\\dots$ & $\\dots$ \\\\\n",
       "\\end{tabular}\n"
      ],
      "text/plain": [
       "\u001b[1m458×7 DataFrame\u001b[0m\n",
       "\u001b[1m Row \u001b[0m│\u001b[1m date       \u001b[0m\u001b[1m rx          \u001b[0m\u001b[1m hml_fx       \u001b[0m\u001b[1m rx_net      \u001b[0m\u001b[1m hml_fx_net   \u001b[0m\u001b[1m dollar      \u001b[0m\u001b[1m carry      \u001b[0m ⋯\n",
       "     │\u001b[90m Date       \u001b[0m\u001b[90m Float64     \u001b[0m\u001b[90m Float64      \u001b[0m\u001b[90m Float64     \u001b[0m\u001b[90m Float64      \u001b[0m\u001b[90m Float64     \u001b[0m\u001b[90m Float64    \u001b[0m ⋯\n",
       "─────┼─────────────────────────────────────────────────────────────────────────────────────────────\n",
       "   1 │ 1983-11-30  -0.0164371   -0.00301259   -0.0172202   -0.00294848    0.0153914    0.0110917  ⋯\n",
       "   2 │ 1983-12-31  -0.00855435   0.00924729   -0.0104163    0.00531925    0.00786787   0.00048535\n",
       "   3 │ 1984-01-31  -0.0300285    0.0240907    -0.031178     0.0240164     0.0293586   -0.0134736\n",
       "   4 │ 1984-02-29   0.0465761    0.0141806     0.0458362    0.0144424    -0.0476108   -0.00504086\n",
       "   5 │ 1984-03-31  -0.00102185  -0.00814813   -0.00190061  -0.00849513    0.0011936    0.0208235  ⋯\n",
       "   6 │ 1984-04-30  -0.0345279    0.0119197    -0.0355351    0.0104154     0.0330083   -0.00350537\n",
       "   7 │ 1984-05-31  -0.00866225   0.000918446  -0.00949107   0.000484597   0.00796162   0.00876436\n",
       "   8 │ 1984-06-30  -0.0222722   -0.00196952   -0.0233708   -0.00328071    0.0213212    0.0108247\n",
       "  ⋮  │     ⋮            ⋮            ⋮             ⋮            ⋮             ⋮            ⋮      ⋱\n",
       " 452 │ 2021-06-30  -0.0188973    0.012769     -0.019468     0.0123802     0.019989    -0.00610675 ⋯\n",
       " 453 │ 2021-07-31  -0.00371919   0.00367223   -0.0042291    0.00329457    0.00474065   0.00271682\n",
       " 454 │ 2021-08-31   0.00411804   0.0207374     0.00357954   0.0203957    -0.00306246  -0.0145215\n",
       " 455 │ 2021-09-30  -0.0155467   -0.00713398   -0.0160906   -0.00746358    0.0166073    0.0135197\n",
       " 456 │ 2021-10-31   0.00561126  -0.0136209     0.00502858  -0.0140274    -0.00440235   0.020375   ⋯\n",
       " 457 │ 2021-11-30  -0.0312092   -0.0569581    -0.0319897   -0.0582488     0.0324027    0.0632765\n",
       " 458 │ 2021-12-31   0.0106153    0.00908815    0.00974196   0.00750843   -0.00956695  -0.00135599\n",
       "\u001b[36m                                                                      1 column and 443 rows omitted\u001b[0m"
      ]
     },
     "metadata": {},
     "output_type": "display_data"
    }
   ],
   "source": [
    "python_factors"
   ]
  },
  {
   "cell_type": "code",
   "execution_count": 40,
   "metadata": {},
   "outputs": [
    {
     "data": {
      "text/html": [
       "<div><div style = \"float: left;\"><span>458×7 DataFrame</span></div><div style = \"float: right;\"><span style = \"font-style: italic;\">433 rows omitted</span></div><div style = \"clear: both;\"></div></div><div class = \"data-frame\" style = \"overflow-x: scroll;\"><table class = \"data-frame\" style = \"margin-bottom: 6px;\"><thead><tr class = \"header\"><th class = \"rowNumber\" style = \"font-weight: bold; text-align: right;\">Row</th><th style = \"text-align: left;\">date</th><th style = \"text-align: left;\">rx</th><th style = \"text-align: left;\">hml_fx</th><th style = \"text-align: left;\">rx_net</th><th style = \"text-align: left;\">hml_fx_net</th><th style = \"text-align: left;\">dollar</th><th style = \"text-align: left;\">carry</th></tr><tr class = \"subheader headerLastRow\"><th class = \"rowNumber\" style = \"font-weight: bold; text-align: right;\"></th><th title = \"Dates.Date\" style = \"text-align: left;\">Date</th><th title = \"Float64\" style = \"text-align: left;\">Float64</th><th title = \"Float64\" style = \"text-align: left;\">Float64</th><th title = \"Float64\" style = \"text-align: left;\">Float64</th><th title = \"Float64\" style = \"text-align: left;\">Float64</th><th title = \"Float64\" style = \"text-align: left;\">Float64</th><th title = \"Float64\" style = \"text-align: left;\">Float64</th></tr></thead><tbody><tr><td class = \"rowNumber\" style = \"font-weight: bold; text-align: right;\">1</td><td style = \"text-align: left;\">1983-11-30</td><td style = \"text-align: right;\">-0.0164371</td><td style = \"text-align: right;\">-0.00301259</td><td style = \"text-align: right;\">-0.0170909</td><td style = \"text-align: right;\">-0.00294848</td><td style = \"text-align: right;\">0.0153914</td><td style = \"text-align: right;\">0.0110917</td></tr><tr><td class = \"rowNumber\" style = \"font-weight: bold; text-align: right;\">2</td><td style = \"text-align: left;\">1983-12-31</td><td style = \"text-align: right;\">-0.00855435</td><td style = \"text-align: right;\">0.00924729</td><td style = \"text-align: right;\">-0.0100971</td><td style = \"text-align: right;\">0.00531925</td><td style = \"text-align: right;\">0.00786787</td><td style = \"text-align: right;\">0.000485357</td></tr><tr><td class = \"rowNumber\" style = \"font-weight: bold; text-align: right;\">3</td><td style = \"text-align: left;\">1984-01-31</td><td style = \"text-align: right;\">-0.0300285</td><td style = \"text-align: right;\">0.0240907</td><td style = \"text-align: right;\">-0.0309099</td><td style = \"text-align: right;\">0.0240164</td><td style = \"text-align: right;\">0.0293586</td><td style = \"text-align: right;\">-0.0134736</td></tr><tr><td class = \"rowNumber\" style = \"font-weight: bold; text-align: right;\">4</td><td style = \"text-align: left;\">1984-02-29</td><td style = \"text-align: right;\">0.0465761</td><td style = \"text-align: right;\">0.0141806</td><td style = \"text-align: right;\">0.0459695</td><td style = \"text-align: right;\">0.0144424</td><td style = \"text-align: right;\">-0.0476108</td><td style = \"text-align: right;\">-0.00504086</td></tr><tr><td class = \"rowNumber\" style = \"font-weight: bold; text-align: right;\">5</td><td style = \"text-align: left;\">1984-03-31</td><td style = \"text-align: right;\">-0.00102185</td><td style = \"text-align: right;\">-0.00814813</td><td style = \"text-align: right;\">-0.00163983</td><td style = \"text-align: right;\">-0.00849513</td><td style = \"text-align: right;\">0.0011936</td><td style = \"text-align: right;\">0.0208235</td></tr><tr><td class = \"rowNumber\" style = \"font-weight: bold; text-align: right;\">6</td><td style = \"text-align: left;\">1984-04-30</td><td style = \"text-align: right;\">-0.0345279</td><td style = \"text-align: right;\">0.0119197</td><td style = \"text-align: right;\">-0.035266</td><td style = \"text-align: right;\">0.0104154</td><td style = \"text-align: right;\">0.0330083</td><td style = \"text-align: right;\">-0.00350537</td></tr><tr><td class = \"rowNumber\" style = \"font-weight: bold; text-align: right;\">7</td><td style = \"text-align: left;\">1984-05-31</td><td style = \"text-align: right;\">-0.00866225</td><td style = \"text-align: right;\">0.000918446</td><td style = \"text-align: right;\">-0.00921588</td><td style = \"text-align: right;\">0.000484597</td><td style = \"text-align: right;\">0.00796162</td><td style = \"text-align: right;\">0.00876436</td></tr><tr><td class = \"rowNumber\" style = \"font-weight: bold; text-align: right;\">8</td><td style = \"text-align: left;\">1984-06-30</td><td style = \"text-align: right;\">-0.0222722</td><td style = \"text-align: right;\">-0.00196952</td><td style = \"text-align: right;\">-0.0230918</td><td style = \"text-align: right;\">-0.00328071</td><td style = \"text-align: right;\">0.0213212</td><td style = \"text-align: right;\">0.0108247</td></tr><tr><td class = \"rowNumber\" style = \"font-weight: bold; text-align: right;\">9</td><td style = \"text-align: left;\">1984-07-31</td><td style = \"text-align: right;\">-0.0507343</td><td style = \"text-align: right;\">-0.0586337</td><td style = \"text-align: right;\">-0.051525</td><td style = \"text-align: right;\">-0.0604458</td><td style = \"text-align: right;\">0.0490705</td><td style = \"text-align: right;\">0.0674597</td></tr><tr><td class = \"rowNumber\" style = \"font-weight: bold; text-align: right;\">10</td><td style = \"text-align: left;\">1984-08-31</td><td style = \"text-align: right;\">0.00952975</td><td style = \"text-align: right;\">0.0259592</td><td style = \"text-align: right;\">0.00820246</td><td style = \"text-align: right;\">0.0228228</td><td style = \"text-align: right;\">-0.00983357</td><td style = \"text-align: right;\">-0.0126415</td></tr><tr><td class = \"rowNumber\" style = \"font-weight: bold; text-align: right;\">11</td><td style = \"text-align: left;\">1984-09-30</td><td style = \"text-align: right;\">-0.0493</td><td style = \"text-align: right;\">0.00598681</td><td style = \"text-align: right;\">-0.0503411</td><td style = \"text-align: right;\">0.00674645</td><td style = \"text-align: right;\">0.0480422</td><td style = \"text-align: right;\">0.00524294</td></tr><tr><td class = \"rowNumber\" style = \"font-weight: bold; text-align: right;\">12</td><td style = \"text-align: left;\">1984-10-31</td><td style = \"text-align: right;\">-0.00967766</td><td style = \"text-align: right;\">-0.0654397</td><td style = \"text-align: right;\">-0.0109118</td><td style = \"text-align: right;\">-0.064485</td><td style = \"text-align: right;\">0.00888802</td><td style = \"text-align: right;\">0.0766164</td></tr><tr><td class = \"rowNumber\" style = \"font-weight: bold; text-align: right;\">13</td><td style = \"text-align: left;\">1984-11-30</td><td style = \"text-align: right;\">-0.0112935</td><td style = \"text-align: right;\">0.0372536</td><td style = \"text-align: right;\">-0.0125028</td><td style = \"text-align: right;\">0.0338093</td><td style = \"text-align: right;\">0.0115806</td><td style = \"text-align: right;\">-0.0249051</td></tr><tr><td style = \"text-align: right;\">&vellip;</td><td style = \"text-align: right;\">&vellip;</td><td style = \"text-align: right;\">&vellip;</td><td style = \"text-align: right;\">&vellip;</td><td style = \"text-align: right;\">&vellip;</td><td style = \"text-align: right;\">&vellip;</td><td style = \"text-align: right;\">&vellip;</td><td style = \"text-align: right;\">&vellip;</td></tr><tr><td class = \"rowNumber\" style = \"font-weight: bold; text-align: right;\">447</td><td style = \"text-align: left;\">2021-01-31</td><td style = \"text-align: right;\">-0.00180341</td><td style = \"text-align: right;\">0.0114958</td><td style = \"text-align: right;\">-0.00232666</td><td style = \"text-align: right;\">0.0110427</td><td style = \"text-align: right;\">0.00255079</td><td style = \"text-align: right;\">-0.00595709</td></tr><tr><td class = \"rowNumber\" style = \"font-weight: bold; text-align: right;\">448</td><td style = \"text-align: left;\">2021-02-28</td><td style = \"text-align: right;\">-0.0033592</td><td style = \"text-align: right;\">-0.00442578</td><td style = \"text-align: right;\">-0.00391905</td><td style = \"text-align: right;\">-0.00535264</td><td style = \"text-align: right;\">0.00414156</td><td style = \"text-align: right;\">0.00980683</td></tr><tr><td class = \"rowNumber\" style = \"font-weight: bold; text-align: right;\">449</td><td style = \"text-align: left;\">2021-03-31</td><td style = \"text-align: right;\">-0.0159103</td><td style = \"text-align: right;\">0.0264055</td><td style = \"text-align: right;\">-0.0164256</td><td style = \"text-align: right;\">0.0255444</td><td style = \"text-align: right;\">0.0168658</td><td style = \"text-align: right;\">-0.0199708</td></tr><tr><td class = \"rowNumber\" style = \"font-weight: bold; text-align: right;\">450</td><td style = \"text-align: left;\">2021-04-30</td><td style = \"text-align: right;\">0.0149385</td><td style = \"text-align: right;\">-0.0117825</td><td style = \"text-align: right;\">0.0143643</td><td style = \"text-align: right;\">-0.0131844</td><td style = \"text-align: right;\">-0.0136734</td><td style = \"text-align: right;\">0.0196564</td></tr><tr><td class = \"rowNumber\" style = \"font-weight: bold; text-align: right;\">451</td><td style = \"text-align: left;\">2021-05-31</td><td style = \"text-align: right;\">0.0123023</td><td style = \"text-align: right;\">0.00960832</td><td style = \"text-align: right;\">0.0118046</td><td style = \"text-align: right;\">0.00920058</td><td style = \"text-align: right;\">-0.0112292</td><td style = \"text-align: right;\">-0.00291747</td></tr><tr><td class = \"rowNumber\" style = \"font-weight: bold; text-align: right;\">452</td><td style = \"text-align: left;\">2021-06-30</td><td style = \"text-align: right;\">-0.0188973</td><td style = \"text-align: right;\">0.012769</td><td style = \"text-align: right;\">-0.0193696</td><td style = \"text-align: right;\">0.0123802</td><td style = \"text-align: right;\">0.019989</td><td style = \"text-align: right;\">-0.00610675</td></tr><tr><td class = \"rowNumber\" style = \"font-weight: bold; text-align: right;\">453</td><td style = \"text-align: left;\">2021-07-31</td><td style = \"text-align: right;\">-0.00371919</td><td style = \"text-align: right;\">0.00367223</td><td style = \"text-align: right;\">-0.00411575</td><td style = \"text-align: right;\">0.00329457</td><td style = \"text-align: right;\">0.00474065</td><td style = \"text-align: right;\">0.00271682</td></tr><tr><td class = \"rowNumber\" style = \"font-weight: bold; text-align: right;\">454</td><td style = \"text-align: left;\">2021-08-31</td><td style = \"text-align: right;\">0.00411804</td><td style = \"text-align: right;\">0.0207374</td><td style = \"text-align: right;\">0.00368059</td><td style = \"text-align: right;\">0.0203957</td><td style = \"text-align: right;\">-0.00306246</td><td style = \"text-align: right;\">-0.0145215</td></tr><tr><td class = \"rowNumber\" style = \"font-weight: bold; text-align: right;\">455</td><td style = \"text-align: left;\">2021-09-30</td><td style = \"text-align: right;\">-0.0155467</td><td style = \"text-align: right;\">-0.00713398</td><td style = \"text-align: right;\">-0.0159634</td><td style = \"text-align: right;\">-0.00746358</td><td style = \"text-align: right;\">0.0166073</td><td style = \"text-align: right;\">0.0135197</td></tr><tr><td class = \"rowNumber\" style = \"font-weight: bold; text-align: right;\">456</td><td style = \"text-align: left;\">2021-10-31</td><td style = \"text-align: right;\">0.00561126</td><td style = \"text-align: right;\">-0.0136209</td><td style = \"text-align: right;\">0.00515765</td><td style = \"text-align: right;\">-0.0140274</td><td style = \"text-align: right;\">-0.00440235</td><td style = \"text-align: right;\">0.020375</td></tr><tr><td class = \"rowNumber\" style = \"font-weight: bold; text-align: right;\">457</td><td style = \"text-align: left;\">2021-11-30</td><td style = \"text-align: right;\">-0.0312092</td><td style = \"text-align: right;\">-0.0569581</td><td style = \"text-align: right;\">-0.0318899</td><td style = \"text-align: right;\">-0.0582488</td><td style = \"text-align: right;\">0.0324027</td><td style = \"text-align: right;\">0.0632765</td></tr><tr><td class = \"rowNumber\" style = \"font-weight: bold; text-align: right;\">458</td><td style = \"text-align: left;\">2021-12-31</td><td style = \"text-align: right;\">0.0106153</td><td style = \"text-align: right;\">0.00908815</td><td style = \"text-align: right;\">0.00985129</td><td style = \"text-align: right;\">0.00736814</td><td style = \"text-align: right;\">-0.00956695</td><td style = \"text-align: right;\">-0.00135599</td></tr></tbody></table></div>"
      ],
      "text/latex": [
       "\\begin{tabular}{r|ccccccc}\n",
       "\t& date & rx & hml\\_fx & rx\\_net & hml\\_fx\\_net & dollar & carry\\\\\n",
       "\t\\hline\n",
       "\t& Date & Float64 & Float64 & Float64 & Float64 & Float64 & Float64\\\\\n",
       "\t\\hline\n",
       "\t1 & 1983-11-30 & -0.0164371 & -0.00301259 & -0.0170909 & -0.00294848 & 0.0153914 & 0.0110917 \\\\\n",
       "\t2 & 1983-12-31 & -0.00855435 & 0.00924729 & -0.0100971 & 0.00531925 & 0.00786787 & 0.000485357 \\\\\n",
       "\t3 & 1984-01-31 & -0.0300285 & 0.0240907 & -0.0309099 & 0.0240164 & 0.0293586 & -0.0134736 \\\\\n",
       "\t4 & 1984-02-29 & 0.0465761 & 0.0141806 & 0.0459695 & 0.0144424 & -0.0476108 & -0.00504086 \\\\\n",
       "\t5 & 1984-03-31 & -0.00102185 & -0.00814813 & -0.00163983 & -0.00849513 & 0.0011936 & 0.0208235 \\\\\n",
       "\t6 & 1984-04-30 & -0.0345279 & 0.0119197 & -0.035266 & 0.0104154 & 0.0330083 & -0.00350537 \\\\\n",
       "\t7 & 1984-05-31 & -0.00866225 & 0.000918446 & -0.00921588 & 0.000484597 & 0.00796162 & 0.00876436 \\\\\n",
       "\t8 & 1984-06-30 & -0.0222722 & -0.00196952 & -0.0230918 & -0.00328071 & 0.0213212 & 0.0108247 \\\\\n",
       "\t9 & 1984-07-31 & -0.0507343 & -0.0586337 & -0.051525 & -0.0604458 & 0.0490705 & 0.0674597 \\\\\n",
       "\t10 & 1984-08-31 & 0.00952975 & 0.0259592 & 0.00820246 & 0.0228228 & -0.00983357 & -0.0126415 \\\\\n",
       "\t11 & 1984-09-30 & -0.0493 & 0.00598681 & -0.0503411 & 0.00674645 & 0.0480422 & 0.00524294 \\\\\n",
       "\t12 & 1984-10-31 & -0.00967766 & -0.0654397 & -0.0109118 & -0.064485 & 0.00888802 & 0.0766164 \\\\\n",
       "\t13 & 1984-11-30 & -0.0112935 & 0.0372536 & -0.0125028 & 0.0338093 & 0.0115806 & -0.0249051 \\\\\n",
       "\t14 & 1984-12-31 & -0.0196106 & -0.00446018 & -0.0211424 & -0.00838742 & 0.0194938 & 0.0155751 \\\\\n",
       "\t15 & 1985-01-31 & -0.00826425 & 0.0101983 & -0.0100634 & 0.00673396 & 0.00937026 & -0.00114745 \\\\\n",
       "\t16 & 1985-02-28 & -0.0467804 & 0.0263096 & -0.0490922 & 0.0223572 & 0.0479246 & -0.0169406 \\\\\n",
       "\t17 & 1985-03-31 & 0.0564107 & 0.0103828 & 0.0525615 & 0.00956909 & -0.0569152 & 0.010432 \\\\\n",
       "\t18 & 1985-04-30 & -0.00660584 & -0.000933242 & -0.00954816 & -0.0043645 & 0.0103777 & 0.0135867 \\\\\n",
       "\t19 & 1985-05-31 & 0.0112972 & 0.00621609 & 0.00909361 & 0.00399171 & -0.00906238 & 0.00682619 \\\\\n",
       "\t20 & 1985-06-30 & 0.0156921 & 0.0372224 & 0.0135474 & 0.0348543 & -0.012182 & -0.0229345 \\\\\n",
       "\t21 & 1985-07-31 & 0.056054 & 0.0191824 & 0.0544521 & 0.0181234 & -0.0538218 & -0.00797762 \\\\\n",
       "\t22 & 1985-08-31 & -0.00441376 & 0.0160045 & -0.00614953 & 0.0145607 & 0.0062166 & -0.00312668 \\\\\n",
       "\t23 & 1985-09-30 & 0.0355398 & -0.0221378 & 0.0336404 & -0.023837 & -0.0333116 & 0.0375194 \\\\\n",
       "\t24 & 1985-10-31 & 0.0191743 & 0.0272324 & 0.0167885 & 0.0237748 & -0.0171416 & -0.012727 \\\\\n",
       "\t$\\dots$ & $\\dots$ & $\\dots$ & $\\dots$ & $\\dots$ & $\\dots$ & $\\dots$ & $\\dots$ \\\\\n",
       "\\end{tabular}\n"
      ],
      "text/plain": [
       "\u001b[1m458×7 DataFrame\u001b[0m\n",
       "\u001b[1m Row \u001b[0m│\u001b[1m date       \u001b[0m\u001b[1m rx          \u001b[0m\u001b[1m hml_fx       \u001b[0m\u001b[1m rx_net      \u001b[0m\u001b[1m hml_fx_net   \u001b[0m\u001b[1m dollar      \u001b[0m\u001b[1m carry      \u001b[0m ⋯\n",
       "     │\u001b[90m Date       \u001b[0m\u001b[90m Float64     \u001b[0m\u001b[90m Float64      \u001b[0m\u001b[90m Float64     \u001b[0m\u001b[90m Float64      \u001b[0m\u001b[90m Float64     \u001b[0m\u001b[90m Float64    \u001b[0m ⋯\n",
       "─────┼─────────────────────────────────────────────────────────────────────────────────────────────\n",
       "   1 │ 1983-11-30  -0.0164371   -0.00301259   -0.0170909   -0.00294848    0.0153914    0.0110917  ⋯\n",
       "   2 │ 1983-12-31  -0.00855435   0.00924729   -0.0100971    0.00531925    0.00786787   0.00048535\n",
       "   3 │ 1984-01-31  -0.0300285    0.0240907    -0.0309099    0.0240164     0.0293586   -0.0134736\n",
       "   4 │ 1984-02-29   0.0465761    0.0141806     0.0459695    0.0144424    -0.0476108   -0.00504086\n",
       "   5 │ 1984-03-31  -0.00102185  -0.00814813   -0.00163983  -0.00849513    0.0011936    0.0208235  ⋯\n",
       "   6 │ 1984-04-30  -0.0345279    0.0119197    -0.035266     0.0104154     0.0330083   -0.00350537\n",
       "   7 │ 1984-05-31  -0.00866225   0.000918446  -0.00921588   0.000484597   0.00796162   0.00876436\n",
       "   8 │ 1984-06-30  -0.0222722   -0.00196952   -0.0230918   -0.00328071    0.0213212    0.0108247\n",
       "  ⋮  │     ⋮            ⋮            ⋮             ⋮            ⋮             ⋮            ⋮      ⋱\n",
       " 452 │ 2021-06-30  -0.0188973    0.012769     -0.0193696    0.0123802     0.019989    -0.00610675 ⋯\n",
       " 453 │ 2021-07-31  -0.00371919   0.00367223   -0.00411575   0.00329457    0.00474065   0.00271682\n",
       " 454 │ 2021-08-31   0.00411804   0.0207374     0.00368059   0.0203957    -0.00306246  -0.0145215\n",
       " 455 │ 2021-09-30  -0.0155467   -0.00713398   -0.0159634   -0.00746358    0.0166073    0.0135197\n",
       " 456 │ 2021-10-31   0.00561126  -0.0136209     0.00515765  -0.0140274    -0.00440235   0.020375   ⋯\n",
       " 457 │ 2021-11-30  -0.0312092   -0.0569581    -0.0318899   -0.0582488     0.0324027    0.0632765\n",
       " 458 │ 2021-12-31   0.0106153    0.00908815    0.00985129   0.00736814   -0.00956695  -0.00135599\n",
       "\u001b[36m                                                                      1 column and 443 rows omitted\u001b[0m"
      ]
     },
     "metadata": {},
     "output_type": "display_data"
    }
   ],
   "source": [
    "julia_factors"
   ]
  },
  {
   "cell_type": "code",
   "execution_count": 4,
   "metadata": {},
   "outputs": [
    {
     "data": {
      "text/html": [
       "<div><div style = \"float: left;\"><span>12256×8 DataFrame</span></div><div style = \"float: right;\"><span style = \"font-style: italic;\">12231 rows omitted</span></div><div style = \"clear: both;\"></div></div><div class = \"data-frame\" style = \"overflow-x: scroll;\"><table class = \"data-frame\" style = \"margin-bottom: 6px;\"><thead><tr class = \"header\"><th class = \"rowNumber\" style = \"font-weight: bold; text-align: right;\">Row</th><th style = \"text-align: left;\">cur_code</th><th style = \"text-align: left;\">date</th><th style = \"text-align: left;\">spot_bid</th><th style = \"text-align: left;\">forward_bid</th><th style = \"text-align: left;\">spot_mid</th><th style = \"text-align: left;\">forward_mid</th><th style = \"text-align: left;\">spot_ask</th><th style = \"text-align: left;\">forward_ask</th></tr><tr class = \"subheader headerLastRow\"><th class = \"rowNumber\" style = \"font-weight: bold; text-align: right;\"></th><th title = \"String3\" style = \"text-align: left;\">String3</th><th title = \"Dates.Date\" style = \"text-align: left;\">Date</th><th title = \"Union{Missing, Float64}\" style = \"text-align: left;\">Float64?</th><th title = \"Union{Missing, Float64}\" style = \"text-align: left;\">Float64?</th><th title = \"Union{Missing, Float64}\" style = \"text-align: left;\">Float64?</th><th title = \"Union{Missing, Float64}\" style = \"text-align: left;\">Float64?</th><th title = \"Union{Missing, Float64}\" style = \"text-align: left;\">Float64?</th><th title = \"Union{Missing, Float64}\" style = \"text-align: left;\">Float64?</th></tr></thead><tbody><tr><td class = \"rowNumber\" style = \"font-weight: bold; text-align: right;\">1</td><td style = \"text-align: left;\">AED</td><td style = \"text-align: left;\">1995-06-30</td><td style = \"text-align: right;\">3.6725</td><td style = \"text-align: right;\">3.6715</td><td style = \"text-align: right;\">3.6728</td><td style = \"text-align: right;\">3.67235</td><td style = \"text-align: right;\">3.673</td><td style = \"text-align: right;\">3.6732</td></tr><tr><td class = \"rowNumber\" style = \"font-weight: bold; text-align: right;\">2</td><td style = \"text-align: left;\">AED</td><td style = \"text-align: left;\">1995-07-31</td><td style = \"text-align: right;\">3.6726</td><td style = \"text-align: right;\">3.6716</td><td style = \"text-align: right;\">3.673</td><td style = \"text-align: right;\">3.6726</td><td style = \"text-align: right;\">3.6734</td><td style = \"text-align: right;\">3.6736</td></tr><tr><td class = \"rowNumber\" style = \"font-weight: bold; text-align: right;\">3</td><td style = \"text-align: left;\">AED</td><td style = \"text-align: left;\">1995-08-31</td><td style = \"text-align: right;\">3.6723</td><td style = \"text-align: right;\">3.6713</td><td style = \"text-align: right;\">3.6726</td><td style = \"text-align: right;\">3.6722</td><td style = \"text-align: right;\">3.6729</td><td style = \"text-align: right;\">3.6731</td></tr><tr><td class = \"rowNumber\" style = \"font-weight: bold; text-align: right;\">4</td><td style = \"text-align: left;\">AED</td><td style = \"text-align: left;\">1995-09-30</td><td style = \"text-align: right;\">3.6724</td><td style = \"text-align: right;\">3.6719</td><td style = \"text-align: right;\">3.6728</td><td style = \"text-align: right;\">3.6728</td><td style = \"text-align: right;\">3.6732</td><td style = \"text-align: right;\">3.6737</td></tr><tr><td class = \"rowNumber\" style = \"font-weight: bold; text-align: right;\">5</td><td style = \"text-align: left;\">AED</td><td style = \"text-align: left;\">1995-10-31</td><td style = \"text-align: right;\">3.6729</td><td style = \"text-align: right;\">3.6725</td><td style = \"text-align: right;\">3.6731</td><td style = \"text-align: right;\">3.67295</td><td style = \"text-align: right;\">3.6732</td><td style = \"text-align: right;\">3.6734</td></tr><tr><td class = \"rowNumber\" style = \"font-weight: bold; text-align: right;\">6</td><td style = \"text-align: left;\">AED</td><td style = \"text-align: left;\">1995-11-30</td><td style = \"text-align: right;\">3.6729</td><td style = \"text-align: right;\">3.6724</td><td style = \"text-align: right;\">3.673</td><td style = \"text-align: right;\">3.67285</td><td style = \"text-align: right;\">3.6731</td><td style = \"text-align: right;\">3.6733</td></tr><tr><td class = \"rowNumber\" style = \"font-weight: bold; text-align: right;\">7</td><td style = \"text-align: left;\">AED</td><td style = \"text-align: left;\">1995-12-31</td><td style = \"text-align: right;\">3.6727</td><td style = \"text-align: right;\">3.6722</td><td style = \"text-align: right;\">3.6729</td><td style = \"text-align: right;\">3.67275</td><td style = \"text-align: right;\">3.673</td><td style = \"text-align: right;\">3.6733</td></tr><tr><td class = \"rowNumber\" style = \"font-weight: bold; text-align: right;\">8</td><td style = \"text-align: left;\">AED</td><td style = \"text-align: left;\">1996-01-31</td><td style = \"text-align: right;\">3.6727</td><td style = \"text-align: right;\">3.6723</td><td style = \"text-align: right;\">3.6729</td><td style = \"text-align: right;\">3.6729</td><td style = \"text-align: right;\">3.6731</td><td style = \"text-align: right;\">3.6735</td></tr><tr><td class = \"rowNumber\" style = \"font-weight: bold; text-align: right;\">9</td><td style = \"text-align: left;\">AED</td><td style = \"text-align: left;\">1996-02-29</td><td style = \"text-align: right;\">3.6722</td><td style = \"text-align: right;\">3.6717</td><td style = \"text-align: right;\">3.6727</td><td style = \"text-align: right;\">3.67255</td><td style = \"text-align: right;\">3.6732</td><td style = \"text-align: right;\">3.6734</td></tr><tr><td class = \"rowNumber\" style = \"font-weight: bold; text-align: right;\">10</td><td style = \"text-align: left;\">AED</td><td style = \"text-align: left;\">1996-03-31</td><td style = \"text-align: right;\">3.6725</td><td style = \"text-align: right;\">3.6721</td><td style = \"text-align: right;\">3.6727</td><td style = \"text-align: right;\">3.6727</td><td style = \"text-align: right;\">3.6729</td><td style = \"text-align: right;\">3.6733</td></tr><tr><td class = \"rowNumber\" style = \"font-weight: bold; text-align: right;\">11</td><td style = \"text-align: left;\">AED</td><td style = \"text-align: left;\">1996-04-30</td><td style = \"text-align: right;\">3.6726</td><td style = \"text-align: right;\">3.6722</td><td style = \"text-align: right;\">3.6729</td><td style = \"text-align: right;\">3.6728</td><td style = \"text-align: right;\">3.6731</td><td style = \"text-align: right;\">3.6734</td></tr><tr><td class = \"rowNumber\" style = \"font-weight: bold; text-align: right;\">12</td><td style = \"text-align: left;\">AED</td><td style = \"text-align: left;\">1996-05-31</td><td style = \"text-align: right;\">3.6728</td><td style = \"text-align: right;\">3.6725</td><td style = \"text-align: right;\">3.6732</td><td style = \"text-align: right;\">3.6732</td><td style = \"text-align: right;\">3.6736</td><td style = \"text-align: right;\">3.6739</td></tr><tr><td class = \"rowNumber\" style = \"font-weight: bold; text-align: right;\">13</td><td style = \"text-align: left;\">AED</td><td style = \"text-align: left;\">1996-06-30</td><td style = \"text-align: right;\">3.6729</td><td style = \"text-align: right;\">3.6726</td><td style = \"text-align: right;\">3.673</td><td style = \"text-align: right;\">3.673</td><td style = \"text-align: right;\">3.6731</td><td style = \"text-align: right;\">3.6734</td></tr><tr><td style = \"text-align: right;\">&vellip;</td><td style = \"text-align: right;\">&vellip;</td><td style = \"text-align: right;\">&vellip;</td><td style = \"text-align: right;\">&vellip;</td><td style = \"text-align: right;\">&vellip;</td><td style = \"text-align: right;\">&vellip;</td><td style = \"text-align: right;\">&vellip;</td><td style = \"text-align: right;\">&vellip;</td><td style = \"text-align: right;\">&vellip;</td></tr><tr><td class = \"rowNumber\" style = \"font-weight: bold; text-align: right;\">12245</td><td style = \"text-align: left;\">ZAR</td><td style = \"text-align: left;\">2021-01-31</td><td style = \"text-align: right;\">15.049</td><td style = \"text-align: right;\">15.108</td><td style = \"text-align: right;\">15.0525</td><td style = \"text-align: right;\">15.1128</td><td style = \"text-align: right;\">15.056</td><td style = \"text-align: right;\">15.1177</td></tr><tr><td class = \"rowNumber\" style = \"font-weight: bold; text-align: right;\">12246</td><td style = \"text-align: left;\">ZAR</td><td style = \"text-align: left;\">2021-02-28</td><td style = \"text-align: right;\">15.1416</td><td style = \"text-align: right;\">15.2071</td><td style = \"text-align: right;\">15.1463</td><td style = \"text-align: right;\">15.2123</td><td style = \"text-align: right;\">15.1509</td><td style = \"text-align: right;\">15.2175</td></tr><tr><td class = \"rowNumber\" style = \"font-weight: bold; text-align: right;\">12247</td><td style = \"text-align: left;\">ZAR</td><td style = \"text-align: left;\">2021-03-31</td><td style = \"text-align: right;\">14.7625</td><td style = \"text-align: right;\">14.8221</td><td style = \"text-align: right;\">14.7662</td><td style = \"text-align: right;\">14.8268</td><td style = \"text-align: right;\">14.77</td><td style = \"text-align: right;\">14.8314</td></tr><tr><td class = \"rowNumber\" style = \"font-weight: bold; text-align: right;\">12248</td><td style = \"text-align: left;\">ZAR</td><td style = \"text-align: left;\">2021-04-30</td><td style = \"text-align: right;\">14.5031</td><td style = \"text-align: right;\">14.5648</td><td style = \"text-align: right;\">14.5075</td><td style = \"text-align: right;\">14.5701</td><td style = \"text-align: right;\">14.5119</td><td style = \"text-align: right;\">14.5753</td></tr><tr><td class = \"rowNumber\" style = \"font-weight: bold; text-align: right;\">12249</td><td style = \"text-align: left;\">ZAR</td><td style = \"text-align: left;\">2021-05-31</td><td style = \"text-align: right;\">13.7165</td><td style = \"text-align: right;\">13.7707</td><td style = \"text-align: right;\">13.72</td><td style = \"text-align: right;\">13.7751</td><td style = \"text-align: right;\">13.7235</td><td style = \"text-align: right;\">13.7795</td></tr><tr><td class = \"rowNumber\" style = \"font-weight: bold; text-align: right;\">12250</td><td style = \"text-align: left;\">ZAR</td><td style = \"text-align: left;\">2021-06-30</td><td style = \"text-align: right;\">14.2735</td><td style = \"text-align: right;\">14.3276</td><td style = \"text-align: right;\">14.2788</td><td style = \"text-align: right;\">14.3337</td><td style = \"text-align: right;\">14.284</td><td style = \"text-align: right;\">14.3398</td></tr><tr><td class = \"rowNumber\" style = \"font-weight: bold; text-align: right;\">12251</td><td style = \"text-align: left;\">ZAR</td><td style = \"text-align: left;\">2021-07-31</td><td style = \"text-align: right;\">14.6252</td><td style = \"text-align: right;\">14.6814</td><td style = \"text-align: right;\">14.6288</td><td style = \"text-align: right;\">14.6858</td><td style = \"text-align: right;\">14.6323</td><td style = \"text-align: right;\">14.6901</td></tr><tr><td class = \"rowNumber\" style = \"font-weight: bold; text-align: right;\">12252</td><td style = \"text-align: left;\">ZAR</td><td style = \"text-align: left;\">2021-08-31</td><td style = \"text-align: right;\">14.4591</td><td style = \"text-align: right;\">14.521</td><td style = \"text-align: right;\">14.465</td><td style = \"text-align: right;\">14.5271</td><td style = \"text-align: right;\">14.4709</td><td style = \"text-align: right;\">14.5331</td></tr><tr><td class = \"rowNumber\" style = \"font-weight: bold; text-align: right;\">12253</td><td style = \"text-align: left;\">ZAR</td><td style = \"text-align: left;\">2021-09-30</td><td style = \"text-align: right;\">15.0408</td><td style = \"text-align: right;\">15.1032</td><td style = \"text-align: right;\">15.045</td><td style = \"text-align: right;\">15.108</td><td style = \"text-align: right;\">15.0492</td><td style = \"text-align: right;\">15.1127</td></tr><tr><td class = \"rowNumber\" style = \"font-weight: bold; text-align: right;\">12254</td><td style = \"text-align: left;\">ZAR</td><td style = \"text-align: left;\">2021-10-31</td><td style = \"text-align: right;\">15.1946</td><td style = \"text-align: right;\">15.2494</td><td style = \"text-align: right;\">15.2</td><td style = \"text-align: right;\">15.2554</td><td style = \"text-align: right;\">15.2054</td><td style = \"text-align: right;\">15.2614</td></tr><tr><td class = \"rowNumber\" style = \"font-weight: bold; text-align: right;\">12255</td><td style = \"text-align: left;\">ZAR</td><td style = \"text-align: left;\">2021-11-30</td><td style = \"text-align: right;\">16.015</td><td style = \"text-align: right;\">16.086</td><td style = \"text-align: right;\">16.0237</td><td style = \"text-align: right;\">16.0969</td><td style = \"text-align: right;\">16.0325</td><td style = \"text-align: right;\">16.1078</td></tr><tr><td class = \"rowNumber\" style = \"font-weight: bold; text-align: right;\">12256</td><td style = \"text-align: left;\">ZAR</td><td style = \"text-align: left;\">2021-12-31</td><td style = \"text-align: right;\">15.9538</td><td style = \"text-align: right;\">16.0242</td><td style = \"text-align: right;\">15.96</td><td style = \"text-align: right;\">16.0308</td><td style = \"text-align: right;\">15.9662</td><td style = \"text-align: right;\">16.0374</td></tr></tbody></table></div>"
      ],
      "text/latex": [
       "\\begin{tabular}{r|cccccccc}\n",
       "\t& cur\\_code & date & spot\\_bid & forward\\_bid & spot\\_mid & forward\\_mid & spot\\_ask & forward\\_ask\\\\\n",
       "\t\\hline\n",
       "\t& String3 & Date & Float64? & Float64? & Float64? & Float64? & Float64? & Float64?\\\\\n",
       "\t\\hline\n",
       "\t1 & AED & 1995-06-30 & 3.6725 & 3.6715 & 3.6728 & 3.67235 & 3.673 & 3.6732 \\\\\n",
       "\t2 & AED & 1995-07-31 & 3.6726 & 3.6716 & 3.673 & 3.6726 & 3.6734 & 3.6736 \\\\\n",
       "\t3 & AED & 1995-08-31 & 3.6723 & 3.6713 & 3.6726 & 3.6722 & 3.6729 & 3.6731 \\\\\n",
       "\t4 & AED & 1995-09-30 & 3.6724 & 3.6719 & 3.6728 & 3.6728 & 3.6732 & 3.6737 \\\\\n",
       "\t5 & AED & 1995-10-31 & 3.6729 & 3.6725 & 3.6731 & 3.67295 & 3.6732 & 3.6734 \\\\\n",
       "\t6 & AED & 1995-11-30 & 3.6729 & 3.6724 & 3.673 & 3.67285 & 3.6731 & 3.6733 \\\\\n",
       "\t7 & AED & 1995-12-31 & 3.6727 & 3.6722 & 3.6729 & 3.67275 & 3.673 & 3.6733 \\\\\n",
       "\t8 & AED & 1996-01-31 & 3.6727 & 3.6723 & 3.6729 & 3.6729 & 3.6731 & 3.6735 \\\\\n",
       "\t9 & AED & 1996-02-29 & 3.6722 & 3.6717 & 3.6727 & 3.67255 & 3.6732 & 3.6734 \\\\\n",
       "\t10 & AED & 1996-03-31 & 3.6725 & 3.6721 & 3.6727 & 3.6727 & 3.6729 & 3.6733 \\\\\n",
       "\t11 & AED & 1996-04-30 & 3.6726 & 3.6722 & 3.6729 & 3.6728 & 3.6731 & 3.6734 \\\\\n",
       "\t12 & AED & 1996-05-31 & 3.6728 & 3.6725 & 3.6732 & 3.6732 & 3.6736 & 3.6739 \\\\\n",
       "\t13 & AED & 1996-06-30 & 3.6729 & 3.6726 & 3.673 & 3.673 & 3.6731 & 3.6734 \\\\\n",
       "\t14 & AED & 1996-07-31 & 3.672 & 3.6717 & 3.6725 & 3.6725 & 3.673 & 3.6733 \\\\\n",
       "\t15 & AED & 1996-08-31 & 3.6726 & 3.6724 & 3.6729 & 3.6729 & 3.6731 & 3.6734 \\\\\n",
       "\t16 & AED & 1996-09-30 & 3.6727 & 3.6708 & 3.673 & 3.67205 & 3.6732 & 3.6733 \\\\\n",
       "\t17 & AED & 1996-10-31 & 3.671 & 3.671 & 3.6725 & 3.67265 & 3.674 & 3.6743 \\\\\n",
       "\t18 & AED & 1996-11-30 & 3.6728 & 3.6727 & 3.6729 & 3.673 & 3.673 & 3.6733 \\\\\n",
       "\t19 & AED & 1996-12-31 & 3.6705 & 3.6707 & 3.6723 & 3.6728 & 3.674 & 3.6748 \\\\\n",
       "\t20 & AED & 1997-01-31 & 3.6705 & 3.6703 & 3.672 & 3.67215 & 3.6735 & 3.674 \\\\\n",
       "\t21 & AED & 1997-02-28 & 3.67 & 3.6701 & 3.672 & 3.6723 & 3.674 & 3.6745 \\\\\n",
       "\t22 & AED & 1997-03-31 & 3.6725 & 3.6726 & 3.6728 & 3.6731 & 3.673 & 3.6735 \\\\\n",
       "\t23 & AED & 1997-04-30 & 3.671 & 3.6711 & 3.672 & 3.6723 & 3.673 & 3.6735 \\\\\n",
       "\t24 & AED & 1997-05-31 & 3.6726 & 3.6725 & 3.6729 & 3.67305 & 3.6732 & 3.6736 \\\\\n",
       "\t$\\dots$ & $\\dots$ & $\\dots$ & $\\dots$ & $\\dots$ & $\\dots$ & $\\dots$ & $\\dots$ & $\\dots$ \\\\\n",
       "\\end{tabular}\n"
      ],
      "text/plain": [
       "\u001b[1m12256×8 DataFrame\u001b[0m\n",
       "\u001b[1m   Row \u001b[0m│\u001b[1m cur_code \u001b[0m\u001b[1m date       \u001b[0m\u001b[1m spot_bid \u001b[0m\u001b[1m forward_bid \u001b[0m\u001b[1m spot_mid \u001b[0m\u001b[1m forward_mid \u001b[0m\u001b[1m spot_ask \u001b[0m\u001b[1m forward_as\u001b[0m ⋯\n",
       "       │\u001b[90m String3  \u001b[0m\u001b[90m Date       \u001b[0m\u001b[90m Float64? \u001b[0m\u001b[90m Float64?    \u001b[0m\u001b[90m Float64? \u001b[0m\u001b[90m Float64?    \u001b[0m\u001b[90m Float64? \u001b[0m\u001b[90m Float64?  \u001b[0m ⋯\n",
       "───────┼───────────────────────────────────────────────────────────────────────────────────────────\n",
       "     1 │ AED       1995-06-30    3.6725       3.6715    3.6728      3.67235    3.673        3.673 ⋯\n",
       "     2 │ AED       1995-07-31    3.6726       3.6716    3.673       3.6726     3.6734       3.673\n",
       "     3 │ AED       1995-08-31    3.6723       3.6713    3.6726      3.6722     3.6729       3.673\n",
       "     4 │ AED       1995-09-30    3.6724       3.6719    3.6728      3.6728     3.6732       3.673\n",
       "     5 │ AED       1995-10-31    3.6729       3.6725    3.6731      3.67295    3.6732       3.673 ⋯\n",
       "     6 │ AED       1995-11-30    3.6729       3.6724    3.673       3.67285    3.6731       3.673\n",
       "     7 │ AED       1995-12-31    3.6727       3.6722    3.6729      3.67275    3.673        3.673\n",
       "     8 │ AED       1996-01-31    3.6727       3.6723    3.6729      3.6729     3.6731       3.673\n",
       "   ⋮   │    ⋮          ⋮          ⋮           ⋮          ⋮           ⋮          ⋮           ⋮     ⋱\n",
       " 12250 │ ZAR       2021-06-30   14.2735      14.3276   14.2788     14.3337    14.284       14.339 ⋯\n",
       " 12251 │ ZAR       2021-07-31   14.6252      14.6814   14.6288     14.6858    14.6323      14.690\n",
       " 12252 │ ZAR       2021-08-31   14.4591      14.521    14.465      14.5271    14.4709      14.533\n",
       " 12253 │ ZAR       2021-09-30   15.0408      15.1032   15.045      15.108     15.0492      15.112\n",
       " 12254 │ ZAR       2021-10-31   15.1946      15.2494   15.2        15.2554    15.2054      15.261 ⋯\n",
       " 12255 │ ZAR       2021-11-30   16.015       16.086    16.0237     16.0969    16.0325      16.107\n",
       " 12256 │ ZAR       2021-12-31   15.9538      16.0242   15.96       16.0308    15.9662      16.037\n",
       "\u001b[36m                                                                    1 column and 12241 rows omitted\u001b[0m"
      ]
     },
     "metadata": {},
     "output_type": "display_data"
    }
   ],
   "source": [
    "python_data_in = CSV.read(joinpath(old_python_combined_filestring_base, \"currencies.csv\"), DataFrame)\n",
    "julia_data_in = CSV.read(joinpath(new_julia_combined_filestring_base, \"currency_rates.csv\"), DataFrame)"
   ]
  },
  {
   "cell_type": "code",
   "execution_count": 44,
   "metadata": {},
   "outputs": [
    {
     "data": {
      "text/html": [
       "<div><div style = \"float: left;\"><span>5×8 DataFrame</span></div><div style = \"clear: both;\"></div></div><div class = \"data-frame\" style = \"overflow-x: scroll;\"><table class = \"data-frame\" style = \"margin-bottom: 6px;\"><thead><tr class = \"header\"><th class = \"rowNumber\" style = \"font-weight: bold; text-align: right;\">Row</th><th style = \"text-align: left;\">curr</th><th style = \"text-align: left;\">date</th><th style = \"text-align: left;\">spot_bid</th><th style = \"text-align: left;\">spot_mid</th><th style = \"text-align: left;\">spot_ask</th><th style = \"text-align: left;\">for_bid</th><th style = \"text-align: left;\">for_mid</th><th style = \"text-align: left;\">for_ask</th></tr><tr class = \"subheader headerLastRow\"><th class = \"rowNumber\" style = \"font-weight: bold; text-align: right;\"></th><th title = \"String3\" style = \"text-align: left;\">String3</th><th title = \"Dates.Date\" style = \"text-align: left;\">Date</th><th title = \"Union{Missing, Float64}\" style = \"text-align: left;\">Float64?</th><th title = \"Union{Missing, Float64}\" style = \"text-align: left;\">Float64?</th><th title = \"Union{Missing, Float64}\" style = \"text-align: left;\">Float64?</th><th title = \"Union{Missing, Float64}\" style = \"text-align: left;\">Float64?</th><th title = \"Union{Missing, Float64}\" style = \"text-align: left;\">Float64?</th><th title = \"Union{Missing, Float64}\" style = \"text-align: left;\">Float64?</th></tr></thead><tbody><tr><td class = \"rowNumber\" style = \"font-weight: bold; text-align: right;\">1</td><td style = \"text-align: left;\">AED</td><td style = \"text-align: left;\">1995-06-30</td><td style = \"text-align: right;\">3.6725</td><td style = \"text-align: right;\">3.6728</td><td style = \"text-align: right;\">3.673</td><td style = \"text-align: right;\">3.6715</td><td style = \"text-align: right;\">3.67235</td><td style = \"text-align: right;\">3.6732</td></tr><tr><td class = \"rowNumber\" style = \"font-weight: bold; text-align: right;\">2</td><td style = \"text-align: left;\">AED</td><td style = \"text-align: left;\">1995-07-31</td><td style = \"text-align: right;\">3.6726</td><td style = \"text-align: right;\">3.673</td><td style = \"text-align: right;\">3.6734</td><td style = \"text-align: right;\">3.6716</td><td style = \"text-align: right;\">3.6726</td><td style = \"text-align: right;\">3.6736</td></tr><tr><td class = \"rowNumber\" style = \"font-weight: bold; text-align: right;\">3</td><td style = \"text-align: left;\">AED</td><td style = \"text-align: left;\">1995-08-31</td><td style = \"text-align: right;\">3.6723</td><td style = \"text-align: right;\">3.6726</td><td style = \"text-align: right;\">3.6729</td><td style = \"text-align: right;\">3.6713</td><td style = \"text-align: right;\">3.6722</td><td style = \"text-align: right;\">3.6731</td></tr><tr><td class = \"rowNumber\" style = \"font-weight: bold; text-align: right;\">4</td><td style = \"text-align: left;\">AED</td><td style = \"text-align: left;\">1995-09-30</td><td style = \"text-align: right;\">3.6724</td><td style = \"text-align: right;\">3.6728</td><td style = \"text-align: right;\">3.6732</td><td style = \"text-align: right;\">3.6719</td><td style = \"text-align: right;\">3.6728</td><td style = \"text-align: right;\">3.6737</td></tr><tr><td class = \"rowNumber\" style = \"font-weight: bold; text-align: right;\">5</td><td style = \"text-align: left;\">AED</td><td style = \"text-align: left;\">1995-10-31</td><td style = \"text-align: right;\">3.6729</td><td style = \"text-align: right;\">3.6731</td><td style = \"text-align: right;\">3.6732</td><td style = \"text-align: right;\">3.6725</td><td style = \"text-align: right;\">3.67295</td><td style = \"text-align: right;\">3.6734</td></tr></tbody></table></div>"
      ],
      "text/latex": [
       "\\begin{tabular}{r|cccccccc}\n",
       "\t& curr & date & spot\\_bid & spot\\_mid & spot\\_ask & for\\_bid & for\\_mid & for\\_ask\\\\\n",
       "\t\\hline\n",
       "\t& String3 & Date & Float64? & Float64? & Float64? & Float64? & Float64? & Float64?\\\\\n",
       "\t\\hline\n",
       "\t1 & AED & 1995-06-30 & 3.6725 & 3.6728 & 3.673 & 3.6715 & 3.67235 & 3.6732 \\\\\n",
       "\t2 & AED & 1995-07-31 & 3.6726 & 3.673 & 3.6734 & 3.6716 & 3.6726 & 3.6736 \\\\\n",
       "\t3 & AED & 1995-08-31 & 3.6723 & 3.6726 & 3.6729 & 3.6713 & 3.6722 & 3.6731 \\\\\n",
       "\t4 & AED & 1995-09-30 & 3.6724 & 3.6728 & 3.6732 & 3.6719 & 3.6728 & 3.6737 \\\\\n",
       "\t5 & AED & 1995-10-31 & 3.6729 & 3.6731 & 3.6732 & 3.6725 & 3.67295 & 3.6734 \\\\\n",
       "\\end{tabular}\n"
      ],
      "text/plain": [
       "\u001b[1m5×8 DataFrame\u001b[0m\n",
       "\u001b[1m Row \u001b[0m│\u001b[1m curr    \u001b[0m\u001b[1m date       \u001b[0m\u001b[1m spot_bid \u001b[0m\u001b[1m spot_mid \u001b[0m\u001b[1m spot_ask \u001b[0m\u001b[1m for_bid  \u001b[0m\u001b[1m for_mid  \u001b[0m\u001b[1m for_ask  \u001b[0m\n",
       "     │\u001b[90m String3 \u001b[0m\u001b[90m Date       \u001b[0m\u001b[90m Float64? \u001b[0m\u001b[90m Float64? \u001b[0m\u001b[90m Float64? \u001b[0m\u001b[90m Float64? \u001b[0m\u001b[90m Float64? \u001b[0m\u001b[90m Float64? \u001b[0m\n",
       "─────┼─────────────────────────────────────────────────────────────────────────────────\n",
       "   1 │ AED      1995-06-30    3.6725    3.6728    3.673     3.6715   3.67235    3.6732\n",
       "   2 │ AED      1995-07-31    3.6726    3.673     3.6734    3.6716   3.6726     3.6736\n",
       "   3 │ AED      1995-08-31    3.6723    3.6726    3.6729    3.6713   3.6722     3.6731\n",
       "   4 │ AED      1995-09-30    3.6724    3.6728    3.6732    3.6719   3.6728     3.6737\n",
       "   5 │ AED      1995-10-31    3.6729    3.6731    3.6732    3.6725   3.67295    3.6734"
      ]
     },
     "metadata": {},
     "output_type": "display_data"
    }
   ],
   "source": [
    "first(python_data_in, 5)"
   ]
  },
  {
   "cell_type": "code",
   "execution_count": 45,
   "metadata": {},
   "outputs": [
    {
     "data": {
      "text/html": [
       "<div><div style = \"float: left;\"><span>5×8 DataFrame</span></div><div style = \"clear: both;\"></div></div><div class = \"data-frame\" style = \"overflow-x: scroll;\"><table class = \"data-frame\" style = \"margin-bottom: 6px;\"><thead><tr class = \"header\"><th class = \"rowNumber\" style = \"font-weight: bold; text-align: right;\">Row</th><th style = \"text-align: left;\">cur_code</th><th style = \"text-align: left;\">date</th><th style = \"text-align: left;\">spot_bid</th><th style = \"text-align: left;\">forward_bid</th><th style = \"text-align: left;\">spot_mid</th><th style = \"text-align: left;\">forward_mid</th><th style = \"text-align: left;\">spot_ask</th><th style = \"text-align: left;\">forward_ask</th></tr><tr class = \"subheader headerLastRow\"><th class = \"rowNumber\" style = \"font-weight: bold; text-align: right;\"></th><th title = \"String3\" style = \"text-align: left;\">String3</th><th title = \"Dates.Date\" style = \"text-align: left;\">Date</th><th title = \"Union{Missing, Float64}\" style = \"text-align: left;\">Float64?</th><th title = \"Union{Missing, Float64}\" style = \"text-align: left;\">Float64?</th><th title = \"Union{Missing, Float64}\" style = \"text-align: left;\">Float64?</th><th title = \"Union{Missing, Float64}\" style = \"text-align: left;\">Float64?</th><th title = \"Union{Missing, Float64}\" style = \"text-align: left;\">Float64?</th><th title = \"Union{Missing, Float64}\" style = \"text-align: left;\">Float64?</th></tr></thead><tbody><tr><td class = \"rowNumber\" style = \"font-weight: bold; text-align: right;\">1</td><td style = \"text-align: left;\">AED</td><td style = \"text-align: left;\">1995-06-30</td><td style = \"text-align: right;\">3.6725</td><td style = \"text-align: right;\">3.6715</td><td style = \"text-align: right;\">3.6728</td><td style = \"text-align: right;\">3.67235</td><td style = \"text-align: right;\">3.673</td><td style = \"text-align: right;\">3.6732</td></tr><tr><td class = \"rowNumber\" style = \"font-weight: bold; text-align: right;\">2</td><td style = \"text-align: left;\">AED</td><td style = \"text-align: left;\">1995-07-31</td><td style = \"text-align: right;\">3.6726</td><td style = \"text-align: right;\">3.6716</td><td style = \"text-align: right;\">3.673</td><td style = \"text-align: right;\">3.6726</td><td style = \"text-align: right;\">3.6734</td><td style = \"text-align: right;\">3.6736</td></tr><tr><td class = \"rowNumber\" style = \"font-weight: bold; text-align: right;\">3</td><td style = \"text-align: left;\">AED</td><td style = \"text-align: left;\">1995-08-31</td><td style = \"text-align: right;\">3.6723</td><td style = \"text-align: right;\">3.6713</td><td style = \"text-align: right;\">3.6726</td><td style = \"text-align: right;\">3.6722</td><td style = \"text-align: right;\">3.6729</td><td style = \"text-align: right;\">3.6731</td></tr><tr><td class = \"rowNumber\" style = \"font-weight: bold; text-align: right;\">4</td><td style = \"text-align: left;\">AED</td><td style = \"text-align: left;\">1995-09-30</td><td style = \"text-align: right;\">3.6724</td><td style = \"text-align: right;\">3.6719</td><td style = \"text-align: right;\">3.6728</td><td style = \"text-align: right;\">3.6728</td><td style = \"text-align: right;\">3.6732</td><td style = \"text-align: right;\">3.6737</td></tr><tr><td class = \"rowNumber\" style = \"font-weight: bold; text-align: right;\">5</td><td style = \"text-align: left;\">AED</td><td style = \"text-align: left;\">1995-10-31</td><td style = \"text-align: right;\">3.6729</td><td style = \"text-align: right;\">3.6725</td><td style = \"text-align: right;\">3.6731</td><td style = \"text-align: right;\">3.67295</td><td style = \"text-align: right;\">3.6732</td><td style = \"text-align: right;\">3.6734</td></tr></tbody></table></div>"
      ],
      "text/latex": [
       "\\begin{tabular}{r|cccccccc}\n",
       "\t& cur\\_code & date & spot\\_bid & forward\\_bid & spot\\_mid & forward\\_mid & spot\\_ask & forward\\_ask\\\\\n",
       "\t\\hline\n",
       "\t& String3 & Date & Float64? & Float64? & Float64? & Float64? & Float64? & Float64?\\\\\n",
       "\t\\hline\n",
       "\t1 & AED & 1995-06-30 & 3.6725 & 3.6715 & 3.6728 & 3.67235 & 3.673 & 3.6732 \\\\\n",
       "\t2 & AED & 1995-07-31 & 3.6726 & 3.6716 & 3.673 & 3.6726 & 3.6734 & 3.6736 \\\\\n",
       "\t3 & AED & 1995-08-31 & 3.6723 & 3.6713 & 3.6726 & 3.6722 & 3.6729 & 3.6731 \\\\\n",
       "\t4 & AED & 1995-09-30 & 3.6724 & 3.6719 & 3.6728 & 3.6728 & 3.6732 & 3.6737 \\\\\n",
       "\t5 & AED & 1995-10-31 & 3.6729 & 3.6725 & 3.6731 & 3.67295 & 3.6732 & 3.6734 \\\\\n",
       "\\end{tabular}\n"
      ],
      "text/plain": [
       "\u001b[1m5×8 DataFrame\u001b[0m\n",
       "\u001b[1m Row \u001b[0m│\u001b[1m cur_code \u001b[0m\u001b[1m date       \u001b[0m\u001b[1m spot_bid \u001b[0m\u001b[1m forward_bid \u001b[0m\u001b[1m spot_mid \u001b[0m\u001b[1m forward_mid \u001b[0m\u001b[1m spot_ask \u001b[0m\u001b[1m forward_ask \u001b[0m\n",
       "     │\u001b[90m String3  \u001b[0m\u001b[90m Date       \u001b[0m\u001b[90m Float64? \u001b[0m\u001b[90m Float64?    \u001b[0m\u001b[90m Float64? \u001b[0m\u001b[90m Float64?    \u001b[0m\u001b[90m Float64? \u001b[0m\u001b[90m Float64?    \u001b[0m\n",
       "─────┼───────────────────────────────────────────────────────────────────────────────────────────\n",
       "   1 │ AED       1995-06-30    3.6725       3.6715    3.6728      3.67235    3.673        3.6732\n",
       "   2 │ AED       1995-07-31    3.6726       3.6716    3.673       3.6726     3.6734       3.6736\n",
       "   3 │ AED       1995-08-31    3.6723       3.6713    3.6726      3.6722     3.6729       3.6731\n",
       "   4 │ AED       1995-09-30    3.6724       3.6719    3.6728      3.6728     3.6732       3.6737\n",
       "   5 │ AED       1995-10-31    3.6729       3.6725    3.6731      3.67295    3.6732       3.6734"
      ]
     },
     "metadata": {},
     "output_type": "display_data"
    }
   ],
   "source": [
    "first(julia_data_in, 5)"
   ]
  },
  {
   "cell_type": "code",
   "execution_count": 53,
   "metadata": {},
   "outputs": [],
   "source": [
    "python_name_to_julia = Dict(\n",
    "    \"spot_bid\" => \"spot_bid\", \"spot_mid\" => \"spot_mid\", \"spot_ask\" => \"spot_ask\",\n",
    "    \"for_bid\" => \"forward_bid\", \"for_mid\" => \"forward_mid\", \"for_ask\" => \"forward_ask\",\n",
    ")\n",
    "\n",
    "for i in names(python_data_in[:, 3:end])\n",
    "    @show i\n",
    "    x = python_data_in[:, i] - julia_data_in[:, python_name_to_julia[i]]\n",
    "    @show x\n",
    "end"
   ]
  },
  {
   "cell_type": "code",
   "execution_count": 16,
   "metadata": {},
   "outputs": [
    {
     "name": "stdout",
     "output_type": "stream",
     "text": [
      "spot_bid"
     ]
    },
    {
     "name": "stdout",
     "output_type": "stream",
     "text": [
      "\n",
      "-0.9415352187103792\n",
      "spot_mid\n",
      "0.0\n",
      "spot_ask\n",
      "0.9415352187103792\n",
      "for_bid\n",
      "-0.9823226450426055\n",
      "for_mid\n",
      "0.0\n",
      "for_ask\n",
      "0.9823226450426055\n"
     ]
    }
   ],
   "source": [
    "python_name_to_julia = Dict(\n",
    "    \"spot_bid\" => \"spot_bid\", \"spot_mid\" => \"spot_mid\", \"spot_ask\" => \"spot_ask\",\n",
    "    \"for_bid\" => \"forward_bid\", \"for_mid\" => \"forward_mid\", \"for_ask\" => \"forward_ask\",\n",
    ")\n",
    "\n",
    "for i in names(python_data_in[:, 3:end])\n",
    "    x = python_data_in[:, i] - julia_data_in[:, python_name_to_julia[i]]\n",
    "    println(i)\n",
    "    println(sum(skipmissing(x)))\n",
    "end"
   ]
  },
  {
   "cell_type": "code",
   "execution_count": 48,
   "metadata": {},
   "outputs": [
    {
     "data": {
      "text/html": [
       "<div><div style = \"float: left;\"><span>1196×8 DataFrame</span></div><div style = \"float: right;\"><span style = \"font-style: italic;\">1171 rows omitted</span></div><div style = \"clear: both;\"></div></div><div class = \"data-frame\" style = \"overflow-x: scroll;\"><table class = \"data-frame\" style = \"margin-bottom: 6px;\"><thead><tr class = \"header\"><th class = \"rowNumber\" style = \"font-weight: bold; text-align: right;\">Row</th><th style = \"text-align: left;\">curr</th><th style = \"text-align: left;\">date</th><th style = \"text-align: left;\">spot_bid</th><th style = \"text-align: left;\">spot_mid</th><th style = \"text-align: left;\">spot_ask</th><th style = \"text-align: left;\">for_bid</th><th style = \"text-align: left;\">for_mid</th><th style = \"text-align: left;\">for_ask</th></tr><tr class = \"subheader headerLastRow\"><th class = \"rowNumber\" style = \"font-weight: bold; text-align: right;\"></th><th title = \"String3\" style = \"text-align: left;\">String3</th><th title = \"Dates.Date\" style = \"text-align: left;\">Date</th><th title = \"Union{Missing, Float64}\" style = \"text-align: left;\">Float64?</th><th title = \"Union{Missing, Float64}\" style = \"text-align: left;\">Float64?</th><th title = \"Union{Missing, Float64}\" style = \"text-align: left;\">Float64?</th><th title = \"Union{Missing, Float64}\" style = \"text-align: left;\">Float64?</th><th title = \"Union{Missing, Float64}\" style = \"text-align: left;\">Float64?</th><th title = \"Union{Missing, Float64}\" style = \"text-align: left;\">Float64?</th></tr></thead><tbody><tr><td class = \"rowNumber\" style = \"font-weight: bold; text-align: right;\">1</td><td style = \"text-align: left;\">AUD</td><td style = \"text-align: left;\">1993-12-31</td><td style = \"text-align: right;\">1.47275</td><td style = \"text-align: right;\">1.47319</td><td style = \"text-align: right;\">1.47384</td><td style = \"text-align: right;\">1.472</td><td style = \"text-align: right;\">1.474</td><td style = \"text-align: right;\">1.475</td></tr><tr><td class = \"rowNumber\" style = \"font-weight: bold; text-align: right;\">2</td><td style = \"text-align: left;\">AUD</td><td style = \"text-align: left;\">1994-01-31</td><td style = \"text-align: right;\">1.40944</td><td style = \"text-align: right;\">1.40984</td><td style = \"text-align: right;\">1.41044</td><td style = \"text-align: right;\">1.4108</td><td style = \"text-align: right;\">1.4119</td><td style = \"text-align: right;\">1.413</td></tr><tr><td class = \"rowNumber\" style = \"font-weight: bold; text-align: right;\">3</td><td style = \"text-align: left;\">AUD</td><td style = \"text-align: left;\">1994-02-28</td><td style = \"text-align: right;\">1.40252</td><td style = \"text-align: right;\">1.40292</td><td style = \"text-align: right;\">1.40351</td><td style = \"text-align: right;\">1.4045</td><td style = \"text-align: right;\">1.4057</td><td style = \"text-align: right;\">1.4069</td></tr><tr><td class = \"rowNumber\" style = \"font-weight: bold; text-align: right;\">4</td><td style = \"text-align: left;\">AUD</td><td style = \"text-align: left;\">1994-03-31</td><td style = \"text-align: right;\">1.42552</td><td style = \"text-align: right;\">1.42653</td><td style = \"text-align: right;\">1.42755</td><td style = \"text-align: right;\">1.4267</td><td style = \"text-align: right;\">1.4279</td><td style = \"text-align: right;\">1.4292</td></tr><tr><td class = \"rowNumber\" style = \"font-weight: bold; text-align: right;\">5</td><td style = \"text-align: left;\">AUD</td><td style = \"text-align: left;\">1994-04-30</td><td style = \"text-align: right;\">1.40115</td><td style = \"text-align: right;\">1.40154</td><td style = \"text-align: right;\">1.40213</td><td style = \"text-align: right;\">1.3994</td><td style = \"text-align: right;\">1.4005</td><td style = \"text-align: right;\">1.4015</td></tr><tr><td class = \"rowNumber\" style = \"font-weight: bold; text-align: right;\">6</td><td style = \"text-align: left;\">AUD</td><td style = \"text-align: left;\">1994-05-31</td><td style = \"text-align: right;\">1.3541</td><td style = \"text-align: right;\">1.35446</td><td style = \"text-align: right;\">1.35501</td><td style = \"text-align: right;\">1.354</td><td style = \"text-align: right;\">1.355</td><td style = \"text-align: right;\">1.356</td></tr><tr><td class = \"rowNumber\" style = \"font-weight: bold; text-align: right;\">7</td><td style = \"text-align: left;\">AUD</td><td style = \"text-align: left;\">1994-06-30</td><td style = \"text-align: right;\">1.36818</td><td style = \"text-align: right;\">1.36855</td><td style = \"text-align: right;\">1.36911</td><td style = \"text-align: right;\">1.3682</td><td style = \"text-align: right;\">1.3693</td><td style = \"text-align: right;\">1.3704</td></tr><tr><td class = \"rowNumber\" style = \"font-weight: bold; text-align: right;\">8</td><td style = \"text-align: left;\">AUD</td><td style = \"text-align: left;\">1994-07-31</td><td style = \"text-align: right;\">1.35281</td><td style = \"text-align: right;\">1.35318</td><td style = \"text-align: right;\">1.35373</td><td style = \"text-align: right;\">1.3521</td><td style = \"text-align: right;\">1.3532</td><td style = \"text-align: right;\">1.3543</td></tr><tr><td class = \"rowNumber\" style = \"font-weight: bold; text-align: right;\">9</td><td style = \"text-align: left;\">AUD</td><td style = \"text-align: left;\">1994-08-31</td><td style = \"text-align: right;\">1.34282</td><td style = \"text-align: right;\">1.34318</td><td style = \"text-align: right;\">1.34372</td><td style = \"text-align: right;\">1.343</td><td style = \"text-align: right;\">1.344</td><td style = \"text-align: right;\">1.346</td></tr><tr><td class = \"rowNumber\" style = \"font-weight: bold; text-align: right;\">10</td><td style = \"text-align: left;\">AUD</td><td style = \"text-align: left;\">1994-09-30</td><td style = \"text-align: right;\">1.35099</td><td style = \"text-align: right;\">1.35135</td><td style = \"text-align: right;\">1.35172</td><td style = \"text-align: right;\">1.3508</td><td style = \"text-align: right;\">1.352</td><td style = \"text-align: right;\">1.3532</td></tr><tr><td class = \"rowNumber\" style = \"font-weight: bold; text-align: right;\">11</td><td style = \"text-align: left;\">AUD</td><td style = \"text-align: left;\">1994-10-31</td><td style = \"text-align: right;\">1.34698</td><td style = \"text-align: right;\">1.34735</td><td style = \"text-align: right;\">1.34789</td><td style = \"text-align: right;\">1.3484</td><td style = \"text-align: right;\">1.3496</td><td style = \"text-align: right;\">1.3508</td></tr><tr><td class = \"rowNumber\" style = \"font-weight: bold; text-align: right;\">12</td><td style = \"text-align: left;\">AUD</td><td style = \"text-align: left;\">1994-11-30</td><td style = \"text-align: right;\">1.30039</td><td style = \"text-align: right;\">1.30124</td><td style = \"text-align: right;\">1.30208</td><td style = \"text-align: right;\">1.3012</td><td style = \"text-align: right;\">1.3023</td><td style = \"text-align: right;\">1.3034</td></tr><tr><td class = \"rowNumber\" style = \"font-weight: bold; text-align: right;\">13</td><td style = \"text-align: left;\">AUD</td><td style = \"text-align: left;\">1994-12-31</td><td style = \"text-align: right;\">1.28883</td><td style = \"text-align: right;\">1.28916</td><td style = \"text-align: right;\">1.28966</td><td style = \"text-align: right;\">1.2895</td><td style = \"text-align: right;\">1.2906</td><td style = \"text-align: right;\">1.2916</td></tr><tr><td style = \"text-align: right;\">&vellip;</td><td style = \"text-align: right;\">&vellip;</td><td style = \"text-align: right;\">&vellip;</td><td style = \"text-align: right;\">&vellip;</td><td style = \"text-align: right;\">&vellip;</td><td style = \"text-align: right;\">&vellip;</td><td style = \"text-align: right;\">&vellip;</td><td style = \"text-align: right;\">&vellip;</td><td style = \"text-align: right;\">&vellip;</td></tr><tr><td class = \"rowNumber\" style = \"font-weight: bold; text-align: right;\">1185</td><td style = \"text-align: left;\">NZD</td><td style = \"text-align: left;\">2021-01-31</td><td style = \"text-align: right;\">1.38715</td><td style = \"text-align: right;\">1.38754</td><td style = \"text-align: right;\">1.38793</td><td style = \"text-align: right;\">1.38714</td><td style = \"text-align: right;\">1.38754</td><td style = \"text-align: right;\">1.38794</td></tr><tr><td class = \"rowNumber\" style = \"font-weight: bold; text-align: right;\">1186</td><td style = \"text-align: left;\">NZD</td><td style = \"text-align: left;\">2021-02-28</td><td style = \"text-align: right;\">1.37495</td><td style = \"text-align: right;\">1.37533</td><td style = \"text-align: right;\">1.37571</td><td style = \"text-align: right;\">1.37493</td><td style = \"text-align: right;\">1.37533</td><td style = \"text-align: right;\">1.37574</td></tr><tr><td class = \"rowNumber\" style = \"font-weight: bold; text-align: right;\">1187</td><td style = \"text-align: left;\">NZD</td><td style = \"text-align: left;\">2021-03-31</td><td style = \"text-align: right;\">1.42735</td><td style = \"text-align: right;\">1.42786</td><td style = \"text-align: right;\">1.42837</td><td style = \"text-align: right;\">1.42741</td><td style = \"text-align: right;\">1.42794</td><td style = \"text-align: right;\">1.42847</td></tr><tr><td class = \"rowNumber\" style = \"font-weight: bold; text-align: right;\">1188</td><td style = \"text-align: left;\">NZD</td><td style = \"text-align: left;\">2021-04-30</td><td style = \"text-align: right;\">1.39334</td><td style = \"text-align: right;\">1.39373</td><td style = \"text-align: right;\">1.39412</td><td style = \"text-align: right;\">1.39346</td><td style = \"text-align: right;\">1.39386</td><td style = \"text-align: right;\">1.39429</td></tr><tr><td class = \"rowNumber\" style = \"font-weight: bold; text-align: right;\">1189</td><td style = \"text-align: left;\">NZD</td><td style = \"text-align: left;\">2021-05-31</td><td style = \"text-align: right;\">1.37325</td><td style = \"text-align: right;\">1.37363</td><td style = \"text-align: right;\">1.374</td><td style = \"text-align: right;\">1.37331</td><td style = \"text-align: right;\">1.3737</td><td style = \"text-align: right;\">1.37412</td></tr><tr><td class = \"rowNumber\" style = \"font-weight: bold; text-align: right;\">1190</td><td style = \"text-align: left;\">NZD</td><td style = \"text-align: left;\">2021-06-30</td><td style = \"text-align: right;\">1.43062</td><td style = \"text-align: right;\">1.43113</td><td style = \"text-align: right;\">1.43164</td><td style = \"text-align: right;\">1.43066</td><td style = \"text-align: right;\">1.43119</td><td style = \"text-align: right;\">1.43174</td></tr><tr><td class = \"rowNumber\" style = \"font-weight: bold; text-align: right;\">1191</td><td style = \"text-align: left;\">NZD</td><td style = \"text-align: left;\">2021-07-31</td><td style = \"text-align: right;\">1.43225</td><td style = \"text-align: right;\">1.43277</td><td style = \"text-align: right;\">1.43328</td><td style = \"text-align: right;\">1.43234</td><td style = \"text-align: right;\">1.43287</td><td style = \"text-align: right;\">1.4334</td></tr><tr><td class = \"rowNumber\" style = \"font-weight: bold; text-align: right;\">1192</td><td style = \"text-align: left;\">NZD</td><td style = \"text-align: left;\">2021-08-31</td><td style = \"text-align: right;\">1.42025</td><td style = \"text-align: right;\">1.42076</td><td style = \"text-align: right;\">1.42126</td><td style = \"text-align: right;\">1.42023</td><td style = \"text-align: right;\">1.42076</td><td style = \"text-align: right;\">1.4213</td></tr><tr><td class = \"rowNumber\" style = \"font-weight: bold; text-align: right;\">1193</td><td style = \"text-align: left;\">NZD</td><td style = \"text-align: left;\">2021-09-30</td><td style = \"text-align: right;\">1.44886</td><td style = \"text-align: right;\">1.44959</td><td style = \"text-align: right;\">1.45033</td><td style = \"text-align: right;\">1.44909</td><td style = \"text-align: right;\">1.44984</td><td style = \"text-align: right;\">1.45058</td></tr><tr><td class = \"rowNumber\" style = \"font-weight: bold; text-align: right;\">1194</td><td style = \"text-align: left;\">NZD</td><td style = \"text-align: left;\">2021-10-31</td><td style = \"text-align: right;\">1.39684</td><td style = \"text-align: right;\">1.39733</td><td style = \"text-align: right;\">1.39782</td><td style = \"text-align: right;\">1.39739</td><td style = \"text-align: right;\">1.3979</td><td style = \"text-align: right;\">1.39841</td></tr><tr><td class = \"rowNumber\" style = \"font-weight: bold; text-align: right;\">1195</td><td style = \"text-align: left;\">NZD</td><td style = \"text-align: left;\">2021-11-30</td><td style = \"text-align: right;\">1.47297</td><td style = \"text-align: right;\">1.47341</td><td style = \"text-align: right;\">1.47384</td><td style = \"text-align: right;\">1.47341</td><td style = \"text-align: right;\">1.4739</td><td style = \"text-align: right;\">1.4744</td></tr><tr><td class = \"rowNumber\" style = \"font-weight: bold; text-align: right;\">1196</td><td style = \"text-align: left;\">NZD</td><td style = \"text-align: left;\">2021-12-31</td><td style = \"text-align: right;\">1.45985</td><td style = \"text-align: right;\">1.4606</td><td style = \"text-align: right;\">1.46135</td><td style = \"text-align: right;\">1.46037</td><td style = \"text-align: right;\">1.46118</td><td style = \"text-align: right;\">1.46197</td></tr></tbody></table></div>"
      ],
      "text/latex": [
       "\\begin{tabular}{r|cccccccc}\n",
       "\t& curr & date & spot\\_bid & spot\\_mid & spot\\_ask & for\\_bid & for\\_mid & for\\_ask\\\\\n",
       "\t\\hline\n",
       "\t& String3 & Date & Float64? & Float64? & Float64? & Float64? & Float64? & Float64?\\\\\n",
       "\t\\hline\n",
       "\t1 & AUD & 1993-12-31 & 1.47275 & 1.47319 & 1.47384 & 1.472 & 1.474 & 1.475 \\\\\n",
       "\t2 & AUD & 1994-01-31 & 1.40944 & 1.40984 & 1.41044 & 1.4108 & 1.4119 & 1.413 \\\\\n",
       "\t3 & AUD & 1994-02-28 & 1.40252 & 1.40292 & 1.40351 & 1.4045 & 1.4057 & 1.4069 \\\\\n",
       "\t4 & AUD & 1994-03-31 & 1.42552 & 1.42653 & 1.42755 & 1.4267 & 1.4279 & 1.4292 \\\\\n",
       "\t5 & AUD & 1994-04-30 & 1.40115 & 1.40154 & 1.40213 & 1.3994 & 1.4005 & 1.4015 \\\\\n",
       "\t6 & AUD & 1994-05-31 & 1.3541 & 1.35446 & 1.35501 & 1.354 & 1.355 & 1.356 \\\\\n",
       "\t7 & AUD & 1994-06-30 & 1.36818 & 1.36855 & 1.36911 & 1.3682 & 1.3693 & 1.3704 \\\\\n",
       "\t8 & AUD & 1994-07-31 & 1.35281 & 1.35318 & 1.35373 & 1.3521 & 1.3532 & 1.3543 \\\\\n",
       "\t9 & AUD & 1994-08-31 & 1.34282 & 1.34318 & 1.34372 & 1.343 & 1.344 & 1.346 \\\\\n",
       "\t10 & AUD & 1994-09-30 & 1.35099 & 1.35135 & 1.35172 & 1.3508 & 1.352 & 1.3532 \\\\\n",
       "\t11 & AUD & 1994-10-31 & 1.34698 & 1.34735 & 1.34789 & 1.3484 & 1.3496 & 1.3508 \\\\\n",
       "\t12 & AUD & 1994-11-30 & 1.30039 & 1.30124 & 1.30208 & 1.3012 & 1.3023 & 1.3034 \\\\\n",
       "\t13 & AUD & 1994-12-31 & 1.28883 & 1.28916 & 1.28966 & 1.2895 & 1.2906 & 1.2916 \\\\\n",
       "\t14 & AUD & 1995-01-31 & 1.32031 & 1.32066 & 1.32118 & 1.321 & 1.322 & 1.323 \\\\\n",
       "\t15 & AUD & 1995-02-28 & 1.35575 & 1.35612 & 1.35667 & 1.3567 & 1.3579 & 1.3591 \\\\\n",
       "\t16 & AUD & 1995-03-31 & 1.3624 & 1.36333 & 1.36426 & 1.3656 & 1.3668 & 1.368 \\\\\n",
       "\t17 & AUD & 1995-04-30 & 1.37363 & 1.374 & 1.37457 & 1.3751 & 1.3764 & 1.3776 \\\\\n",
       "\t18 & AUD & 1995-05-31 & 1.38889 & 1.38927 & 1.38985 & 1.3931 & 1.3944 & 1.3957 \\\\\n",
       "\t19 & AUD & 1995-06-30 & 1.41024 & 1.41064 & 1.41123 & 1.409 & 1.4103 & 1.4116 \\\\\n",
       "\t20 & AUD & 1995-07-31 & 1.35227 & 1.35263 & 1.35318 & 1.3532 & 1.3544 & 1.3556 \\\\\n",
       "\t21 & AUD & 1995-08-31 & 1.32784 & 1.3282 & 1.32873 & 1.3303 & 1.3315 & 1.3326 \\\\\n",
       "\t22 & AUD & 1995-09-30 & 1.32398 & 1.32485 & 1.32573 & 1.3243 & 1.3255 & 1.3266 \\\\\n",
       "\t23 & AUD & 1995-10-31 & 1.31423 & 1.31458 & 1.3151 & 1.3141 & 1.3152 & 1.3163 \\\\\n",
       "\t24 & AUD & 1995-11-30 & 1.34409 & 1.34499 & 1.3459 & 1.3455 & 1.3467 & 1.3479 \\\\\n",
       "\t$\\dots$ & $\\dots$ & $\\dots$ & $\\dots$ & $\\dots$ & $\\dots$ & $\\dots$ & $\\dots$ & $\\dots$ \\\\\n",
       "\\end{tabular}\n"
      ],
      "text/plain": [
       "\u001b[1m1196×8 DataFrame\u001b[0m\n",
       "\u001b[1m  Row \u001b[0m│\u001b[1m curr    \u001b[0m\u001b[1m date       \u001b[0m\u001b[1m spot_bid \u001b[0m\u001b[1m spot_mid \u001b[0m\u001b[1m spot_ask \u001b[0m\u001b[1m for_bid  \u001b[0m\u001b[1m for_mid  \u001b[0m\u001b[1m for_ask  \u001b[0m\n",
       "      │\u001b[90m String3 \u001b[0m\u001b[90m Date       \u001b[0m\u001b[90m Float64? \u001b[0m\u001b[90m Float64? \u001b[0m\u001b[90m Float64? \u001b[0m\u001b[90m Float64? \u001b[0m\u001b[90m Float64? \u001b[0m\u001b[90m Float64? \u001b[0m\n",
       "──────┼─────────────────────────────────────────────────────────────────────────────────\n",
       "    1 │ AUD      1993-12-31   1.47275   1.47319   1.47384   1.472     1.474     1.475\n",
       "    2 │ AUD      1994-01-31   1.40944   1.40984   1.41044   1.4108    1.4119    1.413\n",
       "    3 │ AUD      1994-02-28   1.40252   1.40292   1.40351   1.4045    1.4057    1.4069\n",
       "    4 │ AUD      1994-03-31   1.42552   1.42653   1.42755   1.4267    1.4279    1.4292\n",
       "    5 │ AUD      1994-04-30   1.40115   1.40154   1.40213   1.3994    1.4005    1.4015\n",
       "    6 │ AUD      1994-05-31   1.3541    1.35446   1.35501   1.354     1.355     1.356\n",
       "    7 │ AUD      1994-06-30   1.36818   1.36855   1.36911   1.3682    1.3693    1.3704\n",
       "    8 │ AUD      1994-07-31   1.35281   1.35318   1.35373   1.3521    1.3532    1.3543\n",
       "  ⋮   │    ⋮         ⋮          ⋮         ⋮         ⋮         ⋮         ⋮         ⋮\n",
       " 1190 │ NZD      2021-06-30   1.43062   1.43113   1.43164   1.43066   1.43119   1.43174\n",
       " 1191 │ NZD      2021-07-31   1.43225   1.43277   1.43328   1.43234   1.43287   1.4334\n",
       " 1192 │ NZD      2021-08-31   1.42025   1.42076   1.42126   1.42023   1.42076   1.4213\n",
       " 1193 │ NZD      2021-09-30   1.44886   1.44959   1.45033   1.44909   1.44984   1.45058\n",
       " 1194 │ NZD      2021-10-31   1.39684   1.39733   1.39782   1.39739   1.3979    1.39841\n",
       " 1195 │ NZD      2021-11-30   1.47297   1.47341   1.47384   1.47341   1.4739    1.4744\n",
       " 1196 │ NZD      2021-12-31   1.45985   1.4606    1.46135   1.46037   1.46118   1.46197\n",
       "\u001b[36m                                                                       1181 rows omitted\u001b[0m"
      ]
     },
     "metadata": {},
     "output_type": "display_data"
    }
   ],
   "source": [
    "function not_missing_not_equal(x, y)\n",
    "    global mask = x .!= y\n",
    "    mask[ismissing.(x)] .= false\n",
    "    return convert(Vector{Bool},mask)\n",
    "end\n",
    "\n",
    "python_data_in[not_missing_not_equal(python_data_in.spot_bid, julia_data_in.spot_bid), :]"
   ]
  },
  {
   "cell_type": "code",
   "execution_count": 49,
   "metadata": {},
   "outputs": [
    {
     "data": {
      "text/html": [
       "<div><div style = \"float: left;\"><span>1196×8 DataFrame</span></div><div style = \"float: right;\"><span style = \"font-style: italic;\">1171 rows omitted</span></div><div style = \"clear: both;\"></div></div><div class = \"data-frame\" style = \"overflow-x: scroll;\"><table class = \"data-frame\" style = \"margin-bottom: 6px;\"><thead><tr class = \"header\"><th class = \"rowNumber\" style = \"font-weight: bold; text-align: right;\">Row</th><th style = \"text-align: left;\">cur_code</th><th style = \"text-align: left;\">date</th><th style = \"text-align: left;\">spot_bid</th><th style = \"text-align: left;\">forward_bid</th><th style = \"text-align: left;\">spot_mid</th><th style = \"text-align: left;\">forward_mid</th><th style = \"text-align: left;\">spot_ask</th><th style = \"text-align: left;\">forward_ask</th></tr><tr class = \"subheader headerLastRow\"><th class = \"rowNumber\" style = \"font-weight: bold; text-align: right;\"></th><th title = \"String3\" style = \"text-align: left;\">String3</th><th title = \"Dates.Date\" style = \"text-align: left;\">Date</th><th title = \"Union{Missing, Float64}\" style = \"text-align: left;\">Float64?</th><th title = \"Union{Missing, Float64}\" style = \"text-align: left;\">Float64?</th><th title = \"Union{Missing, Float64}\" style = \"text-align: left;\">Float64?</th><th title = \"Union{Missing, Float64}\" style = \"text-align: left;\">Float64?</th><th title = \"Union{Missing, Float64}\" style = \"text-align: left;\">Float64?</th><th title = \"Union{Missing, Float64}\" style = \"text-align: left;\">Float64?</th></tr></thead><tbody><tr><td class = \"rowNumber\" style = \"font-weight: bold; text-align: right;\">1</td><td style = \"text-align: left;\">AUD</td><td style = \"text-align: left;\">1993-12-31</td><td style = \"text-align: right;\">1.47384</td><td style = \"text-align: right;\">1.472</td><td style = \"text-align: right;\">1.47319</td><td style = \"text-align: right;\">1.474</td><td style = \"text-align: right;\">1.47275</td><td style = \"text-align: right;\">1.475</td></tr><tr><td class = \"rowNumber\" style = \"font-weight: bold; text-align: right;\">2</td><td style = \"text-align: left;\">AUD</td><td style = \"text-align: left;\">1994-01-31</td><td style = \"text-align: right;\">1.41044</td><td style = \"text-align: right;\">1.4108</td><td style = \"text-align: right;\">1.40984</td><td style = \"text-align: right;\">1.4119</td><td style = \"text-align: right;\">1.40944</td><td style = \"text-align: right;\">1.413</td></tr><tr><td class = \"rowNumber\" style = \"font-weight: bold; text-align: right;\">3</td><td style = \"text-align: left;\">AUD</td><td style = \"text-align: left;\">1994-02-28</td><td style = \"text-align: right;\">1.40351</td><td style = \"text-align: right;\">1.4045</td><td style = \"text-align: right;\">1.40292</td><td style = \"text-align: right;\">1.4057</td><td style = \"text-align: right;\">1.40252</td><td style = \"text-align: right;\">1.4069</td></tr><tr><td class = \"rowNumber\" style = \"font-weight: bold; text-align: right;\">4</td><td style = \"text-align: left;\">AUD</td><td style = \"text-align: left;\">1994-03-31</td><td style = \"text-align: right;\">1.42755</td><td style = \"text-align: right;\">1.4267</td><td style = \"text-align: right;\">1.42653</td><td style = \"text-align: right;\">1.4279</td><td style = \"text-align: right;\">1.42552</td><td style = \"text-align: right;\">1.4292</td></tr><tr><td class = \"rowNumber\" style = \"font-weight: bold; text-align: right;\">5</td><td style = \"text-align: left;\">AUD</td><td style = \"text-align: left;\">1994-04-30</td><td style = \"text-align: right;\">1.40213</td><td style = \"text-align: right;\">1.3994</td><td style = \"text-align: right;\">1.40154</td><td style = \"text-align: right;\">1.4005</td><td style = \"text-align: right;\">1.40115</td><td style = \"text-align: right;\">1.4015</td></tr><tr><td class = \"rowNumber\" style = \"font-weight: bold; text-align: right;\">6</td><td style = \"text-align: left;\">AUD</td><td style = \"text-align: left;\">1994-05-31</td><td style = \"text-align: right;\">1.35501</td><td style = \"text-align: right;\">1.354</td><td style = \"text-align: right;\">1.35446</td><td style = \"text-align: right;\">1.355</td><td style = \"text-align: right;\">1.3541</td><td style = \"text-align: right;\">1.356</td></tr><tr><td class = \"rowNumber\" style = \"font-weight: bold; text-align: right;\">7</td><td style = \"text-align: left;\">AUD</td><td style = \"text-align: left;\">1994-06-30</td><td style = \"text-align: right;\">1.36911</td><td style = \"text-align: right;\">1.3682</td><td style = \"text-align: right;\">1.36855</td><td style = \"text-align: right;\">1.3693</td><td style = \"text-align: right;\">1.36818</td><td style = \"text-align: right;\">1.3704</td></tr><tr><td class = \"rowNumber\" style = \"font-weight: bold; text-align: right;\">8</td><td style = \"text-align: left;\">AUD</td><td style = \"text-align: left;\">1994-07-31</td><td style = \"text-align: right;\">1.35373</td><td style = \"text-align: right;\">1.3521</td><td style = \"text-align: right;\">1.35318</td><td style = \"text-align: right;\">1.3532</td><td style = \"text-align: right;\">1.35281</td><td style = \"text-align: right;\">1.3543</td></tr><tr><td class = \"rowNumber\" style = \"font-weight: bold; text-align: right;\">9</td><td style = \"text-align: left;\">AUD</td><td style = \"text-align: left;\">1994-08-31</td><td style = \"text-align: right;\">1.34372</td><td style = \"text-align: right;\">1.343</td><td style = \"text-align: right;\">1.34318</td><td style = \"text-align: right;\">1.344</td><td style = \"text-align: right;\">1.34282</td><td style = \"text-align: right;\">1.346</td></tr><tr><td class = \"rowNumber\" style = \"font-weight: bold; text-align: right;\">10</td><td style = \"text-align: left;\">AUD</td><td style = \"text-align: left;\">1994-09-30</td><td style = \"text-align: right;\">1.35172</td><td style = \"text-align: right;\">1.3508</td><td style = \"text-align: right;\">1.35135</td><td style = \"text-align: right;\">1.352</td><td style = \"text-align: right;\">1.35099</td><td style = \"text-align: right;\">1.3532</td></tr><tr><td class = \"rowNumber\" style = \"font-weight: bold; text-align: right;\">11</td><td style = \"text-align: left;\">AUD</td><td style = \"text-align: left;\">1994-10-31</td><td style = \"text-align: right;\">1.34789</td><td style = \"text-align: right;\">1.3484</td><td style = \"text-align: right;\">1.34735</td><td style = \"text-align: right;\">1.3496</td><td style = \"text-align: right;\">1.34698</td><td style = \"text-align: right;\">1.3508</td></tr><tr><td class = \"rowNumber\" style = \"font-weight: bold; text-align: right;\">12</td><td style = \"text-align: left;\">AUD</td><td style = \"text-align: left;\">1994-11-30</td><td style = \"text-align: right;\">1.30208</td><td style = \"text-align: right;\">1.3012</td><td style = \"text-align: right;\">1.30124</td><td style = \"text-align: right;\">1.3023</td><td style = \"text-align: right;\">1.30039</td><td style = \"text-align: right;\">1.3034</td></tr><tr><td class = \"rowNumber\" style = \"font-weight: bold; text-align: right;\">13</td><td style = \"text-align: left;\">AUD</td><td style = \"text-align: left;\">1994-12-31</td><td style = \"text-align: right;\">1.28966</td><td style = \"text-align: right;\">1.2895</td><td style = \"text-align: right;\">1.28916</td><td style = \"text-align: right;\">1.2906</td><td style = \"text-align: right;\">1.28883</td><td style = \"text-align: right;\">1.2916</td></tr><tr><td style = \"text-align: right;\">&vellip;</td><td style = \"text-align: right;\">&vellip;</td><td style = \"text-align: right;\">&vellip;</td><td style = \"text-align: right;\">&vellip;</td><td style = \"text-align: right;\">&vellip;</td><td style = \"text-align: right;\">&vellip;</td><td style = \"text-align: right;\">&vellip;</td><td style = \"text-align: right;\">&vellip;</td><td style = \"text-align: right;\">&vellip;</td></tr><tr><td class = \"rowNumber\" style = \"font-weight: bold; text-align: right;\">1185</td><td style = \"text-align: left;\">NZD</td><td style = \"text-align: left;\">2021-01-31</td><td style = \"text-align: right;\">1.38793</td><td style = \"text-align: right;\">1.38794</td><td style = \"text-align: right;\">1.38754</td><td style = \"text-align: right;\">1.38754</td><td style = \"text-align: right;\">1.38715</td><td style = \"text-align: right;\">1.38714</td></tr><tr><td class = \"rowNumber\" style = \"font-weight: bold; text-align: right;\">1186</td><td style = \"text-align: left;\">NZD</td><td style = \"text-align: left;\">2021-02-28</td><td style = \"text-align: right;\">1.37571</td><td style = \"text-align: right;\">1.37574</td><td style = \"text-align: right;\">1.37533</td><td style = \"text-align: right;\">1.37533</td><td style = \"text-align: right;\">1.37495</td><td style = \"text-align: right;\">1.37493</td></tr><tr><td class = \"rowNumber\" style = \"font-weight: bold; text-align: right;\">1187</td><td style = \"text-align: left;\">NZD</td><td style = \"text-align: left;\">2021-03-31</td><td style = \"text-align: right;\">1.42837</td><td style = \"text-align: right;\">1.42847</td><td style = \"text-align: right;\">1.42786</td><td style = \"text-align: right;\">1.42794</td><td style = \"text-align: right;\">1.42735</td><td style = \"text-align: right;\">1.42741</td></tr><tr><td class = \"rowNumber\" style = \"font-weight: bold; text-align: right;\">1188</td><td style = \"text-align: left;\">NZD</td><td style = \"text-align: left;\">2021-04-30</td><td style = \"text-align: right;\">1.39412</td><td style = \"text-align: right;\">1.39429</td><td style = \"text-align: right;\">1.39373</td><td style = \"text-align: right;\">1.39386</td><td style = \"text-align: right;\">1.39334</td><td style = \"text-align: right;\">1.39346</td></tr><tr><td class = \"rowNumber\" style = \"font-weight: bold; text-align: right;\">1189</td><td style = \"text-align: left;\">NZD</td><td style = \"text-align: left;\">2021-05-31</td><td style = \"text-align: right;\">1.374</td><td style = \"text-align: right;\">1.37412</td><td style = \"text-align: right;\">1.37363</td><td style = \"text-align: right;\">1.3737</td><td style = \"text-align: right;\">1.37325</td><td style = \"text-align: right;\">1.37331</td></tr><tr><td class = \"rowNumber\" style = \"font-weight: bold; text-align: right;\">1190</td><td style = \"text-align: left;\">NZD</td><td style = \"text-align: left;\">2021-06-30</td><td style = \"text-align: right;\">1.43164</td><td style = \"text-align: right;\">1.43174</td><td style = \"text-align: right;\">1.43113</td><td style = \"text-align: right;\">1.43119</td><td style = \"text-align: right;\">1.43062</td><td style = \"text-align: right;\">1.43066</td></tr><tr><td class = \"rowNumber\" style = \"font-weight: bold; text-align: right;\">1191</td><td style = \"text-align: left;\">NZD</td><td style = \"text-align: left;\">2021-07-31</td><td style = \"text-align: right;\">1.43328</td><td style = \"text-align: right;\">1.4334</td><td style = \"text-align: right;\">1.43277</td><td style = \"text-align: right;\">1.43287</td><td style = \"text-align: right;\">1.43225</td><td style = \"text-align: right;\">1.43234</td></tr><tr><td class = \"rowNumber\" style = \"font-weight: bold; text-align: right;\">1192</td><td style = \"text-align: left;\">NZD</td><td style = \"text-align: left;\">2021-08-31</td><td style = \"text-align: right;\">1.42126</td><td style = \"text-align: right;\">1.4213</td><td style = \"text-align: right;\">1.42076</td><td style = \"text-align: right;\">1.42076</td><td style = \"text-align: right;\">1.42025</td><td style = \"text-align: right;\">1.42023</td></tr><tr><td class = \"rowNumber\" style = \"font-weight: bold; text-align: right;\">1193</td><td style = \"text-align: left;\">NZD</td><td style = \"text-align: left;\">2021-09-30</td><td style = \"text-align: right;\">1.45033</td><td style = \"text-align: right;\">1.45058</td><td style = \"text-align: right;\">1.44959</td><td style = \"text-align: right;\">1.44984</td><td style = \"text-align: right;\">1.44886</td><td style = \"text-align: right;\">1.44909</td></tr><tr><td class = \"rowNumber\" style = \"font-weight: bold; text-align: right;\">1194</td><td style = \"text-align: left;\">NZD</td><td style = \"text-align: left;\">2021-10-31</td><td style = \"text-align: right;\">1.39782</td><td style = \"text-align: right;\">1.39841</td><td style = \"text-align: right;\">1.39733</td><td style = \"text-align: right;\">1.3979</td><td style = \"text-align: right;\">1.39684</td><td style = \"text-align: right;\">1.39739</td></tr><tr><td class = \"rowNumber\" style = \"font-weight: bold; text-align: right;\">1195</td><td style = \"text-align: left;\">NZD</td><td style = \"text-align: left;\">2021-11-30</td><td style = \"text-align: right;\">1.47384</td><td style = \"text-align: right;\">1.4744</td><td style = \"text-align: right;\">1.47341</td><td style = \"text-align: right;\">1.4739</td><td style = \"text-align: right;\">1.47297</td><td style = \"text-align: right;\">1.47341</td></tr><tr><td class = \"rowNumber\" style = \"font-weight: bold; text-align: right;\">1196</td><td style = \"text-align: left;\">NZD</td><td style = \"text-align: left;\">2021-12-31</td><td style = \"text-align: right;\">1.46135</td><td style = \"text-align: right;\">1.46197</td><td style = \"text-align: right;\">1.4606</td><td style = \"text-align: right;\">1.46118</td><td style = \"text-align: right;\">1.45985</td><td style = \"text-align: right;\">1.46037</td></tr></tbody></table></div>"
      ],
      "text/latex": [
       "\\begin{tabular}{r|cccccccc}\n",
       "\t& cur\\_code & date & spot\\_bid & forward\\_bid & spot\\_mid & forward\\_mid & spot\\_ask & forward\\_ask\\\\\n",
       "\t\\hline\n",
       "\t& String3 & Date & Float64? & Float64? & Float64? & Float64? & Float64? & Float64?\\\\\n",
       "\t\\hline\n",
       "\t1 & AUD & 1993-12-31 & 1.47384 & 1.472 & 1.47319 & 1.474 & 1.47275 & 1.475 \\\\\n",
       "\t2 & AUD & 1994-01-31 & 1.41044 & 1.4108 & 1.40984 & 1.4119 & 1.40944 & 1.413 \\\\\n",
       "\t3 & AUD & 1994-02-28 & 1.40351 & 1.4045 & 1.40292 & 1.4057 & 1.40252 & 1.4069 \\\\\n",
       "\t4 & AUD & 1994-03-31 & 1.42755 & 1.4267 & 1.42653 & 1.4279 & 1.42552 & 1.4292 \\\\\n",
       "\t5 & AUD & 1994-04-30 & 1.40213 & 1.3994 & 1.40154 & 1.4005 & 1.40115 & 1.4015 \\\\\n",
       "\t6 & AUD & 1994-05-31 & 1.35501 & 1.354 & 1.35446 & 1.355 & 1.3541 & 1.356 \\\\\n",
       "\t7 & AUD & 1994-06-30 & 1.36911 & 1.3682 & 1.36855 & 1.3693 & 1.36818 & 1.3704 \\\\\n",
       "\t8 & AUD & 1994-07-31 & 1.35373 & 1.3521 & 1.35318 & 1.3532 & 1.35281 & 1.3543 \\\\\n",
       "\t9 & AUD & 1994-08-31 & 1.34372 & 1.343 & 1.34318 & 1.344 & 1.34282 & 1.346 \\\\\n",
       "\t10 & AUD & 1994-09-30 & 1.35172 & 1.3508 & 1.35135 & 1.352 & 1.35099 & 1.3532 \\\\\n",
       "\t11 & AUD & 1994-10-31 & 1.34789 & 1.3484 & 1.34735 & 1.3496 & 1.34698 & 1.3508 \\\\\n",
       "\t12 & AUD & 1994-11-30 & 1.30208 & 1.3012 & 1.30124 & 1.3023 & 1.30039 & 1.3034 \\\\\n",
       "\t13 & AUD & 1994-12-31 & 1.28966 & 1.2895 & 1.28916 & 1.2906 & 1.28883 & 1.2916 \\\\\n",
       "\t14 & AUD & 1995-01-31 & 1.32118 & 1.321 & 1.32066 & 1.322 & 1.32031 & 1.323 \\\\\n",
       "\t15 & AUD & 1995-02-28 & 1.35667 & 1.3567 & 1.35612 & 1.3579 & 1.35575 & 1.3591 \\\\\n",
       "\t16 & AUD & 1995-03-31 & 1.36426 & 1.3656 & 1.36333 & 1.3668 & 1.3624 & 1.368 \\\\\n",
       "\t17 & AUD & 1995-04-30 & 1.37457 & 1.3751 & 1.374 & 1.3764 & 1.37363 & 1.3776 \\\\\n",
       "\t18 & AUD & 1995-05-31 & 1.38985 & 1.3931 & 1.38927 & 1.3944 & 1.38889 & 1.3957 \\\\\n",
       "\t19 & AUD & 1995-06-30 & 1.41123 & 1.409 & 1.41064 & 1.4103 & 1.41024 & 1.4116 \\\\\n",
       "\t20 & AUD & 1995-07-31 & 1.35318 & 1.3532 & 1.35263 & 1.3544 & 1.35227 & 1.3556 \\\\\n",
       "\t21 & AUD & 1995-08-31 & 1.32873 & 1.3303 & 1.3282 & 1.3315 & 1.32784 & 1.3326 \\\\\n",
       "\t22 & AUD & 1995-09-30 & 1.32573 & 1.3243 & 1.32485 & 1.3255 & 1.32398 & 1.3266 \\\\\n",
       "\t23 & AUD & 1995-10-31 & 1.3151 & 1.3141 & 1.31458 & 1.3152 & 1.31423 & 1.3163 \\\\\n",
       "\t24 & AUD & 1995-11-30 & 1.3459 & 1.3455 & 1.34499 & 1.3467 & 1.34409 & 1.3479 \\\\\n",
       "\t$\\dots$ & $\\dots$ & $\\dots$ & $\\dots$ & $\\dots$ & $\\dots$ & $\\dots$ & $\\dots$ & $\\dots$ \\\\\n",
       "\\end{tabular}\n"
      ],
      "text/plain": [
       "\u001b[1m1196×8 DataFrame\u001b[0m\n",
       "\u001b[1m  Row \u001b[0m│\u001b[1m cur_code \u001b[0m\u001b[1m date       \u001b[0m\u001b[1m spot_bid \u001b[0m\u001b[1m forward_bid \u001b[0m\u001b[1m spot_mid \u001b[0m\u001b[1m forward_mid \u001b[0m\u001b[1m spot_ask \u001b[0m\u001b[1m forward_ask\u001b[0m ⋯\n",
       "      │\u001b[90m String3  \u001b[0m\u001b[90m Date       \u001b[0m\u001b[90m Float64? \u001b[0m\u001b[90m Float64?    \u001b[0m\u001b[90m Float64? \u001b[0m\u001b[90m Float64?    \u001b[0m\u001b[90m Float64? \u001b[0m\u001b[90m Float64?   \u001b[0m ⋯\n",
       "──────┼────────────────────────────────────────────────────────────────────────────────────────────\n",
       "    1 │ AUD       1993-12-31   1.47384      1.472     1.47319      1.474     1.47275      1.475   ⋯\n",
       "    2 │ AUD       1994-01-31   1.41044      1.4108    1.40984      1.4119    1.40944      1.413\n",
       "    3 │ AUD       1994-02-28   1.40351      1.4045    1.40292      1.4057    1.40252      1.4069\n",
       "    4 │ AUD       1994-03-31   1.42755      1.4267    1.42653      1.4279    1.42552      1.4292\n",
       "    5 │ AUD       1994-04-30   1.40213      1.3994    1.40154      1.4005    1.40115      1.4015  ⋯\n",
       "    6 │ AUD       1994-05-31   1.35501      1.354     1.35446      1.355     1.3541       1.356\n",
       "    7 │ AUD       1994-06-30   1.36911      1.3682    1.36855      1.3693    1.36818      1.3704\n",
       "    8 │ AUD       1994-07-31   1.35373      1.3521    1.35318      1.3532    1.35281      1.3543\n",
       "  ⋮   │    ⋮          ⋮          ⋮           ⋮          ⋮           ⋮          ⋮           ⋮      ⋱\n",
       " 1190 │ NZD       2021-06-30   1.43164      1.43174   1.43113      1.43119   1.43062      1.43066 ⋯\n",
       " 1191 │ NZD       2021-07-31   1.43328      1.4334    1.43277      1.43287   1.43225      1.43234\n",
       " 1192 │ NZD       2021-08-31   1.42126      1.4213    1.42076      1.42076   1.42025      1.42023\n",
       " 1193 │ NZD       2021-09-30   1.45033      1.45058   1.44959      1.44984   1.44886      1.44909\n",
       " 1194 │ NZD       2021-10-31   1.39782      1.39841   1.39733      1.3979    1.39684      1.39739 ⋯\n",
       " 1195 │ NZD       2021-11-30   1.47384      1.4744    1.47341      1.4739    1.47297      1.47341\n",
       " 1196 │ NZD       2021-12-31   1.46135      1.46197   1.4606       1.46118   1.45985      1.46037\n",
       "\u001b[36m                                                                                 1181 rows omitted\u001b[0m"
      ]
     },
     "metadata": {},
     "output_type": "display_data"
    }
   ],
   "source": [
    "julia_data_in[not_missing_not_equal(python_data_in.spot_bid, julia_data_in.spot_bid), :]"
   ]
  },
  {
   "attachments": {},
   "cell_type": "markdown",
   "metadata": {},
   "source": [
    "What is the actual spot bid rate in AUD on 1993-12-31?"
   ]
  },
  {
   "cell_type": "code",
   "execution_count": 53,
   "metadata": {},
   "outputs": [],
   "source": [
    "using Dates"
   ]
  },
  {
   "cell_type": "code",
   "execution_count": 62,
   "metadata": {},
   "outputs": [
    {
     "data": {
      "text/plain": [
       "74-element Vector{String}:\n",
       " \"date\"\n",
       " \"BBAUDSP\"\n",
       " \"AUSTDO\\$\"\n",
       " \"MBATSSP\"\n",
       " \"AUSTSC\\$\"\n",
       " \"BBBELSP\"\n",
       " \"NBBECSP\"\n",
       " \"BELGLU\\$\"\n",
       " \"BBCADSP\"\n",
       " \"CNDOLL\\$\"\n",
       " ⋮\n",
       " \"TAIWDO\\$\"\n",
       " \"TDTHBSP\"\n",
       " \"THABAH\\$\"\n",
       " \"TDTRYSP\"\n",
       " \"TURKLI\\$\"\n",
       " \"TDAEDSP\"\n",
       " \"UAEDIR\\$\"\n",
       " \"BBGBPSP\"\n",
       " \"USDOLLR\""
      ]
     },
     "metadata": {},
     "output_type": "display_data"
    }
   ],
   "source": [
    "names(python_data[\"spot_bid\"])"
   ]
  },
  {
   "cell_type": "code",
   "execution_count": 58,
   "metadata": {},
   "outputs": [
    {
     "data": {
      "text/html": [
       "<div><div style = \"float: left;\"><span>552×74 DataFrame</span></div><div style = \"float: right;\"><span style = \"font-style: italic;\">527 rows omitted</span></div><div style = \"clear: both;\"></div></div><div class = \"data-frame\" style = \"overflow-x: scroll;\"><table class = \"data-frame\" style = \"margin-bottom: 6px;\"><thead><tr class = \"header\"><th class = \"rowNumber\" style = \"font-weight: bold; text-align: right;\">Row</th><th style = \"text-align: left;\">date</th><th style = \"text-align: left;\">BBAUDSP</th><th style = \"text-align: left;\">AUSTDO$</th><th style = \"text-align: left;\">MBATSSP</th><th style = \"text-align: left;\">AUSTSC$</th><th style = \"text-align: left;\">BBBELSP</th><th style = \"text-align: left;\">NBBECSP</th><th style = \"text-align: left;\">BELGLU$</th><th style = \"text-align: left;\">BBCADSP</th><th style = \"text-align: left;\">CNDOLL$</th><th style = \"text-align: left;\">BBHKDSP</th><th style = \"text-align: left;\">HKDOLL$</th><th style = \"text-align: left;\">TDCZKSP</th><th style = \"text-align: left;\">CZECHC$</th><th style = \"text-align: left;\">BBDKKSP</th><th style = \"text-align: left;\">DANISH$</th><th style = \"text-align: left;\">USEURSP</th><th style = \"text-align: left;\">FINMAR$</th><th style = \"text-align: left;\">BBFRFSP</th><th style = \"text-align: left;\">FRENFR$</th><th style = \"text-align: left;\">BBDEMSP</th><th style = \"text-align: left;\">DMARKE$</th><th style = \"text-align: left;\">GREDRA$</th><th style = \"text-align: left;\">TDHUFSP</th><th style = \"text-align: left;\">HUNFOR$</th><th style = \"text-align: left;\">INDRUP$</th><th style = \"text-align: left;\">TDIDRSP</th><th style = \"text-align: left;\">INDORU$</th><th style = \"text-align: left;\">BBIEPSP</th><th style = \"text-align: left;\">IPUNTE$</th><th style = \"text-align: left;\">BBITLSP</th><th style = \"text-align: left;\">ITALIR$</th><th style = \"text-align: left;\">BBJPYSP</th><th style = \"text-align: left;\">JAPAYE$</th><th style = \"text-align: left;\">TDKWDSP</th><th style = \"text-align: left;\">KUWADI$</th><th style = \"text-align: left;\">BBMYRSP</th><th style = \"text-align: left;\">MALADL$</th><th style = \"text-align: left;\">MEXPES$</th><th style = \"text-align: left;\">BBNLGSP</th><th style = \"text-align: left;\">GUILDE$</th><th style = \"text-align: left;\">BBNZDSP</th><th style = \"text-align: left;\">NZDOLL$</th><th style = \"text-align: left;\">BBNOKSP</th><th style = \"text-align: left;\">NORKRO$</th><th style = \"text-align: left;\">TDPHPSP</th><th style = \"text-align: left;\">PHILPE$</th><th style = \"text-align: left;\">TDPLNSP</th><th style = \"text-align: left;\">POLZLO$</th><th style = \"text-align: left;\">PORTES$</th><th style = \"text-align: left;\">TDSARSP</th><th style = \"text-align: left;\">SAUDRI$</th><th style = \"text-align: left;\">BBSGDSP</th><th style = \"text-align: left;\">SINGDO$</th><th style = \"text-align: left;\">BBZARSP</th><th style = \"text-align: left;\">COMRAN$</th><th style = \"text-align: left;\">TDKRWSP</th><th style = \"text-align: left;\">KORSWO$</th><th style = \"text-align: left;\">MBESPSP</th><th style = \"text-align: left;\">SPANPE$</th><th style = \"text-align: left;\">BBSEKSP</th><th style = \"text-align: left;\">SWEKRO$</th><th style = \"text-align: left;\">BBCHFSP</th><th style = \"text-align: left;\">SWISSF$</th><th style = \"text-align: left;\">U$NTDSP</th><th style = \"text-align: left;\">TAIWDO$</th><th style = \"text-align: left;\">TDTHBSP</th><th style = \"text-align: left;\">THABAH$</th><th style = \"text-align: left;\">TDTRYSP</th><th style = \"text-align: left;\">TURKLI$</th><th style = \"text-align: left;\">TDAEDSP</th><th style = \"text-align: left;\">UAEDIR$</th><th style = \"text-align: left;\">BBGBPSP</th><th style = \"text-align: left;\">USDOLLR</th></tr><tr class = \"subheader headerLastRow\"><th class = \"rowNumber\" style = \"font-weight: bold; text-align: right;\"></th><th title = \"String15\" style = \"text-align: left;\">String15</th><th title = \"String7\" style = \"text-align: left;\">String7</th><th title = \"String7\" style = \"text-align: left;\">String7</th><th title = \"String7\" style = \"text-align: left;\">String7</th><th title = \"String7\" style = \"text-align: left;\">String7</th><th title = \"String7\" style = \"text-align: left;\">String7</th><th title = \"String7\" style = \"text-align: left;\">String7</th><th title = \"String7\" style = \"text-align: left;\">String7</th><th title = \"String7\" style = \"text-align: left;\">String7</th><th title = \"String7\" style = \"text-align: left;\">String7</th><th title = \"String7\" style = \"text-align: left;\">String7</th><th title = \"String7\" style = \"text-align: left;\">String7</th><th title = \"String15\" style = \"text-align: left;\">String15</th><th title = \"String7\" style = \"text-align: left;\">String7</th><th title = \"String7\" style = \"text-align: left;\">String7</th><th title = \"String7\" style = \"text-align: left;\">String7</th><th title = \"String7\" style = \"text-align: left;\">String7</th><th title = \"String7\" style = \"text-align: left;\">String7</th><th title = \"String7\" style = \"text-align: left;\">String7</th><th title = \"String7\" style = \"text-align: left;\">String7</th><th title = \"String7\" style = \"text-align: left;\">String7</th><th title = \"String7\" style = \"text-align: left;\">String7</th><th title = \"String7\" style = \"text-align: left;\">String7</th><th title = \"String15\" style = \"text-align: left;\">String15</th><th title = \"String15\" style = \"text-align: left;\">String15</th><th title = \"String7\" style = \"text-align: left;\">String7</th><th title = \"String7\" style = \"text-align: left;\">String7</th><th title = \"String7\" style = \"text-align: left;\">String7</th><th title = \"String7\" style = \"text-align: left;\">String7</th><th title = \"String7\" style = \"text-align: left;\">String7</th><th title = \"String7\" style = \"text-align: left;\">String7</th><th title = \"String15\" style = \"text-align: left;\">String15</th><th title = \"String7\" style = \"text-align: left;\">String7</th><th title = \"String15\" style = \"text-align: left;\">String15</th><th title = \"String7\" style = \"text-align: left;\">String7</th><th title = \"String7\" style = \"text-align: left;\">String7</th><th title = \"String7\" style = \"text-align: left;\">String7</th><th title = \"String7\" style = \"text-align: left;\">String7</th><th title = \"String7\" style = \"text-align: left;\">String7</th><th title = \"String7\" style = \"text-align: left;\">String7</th><th title = \"String7\" style = \"text-align: left;\">String7</th><th title = \"String7\" style = \"text-align: left;\">String7</th><th title = \"String7\" style = \"text-align: left;\">String7</th><th title = \"String7\" style = \"text-align: left;\">String7</th><th title = \"String7\" style = \"text-align: left;\">String7</th><th title = \"String15\" style = \"text-align: left;\">String15</th><th title = \"String7\" style = \"text-align: left;\">String7</th><th title = \"String7\" style = \"text-align: left;\">String7</th><th title = \"String7\" style = \"text-align: left;\">String7</th><th title = \"String15\" style = \"text-align: left;\">String15</th><th title = \"String7\" style = \"text-align: left;\">String7</th><th title = \"String7\" style = \"text-align: left;\">String7</th><th title = \"String7\" style = \"text-align: left;\">String7</th><th title = \"String7\" style = \"text-align: left;\">String7</th><th title = \"String7\" style = \"text-align: left;\">String7</th><th title = \"String7\" style = \"text-align: left;\">String7</th><th title = \"String15\" style = \"text-align: left;\">String15</th><th title = \"String7\" style = \"text-align: left;\">String7</th><th title = \"String7\" style = \"text-align: left;\">String7</th><th title = \"String15\" style = \"text-align: left;\">String15</th><th title = \"String7\" style = \"text-align: left;\">String7</th><th title = \"String7\" style = \"text-align: left;\">String7</th><th title = \"String7\" style = \"text-align: left;\">String7</th><th title = \"String7\" style = \"text-align: left;\">String7</th><th title = \"String7\" style = \"text-align: left;\">String7</th><th title = \"String7\" style = \"text-align: left;\">String7</th><th title = \"String15\" style = \"text-align: left;\">String15</th><th title = \"String15\" style = \"text-align: left;\">String15</th><th title = \"String7\" style = \"text-align: left;\">String7</th><th title = \"String7\" style = \"text-align: left;\">String7</th><th title = \"String7\" style = \"text-align: left;\">String7</th><th title = \"String7\" style = \"text-align: left;\">String7</th><th title = \"String7\" style = \"text-align: left;\">String7</th><th title = \"Float64\" style = \"text-align: left;\">Float64</th></tr></thead><tbody><tr><td class = \"rowNumber\" style = \"font-weight: bold; text-align: right;\">1</td><td style = \"text-align: left;\">31/01/1976</td><td style = \"text-align: left;\">NA</td><td style = \"text-align: left;\">NA</td><td style = \"text-align: left;\">NA</td><td style = \"text-align: left;\">NA</td><td style = \"text-align: left;\">NA</td><td style = \"text-align: left;\">NA</td><td style = \"text-align: left;\">NA</td><td style = \"text-align: left;\">NA</td><td style = \"text-align: left;\">NA</td><td style = \"text-align: left;\">NA</td><td style = \"text-align: left;\">NA</td><td style = \"text-align: left;\">NA</td><td style = \"text-align: left;\">NA</td><td style = \"text-align: left;\">NA</td><td style = \"text-align: left;\">NA</td><td style = \"text-align: left;\">NA</td><td style = \"text-align: left;\">NA</td><td style = \"text-align: left;\">NA</td><td style = \"text-align: left;\">NA</td><td style = \"text-align: left;\">NA</td><td style = \"text-align: left;\">NA</td><td style = \"text-align: left;\">NA</td><td style = \"text-align: left;\">NA</td><td style = \"text-align: left;\">NA</td><td style = \"text-align: left;\">NA</td><td style = \"text-align: left;\">NA</td><td style = \"text-align: left;\">NA</td><td style = \"text-align: left;\">NA</td><td style = \"text-align: left;\">NA</td><td style = \"text-align: left;\">NA</td><td style = \"text-align: left;\">NA</td><td style = \"text-align: left;\">NA</td><td style = \"text-align: left;\">NA</td><td style = \"text-align: left;\">NA</td><td style = \"text-align: left;\">NA</td><td style = \"text-align: left;\">NA</td><td style = \"text-align: left;\">NA</td><td style = \"text-align: left;\">NA</td><td style = \"text-align: left;\">NA</td><td style = \"text-align: left;\">NA</td><td style = \"text-align: left;\">NA</td><td style = \"text-align: left;\">NA</td><td style = \"text-align: left;\">NA</td><td style = \"text-align: left;\">NA</td><td style = \"text-align: left;\">NA</td><td style = \"text-align: left;\">NA</td><td style = \"text-align: left;\">NA</td><td style = \"text-align: left;\">NA</td><td style = \"text-align: left;\">NA</td><td style = \"text-align: left;\">NA</td><td style = \"text-align: left;\">NA</td><td style = \"text-align: left;\">NA</td><td style = \"text-align: left;\">NA</td><td style = \"text-align: left;\">NA</td><td style = \"text-align: left;\">NA</td><td style = \"text-align: left;\">NA</td><td style = \"text-align: left;\">NA</td><td style = \"text-align: left;\">NA</td><td style = \"text-align: left;\">NA</td><td style = \"text-align: left;\">NA</td><td style = \"text-align: left;\">NA</td><td style = \"text-align: left;\">NA</td><td style = \"text-align: left;\">NA</td><td style = \"text-align: left;\">NA</td><td style = \"text-align: left;\">NA</td><td style = \"text-align: left;\">NA</td><td style = \"text-align: left;\">NA</td><td style = \"text-align: left;\">NA</td><td style = \"text-align: left;\">NA</td><td style = \"text-align: left;\">NA</td><td style = \"text-align: left;\">NA</td><td style = \"text-align: left;\">NA</td><td style = \"text-align: right;\">2.0295</td></tr><tr><td class = \"rowNumber\" style = \"font-weight: bold; text-align: right;\">2</td><td style = \"text-align: left;\">27/02/1976</td><td style = \"text-align: left;\">NA</td><td style = \"text-align: left;\">NA</td><td style = \"text-align: left;\">NA</td><td style = \"text-align: left;\">NA</td><td style = \"text-align: left;\">NA</td><td style = \"text-align: left;\">NA</td><td style = \"text-align: left;\">NA</td><td style = \"text-align: left;\">NA</td><td style = \"text-align: left;\">NA</td><td style = \"text-align: left;\">NA</td><td style = \"text-align: left;\">NA</td><td style = \"text-align: left;\">NA</td><td style = \"text-align: left;\">NA</td><td style = \"text-align: left;\">NA</td><td style = \"text-align: left;\">NA</td><td style = \"text-align: left;\">NA</td><td style = \"text-align: left;\">NA</td><td style = \"text-align: left;\">NA</td><td style = \"text-align: left;\">NA</td><td style = \"text-align: left;\">NA</td><td style = \"text-align: left;\">NA</td><td style = \"text-align: left;\">NA</td><td style = \"text-align: left;\">NA</td><td style = \"text-align: left;\">NA</td><td style = \"text-align: left;\">NA</td><td style = \"text-align: left;\">NA</td><td style = \"text-align: left;\">NA</td><td style = \"text-align: left;\">NA</td><td style = \"text-align: left;\">NA</td><td style = \"text-align: left;\">NA</td><td style = \"text-align: left;\">NA</td><td style = \"text-align: left;\">NA</td><td style = \"text-align: left;\">NA</td><td style = \"text-align: left;\">NA</td><td style = \"text-align: left;\">NA</td><td style = \"text-align: left;\">NA</td><td style = \"text-align: left;\">NA</td><td style = \"text-align: left;\">NA</td><td style = \"text-align: left;\">NA</td><td style = \"text-align: left;\">NA</td><td style = \"text-align: left;\">NA</td><td style = \"text-align: left;\">NA</td><td style = \"text-align: left;\">NA</td><td style = \"text-align: left;\">NA</td><td style = \"text-align: left;\">NA</td><td style = \"text-align: left;\">NA</td><td style = \"text-align: left;\">NA</td><td style = \"text-align: left;\">NA</td><td style = \"text-align: left;\">NA</td><td style = \"text-align: left;\">NA</td><td style = \"text-align: left;\">NA</td><td style = \"text-align: left;\">NA</td><td style = \"text-align: left;\">NA</td><td style = \"text-align: left;\">NA</td><td style = \"text-align: left;\">NA</td><td style = \"text-align: left;\">NA</td><td style = \"text-align: left;\">NA</td><td style = \"text-align: left;\">NA</td><td style = \"text-align: left;\">NA</td><td style = \"text-align: left;\">NA</td><td style = \"text-align: left;\">NA</td><td style = \"text-align: left;\">NA</td><td style = \"text-align: left;\">NA</td><td style = \"text-align: left;\">NA</td><td style = \"text-align: left;\">NA</td><td style = \"text-align: left;\">NA</td><td style = \"text-align: left;\">NA</td><td style = \"text-align: left;\">NA</td><td style = \"text-align: left;\">NA</td><td style = \"text-align: left;\">NA</td><td style = \"text-align: left;\">NA</td><td style = \"text-align: left;\">NA</td><td style = \"text-align: right;\">2.025</td></tr><tr><td class = \"rowNumber\" style = \"font-weight: bold; text-align: right;\">3</td><td style = \"text-align: left;\">31/03/1976</td><td style = \"text-align: left;\">NA</td><td style = \"text-align: left;\">NA</td><td style = \"text-align: left;\">NA</td><td style = \"text-align: left;\">NA</td><td style = \"text-align: left;\">NA</td><td style = \"text-align: left;\">NA</td><td style = \"text-align: left;\">NA</td><td style = \"text-align: left;\">NA</td><td style = \"text-align: left;\">NA</td><td style = \"text-align: left;\">NA</td><td style = \"text-align: left;\">NA</td><td style = \"text-align: left;\">NA</td><td style = \"text-align: left;\">NA</td><td style = \"text-align: left;\">NA</td><td style = \"text-align: left;\">NA</td><td style = \"text-align: left;\">NA</td><td style = \"text-align: left;\">NA</td><td style = \"text-align: left;\">NA</td><td style = \"text-align: left;\">NA</td><td style = \"text-align: left;\">NA</td><td style = \"text-align: left;\">NA</td><td style = \"text-align: left;\">NA</td><td style = \"text-align: left;\">NA</td><td style = \"text-align: left;\">NA</td><td style = \"text-align: left;\">NA</td><td style = \"text-align: left;\">NA</td><td style = \"text-align: left;\">NA</td><td style = \"text-align: left;\">NA</td><td style = \"text-align: left;\">NA</td><td style = \"text-align: left;\">NA</td><td style = \"text-align: left;\">NA</td><td style = \"text-align: left;\">NA</td><td style = \"text-align: left;\">NA</td><td style = \"text-align: left;\">NA</td><td style = \"text-align: left;\">NA</td><td style = \"text-align: left;\">NA</td><td style = \"text-align: left;\">NA</td><td style = \"text-align: left;\">NA</td><td style = \"text-align: left;\">NA</td><td style = \"text-align: left;\">NA</td><td style = \"text-align: left;\">NA</td><td style = \"text-align: left;\">NA</td><td style = \"text-align: left;\">NA</td><td style = \"text-align: left;\">NA</td><td style = \"text-align: left;\">NA</td><td style = \"text-align: left;\">NA</td><td style = \"text-align: left;\">NA</td><td style = \"text-align: left;\">NA</td><td style = \"text-align: left;\">NA</td><td style = \"text-align: left;\">NA</td><td style = \"text-align: left;\">NA</td><td style = \"text-align: left;\">NA</td><td style = \"text-align: left;\">NA</td><td style = \"text-align: left;\">NA</td><td style = \"text-align: left;\">NA</td><td style = \"text-align: left;\">NA</td><td style = \"text-align: left;\">NA</td><td style = \"text-align: left;\">NA</td><td style = \"text-align: left;\">NA</td><td style = \"text-align: left;\">NA</td><td style = \"text-align: left;\">NA</td><td style = \"text-align: left;\">NA</td><td style = \"text-align: left;\">NA</td><td style = \"text-align: left;\">NA</td><td style = \"text-align: left;\">NA</td><td style = \"text-align: left;\">NA</td><td style = \"text-align: left;\">NA</td><td style = \"text-align: left;\">NA</td><td style = \"text-align: left;\">NA</td><td style = \"text-align: left;\">NA</td><td style = \"text-align: left;\">NA</td><td style = \"text-align: left;\">NA</td><td style = \"text-align: right;\">1.9155</td></tr><tr><td class = \"rowNumber\" style = \"font-weight: bold; text-align: right;\">4</td><td style = \"text-align: left;\">30/04/1976</td><td style = \"text-align: left;\">NA</td><td style = \"text-align: left;\">NA</td><td style = \"text-align: left;\">NA</td><td style = \"text-align: left;\">NA</td><td style = \"text-align: left;\">NA</td><td style = \"text-align: left;\">NA</td><td style = \"text-align: left;\">NA</td><td style = \"text-align: left;\">NA</td><td style = \"text-align: left;\">NA</td><td style = \"text-align: left;\">NA</td><td style = \"text-align: left;\">NA</td><td style = \"text-align: left;\">NA</td><td style = \"text-align: left;\">NA</td><td style = \"text-align: left;\">NA</td><td style = \"text-align: left;\">NA</td><td style = \"text-align: left;\">NA</td><td style = \"text-align: left;\">NA</td><td style = \"text-align: left;\">NA</td><td style = \"text-align: left;\">NA</td><td style = \"text-align: left;\">NA</td><td style = \"text-align: left;\">NA</td><td style = \"text-align: left;\">NA</td><td style = \"text-align: left;\">NA</td><td style = \"text-align: left;\">NA</td><td style = \"text-align: left;\">NA</td><td style = \"text-align: left;\">NA</td><td style = \"text-align: left;\">NA</td><td style = \"text-align: left;\">NA</td><td style = \"text-align: left;\">NA</td><td style = \"text-align: left;\">NA</td><td style = \"text-align: left;\">NA</td><td style = \"text-align: left;\">NA</td><td style = \"text-align: left;\">NA</td><td style = \"text-align: left;\">NA</td><td style = \"text-align: left;\">NA</td><td style = \"text-align: left;\">NA</td><td style = \"text-align: left;\">NA</td><td style = \"text-align: left;\">NA</td><td style = \"text-align: left;\">NA</td><td style = \"text-align: left;\">NA</td><td style = \"text-align: left;\">NA</td><td style = \"text-align: left;\">NA</td><td style = \"text-align: left;\">NA</td><td style = \"text-align: left;\">NA</td><td style = \"text-align: left;\">NA</td><td style = \"text-align: left;\">NA</td><td style = \"text-align: left;\">NA</td><td style = \"text-align: left;\">NA</td><td style = \"text-align: left;\">NA</td><td style = \"text-align: left;\">NA</td><td style = \"text-align: left;\">NA</td><td style = \"text-align: left;\">NA</td><td style = \"text-align: left;\">NA</td><td style = \"text-align: left;\">NA</td><td style = \"text-align: left;\">NA</td><td style = \"text-align: left;\">NA</td><td style = \"text-align: left;\">NA</td><td style = \"text-align: left;\">NA</td><td style = \"text-align: left;\">NA</td><td style = \"text-align: left;\">NA</td><td style = \"text-align: left;\">NA</td><td style = \"text-align: left;\">NA</td><td style = \"text-align: left;\">NA</td><td style = \"text-align: left;\">NA</td><td style = \"text-align: left;\">NA</td><td style = \"text-align: left;\">NA</td><td style = \"text-align: left;\">NA</td><td style = \"text-align: left;\">NA</td><td style = \"text-align: left;\">NA</td><td style = \"text-align: left;\">NA</td><td style = \"text-align: left;\">NA</td><td style = \"text-align: left;\">NA</td><td style = \"text-align: right;\">1.84</td></tr><tr><td class = \"rowNumber\" style = \"font-weight: bold; text-align: right;\">5</td><td style = \"text-align: left;\">31/05/1976</td><td style = \"text-align: left;\">NA</td><td style = \"text-align: left;\">NA</td><td style = \"text-align: left;\">NA</td><td style = \"text-align: left;\">NA</td><td style = \"text-align: left;\">NA</td><td style = \"text-align: left;\">NA</td><td style = \"text-align: left;\">NA</td><td style = \"text-align: left;\">NA</td><td style = \"text-align: left;\">NA</td><td style = \"text-align: left;\">NA</td><td style = \"text-align: left;\">NA</td><td style = \"text-align: left;\">NA</td><td style = \"text-align: left;\">NA</td><td style = \"text-align: left;\">NA</td><td style = \"text-align: left;\">NA</td><td style = \"text-align: left;\">NA</td><td style = \"text-align: left;\">NA</td><td style = \"text-align: left;\">NA</td><td style = \"text-align: left;\">NA</td><td style = \"text-align: left;\">NA</td><td style = \"text-align: left;\">NA</td><td style = \"text-align: left;\">NA</td><td style = \"text-align: left;\">NA</td><td style = \"text-align: left;\">NA</td><td style = \"text-align: left;\">NA</td><td style = \"text-align: left;\">NA</td><td style = \"text-align: left;\">NA</td><td style = \"text-align: left;\">NA</td><td style = \"text-align: left;\">NA</td><td style = \"text-align: left;\">NA</td><td style = \"text-align: left;\">NA</td><td style = \"text-align: left;\">NA</td><td style = \"text-align: left;\">NA</td><td style = \"text-align: left;\">NA</td><td style = \"text-align: left;\">NA</td><td style = \"text-align: left;\">NA</td><td style = \"text-align: left;\">NA</td><td style = \"text-align: left;\">NA</td><td style = \"text-align: left;\">NA</td><td style = \"text-align: left;\">NA</td><td style = \"text-align: left;\">NA</td><td style = \"text-align: left;\">NA</td><td style = \"text-align: left;\">NA</td><td style = \"text-align: left;\">NA</td><td style = \"text-align: left;\">NA</td><td style = \"text-align: left;\">NA</td><td style = \"text-align: left;\">NA</td><td style = \"text-align: left;\">NA</td><td style = \"text-align: left;\">NA</td><td style = \"text-align: left;\">NA</td><td style = \"text-align: left;\">NA</td><td style = \"text-align: left;\">NA</td><td style = \"text-align: left;\">NA</td><td style = \"text-align: left;\">NA</td><td style = \"text-align: left;\">NA</td><td style = \"text-align: left;\">NA</td><td style = \"text-align: left;\">NA</td><td style = \"text-align: left;\">NA</td><td style = \"text-align: left;\">NA</td><td style = \"text-align: left;\">NA</td><td style = \"text-align: left;\">NA</td><td style = \"text-align: left;\">NA</td><td style = \"text-align: left;\">NA</td><td style = \"text-align: left;\">NA</td><td style = \"text-align: left;\">NA</td><td style = \"text-align: left;\">NA</td><td style = \"text-align: left;\">NA</td><td style = \"text-align: left;\">NA</td><td style = \"text-align: left;\">NA</td><td style = \"text-align: left;\">NA</td><td style = \"text-align: left;\">NA</td><td style = \"text-align: left;\">NA</td><td style = \"text-align: right;\">1.758</td></tr><tr><td class = \"rowNumber\" style = \"font-weight: bold; text-align: right;\">6</td><td style = \"text-align: left;\">30/06/1976</td><td style = \"text-align: left;\">NA</td><td style = \"text-align: left;\">NA</td><td style = \"text-align: left;\">NA</td><td style = \"text-align: left;\">NA</td><td style = \"text-align: left;\">NA</td><td style = \"text-align: left;\">NA</td><td style = \"text-align: left;\">NA</td><td style = \"text-align: left;\">NA</td><td style = \"text-align: left;\">NA</td><td style = \"text-align: left;\">NA</td><td style = \"text-align: left;\">NA</td><td style = \"text-align: left;\">NA</td><td style = \"text-align: left;\">NA</td><td style = \"text-align: left;\">NA</td><td style = \"text-align: left;\">NA</td><td style = \"text-align: left;\">NA</td><td style = \"text-align: left;\">NA</td><td style = \"text-align: left;\">NA</td><td style = \"text-align: left;\">NA</td><td style = \"text-align: left;\">NA</td><td style = \"text-align: left;\">NA</td><td style = \"text-align: left;\">NA</td><td style = \"text-align: left;\">NA</td><td style = \"text-align: left;\">NA</td><td style = \"text-align: left;\">NA</td><td style = \"text-align: left;\">NA</td><td style = \"text-align: left;\">NA</td><td style = \"text-align: left;\">NA</td><td style = \"text-align: left;\">NA</td><td style = \"text-align: left;\">NA</td><td style = \"text-align: left;\">NA</td><td style = \"text-align: left;\">NA</td><td style = \"text-align: left;\">NA</td><td style = \"text-align: left;\">NA</td><td style = \"text-align: left;\">NA</td><td style = \"text-align: left;\">NA</td><td style = \"text-align: left;\">NA</td><td style = \"text-align: left;\">NA</td><td style = \"text-align: left;\">NA</td><td style = \"text-align: left;\">NA</td><td style = \"text-align: left;\">NA</td><td style = \"text-align: left;\">NA</td><td style = \"text-align: left;\">NA</td><td style = \"text-align: left;\">NA</td><td style = \"text-align: left;\">NA</td><td style = \"text-align: left;\">NA</td><td style = \"text-align: left;\">NA</td><td style = \"text-align: left;\">NA</td><td style = \"text-align: left;\">NA</td><td style = \"text-align: left;\">NA</td><td style = \"text-align: left;\">NA</td><td style = \"text-align: left;\">NA</td><td style = \"text-align: left;\">NA</td><td style = \"text-align: left;\">NA</td><td style = \"text-align: left;\">NA</td><td style = \"text-align: left;\">NA</td><td style = \"text-align: left;\">NA</td><td style = \"text-align: left;\">NA</td><td style = \"text-align: left;\">NA</td><td style = \"text-align: left;\">NA</td><td style = \"text-align: left;\">NA</td><td style = \"text-align: left;\">NA</td><td style = \"text-align: left;\">NA</td><td style = \"text-align: left;\">NA</td><td style = \"text-align: left;\">NA</td><td style = \"text-align: left;\">NA</td><td style = \"text-align: left;\">NA</td><td style = \"text-align: left;\">NA</td><td style = \"text-align: left;\">NA</td><td style = \"text-align: left;\">NA</td><td style = \"text-align: left;\">NA</td><td style = \"text-align: left;\">NA</td><td style = \"text-align: right;\">1.7845</td></tr><tr><td class = \"rowNumber\" style = \"font-weight: bold; text-align: right;\">7</td><td style = \"text-align: left;\">30/07/1976</td><td style = \"text-align: left;\">NA</td><td style = \"text-align: left;\">NA</td><td style = \"text-align: left;\">NA</td><td style = \"text-align: left;\">NA</td><td style = \"text-align: left;\">NA</td><td style = \"text-align: left;\">NA</td><td style = \"text-align: left;\">NA</td><td style = \"text-align: left;\">NA</td><td style = \"text-align: left;\">NA</td><td style = \"text-align: left;\">NA</td><td style = \"text-align: left;\">NA</td><td style = \"text-align: left;\">NA</td><td style = \"text-align: left;\">NA</td><td style = \"text-align: left;\">NA</td><td style = \"text-align: left;\">NA</td><td style = \"text-align: left;\">NA</td><td style = \"text-align: left;\">NA</td><td style = \"text-align: left;\">NA</td><td style = \"text-align: left;\">NA</td><td style = \"text-align: left;\">NA</td><td style = \"text-align: left;\">NA</td><td style = \"text-align: left;\">NA</td><td style = \"text-align: left;\">NA</td><td style = \"text-align: left;\">NA</td><td style = \"text-align: left;\">NA</td><td style = \"text-align: left;\">NA</td><td style = \"text-align: left;\">NA</td><td style = \"text-align: left;\">NA</td><td style = \"text-align: left;\">NA</td><td style = \"text-align: left;\">NA</td><td style = \"text-align: left;\">NA</td><td style = \"text-align: left;\">NA</td><td style = \"text-align: left;\">NA</td><td style = \"text-align: left;\">NA</td><td style = \"text-align: left;\">NA</td><td style = \"text-align: left;\">NA</td><td style = \"text-align: left;\">NA</td><td style = \"text-align: left;\">NA</td><td style = \"text-align: left;\">NA</td><td style = \"text-align: left;\">NA</td><td style = \"text-align: left;\">NA</td><td style = \"text-align: left;\">NA</td><td style = \"text-align: left;\">NA</td><td style = \"text-align: left;\">NA</td><td style = \"text-align: left;\">NA</td><td style = \"text-align: left;\">NA</td><td style = \"text-align: left;\">NA</td><td style = \"text-align: left;\">NA</td><td style = \"text-align: left;\">NA</td><td style = \"text-align: left;\">NA</td><td style = \"text-align: left;\">NA</td><td style = \"text-align: left;\">NA</td><td style = \"text-align: left;\">NA</td><td style = \"text-align: left;\">NA</td><td style = \"text-align: left;\">NA</td><td style = \"text-align: left;\">NA</td><td style = \"text-align: left;\">NA</td><td style = \"text-align: left;\">NA</td><td style = \"text-align: left;\">NA</td><td style = \"text-align: left;\">NA</td><td style = \"text-align: left;\">NA</td><td style = \"text-align: left;\">NA</td><td style = \"text-align: left;\">NA</td><td style = \"text-align: left;\">NA</td><td style = \"text-align: left;\">NA</td><td style = \"text-align: left;\">NA</td><td style = \"text-align: left;\">NA</td><td style = \"text-align: left;\">NA</td><td style = \"text-align: left;\">NA</td><td style = \"text-align: left;\">NA</td><td style = \"text-align: left;\">NA</td><td style = \"text-align: left;\">NA</td><td style = \"text-align: right;\">1.785</td></tr><tr><td class = \"rowNumber\" style = \"font-weight: bold; text-align: right;\">8</td><td style = \"text-align: left;\">31/08/1976</td><td style = \"text-align: left;\">NA</td><td style = \"text-align: left;\">NA</td><td style = \"text-align: left;\">NA</td><td style = \"text-align: left;\">NA</td><td style = \"text-align: left;\">NA</td><td style = \"text-align: left;\">NA</td><td style = \"text-align: left;\">NA</td><td style = \"text-align: left;\">NA</td><td style = \"text-align: left;\">NA</td><td style = \"text-align: left;\">NA</td><td style = \"text-align: left;\">NA</td><td style = \"text-align: left;\">NA</td><td style = \"text-align: left;\">NA</td><td style = \"text-align: left;\">NA</td><td style = \"text-align: left;\">NA</td><td style = \"text-align: left;\">NA</td><td style = \"text-align: left;\">NA</td><td style = \"text-align: left;\">NA</td><td style = \"text-align: left;\">NA</td><td style = \"text-align: left;\">NA</td><td style = \"text-align: left;\">NA</td><td style = \"text-align: left;\">NA</td><td style = \"text-align: left;\">NA</td><td style = \"text-align: left;\">NA</td><td style = \"text-align: left;\">NA</td><td style = \"text-align: left;\">NA</td><td style = \"text-align: left;\">NA</td><td style = \"text-align: left;\">NA</td><td style = \"text-align: left;\">NA</td><td style = \"text-align: left;\">NA</td><td style = \"text-align: left;\">NA</td><td style = \"text-align: left;\">NA</td><td style = \"text-align: left;\">NA</td><td style = \"text-align: left;\">NA</td><td style = \"text-align: left;\">NA</td><td style = \"text-align: left;\">NA</td><td style = \"text-align: left;\">NA</td><td style = \"text-align: left;\">NA</td><td style = \"text-align: left;\">NA</td><td style = \"text-align: left;\">NA</td><td style = \"text-align: left;\">NA</td><td style = \"text-align: left;\">NA</td><td style = \"text-align: left;\">NA</td><td style = \"text-align: left;\">NA</td><td style = \"text-align: left;\">NA</td><td style = \"text-align: left;\">NA</td><td style = \"text-align: left;\">NA</td><td style = \"text-align: left;\">NA</td><td style = \"text-align: left;\">NA</td><td style = \"text-align: left;\">NA</td><td style = \"text-align: left;\">NA</td><td style = \"text-align: left;\">NA</td><td style = \"text-align: left;\">NA</td><td style = \"text-align: left;\">NA</td><td style = \"text-align: left;\">NA</td><td style = \"text-align: left;\">NA</td><td style = \"text-align: left;\">NA</td><td style = \"text-align: left;\">NA</td><td style = \"text-align: left;\">NA</td><td style = \"text-align: left;\">NA</td><td style = \"text-align: left;\">NA</td><td style = \"text-align: left;\">NA</td><td style = \"text-align: left;\">NA</td><td style = \"text-align: left;\">NA</td><td style = \"text-align: left;\">NA</td><td style = \"text-align: left;\">NA</td><td style = \"text-align: left;\">NA</td><td style = \"text-align: left;\">NA</td><td style = \"text-align: left;\">NA</td><td style = \"text-align: left;\">NA</td><td style = \"text-align: left;\">NA</td><td style = \"text-align: left;\">NA</td><td style = \"text-align: right;\">1.777</td></tr><tr><td class = \"rowNumber\" style = \"font-weight: bold; text-align: right;\">9</td><td style = \"text-align: left;\">30/09/1976</td><td style = \"text-align: left;\">NA</td><td style = \"text-align: left;\">NA</td><td style = \"text-align: left;\">NA</td><td style = \"text-align: left;\">NA</td><td style = \"text-align: left;\">NA</td><td style = \"text-align: left;\">NA</td><td style = \"text-align: left;\">NA</td><td style = \"text-align: left;\">NA</td><td style = \"text-align: left;\">NA</td><td style = \"text-align: left;\">NA</td><td style = \"text-align: left;\">NA</td><td style = \"text-align: left;\">NA</td><td style = \"text-align: left;\">NA</td><td style = \"text-align: left;\">NA</td><td style = \"text-align: left;\">NA</td><td style = \"text-align: left;\">NA</td><td style = \"text-align: left;\">NA</td><td style = \"text-align: left;\">NA</td><td style = \"text-align: left;\">NA</td><td style = \"text-align: left;\">NA</td><td style = \"text-align: left;\">NA</td><td style = \"text-align: left;\">NA</td><td style = \"text-align: left;\">NA</td><td style = \"text-align: left;\">NA</td><td style = \"text-align: left;\">NA</td><td style = \"text-align: left;\">NA</td><td style = \"text-align: left;\">NA</td><td style = \"text-align: left;\">NA</td><td style = \"text-align: left;\">NA</td><td style = \"text-align: left;\">NA</td><td style = \"text-align: left;\">NA</td><td style = \"text-align: left;\">NA</td><td style = \"text-align: left;\">NA</td><td style = \"text-align: left;\">NA</td><td style = \"text-align: left;\">NA</td><td style = \"text-align: left;\">NA</td><td style = \"text-align: left;\">NA</td><td style = \"text-align: left;\">NA</td><td style = \"text-align: left;\">NA</td><td style = \"text-align: left;\">NA</td><td style = \"text-align: left;\">NA</td><td style = \"text-align: left;\">NA</td><td style = \"text-align: left;\">NA</td><td style = \"text-align: left;\">NA</td><td style = \"text-align: left;\">NA</td><td style = \"text-align: left;\">NA</td><td style = \"text-align: left;\">NA</td><td style = \"text-align: left;\">NA</td><td style = \"text-align: left;\">NA</td><td style = \"text-align: left;\">NA</td><td style = \"text-align: left;\">NA</td><td style = \"text-align: left;\">NA</td><td style = \"text-align: left;\">NA</td><td style = \"text-align: left;\">NA</td><td style = \"text-align: left;\">NA</td><td style = \"text-align: left;\">NA</td><td style = \"text-align: left;\">NA</td><td style = \"text-align: left;\">NA</td><td style = \"text-align: left;\">NA</td><td style = \"text-align: left;\">NA</td><td style = \"text-align: left;\">NA</td><td style = \"text-align: left;\">NA</td><td style = \"text-align: left;\">NA</td><td style = \"text-align: left;\">NA</td><td style = \"text-align: left;\">NA</td><td style = \"text-align: left;\">NA</td><td style = \"text-align: left;\">NA</td><td style = \"text-align: left;\">NA</td><td style = \"text-align: left;\">NA</td><td style = \"text-align: left;\">NA</td><td style = \"text-align: left;\">NA</td><td style = \"text-align: left;\">NA</td><td style = \"text-align: right;\">1.66</td></tr><tr><td class = \"rowNumber\" style = \"font-weight: bold; text-align: right;\">10</td><td style = \"text-align: left;\">29/10/1976</td><td style = \"text-align: left;\">NA</td><td style = \"text-align: left;\">NA</td><td style = \"text-align: left;\">NA</td><td style = \"text-align: left;\">NA</td><td style = \"text-align: left;\">NA</td><td style = \"text-align: left;\">NA</td><td style = \"text-align: left;\">NA</td><td style = \"text-align: left;\">NA</td><td style = \"text-align: left;\">NA</td><td style = \"text-align: left;\">NA</td><td style = \"text-align: left;\">NA</td><td style = \"text-align: left;\">NA</td><td style = \"text-align: left;\">NA</td><td style = \"text-align: left;\">NA</td><td style = \"text-align: left;\">NA</td><td style = \"text-align: left;\">NA</td><td style = \"text-align: left;\">NA</td><td style = \"text-align: left;\">NA</td><td style = \"text-align: left;\">NA</td><td style = \"text-align: left;\">NA</td><td style = \"text-align: left;\">NA</td><td style = \"text-align: left;\">NA</td><td style = \"text-align: left;\">NA</td><td style = \"text-align: left;\">NA</td><td style = \"text-align: left;\">NA</td><td style = \"text-align: left;\">NA</td><td style = \"text-align: left;\">NA</td><td style = \"text-align: left;\">NA</td><td style = \"text-align: left;\">NA</td><td style = \"text-align: left;\">NA</td><td style = \"text-align: left;\">NA</td><td style = \"text-align: left;\">NA</td><td style = \"text-align: left;\">NA</td><td style = \"text-align: left;\">NA</td><td style = \"text-align: left;\">NA</td><td style = \"text-align: left;\">NA</td><td style = \"text-align: left;\">NA</td><td style = \"text-align: left;\">NA</td><td style = \"text-align: left;\">NA</td><td style = \"text-align: left;\">NA</td><td style = \"text-align: left;\">NA</td><td style = \"text-align: left;\">NA</td><td style = \"text-align: left;\">NA</td><td style = \"text-align: left;\">NA</td><td style = \"text-align: left;\">NA</td><td style = \"text-align: left;\">NA</td><td style = \"text-align: left;\">NA</td><td style = \"text-align: left;\">NA</td><td style = \"text-align: left;\">NA</td><td style = \"text-align: left;\">NA</td><td style = \"text-align: left;\">NA</td><td style = \"text-align: left;\">NA</td><td style = \"text-align: left;\">NA</td><td style = \"text-align: left;\">NA</td><td style = \"text-align: left;\">NA</td><td style = \"text-align: left;\">NA</td><td style = \"text-align: left;\">NA</td><td style = \"text-align: left;\">NA</td><td style = \"text-align: left;\">NA</td><td style = \"text-align: left;\">NA</td><td style = \"text-align: left;\">NA</td><td style = \"text-align: left;\">NA</td><td style = \"text-align: left;\">NA</td><td style = \"text-align: left;\">NA</td><td style = \"text-align: left;\">NA</td><td style = \"text-align: left;\">NA</td><td style = \"text-align: left;\">NA</td><td style = \"text-align: left;\">NA</td><td style = \"text-align: left;\">NA</td><td style = \"text-align: left;\">NA</td><td style = \"text-align: left;\">NA</td><td style = \"text-align: left;\">NA</td><td style = \"text-align: right;\">1.585</td></tr><tr><td class = \"rowNumber\" style = \"font-weight: bold; text-align: right;\">11</td><td style = \"text-align: left;\">30/11/1976</td><td style = \"text-align: left;\">NA</td><td style = \"text-align: left;\">NA</td><td style = \"text-align: left;\">NA</td><td style = \"text-align: left;\">NA</td><td style = \"text-align: left;\">NA</td><td style = \"text-align: left;\">NA</td><td style = \"text-align: left;\">NA</td><td style = \"text-align: left;\">NA</td><td style = \"text-align: left;\">NA</td><td style = \"text-align: left;\">NA</td><td style = \"text-align: left;\">NA</td><td style = \"text-align: left;\">NA</td><td style = \"text-align: left;\">NA</td><td style = \"text-align: left;\">NA</td><td style = \"text-align: left;\">NA</td><td style = \"text-align: left;\">NA</td><td style = \"text-align: left;\">NA</td><td style = \"text-align: left;\">NA</td><td style = \"text-align: left;\">NA</td><td style = \"text-align: left;\">NA</td><td style = \"text-align: left;\">NA</td><td style = \"text-align: left;\">NA</td><td style = \"text-align: left;\">NA</td><td style = \"text-align: left;\">NA</td><td style = \"text-align: left;\">NA</td><td style = \"text-align: left;\">NA</td><td style = \"text-align: left;\">NA</td><td style = \"text-align: left;\">NA</td><td style = \"text-align: left;\">NA</td><td style = \"text-align: left;\">NA</td><td style = \"text-align: left;\">NA</td><td style = \"text-align: left;\">NA</td><td style = \"text-align: left;\">NA</td><td style = \"text-align: left;\">NA</td><td style = \"text-align: left;\">NA</td><td style = \"text-align: left;\">NA</td><td style = \"text-align: left;\">NA</td><td style = \"text-align: left;\">NA</td><td style = \"text-align: left;\">NA</td><td style = \"text-align: left;\">NA</td><td style = \"text-align: left;\">NA</td><td style = \"text-align: left;\">NA</td><td style = \"text-align: left;\">NA</td><td style = \"text-align: left;\">NA</td><td style = \"text-align: left;\">NA</td><td style = \"text-align: left;\">NA</td><td style = \"text-align: left;\">NA</td><td style = \"text-align: left;\">NA</td><td style = \"text-align: left;\">NA</td><td style = \"text-align: left;\">NA</td><td style = \"text-align: left;\">NA</td><td style = \"text-align: left;\">NA</td><td style = \"text-align: left;\">NA</td><td style = \"text-align: left;\">NA</td><td style = \"text-align: left;\">NA</td><td style = \"text-align: left;\">NA</td><td style = \"text-align: left;\">NA</td><td style = \"text-align: left;\">NA</td><td style = \"text-align: left;\">NA</td><td style = \"text-align: left;\">NA</td><td style = \"text-align: left;\">NA</td><td style = \"text-align: left;\">NA</td><td style = \"text-align: left;\">NA</td><td style = \"text-align: left;\">NA</td><td style = \"text-align: left;\">NA</td><td style = \"text-align: left;\">NA</td><td style = \"text-align: left;\">NA</td><td style = \"text-align: left;\">NA</td><td style = \"text-align: left;\">NA</td><td style = \"text-align: left;\">NA</td><td style = \"text-align: left;\">NA</td><td style = \"text-align: left;\">NA</td><td style = \"text-align: right;\">1.652</td></tr><tr><td class = \"rowNumber\" style = \"font-weight: bold; text-align: right;\">12</td><td style = \"text-align: left;\">31/12/1976</td><td style = \"text-align: left;\">NA</td><td style = \"text-align: left;\">NA</td><td style = \"text-align: left;\">NA</td><td style = \"text-align: left;\">NA</td><td style = \"text-align: left;\">NA</td><td style = \"text-align: left;\">NA</td><td style = \"text-align: left;\">NA</td><td style = \"text-align: left;\">NA</td><td style = \"text-align: left;\">NA</td><td style = \"text-align: left;\">NA</td><td style = \"text-align: left;\">NA</td><td style = \"text-align: left;\">NA</td><td style = \"text-align: left;\">NA</td><td style = \"text-align: left;\">NA</td><td style = \"text-align: left;\">NA</td><td style = \"text-align: left;\">NA</td><td style = \"text-align: left;\">NA</td><td style = \"text-align: left;\">NA</td><td style = \"text-align: left;\">NA</td><td style = \"text-align: left;\">NA</td><td style = \"text-align: left;\">NA</td><td style = \"text-align: left;\">NA</td><td style = \"text-align: left;\">NA</td><td style = \"text-align: left;\">NA</td><td style = \"text-align: left;\">NA</td><td style = \"text-align: left;\">NA</td><td style = \"text-align: left;\">NA</td><td style = \"text-align: left;\">NA</td><td style = \"text-align: left;\">NA</td><td style = \"text-align: left;\">NA</td><td style = \"text-align: left;\">NA</td><td style = \"text-align: left;\">NA</td><td style = \"text-align: left;\">NA</td><td style = \"text-align: left;\">NA</td><td style = \"text-align: left;\">NA</td><td style = \"text-align: left;\">NA</td><td style = \"text-align: left;\">NA</td><td style = \"text-align: left;\">NA</td><td style = \"text-align: left;\">NA</td><td style = \"text-align: left;\">NA</td><td style = \"text-align: left;\">NA</td><td style = \"text-align: left;\">NA</td><td style = \"text-align: left;\">NA</td><td style = \"text-align: left;\">NA</td><td style = \"text-align: left;\">NA</td><td style = \"text-align: left;\">NA</td><td style = \"text-align: left;\">NA</td><td style = \"text-align: left;\">NA</td><td style = \"text-align: left;\">NA</td><td style = \"text-align: left;\">NA</td><td style = \"text-align: left;\">NA</td><td style = \"text-align: left;\">NA</td><td style = \"text-align: left;\">NA</td><td style = \"text-align: left;\">NA</td><td style = \"text-align: left;\">NA</td><td style = \"text-align: left;\">NA</td><td style = \"text-align: left;\">NA</td><td style = \"text-align: left;\">NA</td><td style = \"text-align: left;\">NA</td><td style = \"text-align: left;\">NA</td><td style = \"text-align: left;\">NA</td><td style = \"text-align: left;\">NA</td><td style = \"text-align: left;\">NA</td><td style = \"text-align: left;\">NA</td><td style = \"text-align: left;\">NA</td><td style = \"text-align: left;\">NA</td><td style = \"text-align: left;\">NA</td><td style = \"text-align: left;\">NA</td><td style = \"text-align: left;\">NA</td><td style = \"text-align: left;\">NA</td><td style = \"text-align: left;\">NA</td><td style = \"text-align: left;\">NA</td><td style = \"text-align: right;\">1.7012</td></tr><tr><td class = \"rowNumber\" style = \"font-weight: bold; text-align: right;\">13</td><td style = \"text-align: left;\">31/01/1977</td><td style = \"text-align: left;\">NA</td><td style = \"text-align: left;\">NA</td><td style = \"text-align: left;\">NA</td><td style = \"text-align: left;\">NA</td><td style = \"text-align: left;\">NA</td><td style = \"text-align: left;\">NA</td><td style = \"text-align: left;\">NA</td><td style = \"text-align: left;\">NA</td><td style = \"text-align: left;\">NA</td><td style = \"text-align: left;\">NA</td><td style = \"text-align: left;\">NA</td><td style = \"text-align: left;\">NA</td><td style = \"text-align: left;\">NA</td><td style = \"text-align: left;\">NA</td><td style = \"text-align: left;\">NA</td><td style = \"text-align: left;\">NA</td><td style = \"text-align: left;\">NA</td><td style = \"text-align: left;\">NA</td><td style = \"text-align: left;\">NA</td><td style = \"text-align: left;\">NA</td><td style = \"text-align: left;\">NA</td><td style = \"text-align: left;\">NA</td><td style = \"text-align: left;\">NA</td><td style = \"text-align: left;\">NA</td><td style = \"text-align: left;\">NA</td><td style = \"text-align: left;\">NA</td><td style = \"text-align: left;\">NA</td><td style = \"text-align: left;\">NA</td><td style = \"text-align: left;\">NA</td><td style = \"text-align: left;\">NA</td><td style = \"text-align: left;\">NA</td><td style = \"text-align: left;\">NA</td><td style = \"text-align: left;\">NA</td><td style = \"text-align: left;\">NA</td><td style = \"text-align: left;\">NA</td><td style = \"text-align: left;\">NA</td><td style = \"text-align: left;\">NA</td><td style = \"text-align: left;\">NA</td><td style = \"text-align: left;\">NA</td><td style = \"text-align: left;\">NA</td><td style = \"text-align: left;\">NA</td><td style = \"text-align: left;\">NA</td><td style = \"text-align: left;\">NA</td><td style = \"text-align: left;\">NA</td><td style = \"text-align: left;\">NA</td><td style = \"text-align: left;\">NA</td><td style = \"text-align: left;\">NA</td><td style = \"text-align: left;\">NA</td><td style = \"text-align: left;\">NA</td><td style = \"text-align: left;\">NA</td><td style = \"text-align: left;\">NA</td><td style = \"text-align: left;\">NA</td><td style = \"text-align: left;\">NA</td><td style = \"text-align: left;\">NA</td><td style = \"text-align: left;\">NA</td><td style = \"text-align: left;\">NA</td><td style = \"text-align: left;\">NA</td><td style = \"text-align: left;\">NA</td><td style = \"text-align: left;\">NA</td><td style = \"text-align: left;\">NA</td><td style = \"text-align: left;\">NA</td><td style = \"text-align: left;\">NA</td><td style = \"text-align: left;\">NA</td><td style = \"text-align: left;\">NA</td><td style = \"text-align: left;\">NA</td><td style = \"text-align: left;\">NA</td><td style = \"text-align: left;\">NA</td><td style = \"text-align: left;\">NA</td><td style = \"text-align: left;\">NA</td><td style = \"text-align: left;\">NA</td><td style = \"text-align: left;\">NA</td><td style = \"text-align: left;\">NA</td><td style = \"text-align: right;\">1.7145</td></tr><tr><td style = \"text-align: right;\">&vellip;</td><td style = \"text-align: right;\">&vellip;</td><td style = \"text-align: right;\">&vellip;</td><td style = \"text-align: right;\">&vellip;</td><td style = \"text-align: right;\">&vellip;</td><td style = \"text-align: right;\">&vellip;</td><td style = \"text-align: right;\">&vellip;</td><td style = \"text-align: right;\">&vellip;</td><td style = \"text-align: right;\">&vellip;</td><td style = \"text-align: right;\">&vellip;</td><td style = \"text-align: right;\">&vellip;</td><td style = \"text-align: right;\">&vellip;</td><td style = \"text-align: right;\">&vellip;</td><td style = \"text-align: right;\">&vellip;</td><td style = \"text-align: right;\">&vellip;</td><td style = \"text-align: right;\">&vellip;</td><td style = \"text-align: right;\">&vellip;</td><td style = \"text-align: right;\">&vellip;</td><td style = \"text-align: right;\">&vellip;</td><td style = \"text-align: right;\">&vellip;</td><td style = \"text-align: right;\">&vellip;</td><td style = \"text-align: right;\">&vellip;</td><td style = \"text-align: right;\">&vellip;</td><td style = \"text-align: right;\">&vellip;</td><td style = \"text-align: right;\">&vellip;</td><td style = \"text-align: right;\">&vellip;</td><td style = \"text-align: right;\">&vellip;</td><td style = \"text-align: right;\">&vellip;</td><td style = \"text-align: right;\">&vellip;</td><td style = \"text-align: right;\">&vellip;</td><td style = \"text-align: right;\">&vellip;</td><td style = \"text-align: right;\">&vellip;</td><td style = \"text-align: right;\">&vellip;</td><td style = \"text-align: right;\">&vellip;</td><td style = \"text-align: right;\">&vellip;</td><td style = \"text-align: right;\">&vellip;</td><td style = \"text-align: right;\">&vellip;</td><td style = \"text-align: right;\">&vellip;</td><td style = \"text-align: right;\">&vellip;</td><td style = \"text-align: right;\">&vellip;</td><td style = \"text-align: right;\">&vellip;</td><td style = \"text-align: right;\">&vellip;</td><td style = \"text-align: right;\">&vellip;</td><td style = \"text-align: right;\">&vellip;</td><td style = \"text-align: right;\">&vellip;</td><td style = \"text-align: right;\">&vellip;</td><td style = \"text-align: right;\">&vellip;</td><td style = \"text-align: right;\">&vellip;</td><td style = \"text-align: right;\">&vellip;</td><td style = \"text-align: right;\">&vellip;</td><td style = \"text-align: right;\">&vellip;</td><td style = \"text-align: right;\">&vellip;</td><td style = \"text-align: right;\">&vellip;</td><td style = \"text-align: right;\">&vellip;</td><td style = \"text-align: right;\">&vellip;</td><td style = \"text-align: right;\">&vellip;</td><td style = \"text-align: right;\">&vellip;</td><td style = \"text-align: right;\">&vellip;</td><td style = \"text-align: right;\">&vellip;</td><td style = \"text-align: right;\">&vellip;</td><td style = \"text-align: right;\">&vellip;</td><td style = \"text-align: right;\">&vellip;</td><td style = \"text-align: right;\">&vellip;</td><td style = \"text-align: right;\">&vellip;</td><td style = \"text-align: right;\">&vellip;</td><td style = \"text-align: right;\">&vellip;</td><td style = \"text-align: right;\">&vellip;</td><td style = \"text-align: right;\">&vellip;</td><td style = \"text-align: right;\">&vellip;</td><td style = \"text-align: right;\">&vellip;</td><td style = \"text-align: right;\">&vellip;</td><td style = \"text-align: right;\">&vellip;</td><td style = \"text-align: right;\">&vellip;</td><td style = \"text-align: right;\">&vellip;</td><td style = \"text-align: right;\">&vellip;</td></tr><tr><td class = \"rowNumber\" style = \"font-weight: bold; text-align: right;\">541</td><td style = \"text-align: left;\">29/01/2021</td><td style = \"text-align: left;\">1.3043</td><td style = \"text-align: left;\">0.7671</td><td style = \"text-align: left;\">NA</td><td style = \"text-align: left;\">11.3253</td><td style = \"text-align: left;\">NA</td><td style = \"text-align: left;\">NA</td><td style = \"text-align: left;\">33.2016</td><td style = \"text-align: left;\">1.2764</td><td style = \"text-align: left;\">1.2773</td><td style = \"text-align: left;\">7.7527</td><td style = \"text-align: left;\">7.7536</td><td style = \"text-align: left;\">21.431</td><td style = \"text-align: left;\">21.3819</td><td style = \"text-align: left;\">6.1242</td><td style = \"text-align: left;\">6.1214</td><td style = \"text-align: left;\">1.2148</td><td style = \"text-align: left;\">4.8936</td><td style = \"text-align: left;\">5.4009</td><td style = \"text-align: left;\">5.3988</td><td style = \"text-align: left;\">1.6103</td><td style = \"text-align: left;\">1.6097</td><td style = \"text-align: left;\">280.453</td><td style = \"text-align: left;\">294.28</td><td style = \"text-align: left;\">293.7037</td><td style = \"text-align: left;\">72.955</td><td style = \"text-align: left;\">14020</td><td style = \"text-align: left;\">14020</td><td style = \"text-align: left;\">1.045</td><td style = \"text-align: left;\">1.5425</td><td style = \"text-align: left;\">1594.24</td><td style = \"text-align: left;\">1593.638</td><td style = \"text-align: left;\">104.62</td><td style = \"text-align: left;\">104.68</td><td style = \"text-align: left;\">0.3024</td><td style = \"text-align: left;\">0.3027</td><td style = \"text-align: left;\">NA</td><td style = \"text-align: left;\">4.04</td><td style = \"text-align: left;\">20.2195</td><td style = \"text-align: left;\">1.8144</td><td style = \"text-align: left;\">1.8138</td><td style = \"text-align: left;\">1.3878</td><td style = \"text-align: left;\">0.7205</td><td style = \"text-align: left;\">8.54</td><td style = \"text-align: left;\">8.5505</td><td style = \"text-align: left;\">48.06</td><td style = \"text-align: left;\">48.076</td><td style = \"text-align: left;\">3.7215</td><td style = \"text-align: left;\">3.7186</td><td style = \"text-align: left;\">165.0058</td><td style = \"text-align: left;\">3.7504</td><td style = \"text-align: left;\">3.7505</td><td style = \"text-align: left;\">1.3274</td><td style = \"text-align: left;\">1.3268</td><td style = \"text-align: left;\">15.1463</td><td style = \"text-align: left;\">15.049</td><td style = \"text-align: left;\">1117.64</td><td style = \"text-align: left;\">1118</td><td style = \"text-align: left;\">NA</td><td style = \"text-align: left;\">136.9432</td><td style = \"text-align: left;\">8.3325</td><td style = \"text-align: left;\">8.3289</td><td style = \"text-align: left;\">0.8896</td><td style = \"text-align: left;\">0.8894</td><td style = \"text-align: left;\">28.34</td><td style = \"text-align: left;\">28</td><td style = \"text-align: left;\">29.86</td><td style = \"text-align: left;\">29.9275</td><td style = \"text-align: left;\">7.3099</td><td style = \"text-align: left;\">7.2935</td><td style = \"text-align: left;\">3.6728</td><td style = \"text-align: left;\">3.6728</td><td style = \"text-align: left;\">1.3729</td><td style = \"text-align: right;\">1.373</td></tr><tr><td class = \"rowNumber\" style = \"font-weight: bold; text-align: right;\">542</td><td style = \"text-align: left;\">26/02/2021</td><td style = \"text-align: left;\">1.2945</td><td style = \"text-align: left;\">0.774</td><td style = \"text-align: left;\">NA</td><td style = \"text-align: left;\">11.3356</td><td style = \"text-align: left;\">NA</td><td style = \"text-align: left;\">NA</td><td style = \"text-align: left;\">33.2317</td><td style = \"text-align: left;\">1.2714</td><td style = \"text-align: left;\">1.2658</td><td style = \"text-align: left;\">7.7565</td><td style = \"text-align: left;\">7.7571</td><td style = \"text-align: left;\">21.666</td><td style = \"text-align: left;\">21.557</td><td style = \"text-align: left;\">6.1555</td><td style = \"text-align: left;\">6.1256</td><td style = \"text-align: left;\">1.2137</td><td style = \"text-align: left;\">4.898</td><td style = \"text-align: left;\">5.4293</td><td style = \"text-align: left;\">5.4037</td><td style = \"text-align: left;\">1.6188</td><td style = \"text-align: left;\">1.6112</td><td style = \"text-align: left;\">280.707</td><td style = \"text-align: left;\">299.8999</td><td style = \"text-align: left;\">298.443</td><td style = \"text-align: left;\">73.48</td><td style = \"text-align: left;\">14240</td><td style = \"text-align: left;\">14200</td><td style = \"text-align: left;\">1.051</td><td style = \"text-align: left;\">1.5411</td><td style = \"text-align: left;\">1602.65</td><td style = \"text-align: left;\">1595.082</td><td style = \"text-align: left;\">106.648</td><td style = \"text-align: left;\">106.52</td><td style = \"text-align: left;\">0.30243</td><td style = \"text-align: left;\">0.3021</td><td style = \"text-align: left;\">NA</td><td style = \"text-align: left;\">4.045</td><td style = \"text-align: left;\">20.9062</td><td style = \"text-align: left;\">1.824</td><td style = \"text-align: left;\">1.8154</td><td style = \"text-align: left;\">1.3787</td><td style = \"text-align: left;\">0.7269</td><td style = \"text-align: left;\">8.6434</td><td style = \"text-align: left;\">8.61</td><td style = \"text-align: left;\">48.73</td><td style = \"text-align: left;\">48.51</td><td style = \"text-align: left;\">3.7392</td><td style = \"text-align: left;\">3.7239</td><td style = \"text-align: left;\">165.1553</td><td style = \"text-align: left;\">3.7501</td><td style = \"text-align: left;\">3.7499</td><td style = \"text-align: left;\">1.3321</td><td style = \"text-align: left;\">1.3294</td><td style = \"text-align: left;\">15.1486</td><td style = \"text-align: left;\">15.1416</td><td style = \"text-align: left;\">1123.89</td><td style = \"text-align: left;\">1123.3</td><td style = \"text-align: left;\">NA</td><td style = \"text-align: left;\">137.0673</td><td style = \"text-align: left;\">8.423</td><td style = \"text-align: left;\">8.3986</td><td style = \"text-align: left;\">0.9096</td><td style = \"text-align: left;\">0.9051</td><td style = \"text-align: left;\">28.23</td><td style = \"text-align: left;\">27.85</td><td style = \"text-align: left;\">30.47</td><td style = \"text-align: left;\">30.13</td><td style = \"text-align: left;\">7.4226</td><td style = \"text-align: left;\">7.413</td><td style = \"text-align: left;\">3.6728</td><td style = \"text-align: left;\">3.6728</td><td style = \"text-align: left;\">1.3947</td><td style = \"text-align: right;\">1.3979</td></tr><tr><td class = \"rowNumber\" style = \"font-weight: bold; text-align: right;\">543</td><td style = \"text-align: left;\">31/03/2021</td><td style = \"text-align: left;\">1.3136</td><td style = \"text-align: left;\">0.7615</td><td style = \"text-align: left;\">NA</td><td style = \"text-align: left;\">11.7069</td><td style = \"text-align: left;\">NA</td><td style = \"text-align: left;\">NA</td><td style = \"text-align: left;\">34.3201</td><td style = \"text-align: left;\">1.257</td><td style = \"text-align: left;\">1.2567</td><td style = \"text-align: left;\">7.7743</td><td style = \"text-align: left;\">7.7742</td><td style = \"text-align: left;\">22.267</td><td style = \"text-align: left;\">22.2163</td><td style = \"text-align: left;\">6.3351</td><td style = \"text-align: left;\">6.3273</td><td style = \"text-align: left;\">1.1752</td><td style = \"text-align: left;\">5.0585</td><td style = \"text-align: left;\">5.5862</td><td style = \"text-align: left;\">5.5807</td><td style = \"text-align: left;\">1.6656</td><td style = \"text-align: left;\">1.664</td><td style = \"text-align: left;\">289.901</td><td style = \"text-align: left;\">308.4099</td><td style = \"text-align: left;\">308.1079</td><td style = \"text-align: left;\">73.1084</td><td style = \"text-align: left;\">14520</td><td style = \"text-align: left;\">14520</td><td style = \"text-align: left;\">1.081</td><td style = \"text-align: left;\">1.4922</td><td style = \"text-align: left;\">1648.96</td><td style = \"text-align: left;\">1647.329</td><td style = \"text-align: left;\">110.646</td><td style = \"text-align: left;\">110.48</td><td style = \"text-align: left;\">0.3022</td><td style = \"text-align: left;\">0.3022</td><td style = \"text-align: left;\">NA</td><td style = \"text-align: left;\">4.145</td><td style = \"text-align: left;\">20.4577</td><td style = \"text-align: left;\">1.8767</td><td style = \"text-align: left;\">1.8749</td><td style = \"text-align: left;\">1.4292</td><td style = \"text-align: left;\">0.7001</td><td style = \"text-align: left;\">8.5348</td><td style = \"text-align: left;\">8.5343</td><td style = \"text-align: left;\">48.57001</td><td style = \"text-align: left;\">48.525</td><td style = \"text-align: left;\">3.9451</td><td style = \"text-align: left;\">3.945</td><td style = \"text-align: left;\">170.5649</td><td style = \"text-align: left;\">3.7501</td><td style = \"text-align: left;\">3.7503</td><td style = \"text-align: left;\">1.3443</td><td style = \"text-align: left;\">1.3433</td><td style = \"text-align: left;\">14.7469</td><td style = \"text-align: left;\">14.7625</td><td style = \"text-align: left;\">1127.17</td><td style = \"text-align: left;\">1131.6</td><td style = \"text-align: left;\">NA</td><td style = \"text-align: left;\">141.5569</td><td style = \"text-align: left;\">8.7135</td><td style = \"text-align: left;\">8.7145</td><td style = \"text-align: left;\">0.9437</td><td style = \"text-align: left;\">0.941</td><td style = \"text-align: left;\">28.485</td><td style = \"text-align: left;\">28.526</td><td style = \"text-align: left;\">31.24001</td><td style = \"text-align: left;\">31.2475</td><td style = \"text-align: left;\">8.2439</td><td style = \"text-align: left;\">8.2712</td><td style = \"text-align: left;\">3.6728</td><td style = \"text-align: left;\">3.6728</td><td style = \"text-align: left;\">1.3794</td><td style = \"text-align: right;\">1.3795</td></tr><tr><td class = \"rowNumber\" style = \"font-weight: bold; text-align: right;\">544</td><td style = \"text-align: left;\">30/04/2021</td><td style = \"text-align: left;\">1.2972</td><td style = \"text-align: left;\">0.7723</td><td style = \"text-align: left;\">NA</td><td style = \"text-align: left;\">11.4298</td><td style = \"text-align: left;\">NA</td><td style = \"text-align: left;\">NA</td><td style = \"text-align: left;\">33.5077</td><td style = \"text-align: left;\">1.2278</td><td style = \"text-align: left;\">1.23</td><td style = \"text-align: left;\">7.7666</td><td style = \"text-align: left;\">7.7666</td><td style = \"text-align: left;\">21.50301</td><td style = \"text-align: left;\">21.4835</td><td style = \"text-align: left;\">6.1837</td><td style = \"text-align: left;\">6.177</td><td style = \"text-align: left;\">1.2037</td><td style = \"text-align: left;\">4.9387</td><td style = \"text-align: left;\">5.4539</td><td style = \"text-align: left;\">5.4486</td><td style = \"text-align: left;\">1.6262</td><td style = \"text-align: left;\">1.6246</td><td style = \"text-align: left;\">283.039</td><td style = \"text-align: left;\">299.3101</td><td style = \"text-align: left;\">299.0863</td><td style = \"text-align: left;\">74.0675</td><td style = \"text-align: left;\">14440</td><td style = \"text-align: left;\">14440</td><td style = \"text-align: left;\">1.056</td><td style = \"text-align: left;\">1.5284</td><td style = \"text-align: left;\">1609.9</td><td style = \"text-align: left;\">1608.331</td><td style = \"text-align: left;\">109.292</td><td style = \"text-align: left;\">109.29</td><td style = \"text-align: left;\">0.301</td><td style = \"text-align: left;\">0.3012</td><td style = \"text-align: left;\">NA</td><td style = \"text-align: left;\">4.0929</td><td style = \"text-align: left;\">20.1719</td><td style = \"text-align: left;\">1.8323</td><td style = \"text-align: left;\">1.8305</td><td style = \"text-align: left;\">1.395</td><td style = \"text-align: left;\">0.7173</td><td style = \"text-align: left;\">8.3022</td><td style = \"text-align: left;\">8.3063</td><td style = \"text-align: left;\">48.23</td><td style = \"text-align: left;\">48.14</td><td style = \"text-align: left;\">3.7895</td><td style = \"text-align: left;\">3.788</td><td style = \"text-align: left;\">166.5271</td><td style = \"text-align: left;\">3.7499</td><td style = \"text-align: left;\">3.7496</td><td style = \"text-align: left;\">1.3299</td><td style = \"text-align: left;\">1.3301</td><td style = \"text-align: left;\">14.4701</td><td style = \"text-align: left;\">14.5031</td><td style = \"text-align: left;\">1117.16</td><td style = \"text-align: left;\">1112.2</td><td style = \"text-align: left;\">NA</td><td style = \"text-align: left;\">138.2058</td><td style = \"text-align: left;\">8.4577</td><td style = \"text-align: left;\">8.4542</td><td style = \"text-align: left;\">0.913</td><td style = \"text-align: left;\">0.9119</td><td style = \"text-align: left;\">27.88</td><td style = \"text-align: left;\">27.921</td><td style = \"text-align: left;\">31.14</td><td style = \"text-align: left;\">31.1343</td><td style = \"text-align: left;\">8.2735</td><td style = \"text-align: left;\">8.287</td><td style = \"text-align: left;\">3.6726</td><td style = \"text-align: left;\">3.6728</td><td style = \"text-align: left;\">1.3815</td><td style = \"text-align: right;\">1.3843</td></tr><tr><td class = \"rowNumber\" style = \"font-weight: bold; text-align: right;\">545</td><td style = \"text-align: left;\">31/05/2021</td><td style = \"text-align: left;\">1.2922</td><td style = \"text-align: left;\">0.7739</td><td style = \"text-align: left;\">NA</td><td style = \"text-align: left;\">11.2531</td><td style = \"text-align: left;\">NA</td><td style = \"text-align: left;\">NA</td><td style = \"text-align: left;\">32.9898</td><td style = \"text-align: left;\">1.2067</td><td style = \"text-align: left;\">1.2079</td><td style = \"text-align: left;\">7.7612</td><td style = \"text-align: left;\">7.7611</td><td style = \"text-align: left;\">20.78799</td><td style = \"text-align: left;\">20.8031</td><td style = \"text-align: left;\">6.0812</td><td style = \"text-align: left;\">6.0821</td><td style = \"text-align: left;\">1.2225</td><td style = \"text-align: left;\">4.8624</td><td style = \"text-align: left;\">5.3632</td><td style = \"text-align: left;\">5.3644</td><td style = \"text-align: left;\">1.5991</td><td style = \"text-align: left;\">1.5995</td><td style = \"text-align: left;\">278.664</td><td style = \"text-align: left;\">284.0901</td><td style = \"text-align: left;\">283.9303</td><td style = \"text-align: left;\">72.6175</td><td style = \"text-align: left;\">14275</td><td style = \"text-align: left;\">14275</td><td style = \"text-align: left;\">1.038</td><td style = \"text-align: left;\">1.5523</td><td style = \"text-align: left;\">1583.14</td><td style = \"text-align: left;\">1583.472</td><td style = \"text-align: left;\">109.46</td><td style = \"text-align: left;\">109.38</td><td style = \"text-align: left;\">0.30039</td><td style = \"text-align: left;\">0.3003</td><td style = \"text-align: left;\">NA</td><td style = \"text-align: left;\">4.122</td><td style = \"text-align: left;\">19.9054</td><td style = \"text-align: left;\">1.8018</td><td style = \"text-align: left;\">1.8022</td><td style = \"text-align: left;\">1.3732</td><td style = \"text-align: left;\">0.7278</td><td style = \"text-align: left;\">8.3094</td><td style = \"text-align: left;\">8.3161</td><td style = \"text-align: left;\">47.63699</td><td style = \"text-align: left;\">47.68</td><td style = \"text-align: left;\">3.6578</td><td style = \"text-align: left;\">3.6623</td><td style = \"text-align: left;\">163.9532</td><td style = \"text-align: left;\">3.7502</td><td style = \"text-align: left;\">3.7502</td><td style = \"text-align: left;\">1.321</td><td style = \"text-align: left;\">1.3206</td><td style = \"text-align: left;\">13.7369</td><td style = \"text-align: left;\">13.7165</td><td style = \"text-align: left;\">1106.58</td><td style = \"text-align: left;\">1110.7</td><td style = \"text-align: left;\">NA</td><td style = \"text-align: left;\">136.0697</td><td style = \"text-align: left;\">8.2872</td><td style = \"text-align: left;\">8.2902</td><td style = \"text-align: left;\">0.8985</td><td style = \"text-align: left;\">0.8992</td><td style = \"text-align: left;\">27.59</td><td style = \"text-align: left;\">27.6</td><td style = \"text-align: left;\">31.19</td><td style = \"text-align: left;\">31.2308</td><td style = \"text-align: left;\">8.4808</td><td style = \"text-align: left;\">8.4717</td><td style = \"text-align: left;\">3.6724</td><td style = \"text-align: left;\">3.6724</td><td style = \"text-align: left;\">1.4206</td><td style = \"text-align: right;\">1.4213</td></tr><tr><td class = \"rowNumber\" style = \"font-weight: bold; text-align: right;\">546</td><td style = \"text-align: left;\">30/06/2021</td><td style = \"text-align: left;\">1.3336</td><td style = \"text-align: left;\">0.7506</td><td style = \"text-align: left;\">NA</td><td style = \"text-align: left;\">11.6023</td><td style = \"text-align: left;\">NA</td><td style = \"text-align: left;\">NA</td><td style = \"text-align: left;\">34.0134</td><td style = \"text-align: left;\">1.2404</td><td style = \"text-align: left;\">1.2381</td><td style = \"text-align: left;\">7.7663</td><td style = \"text-align: left;\">7.7656</td><td style = \"text-align: left;\">21.498</td><td style = \"text-align: left;\">21.5025</td><td style = \"text-align: left;\">6.2751</td><td style = \"text-align: left;\">6.2699</td><td style = \"text-align: left;\">1.1858</td><td style = \"text-align: left;\">5.0133</td><td style = \"text-align: left;\">5.5349</td><td style = \"text-align: left;\">5.5308</td><td style = \"text-align: left;\">1.6503</td><td style = \"text-align: left;\">1.6491</td><td style = \"text-align: left;\">287.31</td><td style = \"text-align: left;\">296.1499</td><td style = \"text-align: left;\">295.9106</td><td style = \"text-align: left;\">74.325</td><td style = \"text-align: left;\">14495</td><td style = \"text-align: left;\">14495</td><td style = \"text-align: left;\">1.071</td><td style = \"text-align: left;\">1.5057</td><td style = \"text-align: left;\">1633.8</td><td style = \"text-align: left;\">1632.605</td><td style = \"text-align: left;\">111.07</td><td style = \"text-align: left;\">110.97</td><td style = \"text-align: left;\">0.3004</td><td style = \"text-align: left;\">0.3012</td><td style = \"text-align: left;\">NA</td><td style = \"text-align: left;\">4.15</td><td style = \"text-align: left;\">19.908</td><td style = \"text-align: left;\">1.8595</td><td style = \"text-align: left;\">1.8581</td><td style = \"text-align: left;\">1.4319</td><td style = \"text-align: left;\">0.6985</td><td style = \"text-align: left;\">8.6139</td><td style = \"text-align: left;\">8.6032</td><td style = \"text-align: left;\">48.84</td><td style = \"text-align: left;\">48.8</td><td style = \"text-align: left;\">3.8093</td><td style = \"text-align: left;\">3.8059</td><td style = \"text-align: left;\">169.0405</td><td style = \"text-align: left;\">3.7505</td><td style = \"text-align: left;\">3.7503</td><td style = \"text-align: left;\">1.3452</td><td style = \"text-align: left;\">1.3439</td><td style = \"text-align: left;\">14.3044</td><td style = \"text-align: left;\">14.2735</td><td style = \"text-align: left;\">1130.48</td><td style = \"text-align: left;\">1126</td><td style = \"text-align: left;\">NA</td><td style = \"text-align: left;\">140.2917</td><td style = \"text-align: left;\">8.5576</td><td style = \"text-align: left;\">8.5507</td><td style = \"text-align: left;\">0.9252</td><td style = \"text-align: left;\">0.9242</td><td style = \"text-align: left;\">27.81</td><td style = \"text-align: left;\">27.86</td><td style = \"text-align: left;\">32.02</td><td style = \"text-align: left;\">32.0475</td><td style = \"text-align: left;\">8.7037</td><td style = \"text-align: left;\">8.6825</td><td style = \"text-align: left;\">3.6728</td><td style = \"text-align: left;\">3.6728</td><td style = \"text-align: left;\">1.38</td><td style = \"text-align: right;\">1.3812</td></tr><tr><td class = \"rowNumber\" style = \"font-weight: bold; text-align: right;\">547</td><td style = \"text-align: left;\">30/07/2021</td><td style = \"text-align: left;\">1.362</td><td style = \"text-align: left;\">0.7349</td><td style = \"text-align: left;\">NA</td><td style = \"text-align: left;\">11.6033</td><td style = \"text-align: left;\">NA</td><td style = \"text-align: left;\">NA</td><td style = \"text-align: left;\">34.0163</td><td style = \"text-align: left;\">1.2475</td><td style = \"text-align: left;\">1.2482</td><td style = \"text-align: left;\">7.7727</td><td style = \"text-align: left;\">7.771</td><td style = \"text-align: left;\">21.448</td><td style = \"text-align: left;\">21.4782</td><td style = \"text-align: left;\">6.2717</td><td style = \"text-align: left;\">6.2723</td><td style = \"text-align: left;\">1.1857</td><td style = \"text-align: left;\">5.0137</td><td style = \"text-align: left;\">5.5299</td><td style = \"text-align: left;\">5.5313</td><td style = \"text-align: left;\">1.6488</td><td style = \"text-align: left;\">1.6492</td><td style = \"text-align: left;\">287.335</td><td style = \"text-align: left;\">301.5</td><td style = \"text-align: left;\">301.5347</td><td style = \"text-align: left;\">74.41</td><td style = \"text-align: left;\">14460</td><td style = \"text-align: left;\">14460</td><td style = \"text-align: left;\">1.07</td><td style = \"text-align: left;\">1.5055</td><td style = \"text-align: left;\">1632.32</td><td style = \"text-align: left;\">1632.743</td><td style = \"text-align: left;\">109.778</td><td style = \"text-align: left;\">109.73</td><td style = \"text-align: left;\">0.3001</td><td style = \"text-align: left;\">0.3001</td><td style = \"text-align: left;\">NA</td><td style = \"text-align: left;\">4.218</td><td style = \"text-align: left;\">19.8574</td><td style = \"text-align: left;\">1.8578</td><td style = \"text-align: left;\">1.8583</td><td style = \"text-align: left;\">1.4338</td><td style = \"text-align: left;\">0.6977</td><td style = \"text-align: left;\">8.8253</td><td style = \"text-align: left;\">8.8324</td><td style = \"text-align: left;\">49.97</td><td style = \"text-align: left;\">49.97</td><td style = \"text-align: left;\">3.8441</td><td style = \"text-align: left;\">3.849</td><td style = \"text-align: left;\">169.0547</td><td style = \"text-align: left;\">3.7501</td><td style = \"text-align: left;\">3.75</td><td style = \"text-align: left;\">1.3541</td><td style = \"text-align: left;\">1.3538</td><td style = \"text-align: left;\">14.6134</td><td style = \"text-align: left;\">14.6252</td><td style = \"text-align: left;\">1151.41</td><td style = \"text-align: left;\">1150.2</td><td style = \"text-align: left;\">NA</td><td style = \"text-align: left;\">140.3036</td><td style = \"text-align: left;\">8.6027</td><td style = \"text-align: left;\">8.6026</td><td style = \"text-align: left;\">0.9062</td><td style = \"text-align: left;\">0.9061</td><td style = \"text-align: left;\">27.91</td><td style = \"text-align: left;\">27.96</td><td style = \"text-align: left;\">32.89</td><td style = \"text-align: left;\">32.8637</td><td style = \"text-align: left;\">8.4333</td><td style = \"text-align: left;\">8.417</td><td style = \"text-align: left;\">3.6726</td><td style = \"text-align: left;\">3.6728</td><td style = \"text-align: left;\">1.3899</td><td style = \"text-align: right;\">1.3901</td></tr><tr><td class = \"rowNumber\" style = \"font-weight: bold; text-align: right;\">548</td><td style = \"text-align: left;\">31/08/2021</td><td style = \"text-align: left;\">1.3674</td><td style = \"text-align: left;\">0.7307</td><td style = \"text-align: left;\">NA</td><td style = \"text-align: left;\">11.6553</td><td style = \"text-align: left;\">NA</td><td style = \"text-align: left;\">NA</td><td style = \"text-align: left;\">34.169</td><td style = \"text-align: left;\">1.2623</td><td style = \"text-align: left;\">1.2635</td><td style = \"text-align: left;\">7.7776</td><td style = \"text-align: left;\">7.7771</td><td style = \"text-align: left;\">21.51401</td><td style = \"text-align: left;\">21.5221</td><td style = \"text-align: left;\">6.2972</td><td style = \"text-align: left;\">6.2989</td><td style = \"text-align: left;\">1.1803</td><td style = \"text-align: left;\">5.0362</td><td style = \"text-align: left;\">5.554</td><td style = \"text-align: left;\">5.5561</td><td style = \"text-align: left;\">1.656</td><td style = \"text-align: left;\">1.6566</td><td style = \"text-align: left;\">288.624</td><td style = \"text-align: left;\">295.3</td><td style = \"text-align: left;\">295.6548</td><td style = \"text-align: left;\">73.0025</td><td style = \"text-align: left;\">14265</td><td style = \"text-align: left;\">14260</td><td style = \"text-align: left;\">1.075</td><td style = \"text-align: left;\">1.4987</td><td style = \"text-align: left;\">1639.43</td><td style = \"text-align: left;\">1640.073</td><td style = \"text-align: left;\">109.927</td><td style = \"text-align: left;\">109.84</td><td style = \"text-align: left;\">0.3004</td><td style = \"text-align: left;\">0.3007</td><td style = \"text-align: left;\">NA</td><td style = \"text-align: left;\">4.155</td><td style = \"text-align: left;\">20.0367</td><td style = \"text-align: left;\">1.8659</td><td style = \"text-align: left;\">1.8666</td><td style = \"text-align: left;\">1.4185</td><td style = \"text-align: left;\">0.7036</td><td style = \"text-align: left;\">8.6898</td><td style = \"text-align: left;\">8.7029</td><td style = \"text-align: left;\">49.63</td><td style = \"text-align: left;\">49.73</td><td style = \"text-align: left;\">3.8273</td><td style = \"text-align: left;\">3.8273</td><td style = \"text-align: left;\">169.8137</td><td style = \"text-align: left;\">3.7506</td><td style = \"text-align: left;\">3.7506</td><td style = \"text-align: left;\">1.3441</td><td style = \"text-align: left;\">1.3448</td><td style = \"text-align: left;\">14.4925</td><td style = \"text-align: left;\">14.4591</td><td style = \"text-align: left;\">1158.73</td><td style = \"text-align: left;\">1159.3</td><td style = \"text-align: left;\">NA</td><td style = \"text-align: left;\">140.9334</td><td style = \"text-align: left;\">8.625</td><td style = \"text-align: left;\">8.6368</td><td style = \"text-align: left;\">0.9155</td><td style = \"text-align: left;\">0.9159</td><td style = \"text-align: left;\">27.7</td><td style = \"text-align: left;\">27.712</td><td style = \"text-align: left;\">32.22</td><td style = \"text-align: left;\">32.229</td><td style = \"text-align: left;\">8.3045</td><td style = \"text-align: left;\">8.3095</td><td style = \"text-align: left;\">3.6728</td><td style = \"text-align: left;\">3.6728</td><td style = \"text-align: left;\">1.3751</td><td style = \"text-align: right;\">1.376</td></tr><tr><td class = \"rowNumber\" style = \"font-weight: bold; text-align: right;\">549</td><td style = \"text-align: left;\">30/09/2021</td><td style = \"text-align: left;\">1.3852</td><td style = \"text-align: left;\">0.7222</td><td style = \"text-align: left;\">NA</td><td style = \"text-align: left;\">11.8715</td><td style = \"text-align: left;\">NA</td><td style = \"text-align: left;\">NA</td><td style = \"text-align: left;\">34.8028</td><td style = \"text-align: left;\">1.269</td><td style = \"text-align: left;\">1.2667</td><td style = \"text-align: left;\">7.7862</td><td style = \"text-align: left;\">7.7844</td><td style = \"text-align: left;\">21.866</td><td style = \"text-align: left;\">21.8592</td><td style = \"text-align: left;\">6.4228</td><td style = \"text-align: left;\">6.4151</td><td style = \"text-align: left;\">1.1588</td><td style = \"text-align: left;\">5.1296</td><td style = \"text-align: left;\">5.6648</td><td style = \"text-align: left;\">5.6592</td><td style = \"text-align: left;\">1.689</td><td style = \"text-align: left;\">1.6874</td><td style = \"text-align: left;\">293.978</td><td style = \"text-align: left;\">310.25</td><td style = \"text-align: left;\">309.8438</td><td style = \"text-align: left;\">74.2222</td><td style = \"text-align: left;\">14310</td><td style = \"text-align: left;\">14310</td><td style = \"text-align: left;\">1.097</td><td style = \"text-align: left;\">1.4714</td><td style = \"text-align: left;\">1672.14</td><td style = \"text-align: left;\">1670.494</td><td style = \"text-align: left;\">111.324</td><td style = \"text-align: left;\">111.56</td><td style = \"text-align: left;\">0.30129</td><td style = \"text-align: left;\">0.3015</td><td style = \"text-align: left;\">NA</td><td style = \"text-align: left;\">4.185</td><td style = \"text-align: left;\">20.5425</td><td style = \"text-align: left;\">1.9031</td><td style = \"text-align: left;\">1.9012</td><td style = \"text-align: left;\">1.4497</td><td style = \"text-align: left;\">0.6895</td><td style = \"text-align: left;\">8.7514</td><td style = \"text-align: left;\">8.7264</td><td style = \"text-align: left;\">51.02</td><td style = \"text-align: left;\">51</td><td style = \"text-align: left;\">3.9763</td><td style = \"text-align: left;\">3.9701</td><td style = \"text-align: left;\">172.9635</td><td style = \"text-align: left;\">3.7504</td><td style = \"text-align: left;\">3.7502</td><td style = \"text-align: left;\">1.3587</td><td style = \"text-align: left;\">1.3573</td><td style = \"text-align: left;\">15.081</td><td style = \"text-align: left;\">15.0408</td><td style = \"text-align: left;\">1184.23</td><td style = \"text-align: left;\">1183</td><td style = \"text-align: left;\">NA</td><td style = \"text-align: left;\">143.5476</td><td style = \"text-align: left;\">8.7634</td><td style = \"text-align: left;\">8.7468</td><td style = \"text-align: left;\">0.9333</td><td style = \"text-align: left;\">0.9327</td><td style = \"text-align: left;\">27.8</td><td style = \"text-align: left;\">27.858</td><td style = \"text-align: left;\">33.67</td><td style = \"text-align: left;\">33.8325</td><td style = \"text-align: left;\">8.8862</td><td style = \"text-align: left;\">8.8792</td><td style = \"text-align: left;\">3.6729</td><td style = \"text-align: left;\">3.6728</td><td style = \"text-align: left;\">1.3468</td><td style = \"text-align: right;\">1.3481</td></tr><tr><td class = \"rowNumber\" style = \"font-weight: bold; text-align: right;\">550</td><td style = \"text-align: left;\">29/10/2021</td><td style = \"text-align: left;\">1.3305</td><td style = \"text-align: left;\">0.7509</td><td style = \"text-align: left;\">NA</td><td style = \"text-align: left;\">11.889</td><td style = \"text-align: left;\">NA</td><td style = \"text-align: left;\">NA</td><td style = \"text-align: left;\">34.8539</td><td style = \"text-align: left;\">1.2392</td><td style = \"text-align: left;\">1.2394</td><td style = \"text-align: left;\">7.779</td><td style = \"text-align: left;\">7.7788</td><td style = \"text-align: left;\">22.16299</td><td style = \"text-align: left;\">22.173</td><td style = \"text-align: left;\">6.4412</td><td style = \"text-align: left;\">6.4274</td><td style = \"text-align: left;\">1.1571</td><td style = \"text-align: left;\">5.1371</td><td style = \"text-align: left;\">5.6793</td><td style = \"text-align: left;\">5.6675</td><td style = \"text-align: left;\">1.6934</td><td style = \"text-align: left;\">1.6898</td><td style = \"text-align: left;\">294.41</td><td style = \"text-align: left;\">311.1201</td><td style = \"text-align: left;\">310.8778</td><td style = \"text-align: left;\">74.8762</td><td style = \"text-align: left;\">14165</td><td style = \"text-align: left;\">14165</td><td style = \"text-align: left;\">1.099</td><td style = \"text-align: left;\">1.4692</td><td style = \"text-align: left;\">1676.42</td><td style = \"text-align: left;\">1672.948</td><td style = \"text-align: left;\">114.028</td><td style = \"text-align: left;\">114.01</td><td style = \"text-align: left;\">0.30128</td><td style = \"text-align: left;\">0.301</td><td style = \"text-align: left;\">NA</td><td style = \"text-align: left;\">4.139</td><td style = \"text-align: left;\">20.5403</td><td style = \"text-align: left;\">1.908</td><td style = \"text-align: left;\">1.904</td><td style = \"text-align: left;\">1.3966</td><td style = \"text-align: left;\">0.7154</td><td style = \"text-align: left;\">8.4552</td><td style = \"text-align: left;\">8.4569</td><td style = \"text-align: left;\">50.521</td><td style = \"text-align: left;\">50.4</td><td style = \"text-align: left;\">3.9837</td><td style = \"text-align: left;\">3.9857</td><td style = \"text-align: left;\">173.2176</td><td style = \"text-align: left;\">3.7508</td><td style = \"text-align: left;\">3.7508</td><td style = \"text-align: left;\">1.3489</td><td style = \"text-align: left;\">1.3482</td><td style = \"text-align: left;\">15.274</td><td style = \"text-align: left;\">15.1946</td><td style = \"text-align: left;\">1174.47</td><td style = \"text-align: left;\">1168.4</td><td style = \"text-align: left;\">NA</td><td style = \"text-align: left;\">143.7584</td><td style = \"text-align: left;\">8.5939</td><td style = \"text-align: left;\">8.5867</td><td style = \"text-align: left;\">0.9159</td><td style = \"text-align: left;\">0.9136</td><td style = \"text-align: left;\">27.76</td><td style = \"text-align: left;\">27.807</td><td style = \"text-align: left;\">33.28999</td><td style = \"text-align: left;\">33.1759</td><td style = \"text-align: left;\">9.603</td><td style = \"text-align: left;\">9.6051</td><td style = \"text-align: left;\">3.6728</td><td style = \"text-align: left;\">3.6728</td><td style = \"text-align: left;\">1.368</td><td style = \"text-align: right;\">1.3705</td></tr><tr><td class = \"rowNumber\" style = \"font-weight: bold; text-align: right;\">551</td><td style = \"text-align: left;\">30/11/2021</td><td style = \"text-align: left;\">1.4104</td><td style = \"text-align: left;\">0.7089</td><td style = \"text-align: left;\">NA</td><td style = \"text-align: left;\">12.2238</td><td style = \"text-align: left;\">NA</td><td style = \"text-align: left;\">NA</td><td style = \"text-align: left;\">35.8354</td><td style = \"text-align: left;\">1.281</td><td style = \"text-align: left;\">1.2826</td><td style = \"text-align: left;\">7.7967</td><td style = \"text-align: left;\">7.7956</td><td style = \"text-align: left;\">22.48399</td><td style = \"text-align: left;\">22.5824</td><td style = \"text-align: left;\">6.5896</td><td style = \"text-align: left;\">6.6065</td><td style = \"text-align: left;\">1.1255</td><td style = \"text-align: left;\">5.2818</td><td style = \"text-align: left;\">5.8117</td><td style = \"text-align: left;\">5.8271</td><td style = \"text-align: left;\">1.7328</td><td style = \"text-align: left;\">1.7374</td><td style = \"text-align: left;\">302.701</td><td style = \"text-align: left;\">321.46</td><td style = \"text-align: left;\">324.3671</td><td style = \"text-align: left;\">75.1475</td><td style = \"text-align: left;\">14320</td><td style = \"text-align: left;\">14320</td><td style = \"text-align: left;\">1.125</td><td style = \"text-align: left;\">1.4291</td><td style = \"text-align: left;\">1715.5</td><td style = \"text-align: left;\">1720.059</td><td style = \"text-align: left;\">113.215</td><td style = \"text-align: left;\">113.53</td><td style = \"text-align: left;\">0.3023</td><td style = \"text-align: left;\">0.302</td><td style = \"text-align: left;\">NA</td><td style = \"text-align: left;\">4.21</td><td style = \"text-align: left;\">21.4845</td><td style = \"text-align: left;\">1.9524</td><td style = \"text-align: left;\">1.9576</td><td style = \"text-align: left;\">1.4713</td><td style = \"text-align: left;\">0.6785</td><td style = \"text-align: left;\">9.1105</td><td style = \"text-align: left;\">9.1086</td><td style = \"text-align: left;\">50.41</td><td style = \"text-align: left;\">50.37</td><td style = \"text-align: left;\">4.1036</td><td style = \"text-align: left;\">4.1339</td><td style = \"text-align: left;\">178.0954</td><td style = \"text-align: left;\">3.7515</td><td style = \"text-align: left;\">3.7515</td><td style = \"text-align: left;\">1.3688</td><td style = \"text-align: left;\">1.3708</td><td style = \"text-align: left;\">15.99</td><td style = \"text-align: left;\">16.015</td><td style = \"text-align: left;\">1182.71</td><td style = \"text-align: left;\">1187.7</td><td style = \"text-align: left;\">NA</td><td style = \"text-align: left;\">147.8067</td><td style = \"text-align: left;\">9.0763</td><td style = \"text-align: left;\">9.0725</td><td style = \"text-align: left;\">0.9212</td><td style = \"text-align: left;\">0.9252</td><td style = \"text-align: left;\">27.75</td><td style = \"text-align: left;\">27.8</td><td style = \"text-align: left;\">33.71001</td><td style = \"text-align: left;\">33.69</td><td style = \"text-align: left;\">13.4732</td><td style = \"text-align: left;\">13.2196</td><td style = \"text-align: left;\">3.6727</td><td style = \"text-align: left;\">3.6727</td><td style = \"text-align: left;\">1.3239</td><td style = \"text-align: right;\">1.3228</td></tr><tr><td class = \"rowNumber\" style = \"font-weight: bold; text-align: right;\">552</td><td style = \"text-align: left;\">31/12/2021</td><td style = \"text-align: left;\">1.3757</td><td style = \"text-align: left;\">0.7269</td><td style = \"text-align: left;\">NA</td><td style = \"text-align: left;\">12.0991</td><td style = \"text-align: left;\">NA</td><td style = \"text-align: left;\">NA</td><td style = \"text-align: left;\">35.4699</td><td style = \"text-align: left;\">1.2654</td><td style = \"text-align: left;\">1.263</td><td style = \"text-align: left;\">7.7972</td><td style = \"text-align: left;\">7.7961</td><td style = \"text-align: left;\">21.849</td><td style = \"text-align: left;\">21.8456</td><td style = \"text-align: left;\">6.5347</td><td style = \"text-align: left;\">6.5396</td><td style = \"text-align: left;\">1.1371</td><td style = \"text-align: left;\">5.2279</td><td style = \"text-align: left;\">5.7633</td><td style = \"text-align: left;\">5.7677</td><td style = \"text-align: left;\">1.7184</td><td style = \"text-align: left;\">1.7197</td><td style = \"text-align: left;\">299.613</td><td style = \"text-align: left;\">324.48</td><td style = \"text-align: left;\">323.9515</td><td style = \"text-align: left;\">74.3295</td><td style = \"text-align: left;\">14250</td><td style = \"text-align: left;\">14250</td><td style = \"text-align: left;\">1.116</td><td style = \"text-align: left;\">1.4438</td><td style = \"text-align: left;\">1701.23</td><td style = \"text-align: left;\">1702.515</td><td style = \"text-align: left;\">115.088</td><td style = \"text-align: left;\">115.14</td><td style = \"text-align: left;\">0.30213</td><td style = \"text-align: left;\">0.3018</td><td style = \"text-align: left;\">NA</td><td style = \"text-align: left;\">4.164</td><td style = \"text-align: left;\">20.4612</td><td style = \"text-align: left;\">1.9362</td><td style = \"text-align: left;\">1.9377</td><td style = \"text-align: left;\">1.4605</td><td style = \"text-align: left;\">0.6843</td><td style = \"text-align: left;\">8.8079</td><td style = \"text-align: left;\">8.8159</td><td style = \"text-align: left;\">50.99001</td><td style = \"text-align: left;\">50.975</td><td style = \"text-align: left;\">4.0315</td><td style = \"text-align: left;\">4.0292</td><td style = \"text-align: left;\">176.2789</td><td style = \"text-align: left;\">3.7538</td><td style = \"text-align: left;\">3.7538</td><td style = \"text-align: left;\">1.3484</td><td style = \"text-align: left;\">1.3478</td><td style = \"text-align: left;\">15.9384</td><td style = \"text-align: left;\">15.9538</td><td style = \"text-align: left;\">1187.96</td><td style = \"text-align: left;\">1188.6</td><td style = \"text-align: left;\">NA</td><td style = \"text-align: left;\">146.2991</td><td style = \"text-align: left;\">9.0415</td><td style = \"text-align: left;\">9.0519</td><td style = \"text-align: left;\">0.9116</td><td style = \"text-align: left;\">0.911</td><td style = \"text-align: left;\">27.63</td><td style = \"text-align: left;\">27.657</td><td style = \"text-align: left;\">33.23</td><td style = \"text-align: left;\">33.3989</td><td style = \"text-align: left;\">13.3161</td><td style = \"text-align: left;\">13.2415</td><td style = \"text-align: left;\">3.6726</td><td style = \"text-align: left;\">3.6726</td><td style = \"text-align: left;\">1.3535</td><td style = \"text-align: right;\">1.3542</td></tr></tbody></table></div>"
      ],
      "text/latex": [
       "\\begin{tabular}{r|cccccccccccc}\n",
       "\t& date & BBAUDSP & AUSTDO\\$ & MBATSSP & AUSTSC\\$ & BBBELSP & NBBECSP & BELGLU\\$ & BBCADSP & CNDOLL\\$ & BBHKDSP & \\\\\n",
       "\t\\hline\n",
       "\t& String15 & String7 & String7 & String7 & String7 & String7 & String7 & String7 & String7 & String7 & String7 & \\\\\n",
       "\t\\hline\n",
       "\t1 & 31/01/1976 & NA & NA & NA & NA & NA & NA & NA & NA & NA & NA & $\\dots$ \\\\\n",
       "\t2 & 27/02/1976 & NA & NA & NA & NA & NA & NA & NA & NA & NA & NA & $\\dots$ \\\\\n",
       "\t3 & 31/03/1976 & NA & NA & NA & NA & NA & NA & NA & NA & NA & NA & $\\dots$ \\\\\n",
       "\t4 & 30/04/1976 & NA & NA & NA & NA & NA & NA & NA & NA & NA & NA & $\\dots$ \\\\\n",
       "\t5 & 31/05/1976 & NA & NA & NA & NA & NA & NA & NA & NA & NA & NA & $\\dots$ \\\\\n",
       "\t6 & 30/06/1976 & NA & NA & NA & NA & NA & NA & NA & NA & NA & NA & $\\dots$ \\\\\n",
       "\t7 & 30/07/1976 & NA & NA & NA & NA & NA & NA & NA & NA & NA & NA & $\\dots$ \\\\\n",
       "\t8 & 31/08/1976 & NA & NA & NA & NA & NA & NA & NA & NA & NA & NA & $\\dots$ \\\\\n",
       "\t9 & 30/09/1976 & NA & NA & NA & NA & NA & NA & NA & NA & NA & NA & $\\dots$ \\\\\n",
       "\t10 & 29/10/1976 & NA & NA & NA & NA & NA & NA & NA & NA & NA & NA & $\\dots$ \\\\\n",
       "\t11 & 30/11/1976 & NA & NA & NA & NA & NA & NA & NA & NA & NA & NA & $\\dots$ \\\\\n",
       "\t12 & 31/12/1976 & NA & NA & NA & NA & NA & NA & NA & NA & NA & NA & $\\dots$ \\\\\n",
       "\t13 & 31/01/1977 & NA & NA & NA & NA & NA & NA & NA & NA & NA & NA & $\\dots$ \\\\\n",
       "\t14 & 28/02/1977 & NA & NA & NA & NA & NA & NA & NA & NA & NA & NA & $\\dots$ \\\\\n",
       "\t15 & 31/03/1977 & NA & NA & NA & NA & NA & NA & NA & NA & NA & NA & $\\dots$ \\\\\n",
       "\t16 & 29/04/1977 & NA & NA & NA & NA & NA & NA & NA & NA & NA & NA & $\\dots$ \\\\\n",
       "\t17 & 31/05/1977 & NA & NA & NA & NA & NA & NA & NA & NA & NA & NA & $\\dots$ \\\\\n",
       "\t18 & 30/06/1977 & NA & NA & NA & NA & NA & NA & NA & NA & NA & NA & $\\dots$ \\\\\n",
       "\t19 & 29/07/1977 & NA & NA & NA & NA & NA & NA & NA & NA & NA & NA & $\\dots$ \\\\\n",
       "\t20 & 31/08/1977 & NA & NA & NA & NA & NA & NA & NA & NA & NA & NA & $\\dots$ \\\\\n",
       "\t21 & 30/09/1977 & NA & NA & NA & NA & NA & NA & NA & NA & NA & NA & $\\dots$ \\\\\n",
       "\t22 & 31/10/1977 & NA & NA & NA & NA & NA & NA & NA & NA & NA & NA & $\\dots$ \\\\\n",
       "\t23 & 30/11/1977 & NA & NA & NA & NA & NA & NA & NA & NA & NA & NA & $\\dots$ \\\\\n",
       "\t24 & 30/12/1977 & NA & NA & NA & NA & NA & NA & NA & NA & NA & NA & $\\dots$ \\\\\n",
       "\t$\\dots$ & $\\dots$ & $\\dots$ & $\\dots$ & $\\dots$ & $\\dots$ & $\\dots$ & $\\dots$ & $\\dots$ & $\\dots$ & $\\dots$ & $\\dots$ &  \\\\\n",
       "\\end{tabular}\n"
      ],
      "text/plain": [
       "\u001b[1m552×74 DataFrame\u001b[0m\n",
       "\u001b[1m Row \u001b[0m│\u001b[1m date       \u001b[0m\u001b[1m BBAUDSP \u001b[0m\u001b[1m AUSTDO$ \u001b[0m\u001b[1m MBATSSP \u001b[0m\u001b[1m AUSTSC$ \u001b[0m\u001b[1m BBBELSP \u001b[0m\u001b[1m NBBECSP \u001b[0m\u001b[1m BELGLU$ \u001b[0m\u001b[1m BBCADSP \u001b[0m\u001b[1m CNDOLL\u001b[0m ⋯\n",
       "     │\u001b[90m String15   \u001b[0m\u001b[90m String7 \u001b[0m\u001b[90m String7 \u001b[0m\u001b[90m String7 \u001b[0m\u001b[90m String7 \u001b[0m\u001b[90m String7 \u001b[0m\u001b[90m String7 \u001b[0m\u001b[90m String7 \u001b[0m\u001b[90m String7 \u001b[0m\u001b[90m String\u001b[0m ⋯\n",
       "─────┼─────────────────────────────────────────────────────────────────────────────────────────────\n",
       "   1 │ 31/01/1976  NA       NA       NA       NA       NA       NA       NA       NA       NA     ⋯\n",
       "   2 │ 27/02/1976  NA       NA       NA       NA       NA       NA       NA       NA       NA\n",
       "   3 │ 31/03/1976  NA       NA       NA       NA       NA       NA       NA       NA       NA\n",
       "   4 │ 30/04/1976  NA       NA       NA       NA       NA       NA       NA       NA       NA\n",
       "   5 │ 31/05/1976  NA       NA       NA       NA       NA       NA       NA       NA       NA     ⋯\n",
       "   6 │ 30/06/1976  NA       NA       NA       NA       NA       NA       NA       NA       NA\n",
       "   7 │ 30/07/1976  NA       NA       NA       NA       NA       NA       NA       NA       NA\n",
       "   8 │ 31/08/1976  NA       NA       NA       NA       NA       NA       NA       NA       NA\n",
       "  ⋮  │     ⋮          ⋮        ⋮        ⋮        ⋮        ⋮        ⋮        ⋮        ⋮        ⋮   ⋱\n",
       " 546 │ 30/06/2021  1.3336   0.7506   NA       11.6023  NA       NA       34.0134  1.2404   1.2381 ⋯\n",
       " 547 │ 30/07/2021  1.362    0.7349   NA       11.6033  NA       NA       34.0163  1.2475   1.2482\n",
       " 548 │ 31/08/2021  1.3674   0.7307   NA       11.6553  NA       NA       34.169   1.2623   1.2635\n",
       " 549 │ 30/09/2021  1.3852   0.7222   NA       11.8715  NA       NA       34.8028  1.269    1.2667\n",
       " 550 │ 29/10/2021  1.3305   0.7509   NA       11.889   NA       NA       34.8539  1.2392   1.2394 ⋯\n",
       " 551 │ 30/11/2021  1.4104   0.7089   NA       12.2238  NA       NA       35.8354  1.281    1.2826\n",
       " 552 │ 31/12/2021  1.3757   0.7269   NA       12.0991  NA       NA       35.4699  1.2654   1.263\n",
       "\u001b[36m                                                                    65 columns and 537 rows omitted\u001b[0m"
      ]
     },
     "metadata": {},
     "output_type": "display_data"
    }
   ],
   "source": [
    "python_data[\"spot_bid\"]"
   ]
  },
  {
   "cell_type": "code",
   "execution_count": 71,
   "metadata": {},
   "outputs": [
    {
     "data": {
      "text/plain": [
       "216"
      ]
     },
     "metadata": {},
     "output_type": "display_data"
    }
   ],
   "source": [
    "findfirst(==(\"31/12/1993\"), python_data[\"spot_ask\"].date)"
   ]
  },
  {
   "cell_type": "code",
   "execution_count": 67,
   "metadata": {},
   "outputs": [
    {
     "data": {
      "text/html": [
       "<div><div style = \"float: left;\"><span>1×74 DataFrame</span></div><div style = \"clear: both;\"></div></div><div class = \"data-frame\" style = \"overflow-x: scroll;\"><table class = \"data-frame\" style = \"margin-bottom: 6px;\"><thead><tr class = \"header\"><th class = \"rowNumber\" style = \"font-weight: bold; text-align: right;\">Row</th><th style = \"text-align: left;\">date</th><th style = \"text-align: left;\">BBAUDSP</th><th style = \"text-align: left;\">AUSTDO$</th><th style = \"text-align: left;\">MBATSSP</th><th style = \"text-align: left;\">AUSTSC$</th><th style = \"text-align: left;\">BBBELSP</th><th style = \"text-align: left;\">NBBECSP</th><th style = \"text-align: left;\">BELGLU$</th><th style = \"text-align: left;\">BBCADSP</th><th style = \"text-align: left;\">CNDOLL$</th><th style = \"text-align: left;\">BBHKDSP</th><th style = \"text-align: left;\">HKDOLL$</th><th style = \"text-align: left;\">TDCZKSP</th><th style = \"text-align: left;\">CZECHC$</th><th style = \"text-align: left;\">BBDKKSP</th><th style = \"text-align: left;\">DANISH$</th><th style = \"text-align: left;\">USEURSP</th><th style = \"text-align: left;\">FINMAR$</th><th style = \"text-align: left;\">BBFRFSP</th><th style = \"text-align: left;\">FRENFR$</th><th style = \"text-align: left;\">BBDEMSP</th><th style = \"text-align: left;\">DMARKE$</th><th style = \"text-align: left;\">GREDRA$</th><th style = \"text-align: left;\">TDHUFSP</th><th style = \"text-align: left;\">HUNFOR$</th><th style = \"text-align: left;\">INDRUP$</th><th style = \"text-align: left;\">TDIDRSP</th><th style = \"text-align: left;\">INDORU$</th><th style = \"text-align: left;\">BBIEPSP</th><th style = \"text-align: left;\">IPUNTE$</th><th style = \"text-align: left;\">BBITLSP</th><th style = \"text-align: left;\">ITALIR$</th><th style = \"text-align: left;\">BBJPYSP</th><th style = \"text-align: left;\">JAPAYE$</th><th style = \"text-align: left;\">TDKWDSP</th><th style = \"text-align: left;\">KUWADI$</th><th style = \"text-align: left;\">BBMYRSP</th><th style = \"text-align: left;\">MALADL$</th><th style = \"text-align: left;\">MEXPES$</th><th style = \"text-align: left;\">BBNLGSP</th><th style = \"text-align: left;\">GUILDE$</th><th style = \"text-align: left;\">BBNZDSP</th><th style = \"text-align: left;\">NZDOLL$</th><th style = \"text-align: left;\">BBNOKSP</th><th style = \"text-align: left;\">NORKRO$</th><th style = \"text-align: left;\">TDPHPSP</th><th style = \"text-align: left;\">PHILPE$</th><th style = \"text-align: left;\">TDPLNSP</th><th style = \"text-align: left;\">POLZLO$</th><th style = \"text-align: left;\">PORTES$</th><th style = \"text-align: left;\">TDSARSP</th><th style = \"text-align: left;\">SAUDRI$</th><th style = \"text-align: left;\">BBSGDSP</th><th style = \"text-align: left;\">SINGDO$</th><th style = \"text-align: left;\">BBZARSP</th><th style = \"text-align: left;\">COMRAN$</th><th style = \"text-align: left;\">TDKRWSP</th><th style = \"text-align: left;\">KORSWO$</th><th style = \"text-align: left;\">MBESPSP</th><th style = \"text-align: left;\">SPANPE$</th><th style = \"text-align: left;\">BBSEKSP</th><th style = \"text-align: left;\">SWEKRO$</th><th style = \"text-align: left;\">BBCHFSP</th><th style = \"text-align: left;\">SWISSF$</th><th style = \"text-align: left;\">U$NTDSP</th><th style = \"text-align: left;\">TAIWDO$</th><th style = \"text-align: left;\">TDTHBSP</th><th style = \"text-align: left;\">THABAH$</th><th style = \"text-align: left;\">TDTRYSP</th><th style = \"text-align: left;\">TURKLI$</th><th style = \"text-align: left;\">TDAEDSP</th><th style = \"text-align: left;\">UAEDIR$</th><th style = \"text-align: left;\">BBGBPSP</th><th style = \"text-align: left;\">USDOLLR</th></tr><tr class = \"subheader headerLastRow\"><th class = \"rowNumber\" style = \"font-weight: bold; text-align: right;\"></th><th title = \"String15\" style = \"text-align: left;\">String15</th><th title = \"String7\" style = \"text-align: left;\">String7</th><th title = \"String7\" style = \"text-align: left;\">String7</th><th title = \"String7\" style = \"text-align: left;\">String7</th><th title = \"String7\" style = \"text-align: left;\">String7</th><th title = \"String7\" style = \"text-align: left;\">String7</th><th title = \"String7\" style = \"text-align: left;\">String7</th><th title = \"String7\" style = \"text-align: left;\">String7</th><th title = \"String7\" style = \"text-align: left;\">String7</th><th title = \"String7\" style = \"text-align: left;\">String7</th><th title = \"String7\" style = \"text-align: left;\">String7</th><th title = \"String7\" style = \"text-align: left;\">String7</th><th title = \"String15\" style = \"text-align: left;\">String15</th><th title = \"String7\" style = \"text-align: left;\">String7</th><th title = \"String7\" style = \"text-align: left;\">String7</th><th title = \"String7\" style = \"text-align: left;\">String7</th><th title = \"String7\" style = \"text-align: left;\">String7</th><th title = \"String7\" style = \"text-align: left;\">String7</th><th title = \"String7\" style = \"text-align: left;\">String7</th><th title = \"String7\" style = \"text-align: left;\">String7</th><th title = \"String7\" style = \"text-align: left;\">String7</th><th title = \"String7\" style = \"text-align: left;\">String7</th><th title = \"String7\" style = \"text-align: left;\">String7</th><th title = \"String15\" style = \"text-align: left;\">String15</th><th title = \"String15\" style = \"text-align: left;\">String15</th><th title = \"String7\" style = \"text-align: left;\">String7</th><th title = \"String7\" style = \"text-align: left;\">String7</th><th title = \"String7\" style = \"text-align: left;\">String7</th><th title = \"String7\" style = \"text-align: left;\">String7</th><th title = \"String7\" style = \"text-align: left;\">String7</th><th title = \"String7\" style = \"text-align: left;\">String7</th><th title = \"String15\" style = \"text-align: left;\">String15</th><th title = \"String7\" style = \"text-align: left;\">String7</th><th title = \"String15\" style = \"text-align: left;\">String15</th><th title = \"String7\" style = \"text-align: left;\">String7</th><th title = \"String7\" style = \"text-align: left;\">String7</th><th title = \"String7\" style = \"text-align: left;\">String7</th><th title = \"String7\" style = \"text-align: left;\">String7</th><th title = \"String7\" style = \"text-align: left;\">String7</th><th title = \"String7\" style = \"text-align: left;\">String7</th><th title = \"String7\" style = \"text-align: left;\">String7</th><th title = \"String7\" style = \"text-align: left;\">String7</th><th title = \"String7\" style = \"text-align: left;\">String7</th><th title = \"String7\" style = \"text-align: left;\">String7</th><th title = \"String7\" style = \"text-align: left;\">String7</th><th title = \"String15\" style = \"text-align: left;\">String15</th><th title = \"String7\" style = \"text-align: left;\">String7</th><th title = \"String7\" style = \"text-align: left;\">String7</th><th title = \"String7\" style = \"text-align: left;\">String7</th><th title = \"String15\" style = \"text-align: left;\">String15</th><th title = \"String7\" style = \"text-align: left;\">String7</th><th title = \"String7\" style = \"text-align: left;\">String7</th><th title = \"String7\" style = \"text-align: left;\">String7</th><th title = \"String7\" style = \"text-align: left;\">String7</th><th title = \"String7\" style = \"text-align: left;\">String7</th><th title = \"String7\" style = \"text-align: left;\">String7</th><th title = \"String15\" style = \"text-align: left;\">String15</th><th title = \"String7\" style = \"text-align: left;\">String7</th><th title = \"String7\" style = \"text-align: left;\">String7</th><th title = \"String15\" style = \"text-align: left;\">String15</th><th title = \"String7\" style = \"text-align: left;\">String7</th><th title = \"String7\" style = \"text-align: left;\">String7</th><th title = \"String7\" style = \"text-align: left;\">String7</th><th title = \"String7\" style = \"text-align: left;\">String7</th><th title = \"String7\" style = \"text-align: left;\">String7</th><th title = \"String7\" style = \"text-align: left;\">String7</th><th title = \"String15\" style = \"text-align: left;\">String15</th><th title = \"String15\" style = \"text-align: left;\">String15</th><th title = \"String7\" style = \"text-align: left;\">String7</th><th title = \"String7\" style = \"text-align: left;\">String7</th><th title = \"String7\" style = \"text-align: left;\">String7</th><th title = \"String7\" style = \"text-align: left;\">String7</th><th title = \"String7\" style = \"text-align: left;\">String7</th><th title = \"Float64\" style = \"text-align: left;\">Float64</th></tr></thead><tbody><tr><td class = \"rowNumber\" style = \"font-weight: bold; text-align: right;\">1</td><td style = \"text-align: left;\">31/12/1993</td><td style = \"text-align: left;\">1.4727</td><td style = \"text-align: left;\">0.679</td><td style = \"text-align: left;\">12.205</td><td style = \"text-align: left;\">12.195</td><td style = \"text-align: left;\">0</td><td style = \"text-align: left;\">36.25</td><td style = \"text-align: left;\">36.186</td><td style = \"text-align: left;\">1.3243</td><td style = \"text-align: left;\">1.3243</td><td style = \"text-align: left;\">7.729</td><td style = \"text-align: left;\">7.728</td><td style = \"text-align: left;\">30.03999</td><td style = \"text-align: left;\">NA</td><td style = \"text-align: left;\">6.7688</td><td style = \"text-align: left;\">6.7999</td><td style = \"text-align: left;\">NA</td><td style = \"text-align: left;\">5.8012</td><td style = \"text-align: left;\">5.9045</td><td style = \"text-align: left;\">5.906</td><td style = \"text-align: left;\">1.74</td><td style = \"text-align: left;\">1.737</td><td style = \"text-align: left;\">249.6</td><td style = \"text-align: left;\">100.85</td><td style = \"text-align: left;\">100.8</td><td style = \"text-align: left;\">31.3725</td><td style = \"text-align: left;\">2112</td><td style = \"text-align: left;\">2112</td><td style = \"text-align: left;\">1.413</td><td style = \"text-align: left;\">1.4099</td><td style = \"text-align: left;\">1717.3</td><td style = \"text-align: left;\">1713</td><td style = \"text-align: left;\">111.82</td><td style = \"text-align: left;\">111.63</td><td style = \"text-align: left;\">0.299</td><td style = \"text-align: left;\">0.299</td><td style = \"text-align: left;\">2.697</td><td style = \"text-align: left;\">2.6955</td><td style = \"text-align: left;\">3.107</td><td style = \"text-align: left;\">1.9419</td><td style = \"text-align: left;\">1.9428</td><td style = \"text-align: left;\">1.7927</td><td style = \"text-align: left;\">0.5597</td><td style = \"text-align: left;\">7.5175</td><td style = \"text-align: left;\">7.5218</td><td style = \"text-align: left;\">27.89999</td><td style = \"text-align: left;\">27.9</td><td style = \"text-align: left;\">2.15</td><td style = \"text-align: left;\">NA</td><td style = \"text-align: left;\">176.9</td><td style = \"text-align: left;\">3.752</td><td style = \"text-align: left;\">3.752</td><td style = \"text-align: left;\">1.609</td><td style = \"text-align: left;\">1.61</td><td style = \"text-align: left;\">3.399</td><td style = \"text-align: left;\">3.3985</td><td style = \"text-align: left;\">807.2</td><td style = \"text-align: left;\">807.2</td><td style = \"text-align: left;\">143.35</td><td style = \"text-align: left;\">143.05</td><td style = \"text-align: left;\">8.3327</td><td style = \"text-align: left;\">8.3402</td><td style = \"text-align: left;\">1.4852</td><td style = \"text-align: left;\">1.4855</td><td style = \"text-align: left;\">26.72</td><td style = \"text-align: left;\">26.63</td><td style = \"text-align: left;\">25.53</td><td style = \"text-align: left;\">25.56</td><td style = \"text-align: left;\">0.01494</td><td style = \"text-align: left;\">0.01494</td><td style = \"text-align: left;\">3.673</td><td style = \"text-align: left;\">NA</td><td style = \"text-align: left;\">1.479</td><td style = \"text-align: right;\">1.48</td></tr></tbody></table></div>"
      ],
      "text/latex": [
       "\\begin{tabular}{r|cccccccccccc}\n",
       "\t& date & BBAUDSP & AUSTDO\\$ & MBATSSP & AUSTSC\\$ & BBBELSP & NBBECSP & BELGLU\\$ & BBCADSP & CNDOLL\\$ & BBHKDSP & \\\\\n",
       "\t\\hline\n",
       "\t& String15 & String7 & String7 & String7 & String7 & String7 & String7 & String7 & String7 & String7 & String7 & \\\\\n",
       "\t\\hline\n",
       "\t1 & 31/12/1993 & 1.4727 & 0.679 & 12.205 & 12.195 & 0 & 36.25 & 36.186 & 1.3243 & 1.3243 & 7.729 & $\\dots$ \\\\\n",
       "\\end{tabular}\n"
      ],
      "text/plain": [
       "\u001b[1m1×74 DataFrame\u001b[0m\n",
       "\u001b[1m Row \u001b[0m│\u001b[1m date       \u001b[0m\u001b[1m BBAUDSP \u001b[0m\u001b[1m AUSTDO$ \u001b[0m\u001b[1m MBATSSP \u001b[0m\u001b[1m AUSTSC$ \u001b[0m\u001b[1m BBBELSP \u001b[0m\u001b[1m NBBECSP \u001b[0m\u001b[1m BELGLU$ \u001b[0m\u001b[1m BBCADSP \u001b[0m\u001b[1m CNDOLL\u001b[0m ⋯\n",
       "     │\u001b[90m String15   \u001b[0m\u001b[90m String7 \u001b[0m\u001b[90m String7 \u001b[0m\u001b[90m String7 \u001b[0m\u001b[90m String7 \u001b[0m\u001b[90m String7 \u001b[0m\u001b[90m String7 \u001b[0m\u001b[90m String7 \u001b[0m\u001b[90m String7 \u001b[0m\u001b[90m String\u001b[0m ⋯\n",
       "─────┼─────────────────────────────────────────────────────────────────────────────────────────────\n",
       "   1 │ 31/12/1993  1.4727   0.679    12.205   12.195   0        36.25    36.186   1.3243   1.3243 ⋯\n",
       "\u001b[36m                                                                                 65 columns omitted\u001b[0m"
      ]
     },
     "metadata": {},
     "output_type": "display_data"
    }
   ],
   "source": [
    "python_data[\"spot_ask\"][python_data[\"spot_ask\"].date .== \"31/12/1993\", :]"
   ]
  },
  {
   "cell_type": "code",
   "execution_count": 46,
   "metadata": {},
   "outputs": [
    {
     "data": {
      "text/plain": [
       "(12256,)"
      ]
     },
     "metadata": {},
     "output_type": "display_data"
    }
   ],
   "source": [
    "size(mask)"
   ]
  },
  {
   "cell_type": "code",
   "execution_count": 47,
   "metadata": {},
   "outputs": [
    {
     "data": {
      "text/html": [
       "<div><div style = \"float: left;\"><span>1196×8 DataFrame</span></div><div style = \"float: right;\"><span style = \"font-style: italic;\">1171 rows omitted</span></div><div style = \"clear: both;\"></div></div><div class = \"data-frame\" style = \"overflow-x: scroll;\"><table class = \"data-frame\" style = \"margin-bottom: 6px;\"><thead><tr class = \"header\"><th class = \"rowNumber\" style = \"font-weight: bold; text-align: right;\">Row</th><th style = \"text-align: left;\">curr</th><th style = \"text-align: left;\">date</th><th style = \"text-align: left;\">spot_bid</th><th style = \"text-align: left;\">spot_mid</th><th style = \"text-align: left;\">spot_ask</th><th style = \"text-align: left;\">for_bid</th><th style = \"text-align: left;\">for_mid</th><th style = \"text-align: left;\">for_ask</th></tr><tr class = \"subheader headerLastRow\"><th class = \"rowNumber\" style = \"font-weight: bold; text-align: right;\"></th><th title = \"String3\" style = \"text-align: left;\">String3</th><th title = \"Dates.Date\" style = \"text-align: left;\">Date</th><th title = \"Union{Missing, Float64}\" style = \"text-align: left;\">Float64?</th><th title = \"Union{Missing, Float64}\" style = \"text-align: left;\">Float64?</th><th title = \"Union{Missing, Float64}\" style = \"text-align: left;\">Float64?</th><th title = \"Union{Missing, Float64}\" style = \"text-align: left;\">Float64?</th><th title = \"Union{Missing, Float64}\" style = \"text-align: left;\">Float64?</th><th title = \"Union{Missing, Float64}\" style = \"text-align: left;\">Float64?</th></tr></thead><tbody><tr><td class = \"rowNumber\" style = \"font-weight: bold; text-align: right;\">1</td><td style = \"text-align: left;\">AUD</td><td style = \"text-align: left;\">1993-12-31</td><td style = \"text-align: right;\">1.47275</td><td style = \"text-align: right;\">1.47319</td><td style = \"text-align: right;\">1.47384</td><td style = \"text-align: right;\">1.472</td><td style = \"text-align: right;\">1.474</td><td style = \"text-align: right;\">1.475</td></tr><tr><td class = \"rowNumber\" style = \"font-weight: bold; text-align: right;\">2</td><td style = \"text-align: left;\">AUD</td><td style = \"text-align: left;\">1994-01-31</td><td style = \"text-align: right;\">1.40944</td><td style = \"text-align: right;\">1.40984</td><td style = \"text-align: right;\">1.41044</td><td style = \"text-align: right;\">1.4108</td><td style = \"text-align: right;\">1.4119</td><td style = \"text-align: right;\">1.413</td></tr><tr><td class = \"rowNumber\" style = \"font-weight: bold; text-align: right;\">3</td><td style = \"text-align: left;\">AUD</td><td style = \"text-align: left;\">1994-02-28</td><td style = \"text-align: right;\">1.40252</td><td style = \"text-align: right;\">1.40292</td><td style = \"text-align: right;\">1.40351</td><td style = \"text-align: right;\">1.4045</td><td style = \"text-align: right;\">1.4057</td><td style = \"text-align: right;\">1.4069</td></tr><tr><td class = \"rowNumber\" style = \"font-weight: bold; text-align: right;\">4</td><td style = \"text-align: left;\">AUD</td><td style = \"text-align: left;\">1994-03-31</td><td style = \"text-align: right;\">1.42552</td><td style = \"text-align: right;\">1.42653</td><td style = \"text-align: right;\">1.42755</td><td style = \"text-align: right;\">1.4267</td><td style = \"text-align: right;\">1.4279</td><td style = \"text-align: right;\">1.4292</td></tr><tr><td class = \"rowNumber\" style = \"font-weight: bold; text-align: right;\">5</td><td style = \"text-align: left;\">AUD</td><td style = \"text-align: left;\">1994-04-30</td><td style = \"text-align: right;\">1.40115</td><td style = \"text-align: right;\">1.40154</td><td style = \"text-align: right;\">1.40213</td><td style = \"text-align: right;\">1.3994</td><td style = \"text-align: right;\">1.4005</td><td style = \"text-align: right;\">1.4015</td></tr><tr><td class = \"rowNumber\" style = \"font-weight: bold; text-align: right;\">6</td><td style = \"text-align: left;\">AUD</td><td style = \"text-align: left;\">1994-05-31</td><td style = \"text-align: right;\">1.3541</td><td style = \"text-align: right;\">1.35446</td><td style = \"text-align: right;\">1.35501</td><td style = \"text-align: right;\">1.354</td><td style = \"text-align: right;\">1.355</td><td style = \"text-align: right;\">1.356</td></tr><tr><td class = \"rowNumber\" style = \"font-weight: bold; text-align: right;\">7</td><td style = \"text-align: left;\">AUD</td><td style = \"text-align: left;\">1994-06-30</td><td style = \"text-align: right;\">1.36818</td><td style = \"text-align: right;\">1.36855</td><td style = \"text-align: right;\">1.36911</td><td style = \"text-align: right;\">1.3682</td><td style = \"text-align: right;\">1.3693</td><td style = \"text-align: right;\">1.3704</td></tr><tr><td class = \"rowNumber\" style = \"font-weight: bold; text-align: right;\">8</td><td style = \"text-align: left;\">AUD</td><td style = \"text-align: left;\">1994-07-31</td><td style = \"text-align: right;\">1.35281</td><td style = \"text-align: right;\">1.35318</td><td style = \"text-align: right;\">1.35373</td><td style = \"text-align: right;\">1.3521</td><td style = \"text-align: right;\">1.3532</td><td style = \"text-align: right;\">1.3543</td></tr><tr><td class = \"rowNumber\" style = \"font-weight: bold; text-align: right;\">9</td><td style = \"text-align: left;\">AUD</td><td style = \"text-align: left;\">1994-08-31</td><td style = \"text-align: right;\">1.34282</td><td style = \"text-align: right;\">1.34318</td><td style = \"text-align: right;\">1.34372</td><td style = \"text-align: right;\">1.343</td><td style = \"text-align: right;\">1.344</td><td style = \"text-align: right;\">1.346</td></tr><tr><td class = \"rowNumber\" style = \"font-weight: bold; text-align: right;\">10</td><td style = \"text-align: left;\">AUD</td><td style = \"text-align: left;\">1994-09-30</td><td style = \"text-align: right;\">1.35099</td><td style = \"text-align: right;\">1.35135</td><td style = \"text-align: right;\">1.35172</td><td style = \"text-align: right;\">1.3508</td><td style = \"text-align: right;\">1.352</td><td style = \"text-align: right;\">1.3532</td></tr><tr><td class = \"rowNumber\" style = \"font-weight: bold; text-align: right;\">11</td><td style = \"text-align: left;\">AUD</td><td style = \"text-align: left;\">1994-10-31</td><td style = \"text-align: right;\">1.34698</td><td style = \"text-align: right;\">1.34735</td><td style = \"text-align: right;\">1.34789</td><td style = \"text-align: right;\">1.3484</td><td style = \"text-align: right;\">1.3496</td><td style = \"text-align: right;\">1.3508</td></tr><tr><td class = \"rowNumber\" style = \"font-weight: bold; text-align: right;\">12</td><td style = \"text-align: left;\">AUD</td><td style = \"text-align: left;\">1994-11-30</td><td style = \"text-align: right;\">1.30039</td><td style = \"text-align: right;\">1.30124</td><td style = \"text-align: right;\">1.30208</td><td style = \"text-align: right;\">1.3012</td><td style = \"text-align: right;\">1.3023</td><td style = \"text-align: right;\">1.3034</td></tr><tr><td class = \"rowNumber\" style = \"font-weight: bold; text-align: right;\">13</td><td style = \"text-align: left;\">AUD</td><td style = \"text-align: left;\">1994-12-31</td><td style = \"text-align: right;\">1.28883</td><td style = \"text-align: right;\">1.28916</td><td style = \"text-align: right;\">1.28966</td><td style = \"text-align: right;\">1.2895</td><td style = \"text-align: right;\">1.2906</td><td style = \"text-align: right;\">1.2916</td></tr><tr><td style = \"text-align: right;\">&vellip;</td><td style = \"text-align: right;\">&vellip;</td><td style = \"text-align: right;\">&vellip;</td><td style = \"text-align: right;\">&vellip;</td><td style = \"text-align: right;\">&vellip;</td><td style = \"text-align: right;\">&vellip;</td><td style = \"text-align: right;\">&vellip;</td><td style = \"text-align: right;\">&vellip;</td><td style = \"text-align: right;\">&vellip;</td></tr><tr><td class = \"rowNumber\" style = \"font-weight: bold; text-align: right;\">1185</td><td style = \"text-align: left;\">NZD</td><td style = \"text-align: left;\">2021-01-31</td><td style = \"text-align: right;\">1.38715</td><td style = \"text-align: right;\">1.38754</td><td style = \"text-align: right;\">1.38793</td><td style = \"text-align: right;\">1.38714</td><td style = \"text-align: right;\">1.38754</td><td style = \"text-align: right;\">1.38794</td></tr><tr><td class = \"rowNumber\" style = \"font-weight: bold; text-align: right;\">1186</td><td style = \"text-align: left;\">NZD</td><td style = \"text-align: left;\">2021-02-28</td><td style = \"text-align: right;\">1.37495</td><td style = \"text-align: right;\">1.37533</td><td style = \"text-align: right;\">1.37571</td><td style = \"text-align: right;\">1.37493</td><td style = \"text-align: right;\">1.37533</td><td style = \"text-align: right;\">1.37574</td></tr><tr><td class = \"rowNumber\" style = \"font-weight: bold; text-align: right;\">1187</td><td style = \"text-align: left;\">NZD</td><td style = \"text-align: left;\">2021-03-31</td><td style = \"text-align: right;\">1.42735</td><td style = \"text-align: right;\">1.42786</td><td style = \"text-align: right;\">1.42837</td><td style = \"text-align: right;\">1.42741</td><td style = \"text-align: right;\">1.42794</td><td style = \"text-align: right;\">1.42847</td></tr><tr><td class = \"rowNumber\" style = \"font-weight: bold; text-align: right;\">1188</td><td style = \"text-align: left;\">NZD</td><td style = \"text-align: left;\">2021-04-30</td><td style = \"text-align: right;\">1.39334</td><td style = \"text-align: right;\">1.39373</td><td style = \"text-align: right;\">1.39412</td><td style = \"text-align: right;\">1.39346</td><td style = \"text-align: right;\">1.39386</td><td style = \"text-align: right;\">1.39429</td></tr><tr><td class = \"rowNumber\" style = \"font-weight: bold; text-align: right;\">1189</td><td style = \"text-align: left;\">NZD</td><td style = \"text-align: left;\">2021-05-31</td><td style = \"text-align: right;\">1.37325</td><td style = \"text-align: right;\">1.37363</td><td style = \"text-align: right;\">1.374</td><td style = \"text-align: right;\">1.37331</td><td style = \"text-align: right;\">1.3737</td><td style = \"text-align: right;\">1.37412</td></tr><tr><td class = \"rowNumber\" style = \"font-weight: bold; text-align: right;\">1190</td><td style = \"text-align: left;\">NZD</td><td style = \"text-align: left;\">2021-06-30</td><td style = \"text-align: right;\">1.43062</td><td style = \"text-align: right;\">1.43113</td><td style = \"text-align: right;\">1.43164</td><td style = \"text-align: right;\">1.43066</td><td style = \"text-align: right;\">1.43119</td><td style = \"text-align: right;\">1.43174</td></tr><tr><td class = \"rowNumber\" style = \"font-weight: bold; text-align: right;\">1191</td><td style = \"text-align: left;\">NZD</td><td style = \"text-align: left;\">2021-07-31</td><td style = \"text-align: right;\">1.43225</td><td style = \"text-align: right;\">1.43277</td><td style = \"text-align: right;\">1.43328</td><td style = \"text-align: right;\">1.43234</td><td style = \"text-align: right;\">1.43287</td><td style = \"text-align: right;\">1.4334</td></tr><tr><td class = \"rowNumber\" style = \"font-weight: bold; text-align: right;\">1192</td><td style = \"text-align: left;\">NZD</td><td style = \"text-align: left;\">2021-08-31</td><td style = \"text-align: right;\">1.42025</td><td style = \"text-align: right;\">1.42076</td><td style = \"text-align: right;\">1.42126</td><td style = \"text-align: right;\">1.42023</td><td style = \"text-align: right;\">1.42076</td><td style = \"text-align: right;\">1.4213</td></tr><tr><td class = \"rowNumber\" style = \"font-weight: bold; text-align: right;\">1193</td><td style = \"text-align: left;\">NZD</td><td style = \"text-align: left;\">2021-09-30</td><td style = \"text-align: right;\">1.44886</td><td style = \"text-align: right;\">1.44959</td><td style = \"text-align: right;\">1.45033</td><td style = \"text-align: right;\">1.44909</td><td style = \"text-align: right;\">1.44984</td><td style = \"text-align: right;\">1.45058</td></tr><tr><td class = \"rowNumber\" style = \"font-weight: bold; text-align: right;\">1194</td><td style = \"text-align: left;\">NZD</td><td style = \"text-align: left;\">2021-10-31</td><td style = \"text-align: right;\">1.39684</td><td style = \"text-align: right;\">1.39733</td><td style = \"text-align: right;\">1.39782</td><td style = \"text-align: right;\">1.39739</td><td style = \"text-align: right;\">1.3979</td><td style = \"text-align: right;\">1.39841</td></tr><tr><td class = \"rowNumber\" style = \"font-weight: bold; text-align: right;\">1195</td><td style = \"text-align: left;\">NZD</td><td style = \"text-align: left;\">2021-11-30</td><td style = \"text-align: right;\">1.47297</td><td style = \"text-align: right;\">1.47341</td><td style = \"text-align: right;\">1.47384</td><td style = \"text-align: right;\">1.47341</td><td style = \"text-align: right;\">1.4739</td><td style = \"text-align: right;\">1.4744</td></tr><tr><td class = \"rowNumber\" style = \"font-weight: bold; text-align: right;\">1196</td><td style = \"text-align: left;\">NZD</td><td style = \"text-align: left;\">2021-12-31</td><td style = \"text-align: right;\">1.45985</td><td style = \"text-align: right;\">1.4606</td><td style = \"text-align: right;\">1.46135</td><td style = \"text-align: right;\">1.46037</td><td style = \"text-align: right;\">1.46118</td><td style = \"text-align: right;\">1.46197</td></tr></tbody></table></div>"
      ],
      "text/latex": [
       "\\begin{tabular}{r|cccccccc}\n",
       "\t& curr & date & spot\\_bid & spot\\_mid & spot\\_ask & for\\_bid & for\\_mid & for\\_ask\\\\\n",
       "\t\\hline\n",
       "\t& String3 & Date & Float64? & Float64? & Float64? & Float64? & Float64? & Float64?\\\\\n",
       "\t\\hline\n",
       "\t1 & AUD & 1993-12-31 & 1.47275 & 1.47319 & 1.47384 & 1.472 & 1.474 & 1.475 \\\\\n",
       "\t2 & AUD & 1994-01-31 & 1.40944 & 1.40984 & 1.41044 & 1.4108 & 1.4119 & 1.413 \\\\\n",
       "\t3 & AUD & 1994-02-28 & 1.40252 & 1.40292 & 1.40351 & 1.4045 & 1.4057 & 1.4069 \\\\\n",
       "\t4 & AUD & 1994-03-31 & 1.42552 & 1.42653 & 1.42755 & 1.4267 & 1.4279 & 1.4292 \\\\\n",
       "\t5 & AUD & 1994-04-30 & 1.40115 & 1.40154 & 1.40213 & 1.3994 & 1.4005 & 1.4015 \\\\\n",
       "\t6 & AUD & 1994-05-31 & 1.3541 & 1.35446 & 1.35501 & 1.354 & 1.355 & 1.356 \\\\\n",
       "\t7 & AUD & 1994-06-30 & 1.36818 & 1.36855 & 1.36911 & 1.3682 & 1.3693 & 1.3704 \\\\\n",
       "\t8 & AUD & 1994-07-31 & 1.35281 & 1.35318 & 1.35373 & 1.3521 & 1.3532 & 1.3543 \\\\\n",
       "\t9 & AUD & 1994-08-31 & 1.34282 & 1.34318 & 1.34372 & 1.343 & 1.344 & 1.346 \\\\\n",
       "\t10 & AUD & 1994-09-30 & 1.35099 & 1.35135 & 1.35172 & 1.3508 & 1.352 & 1.3532 \\\\\n",
       "\t11 & AUD & 1994-10-31 & 1.34698 & 1.34735 & 1.34789 & 1.3484 & 1.3496 & 1.3508 \\\\\n",
       "\t12 & AUD & 1994-11-30 & 1.30039 & 1.30124 & 1.30208 & 1.3012 & 1.3023 & 1.3034 \\\\\n",
       "\t13 & AUD & 1994-12-31 & 1.28883 & 1.28916 & 1.28966 & 1.2895 & 1.2906 & 1.2916 \\\\\n",
       "\t14 & AUD & 1995-01-31 & 1.32031 & 1.32066 & 1.32118 & 1.321 & 1.322 & 1.323 \\\\\n",
       "\t15 & AUD & 1995-02-28 & 1.35575 & 1.35612 & 1.35667 & 1.3567 & 1.3579 & 1.3591 \\\\\n",
       "\t16 & AUD & 1995-03-31 & 1.3624 & 1.36333 & 1.36426 & 1.3656 & 1.3668 & 1.368 \\\\\n",
       "\t17 & AUD & 1995-04-30 & 1.37363 & 1.374 & 1.37457 & 1.3751 & 1.3764 & 1.3776 \\\\\n",
       "\t18 & AUD & 1995-05-31 & 1.38889 & 1.38927 & 1.38985 & 1.3931 & 1.3944 & 1.3957 \\\\\n",
       "\t19 & AUD & 1995-06-30 & 1.41024 & 1.41064 & 1.41123 & 1.409 & 1.4103 & 1.4116 \\\\\n",
       "\t20 & AUD & 1995-07-31 & 1.35227 & 1.35263 & 1.35318 & 1.3532 & 1.3544 & 1.3556 \\\\\n",
       "\t21 & AUD & 1995-08-31 & 1.32784 & 1.3282 & 1.32873 & 1.3303 & 1.3315 & 1.3326 \\\\\n",
       "\t22 & AUD & 1995-09-30 & 1.32398 & 1.32485 & 1.32573 & 1.3243 & 1.3255 & 1.3266 \\\\\n",
       "\t23 & AUD & 1995-10-31 & 1.31423 & 1.31458 & 1.3151 & 1.3141 & 1.3152 & 1.3163 \\\\\n",
       "\t24 & AUD & 1995-11-30 & 1.34409 & 1.34499 & 1.3459 & 1.3455 & 1.3467 & 1.3479 \\\\\n",
       "\t$\\dots$ & $\\dots$ & $\\dots$ & $\\dots$ & $\\dots$ & $\\dots$ & $\\dots$ & $\\dots$ & $\\dots$ \\\\\n",
       "\\end{tabular}\n"
      ],
      "text/plain": [
       "\u001b[1m1196×8 DataFrame\u001b[0m\n",
       "\u001b[1m  Row \u001b[0m│\u001b[1m curr    \u001b[0m\u001b[1m date       \u001b[0m\u001b[1m spot_bid \u001b[0m\u001b[1m spot_mid \u001b[0m\u001b[1m spot_ask \u001b[0m\u001b[1m for_bid  \u001b[0m\u001b[1m for_mid  \u001b[0m\u001b[1m for_ask  \u001b[0m\n",
       "      │\u001b[90m String3 \u001b[0m\u001b[90m Date       \u001b[0m\u001b[90m Float64? \u001b[0m\u001b[90m Float64? \u001b[0m\u001b[90m Float64? \u001b[0m\u001b[90m Float64? \u001b[0m\u001b[90m Float64? \u001b[0m\u001b[90m Float64? \u001b[0m\n",
       "──────┼─────────────────────────────────────────────────────────────────────────────────\n",
       "    1 │ AUD      1993-12-31   1.47275   1.47319   1.47384   1.472     1.474     1.475\n",
       "    2 │ AUD      1994-01-31   1.40944   1.40984   1.41044   1.4108    1.4119    1.413\n",
       "    3 │ AUD      1994-02-28   1.40252   1.40292   1.40351   1.4045    1.4057    1.4069\n",
       "    4 │ AUD      1994-03-31   1.42552   1.42653   1.42755   1.4267    1.4279    1.4292\n",
       "    5 │ AUD      1994-04-30   1.40115   1.40154   1.40213   1.3994    1.4005    1.4015\n",
       "    6 │ AUD      1994-05-31   1.3541    1.35446   1.35501   1.354     1.355     1.356\n",
       "    7 │ AUD      1994-06-30   1.36818   1.36855   1.36911   1.3682    1.3693    1.3704\n",
       "    8 │ AUD      1994-07-31   1.35281   1.35318   1.35373   1.3521    1.3532    1.3543\n",
       "  ⋮   │    ⋮         ⋮          ⋮         ⋮         ⋮         ⋮         ⋮         ⋮\n",
       " 1190 │ NZD      2021-06-30   1.43062   1.43113   1.43164   1.43066   1.43119   1.43174\n",
       " 1191 │ NZD      2021-07-31   1.43225   1.43277   1.43328   1.43234   1.43287   1.4334\n",
       " 1192 │ NZD      2021-08-31   1.42025   1.42076   1.42126   1.42023   1.42076   1.4213\n",
       " 1193 │ NZD      2021-09-30   1.44886   1.44959   1.45033   1.44909   1.44984   1.45058\n",
       " 1194 │ NZD      2021-10-31   1.39684   1.39733   1.39782   1.39739   1.3979    1.39841\n",
       " 1195 │ NZD      2021-11-30   1.47297   1.47341   1.47384   1.47341   1.4739    1.4744\n",
       " 1196 │ NZD      2021-12-31   1.45985   1.4606    1.46135   1.46037   1.46118   1.46197\n",
       "\u001b[36m                                                                       1181 rows omitted\u001b[0m"
      ]
     },
     "metadata": {},
     "output_type": "display_data"
    }
   ],
   "source": [
    "python_data_in[convert(Vector{Bool},mask),:]"
   ]
  },
  {
   "cell_type": "code",
   "execution_count": 39,
   "metadata": {},
   "outputs": [],
   "source": [
    "using StatsBase: countmap"
   ]
  },
  {
   "cell_type": "code",
   "execution_count": 42,
   "metadata": {},
   "outputs": [
    {
     "data": {
      "text/plain": [
       "12256-element Vector{Union{Missing, Bool}}:\n",
       " false\n",
       " false\n",
       " false\n",
       " false\n",
       " false\n",
       " false\n",
       " false\n",
       " false\n",
       " false\n",
       " false\n",
       "     ⋮\n",
       " false\n",
       " false\n",
       " false\n",
       " false\n",
       " false\n",
       " false\n",
       " false\n",
       " false\n",
       " false"
      ]
     },
     "metadata": {},
     "output_type": "display_data"
    }
   ],
   "source": [
    "xmask"
   ]
  },
  {
   "cell_type": "code",
   "execution_count": 40,
   "metadata": {},
   "outputs": [
    {
     "data": {
      "text/plain": [
       "Dict{Union{Missing, Bool}, Int64} with 2 entries:\n",
       "  false => 11060\n",
       "  true  => 1196"
      ]
     },
     "metadata": {},
     "output_type": "display_data"
    }
   ],
   "source": [
    "countmap(mask)"
   ]
  },
  {
   "attachments": {},
   "cell_type": "markdown",
   "metadata": {},
   "source": [
    "After much searching, I found that when I flipped american currency series from bid to ask, I saved the series under the FLIPPED name, so if I meant to calculate the bid series, I checked the ask series and saved it as an ask series, thus reversing the flip."
   ]
  },
  {
   "cell_type": "code",
   "execution_count": 3,
   "metadata": {},
   "outputs": [],
   "source": [
    "python_data_in = CSV.read(joinpath(old_python_combined_filestring_base, \"currencies.csv\"), DataFrame)\n",
    "julia_data_in = CSV.read(joinpath(new_julia_combined_filestring_base, \"currency_rates.csv\"), DataFrame);"
   ]
  },
  {
   "cell_type": "code",
   "execution_count": 5,
   "metadata": {},
   "outputs": [
    {
     "name": "stdout",
     "output_type": "stream",
     "text": [
      "spot_bid"
     ]
    },
    {
     "name": "stdout",
     "output_type": "stream",
     "text": [
      "\n",
      "true\n",
      "spot_mid\n",
      "true\n",
      "spot_ask\n",
      "true\n",
      "for_bid\n",
      "true\n",
      "for_mid\n",
      "true\n",
      "for_ask\n",
      "true\n"
     ]
    }
   ],
   "source": [
    "python_name_to_julia = Dict(\n",
    "    \"spot_bid\" => \"spot_bid\", \"spot_mid\" => \"spot_mid\", \"spot_ask\" => \"spot_ask\",\n",
    "    \"for_bid\" => \"forward_bid\", \"for_mid\" => \"forward_mid\", \"for_ask\" => \"forward_ask\",\n",
    ")\n",
    "\n",
    "for i in names(python_data_in)[3:end]\n",
    "    println(i)\n",
    "    println(isequal(python_data_in[:, i], julia_data_in[:, python_name_to_julia[i]]))\n",
    "end\n"
   ]
  },
  {
   "cell_type": "code",
   "execution_count": 76,
   "metadata": {},
   "outputs": [],
   "source": [
    "println(\"test\")"
   ]
  },
  {
   "attachments": {},
   "cell_type": "markdown",
   "metadata": {},
   "source": [
    "I got the two sets of factor outputs to match exactly."
   ]
  }
 ],
 "metadata": {
  "kernelspec": {
   "display_name": "Julia 1.8.5",
   "language": "julia",
   "name": "julia-1.8"
  },
  "language_info": {
   "file_extension": ".jl",
   "mimetype": "application/julia",
   "name": "julia",
   "version": "1.8.5"
  },
  "orig_nbformat": 4
 },
 "nbformat": 4,
 "nbformat_minor": 2
}
