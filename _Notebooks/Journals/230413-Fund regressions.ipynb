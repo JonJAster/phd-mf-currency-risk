{
 "cells": [
  {
   "cell_type": "markdown",
   "metadata": {},
   "source": [
    "Now I have the fund return data and factor data, so I can regress fund returns on factors."
   ]
  },
  {
   "cell_type": "code",
   "execution_count": 4,
   "metadata": {},
   "outputs": [
    {
     "ename": "ArgumentError",
     "evalue": "ArgumentError: \"../../data/prepared/equities/global_MKT.csv\" is not a valid file or doesn't exist",
     "output_type": "error",
     "traceback": [
      "ArgumentError: \"../../data/prepared/equities/global_MKT.csv\" is not a valid file or doesn't exist\n",
      "\n",
      "Stacktrace:\n",
      " [1] CSV.Context(source::CSV.Arg, header::CSV.Arg, normalizenames::CSV.Arg, datarow::CSV.Arg, skipto::CSV.Arg, footerskip::CSV.Arg, transpose::CSV.Arg, comment::CSV.Arg, ignoreemptyrows::CSV.Arg, ignoreemptylines::CSV.Arg, select::CSV.Arg, drop::CSV.Arg, limit::CSV.Arg, buffer_in_memory::CSV.Arg, threaded::CSV.Arg, ntasks::CSV.Arg, tasks::CSV.Arg, rows_to_check::CSV.Arg, lines_to_check::CSV.Arg, missingstrings::CSV.Arg, missingstring::CSV.Arg, delim::CSV.Arg, ignorerepeated::CSV.Arg, quoted::CSV.Arg, quotechar::CSV.Arg, openquotechar::CSV.Arg, closequotechar::CSV.Arg, escapechar::CSV.Arg, dateformat::CSV.Arg, dateformats::CSV.Arg, decimal::CSV.Arg, truestrings::CSV.Arg, falsestrings::CSV.Arg, stripwhitespace::CSV.Arg, type::CSV.Arg, types::CSV.Arg, typemap::CSV.Arg, pool::CSV.Arg, downcast::CSV.Arg, lazystrings::CSV.Arg, stringtype::CSV.Arg, strict::CSV.Arg, silencewarnings::CSV.Arg, maxwarnings::CSV.Arg, debug::CSV.Arg, parsingdebug::CSV.Arg, validate::CSV.Arg, streaming::CSV.Arg)\n",
      "   @ CSV C:\\Users\\ozboy\\.julia\\packages\\CSV\\b8ebJ\\src\\context.jl:306\n",
      " [2] #File#28\n",
      "   @ C:\\Users\\ozboy\\.julia\\packages\\CSV\\b8ebJ\\src\\file.jl:221 [inlined]\n",
      " [3] File\n",
      "   @ C:\\Users\\ozboy\\.julia\\packages\\CSV\\b8ebJ\\src\\file.jl:162 [inlined]\n",
      " [4] read(source::String, sink::Type; copycols::Bool, kwargs::Base.Pairs{Symbol, Union{}, Tuple{}, NamedTuple{(), Tuple{}}})\n",
      "   @ CSV C:\\Users\\ozboy\\.julia\\packages\\CSV\\b8ebJ\\src\\CSV.jl:117\n",
      " [5] read(source::String, sink::Type)\n",
      "   @ CSV C:\\Users\\ozboy\\.julia\\packages\\CSV\\b8ebJ\\src\\CSV.jl:113\n",
      " [6] top-level scope\n",
      "   @ c:\\Users\\ozboy\\OneDrive - The University of Queensland\\PHD\\Code\\Currency Exposure of Mutual Funds\\_Notebooks\\Journals\\230413-Fund regressions.ipynb:6"
     ]
    }
   ],
   "source": [
    "using DataFrames\n",
    "using CSV\n",
    "\n",
    "fund_data = CSV.read(\"../../data/transformed/mutual-funds/local-rets/mf_irl-bra.csv\", DataFrame)\n",
    "factor_data = CSV.read(\"../../data/prepared/equities/equity_factors.csv\", DataFrame)\n",
    "market_data = CSV.read(\"../../data/transformed/equities/global_MKT.csv\", DataFrame);"
   ]
  },
  {
   "cell_type": "code",
   "execution_count": 5,
   "metadata": {},
   "outputs": [
    {
     "data": {
      "text/html": [
       "<div><div style = \"float: left;\"><span>5×9 DataFrame</span></div><div style = \"clear: both;\"></div></div><div class = \"data-frame\" style = \"overflow-x: scroll;\"><table class = \"data-frame\" style = \"margin-bottom: 6px;\"><thead><tr class = \"header\"><th class = \"rowNumber\" style = \"font-weight: bold; text-align: right;\">Row</th><th style = \"text-align: left;\">fundid</th><th style = \"text-align: left;\">date</th><th style = \"text-align: left;\">ret_gross_m</th><th style = \"text-align: left;\">ret_net_m</th><th style = \"text-align: left;\">mean_costs</th><th style = \"text-align: left;\">approx_morningstar_category</th><th style = \"text-align: left;\">domicile</th><th style = \"text-align: left;\">fund_assets</th><th style = \"text-align: left;\">fund_flow</th></tr><tr class = \"subheader headerLastRow\"><th class = \"rowNumber\" style = \"font-weight: bold; text-align: right;\"></th><th title = \"String15\" style = \"text-align: left;\">String15</th><th title = \"Dates.Date\" style = \"text-align: left;\">Date</th><th title = \"Union{Missing, Float64}\" style = \"text-align: left;\">Float64?</th><th title = \"Union{Missing, Float64}\" style = \"text-align: left;\">Float64?</th><th title = \"Union{Missing, Float64}\" style = \"text-align: left;\">Float64?</th><th title = \"String\" style = \"text-align: left;\">String</th><th title = \"String3\" style = \"text-align: left;\">String3</th><th title = \"Union{Missing, Float64}\" style = \"text-align: left;\">Float64?</th><th title = \"Missing\" style = \"text-align: left;\">Missing</th></tr></thead><tbody><tr><td class = \"rowNumber\" style = \"font-weight: bold; text-align: right;\">1</td><td style = \"text-align: left;\">FS00008KZU</td><td style = \"text-align: left;\">2012-06-01</td><td style = \"text-align: right;\">1.53883</td><td style = \"text-align: right;\">1.33464</td><td style = \"text-align: right;\">0.20109</td><td style = \"text-align: left;\">Brazil Fund Allocation, 40% to 60% Equity</td><td style = \"text-align: left;\">BRA</td><td style = \"text-align: right;\">5.93701e6</td><td style = \"font-style: italic; text-align: right;\">missing</td></tr><tr><td class = \"rowNumber\" style = \"font-weight: bold; text-align: right;\">2</td><td style = \"text-align: left;\">FS00008KZU</td><td style = \"text-align: left;\">2012-07-01</td><td style = \"text-align: right;\">2.91596</td><td style = \"text-align: right;\">2.70901</td><td style = \"text-align: right;\">0.20109</td><td style = \"text-align: left;\">Brazil Fund Allocation, 40% to 60% Equity</td><td style = \"text-align: left;\">BRA</td><td style = \"text-align: right;\">7.00551e6</td><td style = \"font-style: italic; text-align: right;\">missing</td></tr><tr><td class = \"rowNumber\" style = \"font-weight: bold; text-align: right;\">3</td><td style = \"text-align: left;\">FS00008KZU</td><td style = \"text-align: left;\">2012-08-01</td><td style = \"text-align: right;\">-0.10734</td><td style = \"text-align: right;\">-0.30822</td><td style = \"text-align: right;\">0.20109</td><td style = \"text-align: left;\">Brazil Fund Allocation, 40% to 60% Equity</td><td style = \"text-align: left;\">BRA</td><td style = \"text-align: right;\">7.70902e6</td><td style = \"font-style: italic; text-align: right;\">missing</td></tr><tr><td class = \"rowNumber\" style = \"font-weight: bold; text-align: right;\">4</td><td style = \"text-align: left;\">FS00008KZU</td><td style = \"text-align: left;\">2012-09-01</td><td style = \"text-align: right;\">1.65586</td><td style = \"text-align: right;\">1.45143</td><td style = \"text-align: right;\">0.20109</td><td style = \"text-align: left;\">Brazil Fund Allocation, 40% to 60% Equity</td><td style = \"text-align: left;\">BRA</td><td style = \"text-align: right;\">7.90534e6</td><td style = \"font-style: italic; text-align: right;\">missing</td></tr><tr><td class = \"rowNumber\" style = \"font-weight: bold; text-align: right;\">5</td><td style = \"text-align: left;\">FS00008KZU</td><td style = \"text-align: left;\">2012-10-01</td><td style = \"text-align: right;\">0.89174</td><td style = \"text-align: right;\">0.68885</td><td style = \"text-align: right;\">0.20109</td><td style = \"text-align: left;\">Brazil Fund Allocation, 40% to 60% Equity</td><td style = \"text-align: left;\">BRA</td><td style = \"text-align: right;\">8.91365e6</td><td style = \"font-style: italic; text-align: right;\">missing</td></tr></tbody></table></div>"
      ],
      "text/latex": [
       "\\begin{tabular}{r|ccccccc}\n",
       "\t& fundid & date & ret\\_gross\\_m & ret\\_net\\_m & mean\\_costs & approx\\_morningstar\\_category & \\\\\n",
       "\t\\hline\n",
       "\t& String15 & Date & Float64? & Float64? & Float64? & String & \\\\\n",
       "\t\\hline\n",
       "\t1 & FS00008KZU & 2012-06-01 & 1.53883 & 1.33464 & 0.20109 & Brazil Fund Allocation, 40\\% to 60\\% Equity & $\\dots$ \\\\\n",
       "\t2 & FS00008KZU & 2012-07-01 & 2.91596 & 2.70901 & 0.20109 & Brazil Fund Allocation, 40\\% to 60\\% Equity & $\\dots$ \\\\\n",
       "\t3 & FS00008KZU & 2012-08-01 & -0.10734 & -0.30822 & 0.20109 & Brazil Fund Allocation, 40\\% to 60\\% Equity & $\\dots$ \\\\\n",
       "\t4 & FS00008KZU & 2012-09-01 & 1.65586 & 1.45143 & 0.20109 & Brazil Fund Allocation, 40\\% to 60\\% Equity & $\\dots$ \\\\\n",
       "\t5 & FS00008KZU & 2012-10-01 & 0.89174 & 0.68885 & 0.20109 & Brazil Fund Allocation, 40\\% to 60\\% Equity & $\\dots$ \\\\\n",
       "\\end{tabular}\n"
      ],
      "text/plain": [
       "\u001b[1m5×9 DataFrame\u001b[0m\n",
       "\u001b[1m Row \u001b[0m│\u001b[1m fundid     \u001b[0m\u001b[1m date       \u001b[0m\u001b[1m ret_gross_m \u001b[0m\u001b[1m ret_net_m \u001b[0m\u001b[1m mean_costs \u001b[0m\u001b[1m approx_morningstar_category   \u001b[0m ⋯\n",
       "     │\u001b[90m String15   \u001b[0m\u001b[90m Date       \u001b[0m\u001b[90m Float64?    \u001b[0m\u001b[90m Float64?  \u001b[0m\u001b[90m Float64?   \u001b[0m\u001b[90m String                        \u001b[0m ⋯\n",
       "─────┼─────────────────────────────────────────────────────────────────────────────────────────────\n",
       "   1 │ FS00008KZU  2012-06-01      1.53883    1.33464     0.20109  Brazil Fund Allocation, 40% to ⋯\n",
       "   2 │ FS00008KZU  2012-07-01      2.91596    2.70901     0.20109  Brazil Fund Allocation, 40% to\n",
       "   3 │ FS00008KZU  2012-08-01     -0.10734   -0.30822     0.20109  Brazil Fund Allocation, 40% to\n",
       "   4 │ FS00008KZU  2012-09-01      1.65586    1.45143     0.20109  Brazil Fund Allocation, 40% to\n",
       "   5 │ FS00008KZU  2012-10-01      0.89174    0.68885     0.20109  Brazil Fund Allocation, 40% to ⋯\n",
       "\u001b[36m                                                                                  4 columns omitted\u001b[0m"
      ]
     },
     "metadata": {},
     "output_type": "display_data"
    }
   ],
   "source": [
    "first(fund_data, 5)"
   ]
  },
  {
   "cell_type": "code",
   "execution_count": 6,
   "metadata": {},
   "outputs": [
    {
     "data": {
      "text/html": [
       "<div><div style = \"float: left;\"><span>5×6 DataFrame</span></div><div style = \"clear: both;\"></div></div><div class = \"data-frame\" style = \"overflow-x: scroll;\"><table class = \"data-frame\" style = \"margin-bottom: 6px;\"><thead><tr class = \"header\"><th class = \"rowNumber\" style = \"font-weight: bold; text-align: right;\">Row</th><th style = \"text-align: left;\">date</th><th style = \"text-align: left;\">SMB</th><th style = \"text-align: left;\">HML</th><th style = \"text-align: left;\">CMA</th><th style = \"text-align: left;\">RMW</th><th style = \"text-align: left;\">WML</th></tr><tr class = \"subheader headerLastRow\"><th class = \"rowNumber\" style = \"font-weight: bold; text-align: right;\"></th><th title = \"Dates.Date\" style = \"text-align: left;\">Date</th><th title = \"Float64\" style = \"text-align: left;\">Float64</th><th title = \"Float64\" style = \"text-align: left;\">Float64</th><th title = \"Float64\" style = \"text-align: left;\">Float64</th><th title = \"Float64\" style = \"text-align: left;\">Float64</th><th title = \"Float64\" style = \"text-align: left;\">Float64</th></tr></thead><tbody><tr><td class = \"rowNumber\" style = \"font-weight: bold; text-align: right;\">1</td><td style = \"text-align: left;\">1951-11-30</td><td style = \"text-align: right;\">-0.00586067</td><td style = \"text-align: right;\">-0.00417325</td><td style = \"text-align: right;\">-0.0122075</td><td style = \"text-align: right;\">0.00828911</td><td style = \"text-align: right;\">0.000671433</td></tr><tr><td class = \"rowNumber\" style = \"font-weight: bold; text-align: right;\">2</td><td style = \"text-align: left;\">1951-12-31</td><td style = \"text-align: right;\">-0.0234461</td><td style = \"text-align: right;\">-0.0309437</td><td style = \"text-align: right;\">-0.045466</td><td style = \"text-align: right;\">0.0201345</td><td style = \"text-align: right;\">0.0194914</td></tr><tr><td class = \"rowNumber\" style = \"font-weight: bold; text-align: right;\">3</td><td style = \"text-align: left;\">1952-01-31</td><td style = \"text-align: right;\">-0.00315598</td><td style = \"text-align: right;\">0.0123607</td><td style = \"text-align: right;\">0.00932839</td><td style = \"text-align: right;\">-0.0126234</td><td style = \"text-align: right;\">0.00828151</td></tr><tr><td class = \"rowNumber\" style = \"font-weight: bold; text-align: right;\">4</td><td style = \"text-align: left;\">1952-02-29</td><td style = \"text-align: right;\">0.00490916</td><td style = \"text-align: right;\">0.0128583</td><td style = \"text-align: right;\">0.0124407</td><td style = \"text-align: right;\">0.000170562</td><td style = \"text-align: right;\">-0.00542739</td></tr><tr><td class = \"rowNumber\" style = \"font-weight: bold; text-align: right;\">5</td><td style = \"text-align: left;\">1952-03-31</td><td style = \"text-align: right;\">-0.0179922</td><td style = \"text-align: right;\">0.00023287</td><td style = \"text-align: right;\">-0.00875699</td><td style = \"text-align: right;\">0.012053</td><td style = \"text-align: right;\">0.013867</td></tr></tbody></table></div>"
      ],
      "text/latex": [
       "\\begin{tabular}{r|cccccc}\n",
       "\t& date & SMB & HML & CMA & RMW & WML\\\\\n",
       "\t\\hline\n",
       "\t& Date & Float64 & Float64 & Float64 & Float64 & Float64\\\\\n",
       "\t\\hline\n",
       "\t1 & 1951-11-30 & -0.00586067 & -0.00417325 & -0.0122075 & 0.00828911 & 0.000671433 \\\\\n",
       "\t2 & 1951-12-31 & -0.0234461 & -0.0309437 & -0.045466 & 0.0201345 & 0.0194914 \\\\\n",
       "\t3 & 1952-01-31 & -0.00315598 & 0.0123607 & 0.00932839 & -0.0126234 & 0.00828151 \\\\\n",
       "\t4 & 1952-02-29 & 0.00490916 & 0.0128583 & 0.0124407 & 0.000170562 & -0.00542739 \\\\\n",
       "\t5 & 1952-03-31 & -0.0179922 & 0.00023287 & -0.00875699 & 0.012053 & 0.013867 \\\\\n",
       "\\end{tabular}\n"
      ],
      "text/plain": [
       "\u001b[1m5×6 DataFrame\u001b[0m\n",
       "\u001b[1m Row \u001b[0m│\u001b[1m date       \u001b[0m\u001b[1m SMB         \u001b[0m\u001b[1m HML         \u001b[0m\u001b[1m CMA         \u001b[0m\u001b[1m RMW          \u001b[0m\u001b[1m WML          \u001b[0m\n",
       "     │\u001b[90m Date       \u001b[0m\u001b[90m Float64     \u001b[0m\u001b[90m Float64     \u001b[0m\u001b[90m Float64     \u001b[0m\u001b[90m Float64      \u001b[0m\u001b[90m Float64      \u001b[0m\n",
       "─────┼───────────────────────────────────────────────────────────────────────────────\n",
       "   1 │ 1951-11-30  -0.00586067  -0.00417325  -0.0122075    0.00828911    0.000671433\n",
       "   2 │ 1951-12-31  -0.0234461   -0.0309437   -0.045466     0.0201345     0.0194914\n",
       "   3 │ 1952-01-31  -0.00315598   0.0123607    0.00932839  -0.0126234     0.00828151\n",
       "   4 │ 1952-02-29   0.00490916   0.0128583    0.0124407    0.000170562  -0.00542739\n",
       "   5 │ 1952-03-31  -0.0179922    0.00023287  -0.00875699   0.012053      0.013867"
      ]
     },
     "metadata": {},
     "output_type": "display_data"
    }
   ],
   "source": [
    "first(factor_data, 5)"
   ]
  },
  {
   "cell_type": "code",
   "execution_count": null,
   "metadata": {},
   "outputs": [],
   "source": []
  }
 ],
 "metadata": {
  "kernelspec": {
   "display_name": "Julia 1.8.5",
   "language": "julia",
   "name": "julia-1.8"
  },
  "language_info": {
   "file_extension": ".jl",
   "mimetype": "application/julia",
   "name": "julia",
   "version": "1.8.5"
  },
  "orig_nbformat": 4
 },
 "nbformat": 4,
 "nbformat_minor": 2
}
