{
 "cells": [
  {
   "attachments": {},
   "cell_type": "markdown",
   "metadata": {},
   "source": [
    "Outline of currency factor script:\n",
    "\n",
    "1. Define change in log spot rate (s_t-s_t-1)\n",
    "2. Define log forward discount (f_t-1-s_t-1)\n",
    "3. Define log return: log forward discount - change in log spot rate (rates are European, hence reversed difference ordering)\n",
    "4. Define long and short net returns using bid and ask rates: fb_t-1-sa_t and -fa_t-1+sb_t\n",
    "5. Assign currencies in each month into 6 quantiles by forward discount\n",
    "6. Calculate the means of change in spot, forward discount, and log gross and net returns for each quantile\n",
    "7. Combine net long and short into a single net return by taking the net short on the quantile with the lowest forward discount and the net long on all other quantiles\n",
    "8. Define factors:\n",
    "\n",
    "        RX = mean return\n",
    "        HML_FX = mean return of quantile 6 - mean return of quantile 1\n",
    "        RX_net = mean net return\n",
    "        HML_FX_net = mean net return of quantile 6 - mean net return of quantile 1\n",
    "        Dollar = mean change in spot rate\n",
    "        Carry = mean change in spot rate of quantile 6 - mean change in spot rate of quantile 1"
   ]
  }
 ],
 "metadata": {
  "kernelspec": {
   "display_name": "Julia 1.8.5",
   "language": "julia",
   "name": "julia-1.8"
  },
  "language_info": {
   "file_extension": ".jl",
   "mimetype": "application/julia",
   "name": "julia",
   "version": "1.8.5"
  },
  "orig_nbformat": 4
 },
 "nbformat": 4,
 "nbformat_minor": 2
}
