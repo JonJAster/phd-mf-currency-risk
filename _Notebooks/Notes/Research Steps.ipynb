{
 "cells": [
  {
   "attachments": {},
   "cell_type": "markdown",
   "metadata": {},
   "source": [
    "# Research Steps\n",
    "1. Clean raw mutual fund CSV files.\n",
    "2. Regroup mutual fund data by domicile group\n",
    "3. Combine currency data sets into a single table of mids, bids and asks\n",
    "4. Build currency factors from the currency data\n",
    "5. Process the mutual fund data, allowing for variations in options and saving into a single\n",
    "   file for one set of options\n",
    "6. Download equity factors\n",
    "7. Construct world market index\n",
    "8. Calculate local risk-free rate series for each currency in the sample\n",
    "9. Regress to find time-varying betas of mutual fund excess returns on equity and currency\n",
    "   factors\n",
    "10. Visually analyse the time-series of betas\n",
    "11. Decompose mutual fund returns into factor realisations and alphas\n",
    "12. Empirically estimate the exponential decay coefficient in the return-fund flow\n",
    "    relationship.\n",
    "13. Calculate time-weighted average return components\n",
    "14. Regress fund flows on time-weighted average return components\n",
    "15. Analyse fund flow regression results\n"
   ]
  },
  {
   "cell_type": "markdown",
   "metadata": {},
   "source": []
  }
 ],
 "metadata": {
  "kernelspec": {
   "display_name": "Julia 1.8.5",
   "language": "julia",
   "name": "julia-1.8"
  },
  "language_info": {
   "file_extension": ".jl",
   "mimetype": "application/julia",
   "name": "julia",
   "version": "1.8.5"
  },
  "orig_nbformat": 4
 },
 "nbformat": 4,
 "nbformat_minor": 2
}
